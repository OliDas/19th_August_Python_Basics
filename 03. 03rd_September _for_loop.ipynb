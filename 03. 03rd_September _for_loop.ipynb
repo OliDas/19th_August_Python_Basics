{
 "cells": [
  {
   "cell_type": "markdown",
   "id": "ae0807c0",
   "metadata": {},
   "source": [
    "## Basic Level:"
   ]
  },
  {
   "cell_type": "markdown",
   "id": "6742abe8",
   "metadata": {},
   "source": [
    "#### 1. Write a Python program to print the numbers from 1 to 10 using a for loop."
   ]
  },
  {
   "cell_type": "code",
   "execution_count": 2,
   "id": "3e741e6e",
   "metadata": {},
   "outputs": [
    {
     "name": "stdout",
     "output_type": "stream",
     "text": [
      "1 to 10 : 1 2 3 4 5 6 7 8 9 10 "
     ]
    }
   ],
   "source": [
    "print(\"1 to 10\", end=' : ')\n",
    "for i in range(1,11):\n",
    "    print(i,end=' ')"
   ]
  },
  {
   "cell_type": "markdown",
   "id": "4676dd54",
   "metadata": {},
   "source": [
    "#### 2. Create a program that calculates the sum of all numbers in a list using a for loop."
   ]
  },
  {
   "cell_type": "code",
   "execution_count": 3,
   "id": "b1b8e0f1",
   "metadata": {},
   "outputs": [
    {
     "name": "stdout",
     "output_type": "stream",
     "text": [
      "List : [3, 7, 6, 0, 9, 8, 1]\n",
      "Sum of all the numbers in the list = 34\n"
     ]
    }
   ],
   "source": [
    "l=[3,7,6,0,9,8,1]\n",
    "s=0\n",
    "print(\"List :\",l)\n",
    "for i in l:\n",
    "    s+=i\n",
    "print(\"Sum of all the numbers in the list =\",s)"
   ]
  },
  {
   "cell_type": "markdown",
   "id": "32d33894",
   "metadata": {},
   "source": [
    "#### 3. Write a program to print the characters of a string in reverse order using a for loop."
   ]
  },
  {
   "cell_type": "code",
   "execution_count": 4,
   "id": "6e0fef30",
   "metadata": {},
   "outputs": [
    {
     "name": "stdout",
     "output_type": "stream",
     "text": [
      "otoM olleH"
     ]
    }
   ],
   "source": [
    "s=\"Hello Moto\"\n",
    "for i in range(len(s)-1,-1,-1):\n",
    "    print(s[i],end='')"
   ]
  },
  {
   "cell_type": "markdown",
   "id": "8d727273",
   "metadata": {},
   "source": [
    "#### 4. Develop a program that finds the factorial of a given number using a for loop."
   ]
  },
  {
   "cell_type": "code",
   "execution_count": 16,
   "id": "d57e1b37",
   "metadata": {},
   "outputs": [
    {
     "name": "stdout",
     "output_type": "stream",
     "text": [
      "Enter a number : 10\n"
     ]
    },
    {
     "data": {
      "text/plain": [
       "3628800"
      ]
     },
     "execution_count": 16,
     "metadata": {},
     "output_type": "execute_result"
    }
   ],
   "source": [
    "n=int(input(\"Enter a number : \"))\n",
    "f=1\n",
    "for i in range(n,0,-1):\n",
    "    f=f*n\n",
    "    n-=1\n",
    "f"
   ]
  },
  {
   "cell_type": "markdown",
   "id": "a73e69e3",
   "metadata": {},
   "source": [
    "#### 5. Create a program to print the multiplication table of a given number using a for loop."
   ]
  },
  {
   "cell_type": "code",
   "execution_count": 6,
   "id": "614a1551",
   "metadata": {},
   "outputs": [
    {
     "name": "stdout",
     "output_type": "stream",
     "text": [
      "Enter a number : 5\n",
      "Multiplication table of the number : \n",
      "5 x 1 = 5\n",
      "5 x 2 = 10\n",
      "5 x 3 = 15\n",
      "5 x 4 = 20\n",
      "5 x 5 = 25\n",
      "5 x 6 = 30\n",
      "5 x 7 = 35\n",
      "5 x 8 = 40\n",
      "5 x 9 = 45\n",
      "5 x 10 = 50\n"
     ]
    }
   ],
   "source": [
    "n=int(input(\"Enter a number : \"))\n",
    "print(\"Multiplication table of the number : \")\n",
    "for i in range(1,11):\n",
    "    print(n,\"x\",i,\"=\",n*i)"
   ]
  },
  {
   "cell_type": "markdown",
   "id": "38afba3f",
   "metadata": {},
   "source": [
    "#### 6. Write a program that counts the number of even and odd numbers in a list using a for loop."
   ]
  },
  {
   "cell_type": "code",
   "execution_count": 8,
   "id": "7c1fd05a",
   "metadata": {},
   "outputs": [
    {
     "name": "stdout",
     "output_type": "stream",
     "text": [
      "List : [3, 7, 6, 0, 9, 8, 1]\n",
      "Number of even numbers : 3\n",
      "Number of odd numbers : 4\n"
     ]
    }
   ],
   "source": [
    "l=[3,7,6,0,9,8,1]\n",
    "print(\"List :\",l)\n",
    "odd,even=0,0\n",
    "for i in l:\n",
    "    if(i%2==0):\n",
    "        even+=1\n",
    "    else:\n",
    "        odd+=1\n",
    "print(\"Number of even numbers :\",even)\n",
    "print(\"Number of odd numbers :\",odd)"
   ]
  },
  {
   "cell_type": "markdown",
   "id": "5ee5d8b2",
   "metadata": {},
   "source": [
    "#### 7. Develop a program that prints the squares of numbers from 1 to 5 using a for loop."
   ]
  },
  {
   "cell_type": "code",
   "execution_count": 9,
   "id": "e3648761",
   "metadata": {},
   "outputs": [
    {
     "name": "stdout",
     "output_type": "stream",
     "text": [
      "Square of 1 = 1\n",
      "Square of 2 = 4\n",
      "Square of 3 = 9\n",
      "Square of 4 = 16\n",
      "Square of 5 = 25\n"
     ]
    }
   ],
   "source": [
    "for i in range(1,6):\n",
    "    print(\"Square of\",i,'=',i**2)"
   ]
  },
  {
   "cell_type": "markdown",
   "id": "cf96ddbf",
   "metadata": {},
   "source": [
    "#### 8. Create a program to find the length of a string without using the len() function."
   ]
  },
  {
   "cell_type": "code",
   "execution_count": 12,
   "id": "c7375bf8",
   "metadata": {},
   "outputs": [
    {
     "name": "stdout",
     "output_type": "stream",
     "text": [
      "String : ara ara, sayonara\n",
      "Length of the string : 17\n"
     ]
    }
   ],
   "source": [
    "s=\"ara ara, sayonara\"\n",
    "print(\"String :\",s)\n",
    "l=0\n",
    "for i in s:\n",
    "    l+=1\n",
    "print(\"Length of the string :\",l)"
   ]
  },
  {
   "cell_type": "markdown",
   "id": "585a19f0",
   "metadata": {},
   "source": [
    "#### 9. Write a program that calculates the average of a list of numbers using a for loop."
   ]
  },
  {
   "cell_type": "code",
   "execution_count": 18,
   "id": "955ce5c7",
   "metadata": {},
   "outputs": [
    {
     "name": "stdout",
     "output_type": "stream",
     "text": [
      "List : [3, 7, 6, 0, 9, 8, 1]\n",
      "Average of the numbers = 4.857142857142857\n"
     ]
    }
   ],
   "source": [
    "l=[3,7,6,0,9,8,1]\n",
    "print(\"List :\",l)\n",
    "print(\"Average of the numbers =\",sum(l)/len(l))"
   ]
  },
  {
   "cell_type": "markdown",
   "id": "f5c6f184",
   "metadata": {},
   "source": [
    "#### 10. Develop a program that prints the first n Fibonacci numbers using a for loop."
   ]
  },
  {
   "cell_type": "code",
   "execution_count": 22,
   "id": "60445755",
   "metadata": {},
   "outputs": [
    {
     "name": "stdout",
     "output_type": "stream",
     "text": [
      "Enter the value of n : 10\n",
      "First 10 Fibonacci numbers : 0 1 1 2 3 5 8 13 21 34 55 "
     ]
    }
   ],
   "source": [
    "n=int(input(\"Enter the value of n : \"))\n",
    "a=0\n",
    "b=1\n",
    "s=a+b\n",
    "print(\"First\",n,\"Fibonacci numbers :\",a,b,end=' ')\n",
    "for i in range(2,n+1):\n",
    "    s=a+b\n",
    "    print(s,end=' ')\n",
    "    a=b\n",
    "    b=s"
   ]
  },
  {
   "cell_type": "markdown",
   "id": "d31c4d2d",
   "metadata": {},
   "source": [
    "## Intermediate Level:"
   ]
  },
  {
   "cell_type": "markdown",
   "id": "231a3c90",
   "metadata": {},
   "source": [
    "#### 11. Write a program to check if a given list contains any duplicates using a for loop."
   ]
  },
  {
   "cell_type": "code",
   "execution_count": 27,
   "id": "725f60a1",
   "metadata": {},
   "outputs": [
    {
     "name": "stdout",
     "output_type": "stream",
     "text": [
      "List : [3, 7, 1, 6, 0, 9, 8, 3, 1, 3]\n",
      "The list contains duplicates\n"
     ]
    }
   ],
   "source": [
    "l=[3,7,1,6,0,9,8,3,1,3]\n",
    "print(\"List :\",l)\n",
    "c=0\n",
    "for i in l:\n",
    "    if(l.count(i)>1):\n",
    "        print(\"The list contains duplicates\")\n",
    "        c+=1\n",
    "        break\n",
    "if(c==0):\n",
    "    print(\"The list doesn't contain duplicates\")"
   ]
  },
  {
   "cell_type": "markdown",
   "id": "23d75153",
   "metadata": {},
   "source": [
    "#### 12. Create a program that prints the prime numbers in a given range using a for loop."
   ]
  },
  {
   "cell_type": "code",
   "execution_count": 54,
   "id": "c9baf9c8",
   "metadata": {},
   "outputs": [
    {
     "name": "stdout",
     "output_type": "stream",
     "text": [
      "Enter starting of the range : 5\n",
      "Enter ending of the range : 30\n",
      "Prime numbers in the range --> 5 7 11 13 17 19 23 29 "
     ]
    }
   ],
   "source": [
    "m=int(input(\"Enter starting of the range : \"))\n",
    "n=int(input(\"Enter ending of the range : \"))\n",
    "print(\"Prime numbers in the range --> \",end='')\n",
    "for i in range (m,n+1):\n",
    "    c=0\n",
    "    if(i==1 or i==2):\n",
    "        print(i,end=' ')\n",
    "        continue\n",
    "    for j in range(1,i+1):\n",
    "        if(i%j==0):\n",
    "            c+=1\n",
    "    if(c==2):\n",
    "        print(i,end=' ')"
   ]
  },
  {
   "cell_type": "markdown",
   "id": "7550a729",
   "metadata": {},
   "source": [
    "#### 13. Develop a program that counts the number of vowels in a string using a for loop."
   ]
  },
  {
   "cell_type": "code",
   "execution_count": 56,
   "id": "39da485a",
   "metadata": {},
   "outputs": [
    {
     "name": "stdout",
     "output_type": "stream",
     "text": [
      "String : Uchiha Itachi\n",
      "There are 6 vowels in the string.\n"
     ]
    }
   ],
   "source": [
    "s=\"Uchiha Itachi\"\n",
    "print(\"String :\",s)\n",
    "c=0\n",
    "for i in s:\n",
    "    if i in \"AEIOUaeiou\":\n",
    "        c+=1\n",
    "print(\"There are\",c,'vowels in the string.')"
   ]
  },
  {
   "cell_type": "markdown",
   "id": "d69b5c66",
   "metadata": {},
   "source": [
    "#### 14. Write a program to find the maximum element in a 2D list using a nested for loop."
   ]
  },
  {
   "cell_type": "code",
   "execution_count": 62,
   "id": "f9c4ae4f",
   "metadata": {},
   "outputs": [
    {
     "name": "stdout",
     "output_type": "stream",
     "text": [
      "2D list :\n",
      "[8, 1, 5, 2]\n",
      "[7, 4, 6, 2]\n",
      "[4, 2, 9, 5]\n",
      "[3, 9, 5, 6]\n",
      "\n",
      "Maximum element = 9\n"
     ]
    }
   ],
   "source": [
    "l=[[8,1,5,2],[7,4,6,2],[4,2,9,5],[3,9,5,6]]\n",
    "print(\"2D list :\")\n",
    "for i in l:\n",
    "    print(i)\n",
    "mx=l[0][0]\n",
    "for i in l:\n",
    "    for j in i:\n",
    "        if(j>mx):\n",
    "            mx=j\n",
    "print(\"\\nMaximum element =\",mx)"
   ]
  },
  {
   "cell_type": "markdown",
   "id": "f91c8c25",
   "metadata": {},
   "source": [
    "#### 15. Create a program that removes all occurrences of a specific element from a list using a for loop."
   ]
  },
  {
   "cell_type": "code",
   "execution_count": 69,
   "id": "3b45251f",
   "metadata": {},
   "outputs": [
    {
     "name": "stdout",
     "output_type": "stream",
     "text": [
      "List : [3, 7, 1, 6, 0, 9, 8, 3, 1, 3]\n",
      "Enter the element to be removed : 3\n",
      "Modified list : [7, 1, 6, 0, 9, 8, 1]\n"
     ]
    }
   ],
   "source": [
    "l=[3,7,1,6,0,9,8,3,1,3]\n",
    "print(\"List :\",l)\n",
    "x=int(input(\"Enter the element to be removed : \"))\n",
    "for i in l:\n",
    "    if(x==i):\n",
    "        l.remove(i)\n",
    "print(\"Modified list :\",l)"
   ]
  },
  {
   "cell_type": "markdown",
   "id": "38408361",
   "metadata": {},
   "source": [
    "#### 16. Develop a program that generates a multiplication table for numbers from 1 to 5 using a nested for loop."
   ]
  },
  {
   "cell_type": "code",
   "execution_count": 74,
   "id": "aae77e2d",
   "metadata": {},
   "outputs": [
    {
     "name": "stdout",
     "output_type": "stream",
     "text": [
      "\n",
      "Multiplication table of 1 :\n",
      "1 x 1 = 1\n",
      "1 x 2 = 2\n",
      "1 x 3 = 3\n",
      "1 x 4 = 4\n",
      "1 x 5 = 5\n",
      "1 x 6 = 6\n",
      "1 x 7 = 7\n",
      "1 x 8 = 8\n",
      "1 x 9 = 9\n",
      "1 x 10 = 10\n",
      "\n",
      "Multiplication table of 2 :\n",
      "2 x 1 = 2\n",
      "2 x 2 = 4\n",
      "2 x 3 = 6\n",
      "2 x 4 = 8\n",
      "2 x 5 = 10\n",
      "2 x 6 = 12\n",
      "2 x 7 = 14\n",
      "2 x 8 = 16\n",
      "2 x 9 = 18\n",
      "2 x 10 = 20\n",
      "\n",
      "Multiplication table of 3 :\n",
      "3 x 1 = 3\n",
      "3 x 2 = 6\n",
      "3 x 3 = 9\n",
      "3 x 4 = 12\n",
      "3 x 5 = 15\n",
      "3 x 6 = 18\n",
      "3 x 7 = 21\n",
      "3 x 8 = 24\n",
      "3 x 9 = 27\n",
      "3 x 10 = 30\n",
      "\n",
      "Multiplication table of 4 :\n",
      "4 x 1 = 4\n",
      "4 x 2 = 8\n",
      "4 x 3 = 12\n",
      "4 x 4 = 16\n",
      "4 x 5 = 20\n",
      "4 x 6 = 24\n",
      "4 x 7 = 28\n",
      "4 x 8 = 32\n",
      "4 x 9 = 36\n",
      "4 x 10 = 40\n",
      "\n",
      "Multiplication table of 5 :\n",
      "5 x 1 = 5\n",
      "5 x 2 = 10\n",
      "5 x 3 = 15\n",
      "5 x 4 = 20\n",
      "5 x 5 = 25\n",
      "5 x 6 = 30\n",
      "5 x 7 = 35\n",
      "5 x 8 = 40\n",
      "5 x 9 = 45\n",
      "5 x 10 = 50\n"
     ]
    }
   ],
   "source": [
    "for i in range(1,6):\n",
    "    print(\"\\nMultiplication table of\",i,\":\")\n",
    "    for j in range(1,11):\n",
    "        print(i,\"x\",j,\"=\",i*j)"
   ]
  },
  {
   "cell_type": "markdown",
   "id": "a5f6411a",
   "metadata": {},
   "source": [
    "#### 17. Write a program that converts a list of Fahrenheit temperatures to Celsius using a for loop."
   ]
  },
  {
   "cell_type": "code",
   "execution_count": 77,
   "id": "4bcccbdc",
   "metadata": {},
   "outputs": [
    {
     "name": "stdout",
     "output_type": "stream",
     "text": [
      "Temperatures in Fahrenheit : [67, 179, 256, 83, 34]\n",
      "Temperatures in Celcius : [19.444444444444446, 81.66666666666667, 124.44444444444446, 28.333333333333336, 1.1111111111111112]\n"
     ]
    }
   ],
   "source": [
    "l=[67,179,256,83,34]\n",
    "print(\"Temperatures in Fahrenheit :\",l)\n",
    "for i in range(len(l)):\n",
    "    l[i]=(l[i]-32)*(5/9)\n",
    "print(\"Temperatures in Celcius :\",l)"
   ]
  },
  {
   "cell_type": "markdown",
   "id": "9024f2f9",
   "metadata": {},
   "source": [
    "#### 18. Create a program to print the common elements from two lists using a for loop."
   ]
  },
  {
   "cell_type": "code",
   "execution_count": 82,
   "id": "d6fc9c9a",
   "metadata": {},
   "outputs": [
    {
     "name": "stdout",
     "output_type": "stream",
     "text": [
      "List 1 : [4, 8, 2, 0, 1, 7, 5]\n",
      "List 2 : [7, 2, 3, 0, 9, 6, 5, 8, 7]\n",
      "Common elements : 8 2 0 7 5 "
     ]
    }
   ],
   "source": [
    "l1=[4,8,2,0,1,7,5]\n",
    "print(\"List 1 :\",l1)\n",
    "l2=[7,2,3,0,9,6,5,8,7]\n",
    "print(\"List 2 :\",l2)\n",
    "print(\"Common elements : \",end='')\n",
    "for i in l1:\n",
    "    if(i in l2):\n",
    "        print(i,end=' ')"
   ]
  },
  {
   "cell_type": "markdown",
   "id": "73805b62",
   "metadata": {},
   "source": [
    "#### 19. Develop a program that prints the pattern of right-angled triangles using a for loop. Use ‘*’ to draw the pattern"
   ]
  },
  {
   "cell_type": "code",
   "execution_count": 88,
   "id": "87b53558",
   "metadata": {},
   "outputs": [
    {
     "name": "stdout",
     "output_type": "stream",
     "text": [
      "No. of rows : 5\n",
      "\n",
      "\n",
      "*   \n",
      "\n",
      "*   *   \n",
      "\n",
      "*   *   *   \n",
      "\n",
      "*   *   *   *   \n",
      "\n",
      "*   *   *   *   *   \n",
      "\n"
     ]
    }
   ],
   "source": [
    "n=int(input(\"No. of rows : \"))\n",
    "for i in range(n+1):\n",
    "    for j in range(i):\n",
    "        print(\"*   \",end='')\n",
    "    print(\"\\n\")"
   ]
  },
  {
   "cell_type": "markdown",
   "id": "25932e9c",
   "metadata": {},
   "source": [
    "#### 20. Write a program to find the greatest common divisor (GCD) of two numbers using a for loop."
   ]
  },
  {
   "cell_type": "code",
   "execution_count": 91,
   "id": "e1672221",
   "metadata": {},
   "outputs": [
    {
     "name": "stdout",
     "output_type": "stream",
     "text": [
      "GCD = 10\n"
     ]
    }
   ],
   "source": [
    "x=20\n",
    "y=90\n",
    "gcd=1\n",
    "for i in range(1,x+1):\n",
    "    if(x%i==0 and y%i==0):\n",
    "        gcd=i\n",
    "print(\"GCD =\",gcd)"
   ]
  },
  {
   "cell_type": "markdown",
   "id": "bca178d0",
   "metadata": {},
   "source": [
    "## Advanced Level:"
   ]
  },
  {
   "cell_type": "markdown",
   "id": "e246ca7b",
   "metadata": {},
   "source": [
    "#### 21. Create a program that calculates the sum of the digits of numbers in a list using a list comprehension."
   ]
  },
  {
   "cell_type": "code",
   "execution_count": 150,
   "id": "05e09f3f",
   "metadata": {},
   "outputs": [
    {
     "name": "stdout",
     "output_type": "stream",
     "text": [
      "List : [48, 18, 20, 70, 19, 37, 65]\n",
      "sum of the digits of numbers in the list = 61\n"
     ]
    }
   ],
   "source": [
    "l=[48,18,20,70,19,37,65]\n",
    "print(\"List :\",l)\n",
    "s=0\n",
    "_= ([[s:=s+int(i) for i in j] for j in [str(i) for i in l]])\n",
    "print(\"sum of the digits of numbers in the list =\",s)"
   ]
  },
  {
   "cell_type": "markdown",
   "id": "4577e81e",
   "metadata": {},
   "source": [
    "#### 22. Write a program to find the prime factors of a given number using a for loop and list comprehension."
   ]
  },
  {
   "cell_type": "code",
   "execution_count": 175,
   "id": "0834e319",
   "metadata": {},
   "outputs": [
    {
     "name": "stdout",
     "output_type": "stream",
     "text": [
      "Enter a number : 42\n",
      "Prime factors of 42 = [2, 3, 7]\n"
     ]
    }
   ],
   "source": [
    "n=int(input(\"Enter a number : \"))\n",
    "l=[]\n",
    "for i in range(1,n+1):\n",
    "    if(n%i==0):\n",
    "        c=0\n",
    "        _=[c:=c+1 for j in range(1,i+1) if(i%j==0)]\n",
    "        if(c==2):\n",
    "            l.append(i)\n",
    "print(\"Prime factors of\",n,\"=\",l)"
   ]
  },
  {
   "cell_type": "markdown",
   "id": "36e6c862",
   "metadata": {},
   "source": [
    "#### 23. Develop a program that extracts unique elements from a list and stores them in a new list using a list comprehension."
   ]
  },
  {
   "cell_type": "code",
   "execution_count": 177,
   "id": "19f68c42",
   "metadata": {},
   "outputs": [
    {
     "name": "stdout",
     "output_type": "stream",
     "text": [
      "List :  [3, 7, 1, 6, 0, 9, 8, 3, 1, 3]\n",
      "New list with unique elements : [7, 6, 0, 9, 8]\n"
     ]
    }
   ],
   "source": [
    "l=[3,7,1,6,0,9,8,3,1,3]\n",
    "print(\"List : \",l)\n",
    "l1=[i for i in l if(l.count(i)==1)]\n",
    "print(\"New list with unique elements :\",l1)"
   ]
  },
  {
   "cell_type": "markdown",
   "id": "f52391d6",
   "metadata": {},
   "source": [
    "#### 24. Create a program that generates a list of all palindromic numbers up to a specified limit using a list comprehension."
   ]
  },
  {
   "cell_type": "code",
   "execution_count": 189,
   "id": "05fc7640",
   "metadata": {},
   "outputs": [
    {
     "name": "stdout",
     "output_type": "stream",
     "text": [
      "Enter a number : 140\n",
      "All the palindromic numbers upto 140 = [0, 1, 2, 3, 4, 5, 6, 7, 8, 9, 11, 22, 33, 44, 55, 66, 77, 88, 99, 101, 111, 121, 131]\n"
     ]
    }
   ],
   "source": [
    "n=int(input(\"Enter a number : \"))\n",
    "l=[i for i in range(n+1) if(str(i)==str(i)[::-1])]\n",
    "print(\"All the palindromic numbers upto\",n,'=',l)"
   ]
  },
  {
   "cell_type": "markdown",
   "id": "4c3ccc2d",
   "metadata": {},
   "source": [
    "#### 25. Write a program to flatten a nested list using list comprehension."
   ]
  },
  {
   "cell_type": "code",
   "execution_count": 192,
   "id": "04db76cc",
   "metadata": {},
   "outputs": [
    {
     "name": "stdout",
     "output_type": "stream",
     "text": [
      "List : [[3, 2, 4, 0], [9, 8, 5, 4], [1, 3, 4, 9]]\n",
      "Flattened List : [3, 2, 4, 0, 9, 8, 5, 4, 1, 3, 4, 9]\n"
     ]
    }
   ],
   "source": [
    "l=[[3,2,4,0],[9,8,5,4],[1,3,4,9]]\n",
    "print(\"List :\",l)\n",
    "l1=[j for i in l for j in i]\n",
    "print(\"Flattened List :\",l1)"
   ]
  },
  {
   "cell_type": "markdown",
   "id": "6e06ecd7",
   "metadata": {},
   "source": [
    "#### 26. Develop a program that computes the sum of even and odd numbers in a list separately using list comprehension."
   ]
  },
  {
   "cell_type": "code",
   "execution_count": 227,
   "id": "786d860d",
   "metadata": {},
   "outputs": [
    {
     "name": "stdout",
     "output_type": "stream",
     "text": [
      "List : [3, 2, 4, 0, 9, 8, 5, 4, 1, 3, 4, 9]\n",
      "Sum of even numbers : 22\n",
      "Sum of odd numbers : 30\n"
     ]
    }
   ],
   "source": [
    "l=[3, 2, 4, 0, 9, 8, 5, 4, 1, 3, 4, 9]\n",
    "print(\"List :\",l)\n",
    "l1=[]\n",
    "even = (sum(i for i in l if(i%2==0)))\n",
    "odd = (sum(i for i in l if(i%2!=0)))\n",
    "print(\"Sum of even numbers :\",even)\n",
    "print(\"Sum of odd numbers :\",odd)"
   ]
  },
  {
   "cell_type": "markdown",
   "id": "d4fb869f",
   "metadata": {},
   "source": [
    "#### 27. Create a program that generates a list of squares of odd numbers between 1 and 10 using list comprehension."
   ]
  },
  {
   "cell_type": "code",
   "execution_count": 229,
   "id": "0dfe1633",
   "metadata": {},
   "outputs": [
    {
     "name": "stdout",
     "output_type": "stream",
     "text": [
      "list of squares of odd numbers between 1 and 10 : [1, 9, 25, 49, 81]\n"
     ]
    }
   ],
   "source": [
    "l=[i**2 for i in range(1,11) if(i%2!=0)]\n",
    "print(\"list of squares of odd numbers between 1 and 10 :\",l)"
   ]
  },
  {
   "cell_type": "markdown",
   "id": "2662b4d4",
   "metadata": {},
   "source": [
    "#### 28. Write a program that combines two lists into a dictionary using list comprehension."
   ]
  },
  {
   "cell_type": "code",
   "execution_count": 235,
   "id": "2fda1f16",
   "metadata": {},
   "outputs": [
    {
     "name": "stdout",
     "output_type": "stream",
     "text": [
      "List 1 : ['English', 'Maths', 'Science']\n",
      "List 2 : [91, 89, 90]\n",
      "Dictionary of the combined lists : {'English': 91, 'Maths': 89, 'Science': 90}\n"
     ]
    }
   ],
   "source": [
    "l1=['English','Maths','Science']\n",
    "print(\"List 1 :\",l1)\n",
    "l2=[91,89,90]\n",
    "print(\"List 2 :\",l2)\n",
    "d={l1[i]:l2[i] for i in range(len(l1))}\n",
    "print(\"Dictionary of the combined lists :\",d)"
   ]
  },
  {
   "cell_type": "markdown",
   "id": "ab04a43f",
   "metadata": {},
   "source": [
    "#### 29. Develop a program that extracts the vowels from a string and stores them in a list using list comprehension."
   ]
  },
  {
   "cell_type": "code",
   "execution_count": 240,
   "id": "8974ab8a",
   "metadata": {},
   "outputs": [
    {
     "name": "stdout",
     "output_type": "stream",
     "text": [
      "String : Amaterasu\n",
      "Vowels of the string : {'u', 'e', 'A', 'a'}\n"
     ]
    }
   ],
   "source": [
    "s=\"Amaterasu\"\n",
    "print(\"String :\",s)\n",
    "l=[i for i in s if(i in \"AEIOUaeiou\")]\n",
    "print(\"Vowels of the string :\",set(l))"
   ]
  },
  {
   "cell_type": "markdown",
   "id": "1320b067",
   "metadata": {},
   "source": [
    "#### 30. Create a program that removes all non-numeric characters from a list of strings using list comprehension."
   ]
  },
  {
   "cell_type": "code",
   "execution_count": 254,
   "id": "eef1dc6c",
   "metadata": {},
   "outputs": [
    {
     "name": "stdout",
     "output_type": "stream",
     "text": [
      "List : ['7ds8', '3d4f5', 'm89']\n",
      "Modified List : ['78', '345', '89']\n"
     ]
    }
   ],
   "source": [
    "l=[\"7ds8\",\"3d4f5\",\"m89\"]\n",
    "print(\"List :\",l)\n",
    "l1=[\"\".join(j for j in i if(j.isnumeric())) for i in s]\n",
    "print(\"Modified List :\",l1)"
   ]
  },
  {
   "cell_type": "markdown",
   "id": "daf39964",
   "metadata": {},
   "source": [
    "## Challenge Level:"
   ]
  },
  {
   "cell_type": "markdown",
   "id": "1ade1ce4",
   "metadata": {},
   "source": [
    "#### 31. Write a program to generate a list of prime numbers using the Sieve of Eratosthenes algorithm and list comprehension."
   ]
  },
  {
   "cell_type": "code",
   "execution_count": 22,
   "id": "1bb1b04c",
   "metadata": {},
   "outputs": [
    {
     "name": "stdout",
     "output_type": "stream",
     "text": [
      "Range till where prime number needs to be counted : 30\n",
      "Prime numbers till 30 : [2, 3, 5, 7, 11, 13, 17, 19, 23, 29]\n"
     ]
    }
   ],
   "source": [
    "n=int(input(\"Range till where prime number needs to be counted : \"))\n",
    "primes = [True]*(n+1)\n",
    "primes[0] = primes[1] = False\n",
    "for i in range(2,(n//2)+1):\n",
    "    if primes[i]:\n",
    "        for j in range(i**2,n+1,i):\n",
    "            primes[j] = False\n",
    "all_primes = [i for i in range(2, n + 1) if primes[i]]\n",
    "print(\"Prime numbers till\",n,\":\",all_primes)"
   ]
  },
  {
   "cell_type": "markdown",
   "id": "67f62340",
   "metadata": {},
   "source": [
    "#### 32. Create a program that generates a list of all Pythagorean triplets up to a specified limit using list comprehension."
   ]
  },
  {
   "cell_type": "code",
   "execution_count": 73,
   "id": "ab89d2ab",
   "metadata": {},
   "outputs": [
    {
     "name": "stdout",
     "output_type": "stream",
     "text": [
      "Enter the limit : 50\n",
      "Pythagorean triplets up to 50 :\n",
      " [(3, 4, 5), (5, 12, 13), (6, 8, 10), (7, 24, 25), (8, 15, 17), (9, 12, 15), (9, 40, 41), (10, 24, 26), (12, 16, 20), (12, 35, 37), (14, 48, 50), (15, 20, 25), (15, 36, 39), (16, 30, 34), (18, 24, 30), (20, 21, 29), (21, 28, 35), (24, 32, 40), (27, 36, 45), (30, 40, 50)]\n"
     ]
    }
   ],
   "source": [
    "n=int(input(\"Enter the limit : \"))\n",
    "l=[(a,b,c) for a in range(1,n+1) for b in range(a,n+1) for c in range(b,n+1) if(a**2 + b**2 == c**2)]\n",
    "print(\"Pythagorean triplets up to\",n,\":\\n\",l)"
   ]
  },
  {
   "cell_type": "markdown",
   "id": "027cd635",
   "metadata": {},
   "source": [
    "#### 33. Develop a program that generates a list of all possible combinations of two lists using list comprehension."
   ]
  },
  {
   "cell_type": "code",
   "execution_count": 77,
   "id": "28530c95",
   "metadata": {},
   "outputs": [
    {
     "name": "stdout",
     "output_type": "stream",
     "text": [
      "List1 : [1, 2, 3, 4]\n",
      "List2 : [5, 6, 7]\n",
      "All possible combinations of the lists :\n",
      " [(1, 5), (1, 6), (1, 7), (2, 5), (2, 6), (2, 7), (3, 5), (3, 6), (3, 7), (4, 5), (4, 6), (4, 7)]\n"
     ]
    }
   ],
   "source": [
    "l1=[1,2,3,4]\n",
    "print(\"List1 :\",l1)\n",
    "l2=[5,6,7]\n",
    "print(\"List2 :\",l2)\n",
    "l=[(a,b) for a in l1 for b in l2]\n",
    "print(\"All possible combinations of the lists :\\n\",l)"
   ]
  },
  {
   "cell_type": "markdown",
   "id": "c6a04f72",
   "metadata": {},
   "source": [
    "#### 34. Write a program that calculates the mean, median, and mode of a list of numbers using list comprehension."
   ]
  },
  {
   "cell_type": "code",
   "execution_count": 129,
   "id": "9785ede2",
   "metadata": {},
   "outputs": [
    {
     "name": "stdout",
     "output_type": "stream",
     "text": [
      "mean = 4.7\n",
      "median = 5.0\n",
      "mode = 5\n"
     ]
    }
   ],
   "source": [
    "l=[5,2,4,6,1,3,5,7,9,5]\n",
    "mean = (sum(l)/len(l) if l else none)\n",
    "l=sorted(l)\n",
    "median = ((l[len(l)//2] + l[(len(l)//2)-1])/2 if(len(l)%2==0) else l[len(l)//2])\n",
    "freq = {i:l.count(i) for i in l}\n",
    "mode = ([i for i in freq if freq[i]==max(freq.values())])[0]\n",
    "print(\"mean =\",mean)\n",
    "print(\"median =\",median)\n",
    "print(\"mode =\",mode)"
   ]
  },
  {
   "cell_type": "markdown",
   "id": "d127f38c",
   "metadata": {},
   "source": [
    "#### 35. Create a program that generates Pascal's triangle up to a specified number of rows using list comprehension."
   ]
  },
  {
   "cell_type": "code",
   "execution_count": 175,
   "id": "88523cdc",
   "metadata": {},
   "outputs": [
    {
     "name": "stdout",
     "output_type": "stream",
     "text": [
      "No. of rows : 5\n",
      "    1\n",
      "   1 1\n",
      "  1 2 1\n",
      " 1 3 3 1\n",
      "1 4 6 4 1\n"
     ]
    }
   ],
   "source": [
    "n=int(input(\"No. of rows : \"))\n",
    "l=[[1]]\n",
    "for i in range(1,n):\n",
    "    l1= [1] + [l[i-1][j-1] + l[i-1][j] for j in range(1,i)] + [1]\n",
    "    l.append(l1)\n",
    "for i in l:\n",
    "    print(\" \"*(n-len(i)),end='')\n",
    "    print(\" \".join(map(str,i)))"
   ]
  },
  {
   "cell_type": "markdown",
   "id": "971a08cc",
   "metadata": {},
   "source": [
    "#### 36. Develop a program that calculates the sum of the digits of a factorial of numbers from 1 to 5 using list comprehension."
   ]
  },
  {
   "cell_type": "code",
   "execution_count": 242,
   "id": "4c8b5aef",
   "metadata": {},
   "outputs": [
    {
     "name": "stdout",
     "output_type": "stream",
     "text": [
      "Factorials of numbers from 1 to 5 : [1, 2, 6, 24, 120]\n",
      "sum of the digits of factorial of numbers from 1 to 5 : [1, 2, 6, 6, 3]\n"
     ]
    }
   ],
   "source": [
    "import math\n",
    "f=[math.prod(j for j in range(1,i+1)) for i in range(1,6)]\n",
    "print(\"Factorials of numbers from 1 to 5 :\",f)\n",
    "sod=[sum([int(j) for j in str(i)]) for i in f]\n",
    "print(\"sum of the digits of factorial of numbers from 1 to 5 :\",sod)"
   ]
  },
  {
   "cell_type": "markdown",
   "id": "d568003f",
   "metadata": {},
   "source": [
    "#### 37. Write a program that finds the longest word in a sentence using list comprehension."
   ]
  },
  {
   "cell_type": "code",
   "execution_count": 254,
   "id": "f5f69820",
   "metadata": {},
   "outputs": [
    {
     "name": "stdout",
     "output_type": "stream",
     "text": [
      "String : Habibi come to Dubai !!\n",
      "Longest word = Habibi\n"
     ]
    }
   ],
   "source": [
    "s=\"Habibi come to Dubai !!\"\n",
    "print(\"String :\",s)\n",
    "d={i:len(i) for i in s.split()}\n",
    "print(\"Longest word =\",[i for i in d if(d[i]==max(d.values()))][0])"
   ]
  },
  {
   "cell_type": "markdown",
   "id": "2d0b6b39",
   "metadata": {},
   "source": [
    "#### 38. Create a program that filters a list of strings to include only those with more than three vowels using list comprehension."
   ]
  },
  {
   "cell_type": "code",
   "execution_count": 275,
   "id": "e54b8668",
   "metadata": {},
   "outputs": [
    {
     "name": "stdout",
     "output_type": "stream",
     "text": [
      "String : Daniella stop playing with the Ouija Board\n",
      "Words with more than 3 vowels : ['Daniella', 'Ouija']\n"
     ]
    }
   ],
   "source": [
    "s=\"Daniella stop playing with the Ouija Board\"\n",
    "print(\"String :\",s)\n",
    "l=s.split()\n",
    "x=[(sum([1 for j in i if(j.lower() in 'aeiou')])) for i in l]\n",
    "print(\"Words with more than 3 vowels :\",[l[i] for i in range(len(l)) if(x[i]==max(x))])"
   ]
  },
  {
   "cell_type": "markdown",
   "id": "0ba1dbee",
   "metadata": {},
   "source": [
    "#### 39. Develop a program that calculates the sum of the digits of numbers from 1 to 1000 using list comprehension."
   ]
  },
  {
   "cell_type": "code",
   "execution_count": 1,
   "id": "5025af3f",
   "metadata": {},
   "outputs": [
    {
     "name": "stdout",
     "output_type": "stream",
     "text": [
      " sum of the digits of numbers from 1 to 1000 :\n"
     ]
    },
    {
     "data": {
      "text/plain": [
       "{1: 1,\n",
       " 2: 2,\n",
       " 3: 3,\n",
       " 4: 4,\n",
       " 5: 5,\n",
       " 6: 6,\n",
       " 7: 7,\n",
       " 8: 8,\n",
       " 9: 9,\n",
       " 10: 1,\n",
       " 11: 2,\n",
       " 12: 3,\n",
       " 13: 4,\n",
       " 14: 5,\n",
       " 15: 6,\n",
       " 16: 7,\n",
       " 17: 8,\n",
       " 18: 9,\n",
       " 19: 10,\n",
       " 20: 2,\n",
       " 21: 3,\n",
       " 22: 4,\n",
       " 23: 5,\n",
       " 24: 6,\n",
       " 25: 7,\n",
       " 26: 8,\n",
       " 27: 9,\n",
       " 28: 10,\n",
       " 29: 11,\n",
       " 30: 3,\n",
       " 31: 4,\n",
       " 32: 5,\n",
       " 33: 6,\n",
       " 34: 7,\n",
       " 35: 8,\n",
       " 36: 9,\n",
       " 37: 10,\n",
       " 38: 11,\n",
       " 39: 12,\n",
       " 40: 4,\n",
       " 41: 5,\n",
       " 42: 6,\n",
       " 43: 7,\n",
       " 44: 8,\n",
       " 45: 9,\n",
       " 46: 10,\n",
       " 47: 11,\n",
       " 48: 12,\n",
       " 49: 13,\n",
       " 50: 5,\n",
       " 51: 6,\n",
       " 52: 7,\n",
       " 53: 8,\n",
       " 54: 9,\n",
       " 55: 10,\n",
       " 56: 11,\n",
       " 57: 12,\n",
       " 58: 13,\n",
       " 59: 14,\n",
       " 60: 6,\n",
       " 61: 7,\n",
       " 62: 8,\n",
       " 63: 9,\n",
       " 64: 10,\n",
       " 65: 11,\n",
       " 66: 12,\n",
       " 67: 13,\n",
       " 68: 14,\n",
       " 69: 15,\n",
       " 70: 7,\n",
       " 71: 8,\n",
       " 72: 9,\n",
       " 73: 10,\n",
       " 74: 11,\n",
       " 75: 12,\n",
       " 76: 13,\n",
       " 77: 14,\n",
       " 78: 15,\n",
       " 79: 16,\n",
       " 80: 8,\n",
       " 81: 9,\n",
       " 82: 10,\n",
       " 83: 11,\n",
       " 84: 12,\n",
       " 85: 13,\n",
       " 86: 14,\n",
       " 87: 15,\n",
       " 88: 16,\n",
       " 89: 17,\n",
       " 90: 9,\n",
       " 91: 10,\n",
       " 92: 11,\n",
       " 93: 12,\n",
       " 94: 13,\n",
       " 95: 14,\n",
       " 96: 15,\n",
       " 97: 16,\n",
       " 98: 17,\n",
       " 99: 18,\n",
       " 100: 1,\n",
       " 101: 2,\n",
       " 102: 3,\n",
       " 103: 4,\n",
       " 104: 5,\n",
       " 105: 6,\n",
       " 106: 7,\n",
       " 107: 8,\n",
       " 108: 9,\n",
       " 109: 10,\n",
       " 110: 2,\n",
       " 111: 3,\n",
       " 112: 4,\n",
       " 113: 5,\n",
       " 114: 6,\n",
       " 115: 7,\n",
       " 116: 8,\n",
       " 117: 9,\n",
       " 118: 10,\n",
       " 119: 11,\n",
       " 120: 3,\n",
       " 121: 4,\n",
       " 122: 5,\n",
       " 123: 6,\n",
       " 124: 7,\n",
       " 125: 8,\n",
       " 126: 9,\n",
       " 127: 10,\n",
       " 128: 11,\n",
       " 129: 12,\n",
       " 130: 4,\n",
       " 131: 5,\n",
       " 132: 6,\n",
       " 133: 7,\n",
       " 134: 8,\n",
       " 135: 9,\n",
       " 136: 10,\n",
       " 137: 11,\n",
       " 138: 12,\n",
       " 139: 13,\n",
       " 140: 5,\n",
       " 141: 6,\n",
       " 142: 7,\n",
       " 143: 8,\n",
       " 144: 9,\n",
       " 145: 10,\n",
       " 146: 11,\n",
       " 147: 12,\n",
       " 148: 13,\n",
       " 149: 14,\n",
       " 150: 6,\n",
       " 151: 7,\n",
       " 152: 8,\n",
       " 153: 9,\n",
       " 154: 10,\n",
       " 155: 11,\n",
       " 156: 12,\n",
       " 157: 13,\n",
       " 158: 14,\n",
       " 159: 15,\n",
       " 160: 7,\n",
       " 161: 8,\n",
       " 162: 9,\n",
       " 163: 10,\n",
       " 164: 11,\n",
       " 165: 12,\n",
       " 166: 13,\n",
       " 167: 14,\n",
       " 168: 15,\n",
       " 169: 16,\n",
       " 170: 8,\n",
       " 171: 9,\n",
       " 172: 10,\n",
       " 173: 11,\n",
       " 174: 12,\n",
       " 175: 13,\n",
       " 176: 14,\n",
       " 177: 15,\n",
       " 178: 16,\n",
       " 179: 17,\n",
       " 180: 9,\n",
       " 181: 10,\n",
       " 182: 11,\n",
       " 183: 12,\n",
       " 184: 13,\n",
       " 185: 14,\n",
       " 186: 15,\n",
       " 187: 16,\n",
       " 188: 17,\n",
       " 189: 18,\n",
       " 190: 10,\n",
       " 191: 11,\n",
       " 192: 12,\n",
       " 193: 13,\n",
       " 194: 14,\n",
       " 195: 15,\n",
       " 196: 16,\n",
       " 197: 17,\n",
       " 198: 18,\n",
       " 199: 19,\n",
       " 200: 2,\n",
       " 201: 3,\n",
       " 202: 4,\n",
       " 203: 5,\n",
       " 204: 6,\n",
       " 205: 7,\n",
       " 206: 8,\n",
       " 207: 9,\n",
       " 208: 10,\n",
       " 209: 11,\n",
       " 210: 3,\n",
       " 211: 4,\n",
       " 212: 5,\n",
       " 213: 6,\n",
       " 214: 7,\n",
       " 215: 8,\n",
       " 216: 9,\n",
       " 217: 10,\n",
       " 218: 11,\n",
       " 219: 12,\n",
       " 220: 4,\n",
       " 221: 5,\n",
       " 222: 6,\n",
       " 223: 7,\n",
       " 224: 8,\n",
       " 225: 9,\n",
       " 226: 10,\n",
       " 227: 11,\n",
       " 228: 12,\n",
       " 229: 13,\n",
       " 230: 5,\n",
       " 231: 6,\n",
       " 232: 7,\n",
       " 233: 8,\n",
       " 234: 9,\n",
       " 235: 10,\n",
       " 236: 11,\n",
       " 237: 12,\n",
       " 238: 13,\n",
       " 239: 14,\n",
       " 240: 6,\n",
       " 241: 7,\n",
       " 242: 8,\n",
       " 243: 9,\n",
       " 244: 10,\n",
       " 245: 11,\n",
       " 246: 12,\n",
       " 247: 13,\n",
       " 248: 14,\n",
       " 249: 15,\n",
       " 250: 7,\n",
       " 251: 8,\n",
       " 252: 9,\n",
       " 253: 10,\n",
       " 254: 11,\n",
       " 255: 12,\n",
       " 256: 13,\n",
       " 257: 14,\n",
       " 258: 15,\n",
       " 259: 16,\n",
       " 260: 8,\n",
       " 261: 9,\n",
       " 262: 10,\n",
       " 263: 11,\n",
       " 264: 12,\n",
       " 265: 13,\n",
       " 266: 14,\n",
       " 267: 15,\n",
       " 268: 16,\n",
       " 269: 17,\n",
       " 270: 9,\n",
       " 271: 10,\n",
       " 272: 11,\n",
       " 273: 12,\n",
       " 274: 13,\n",
       " 275: 14,\n",
       " 276: 15,\n",
       " 277: 16,\n",
       " 278: 17,\n",
       " 279: 18,\n",
       " 280: 10,\n",
       " 281: 11,\n",
       " 282: 12,\n",
       " 283: 13,\n",
       " 284: 14,\n",
       " 285: 15,\n",
       " 286: 16,\n",
       " 287: 17,\n",
       " 288: 18,\n",
       " 289: 19,\n",
       " 290: 11,\n",
       " 291: 12,\n",
       " 292: 13,\n",
       " 293: 14,\n",
       " 294: 15,\n",
       " 295: 16,\n",
       " 296: 17,\n",
       " 297: 18,\n",
       " 298: 19,\n",
       " 299: 20,\n",
       " 300: 3,\n",
       " 301: 4,\n",
       " 302: 5,\n",
       " 303: 6,\n",
       " 304: 7,\n",
       " 305: 8,\n",
       " 306: 9,\n",
       " 307: 10,\n",
       " 308: 11,\n",
       " 309: 12,\n",
       " 310: 4,\n",
       " 311: 5,\n",
       " 312: 6,\n",
       " 313: 7,\n",
       " 314: 8,\n",
       " 315: 9,\n",
       " 316: 10,\n",
       " 317: 11,\n",
       " 318: 12,\n",
       " 319: 13,\n",
       " 320: 5,\n",
       " 321: 6,\n",
       " 322: 7,\n",
       " 323: 8,\n",
       " 324: 9,\n",
       " 325: 10,\n",
       " 326: 11,\n",
       " 327: 12,\n",
       " 328: 13,\n",
       " 329: 14,\n",
       " 330: 6,\n",
       " 331: 7,\n",
       " 332: 8,\n",
       " 333: 9,\n",
       " 334: 10,\n",
       " 335: 11,\n",
       " 336: 12,\n",
       " 337: 13,\n",
       " 338: 14,\n",
       " 339: 15,\n",
       " 340: 7,\n",
       " 341: 8,\n",
       " 342: 9,\n",
       " 343: 10,\n",
       " 344: 11,\n",
       " 345: 12,\n",
       " 346: 13,\n",
       " 347: 14,\n",
       " 348: 15,\n",
       " 349: 16,\n",
       " 350: 8,\n",
       " 351: 9,\n",
       " 352: 10,\n",
       " 353: 11,\n",
       " 354: 12,\n",
       " 355: 13,\n",
       " 356: 14,\n",
       " 357: 15,\n",
       " 358: 16,\n",
       " 359: 17,\n",
       " 360: 9,\n",
       " 361: 10,\n",
       " 362: 11,\n",
       " 363: 12,\n",
       " 364: 13,\n",
       " 365: 14,\n",
       " 366: 15,\n",
       " 367: 16,\n",
       " 368: 17,\n",
       " 369: 18,\n",
       " 370: 10,\n",
       " 371: 11,\n",
       " 372: 12,\n",
       " 373: 13,\n",
       " 374: 14,\n",
       " 375: 15,\n",
       " 376: 16,\n",
       " 377: 17,\n",
       " 378: 18,\n",
       " 379: 19,\n",
       " 380: 11,\n",
       " 381: 12,\n",
       " 382: 13,\n",
       " 383: 14,\n",
       " 384: 15,\n",
       " 385: 16,\n",
       " 386: 17,\n",
       " 387: 18,\n",
       " 388: 19,\n",
       " 389: 20,\n",
       " 390: 12,\n",
       " 391: 13,\n",
       " 392: 14,\n",
       " 393: 15,\n",
       " 394: 16,\n",
       " 395: 17,\n",
       " 396: 18,\n",
       " 397: 19,\n",
       " 398: 20,\n",
       " 399: 21,\n",
       " 400: 4,\n",
       " 401: 5,\n",
       " 402: 6,\n",
       " 403: 7,\n",
       " 404: 8,\n",
       " 405: 9,\n",
       " 406: 10,\n",
       " 407: 11,\n",
       " 408: 12,\n",
       " 409: 13,\n",
       " 410: 5,\n",
       " 411: 6,\n",
       " 412: 7,\n",
       " 413: 8,\n",
       " 414: 9,\n",
       " 415: 10,\n",
       " 416: 11,\n",
       " 417: 12,\n",
       " 418: 13,\n",
       " 419: 14,\n",
       " 420: 6,\n",
       " 421: 7,\n",
       " 422: 8,\n",
       " 423: 9,\n",
       " 424: 10,\n",
       " 425: 11,\n",
       " 426: 12,\n",
       " 427: 13,\n",
       " 428: 14,\n",
       " 429: 15,\n",
       " 430: 7,\n",
       " 431: 8,\n",
       " 432: 9,\n",
       " 433: 10,\n",
       " 434: 11,\n",
       " 435: 12,\n",
       " 436: 13,\n",
       " 437: 14,\n",
       " 438: 15,\n",
       " 439: 16,\n",
       " 440: 8,\n",
       " 441: 9,\n",
       " 442: 10,\n",
       " 443: 11,\n",
       " 444: 12,\n",
       " 445: 13,\n",
       " 446: 14,\n",
       " 447: 15,\n",
       " 448: 16,\n",
       " 449: 17,\n",
       " 450: 9,\n",
       " 451: 10,\n",
       " 452: 11,\n",
       " 453: 12,\n",
       " 454: 13,\n",
       " 455: 14,\n",
       " 456: 15,\n",
       " 457: 16,\n",
       " 458: 17,\n",
       " 459: 18,\n",
       " 460: 10,\n",
       " 461: 11,\n",
       " 462: 12,\n",
       " 463: 13,\n",
       " 464: 14,\n",
       " 465: 15,\n",
       " 466: 16,\n",
       " 467: 17,\n",
       " 468: 18,\n",
       " 469: 19,\n",
       " 470: 11,\n",
       " 471: 12,\n",
       " 472: 13,\n",
       " 473: 14,\n",
       " 474: 15,\n",
       " 475: 16,\n",
       " 476: 17,\n",
       " 477: 18,\n",
       " 478: 19,\n",
       " 479: 20,\n",
       " 480: 12,\n",
       " 481: 13,\n",
       " 482: 14,\n",
       " 483: 15,\n",
       " 484: 16,\n",
       " 485: 17,\n",
       " 486: 18,\n",
       " 487: 19,\n",
       " 488: 20,\n",
       " 489: 21,\n",
       " 490: 13,\n",
       " 491: 14,\n",
       " 492: 15,\n",
       " 493: 16,\n",
       " 494: 17,\n",
       " 495: 18,\n",
       " 496: 19,\n",
       " 497: 20,\n",
       " 498: 21,\n",
       " 499: 22,\n",
       " 500: 5,\n",
       " 501: 6,\n",
       " 502: 7,\n",
       " 503: 8,\n",
       " 504: 9,\n",
       " 505: 10,\n",
       " 506: 11,\n",
       " 507: 12,\n",
       " 508: 13,\n",
       " 509: 14,\n",
       " 510: 6,\n",
       " 511: 7,\n",
       " 512: 8,\n",
       " 513: 9,\n",
       " 514: 10,\n",
       " 515: 11,\n",
       " 516: 12,\n",
       " 517: 13,\n",
       " 518: 14,\n",
       " 519: 15,\n",
       " 520: 7,\n",
       " 521: 8,\n",
       " 522: 9,\n",
       " 523: 10,\n",
       " 524: 11,\n",
       " 525: 12,\n",
       " 526: 13,\n",
       " 527: 14,\n",
       " 528: 15,\n",
       " 529: 16,\n",
       " 530: 8,\n",
       " 531: 9,\n",
       " 532: 10,\n",
       " 533: 11,\n",
       " 534: 12,\n",
       " 535: 13,\n",
       " 536: 14,\n",
       " 537: 15,\n",
       " 538: 16,\n",
       " 539: 17,\n",
       " 540: 9,\n",
       " 541: 10,\n",
       " 542: 11,\n",
       " 543: 12,\n",
       " 544: 13,\n",
       " 545: 14,\n",
       " 546: 15,\n",
       " 547: 16,\n",
       " 548: 17,\n",
       " 549: 18,\n",
       " 550: 10,\n",
       " 551: 11,\n",
       " 552: 12,\n",
       " 553: 13,\n",
       " 554: 14,\n",
       " 555: 15,\n",
       " 556: 16,\n",
       " 557: 17,\n",
       " 558: 18,\n",
       " 559: 19,\n",
       " 560: 11,\n",
       " 561: 12,\n",
       " 562: 13,\n",
       " 563: 14,\n",
       " 564: 15,\n",
       " 565: 16,\n",
       " 566: 17,\n",
       " 567: 18,\n",
       " 568: 19,\n",
       " 569: 20,\n",
       " 570: 12,\n",
       " 571: 13,\n",
       " 572: 14,\n",
       " 573: 15,\n",
       " 574: 16,\n",
       " 575: 17,\n",
       " 576: 18,\n",
       " 577: 19,\n",
       " 578: 20,\n",
       " 579: 21,\n",
       " 580: 13,\n",
       " 581: 14,\n",
       " 582: 15,\n",
       " 583: 16,\n",
       " 584: 17,\n",
       " 585: 18,\n",
       " 586: 19,\n",
       " 587: 20,\n",
       " 588: 21,\n",
       " 589: 22,\n",
       " 590: 14,\n",
       " 591: 15,\n",
       " 592: 16,\n",
       " 593: 17,\n",
       " 594: 18,\n",
       " 595: 19,\n",
       " 596: 20,\n",
       " 597: 21,\n",
       " 598: 22,\n",
       " 599: 23,\n",
       " 600: 6,\n",
       " 601: 7,\n",
       " 602: 8,\n",
       " 603: 9,\n",
       " 604: 10,\n",
       " 605: 11,\n",
       " 606: 12,\n",
       " 607: 13,\n",
       " 608: 14,\n",
       " 609: 15,\n",
       " 610: 7,\n",
       " 611: 8,\n",
       " 612: 9,\n",
       " 613: 10,\n",
       " 614: 11,\n",
       " 615: 12,\n",
       " 616: 13,\n",
       " 617: 14,\n",
       " 618: 15,\n",
       " 619: 16,\n",
       " 620: 8,\n",
       " 621: 9,\n",
       " 622: 10,\n",
       " 623: 11,\n",
       " 624: 12,\n",
       " 625: 13,\n",
       " 626: 14,\n",
       " 627: 15,\n",
       " 628: 16,\n",
       " 629: 17,\n",
       " 630: 9,\n",
       " 631: 10,\n",
       " 632: 11,\n",
       " 633: 12,\n",
       " 634: 13,\n",
       " 635: 14,\n",
       " 636: 15,\n",
       " 637: 16,\n",
       " 638: 17,\n",
       " 639: 18,\n",
       " 640: 10,\n",
       " 641: 11,\n",
       " 642: 12,\n",
       " 643: 13,\n",
       " 644: 14,\n",
       " 645: 15,\n",
       " 646: 16,\n",
       " 647: 17,\n",
       " 648: 18,\n",
       " 649: 19,\n",
       " 650: 11,\n",
       " 651: 12,\n",
       " 652: 13,\n",
       " 653: 14,\n",
       " 654: 15,\n",
       " 655: 16,\n",
       " 656: 17,\n",
       " 657: 18,\n",
       " 658: 19,\n",
       " 659: 20,\n",
       " 660: 12,\n",
       " 661: 13,\n",
       " 662: 14,\n",
       " 663: 15,\n",
       " 664: 16,\n",
       " 665: 17,\n",
       " 666: 18,\n",
       " 667: 19,\n",
       " 668: 20,\n",
       " 669: 21,\n",
       " 670: 13,\n",
       " 671: 14,\n",
       " 672: 15,\n",
       " 673: 16,\n",
       " 674: 17,\n",
       " 675: 18,\n",
       " 676: 19,\n",
       " 677: 20,\n",
       " 678: 21,\n",
       " 679: 22,\n",
       " 680: 14,\n",
       " 681: 15,\n",
       " 682: 16,\n",
       " 683: 17,\n",
       " 684: 18,\n",
       " 685: 19,\n",
       " 686: 20,\n",
       " 687: 21,\n",
       " 688: 22,\n",
       " 689: 23,\n",
       " 690: 15,\n",
       " 691: 16,\n",
       " 692: 17,\n",
       " 693: 18,\n",
       " 694: 19,\n",
       " 695: 20,\n",
       " 696: 21,\n",
       " 697: 22,\n",
       " 698: 23,\n",
       " 699: 24,\n",
       " 700: 7,\n",
       " 701: 8,\n",
       " 702: 9,\n",
       " 703: 10,\n",
       " 704: 11,\n",
       " 705: 12,\n",
       " 706: 13,\n",
       " 707: 14,\n",
       " 708: 15,\n",
       " 709: 16,\n",
       " 710: 8,\n",
       " 711: 9,\n",
       " 712: 10,\n",
       " 713: 11,\n",
       " 714: 12,\n",
       " 715: 13,\n",
       " 716: 14,\n",
       " 717: 15,\n",
       " 718: 16,\n",
       " 719: 17,\n",
       " 720: 9,\n",
       " 721: 10,\n",
       " 722: 11,\n",
       " 723: 12,\n",
       " 724: 13,\n",
       " 725: 14,\n",
       " 726: 15,\n",
       " 727: 16,\n",
       " 728: 17,\n",
       " 729: 18,\n",
       " 730: 10,\n",
       " 731: 11,\n",
       " 732: 12,\n",
       " 733: 13,\n",
       " 734: 14,\n",
       " 735: 15,\n",
       " 736: 16,\n",
       " 737: 17,\n",
       " 738: 18,\n",
       " 739: 19,\n",
       " 740: 11,\n",
       " 741: 12,\n",
       " 742: 13,\n",
       " 743: 14,\n",
       " 744: 15,\n",
       " 745: 16,\n",
       " 746: 17,\n",
       " 747: 18,\n",
       " 748: 19,\n",
       " 749: 20,\n",
       " 750: 12,\n",
       " 751: 13,\n",
       " 752: 14,\n",
       " 753: 15,\n",
       " 754: 16,\n",
       " 755: 17,\n",
       " 756: 18,\n",
       " 757: 19,\n",
       " 758: 20,\n",
       " 759: 21,\n",
       " 760: 13,\n",
       " 761: 14,\n",
       " 762: 15,\n",
       " 763: 16,\n",
       " 764: 17,\n",
       " 765: 18,\n",
       " 766: 19,\n",
       " 767: 20,\n",
       " 768: 21,\n",
       " 769: 22,\n",
       " 770: 14,\n",
       " 771: 15,\n",
       " 772: 16,\n",
       " 773: 17,\n",
       " 774: 18,\n",
       " 775: 19,\n",
       " 776: 20,\n",
       " 777: 21,\n",
       " 778: 22,\n",
       " 779: 23,\n",
       " 780: 15,\n",
       " 781: 16,\n",
       " 782: 17,\n",
       " 783: 18,\n",
       " 784: 19,\n",
       " 785: 20,\n",
       " 786: 21,\n",
       " 787: 22,\n",
       " 788: 23,\n",
       " 789: 24,\n",
       " 790: 16,\n",
       " 791: 17,\n",
       " 792: 18,\n",
       " 793: 19,\n",
       " 794: 20,\n",
       " 795: 21,\n",
       " 796: 22,\n",
       " 797: 23,\n",
       " 798: 24,\n",
       " 799: 25,\n",
       " 800: 8,\n",
       " 801: 9,\n",
       " 802: 10,\n",
       " 803: 11,\n",
       " 804: 12,\n",
       " 805: 13,\n",
       " 806: 14,\n",
       " 807: 15,\n",
       " 808: 16,\n",
       " 809: 17,\n",
       " 810: 9,\n",
       " 811: 10,\n",
       " 812: 11,\n",
       " 813: 12,\n",
       " 814: 13,\n",
       " 815: 14,\n",
       " 816: 15,\n",
       " 817: 16,\n",
       " 818: 17,\n",
       " 819: 18,\n",
       " 820: 10,\n",
       " 821: 11,\n",
       " 822: 12,\n",
       " 823: 13,\n",
       " 824: 14,\n",
       " 825: 15,\n",
       " 826: 16,\n",
       " 827: 17,\n",
       " 828: 18,\n",
       " 829: 19,\n",
       " 830: 11,\n",
       " 831: 12,\n",
       " 832: 13,\n",
       " 833: 14,\n",
       " 834: 15,\n",
       " 835: 16,\n",
       " 836: 17,\n",
       " 837: 18,\n",
       " 838: 19,\n",
       " 839: 20,\n",
       " 840: 12,\n",
       " 841: 13,\n",
       " 842: 14,\n",
       " 843: 15,\n",
       " 844: 16,\n",
       " 845: 17,\n",
       " 846: 18,\n",
       " 847: 19,\n",
       " 848: 20,\n",
       " 849: 21,\n",
       " 850: 13,\n",
       " 851: 14,\n",
       " 852: 15,\n",
       " 853: 16,\n",
       " 854: 17,\n",
       " 855: 18,\n",
       " 856: 19,\n",
       " 857: 20,\n",
       " 858: 21,\n",
       " 859: 22,\n",
       " 860: 14,\n",
       " 861: 15,\n",
       " 862: 16,\n",
       " 863: 17,\n",
       " 864: 18,\n",
       " 865: 19,\n",
       " 866: 20,\n",
       " 867: 21,\n",
       " 868: 22,\n",
       " 869: 23,\n",
       " 870: 15,\n",
       " 871: 16,\n",
       " 872: 17,\n",
       " 873: 18,\n",
       " 874: 19,\n",
       " 875: 20,\n",
       " 876: 21,\n",
       " 877: 22,\n",
       " 878: 23,\n",
       " 879: 24,\n",
       " 880: 16,\n",
       " 881: 17,\n",
       " 882: 18,\n",
       " 883: 19,\n",
       " 884: 20,\n",
       " 885: 21,\n",
       " 886: 22,\n",
       " 887: 23,\n",
       " 888: 24,\n",
       " 889: 25,\n",
       " 890: 17,\n",
       " 891: 18,\n",
       " 892: 19,\n",
       " 893: 20,\n",
       " 894: 21,\n",
       " 895: 22,\n",
       " 896: 23,\n",
       " 897: 24,\n",
       " 898: 25,\n",
       " 899: 26,\n",
       " 900: 9,\n",
       " 901: 10,\n",
       " 902: 11,\n",
       " 903: 12,\n",
       " 904: 13,\n",
       " 905: 14,\n",
       " 906: 15,\n",
       " 907: 16,\n",
       " 908: 17,\n",
       " 909: 18,\n",
       " 910: 10,\n",
       " 911: 11,\n",
       " 912: 12,\n",
       " 913: 13,\n",
       " 914: 14,\n",
       " 915: 15,\n",
       " 916: 16,\n",
       " 917: 17,\n",
       " 918: 18,\n",
       " 919: 19,\n",
       " 920: 11,\n",
       " 921: 12,\n",
       " 922: 13,\n",
       " 923: 14,\n",
       " 924: 15,\n",
       " 925: 16,\n",
       " 926: 17,\n",
       " 927: 18,\n",
       " 928: 19,\n",
       " 929: 20,\n",
       " 930: 12,\n",
       " 931: 13,\n",
       " 932: 14,\n",
       " 933: 15,\n",
       " 934: 16,\n",
       " 935: 17,\n",
       " 936: 18,\n",
       " 937: 19,\n",
       " 938: 20,\n",
       " 939: 21,\n",
       " 940: 13,\n",
       " 941: 14,\n",
       " 942: 15,\n",
       " 943: 16,\n",
       " 944: 17,\n",
       " 945: 18,\n",
       " 946: 19,\n",
       " 947: 20,\n",
       " 948: 21,\n",
       " 949: 22,\n",
       " 950: 14,\n",
       " 951: 15,\n",
       " 952: 16,\n",
       " 953: 17,\n",
       " 954: 18,\n",
       " 955: 19,\n",
       " 956: 20,\n",
       " 957: 21,\n",
       " 958: 22,\n",
       " 959: 23,\n",
       " 960: 15,\n",
       " 961: 16,\n",
       " 962: 17,\n",
       " 963: 18,\n",
       " 964: 19,\n",
       " 965: 20,\n",
       " 966: 21,\n",
       " 967: 22,\n",
       " 968: 23,\n",
       " 969: 24,\n",
       " 970: 16,\n",
       " 971: 17,\n",
       " 972: 18,\n",
       " 973: 19,\n",
       " 974: 20,\n",
       " 975: 21,\n",
       " 976: 22,\n",
       " 977: 23,\n",
       " 978: 24,\n",
       " 979: 25,\n",
       " 980: 17,\n",
       " 981: 18,\n",
       " 982: 19,\n",
       " 983: 20,\n",
       " 984: 21,\n",
       " 985: 22,\n",
       " 986: 23,\n",
       " 987: 24,\n",
       " 988: 25,\n",
       " 989: 26,\n",
       " 990: 18,\n",
       " 991: 19,\n",
       " 992: 20,\n",
       " 993: 21,\n",
       " 994: 22,\n",
       " 995: 23,\n",
       " 996: 24,\n",
       " 997: 25,\n",
       " 998: 26,\n",
       " 999: 27,\n",
       " 1000: 1}"
      ]
     },
     "execution_count": 1,
     "metadata": {},
     "output_type": "execute_result"
    }
   ],
   "source": [
    "l = [str(i) for i in range(1,1001)]\n",
    "d = {int(i):sum(int(j) for j in i) for i in l}\n",
    "print(\" sum of the digits of numbers from 1 to 1000 :\")\n",
    "d"
   ]
  },
  {
   "cell_type": "code",
   "execution_count": 6,
   "id": "478dd402",
   "metadata": {},
   "outputs": [
    {
     "name": "stdout",
     "output_type": "stream",
     "text": [
      "Total sum = 13501\n"
     ]
    }
   ],
   "source": [
    "##in case of total sum of sum of the numbers\n",
    "\n",
    "tot=sum([i for i in d.values()])\n",
    "print(\"Total sum =\",tot)"
   ]
  },
  {
   "cell_type": "markdown",
   "id": "dd9e9345",
   "metadata": {},
   "source": [
    "#### 40. Write a program that generates a list of prime palindromic numbers using list comprehension."
   ]
  },
  {
   "cell_type": "code",
   "execution_count": 344,
   "id": "5ad0884e",
   "metadata": {},
   "outputs": [
    {
     "name": "stdout",
     "output_type": "stream",
     "text": [
      "Enter the range :500\n",
      "Prime Palindromic numbers in the given range : [1, 2, 3, 5, 7, 11, 101, 131, 151, 181, 191, 313, 353, 373, 383]\n"
     ]
    }
   ],
   "source": [
    "def isprime(n):\n",
    "    c=0\n",
    "    [c:=c+1 for i in range(1,n+1) if(n%i==0)]\n",
    "    if(c<=2):\n",
    "        return(n)\n",
    "        \n",
    "n=int(input(\"Enter the range :\"))\n",
    "p=[i for i in range(1,n+1) if(str(i)[::-1]==str(i))]\n",
    "l=[i for i in p if(isprime(i))]\n",
    "print(\"Prime Palindromic numbers in the given range :\",l)"
   ]
  },
  {
   "cell_type": "code",
   "execution_count": null,
   "id": "d58311a3",
   "metadata": {},
   "outputs": [],
   "source": []
  }
 ],
 "metadata": {
  "kernelspec": {
   "display_name": "Python 3",
   "language": "python",
   "name": "python3"
  },
  "language_info": {
   "codemirror_mode": {
    "name": "ipython",
    "version": 3
   },
   "file_extension": ".py",
   "mimetype": "text/x-python",
   "name": "python",
   "nbconvert_exporter": "python",
   "pygments_lexer": "ipython3",
   "version": "3.8.8"
  }
 },
 "nbformat": 4,
 "nbformat_minor": 5
}
