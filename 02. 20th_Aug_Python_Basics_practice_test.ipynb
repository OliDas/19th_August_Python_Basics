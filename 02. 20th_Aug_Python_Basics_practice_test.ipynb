{
 "cells": [
  {
   "cell_type": "markdown",
   "id": "2dda5b5b",
   "metadata": {},
   "source": [
    "## String Based Assignment Problem"
   ]
  },
  {
   "cell_type": "markdown",
   "id": "bf5f298a",
   "metadata": {},
   "source": [
    "#### 1. Write a program to reverse a string. "
   ]
  },
  {
   "cell_type": "code",
   "execution_count": 2,
   "id": "20c6779e",
   "metadata": {},
   "outputs": [
    {
     "name": "stdout",
     "output_type": "stream",
     "text": [
      "String : jUjUtSu KaIsEn\n",
      "Reversed String : nEsIaK uStUjUj\n"
     ]
    }
   ],
   "source": [
    "s=input(\"String : \")\n",
    "print(\"Reversed String :\",s[::-1])"
   ]
  },
  {
   "cell_type": "markdown",
   "id": "9cd0ff81",
   "metadata": {},
   "source": [
    "#### 2. Check if a string is a palindrome."
   ]
  },
  {
   "cell_type": "code",
   "execution_count": 3,
   "id": "4c66c6d1",
   "metadata": {},
   "outputs": [
    {
     "name": "stdout",
     "output_type": "stream",
     "text": [
      "String : maadaam\n",
      "maadaam is Palindrome\n"
     ]
    }
   ],
   "source": [
    "s=input(\"String : \")\n",
    "if(s[::-1]==s):\n",
    "    print(s,\"is Palindrome\")\n",
    "else:\n",
    "    print(s,\"isn't Palindrome\")"
   ]
  },
  {
   "cell_type": "markdown",
   "id": "92068e0f",
   "metadata": {},
   "source": [
    "#### 3. Convert a string to uppercase."
   ]
  },
  {
   "cell_type": "code",
   "execution_count": 4,
   "id": "749e0131",
   "metadata": {},
   "outputs": [
    {
     "name": "stdout",
     "output_type": "stream",
     "text": [
      "String : kakashi\n",
      "Uppercase : KAKASHI\n"
     ]
    }
   ],
   "source": [
    "s=input(\"String : \")\n",
    "print(\"Uppercase :\",s.upper())"
   ]
  },
  {
   "cell_type": "markdown",
   "id": "f34a8e36",
   "metadata": {},
   "source": [
    "#### 4. Convert a string to lowercase."
   ]
  },
  {
   "cell_type": "code",
   "execution_count": 5,
   "id": "f9016202",
   "metadata": {},
   "outputs": [
    {
     "name": "stdout",
     "output_type": "stream",
     "text": [
      "String : Itachi\n",
      "Lowercase : itachi\n"
     ]
    }
   ],
   "source": [
    "s=input(\"String : \")\n",
    "print(\"Lowercase :\",s.lower())"
   ]
  },
  {
   "cell_type": "markdown",
   "id": "757291b8",
   "metadata": {},
   "source": [
    "#### 5. Count the number of vowels in a string."
   ]
  },
  {
   "cell_type": "code",
   "execution_count": 6,
   "id": "2c849a20",
   "metadata": {},
   "outputs": [
    {
     "name": "stdout",
     "output_type": "stream",
     "text": [
      "String : Uchiha Madara\n",
      "Uchiha Madara has 6 vowels\n"
     ]
    }
   ],
   "source": [
    "s=input(\"String : \")\n",
    "c=0\n",
    "for i in s:\n",
    "    if i in \"AEIOUaeiou\":\n",
    "        c+=1\n",
    "print(s,'has',c,'vowels')"
   ]
  },
  {
   "cell_type": "markdown",
   "id": "d86305ec",
   "metadata": {},
   "source": [
    "#### 6. Count the number of consonants in a string."
   ]
  },
  {
   "cell_type": "code",
   "execution_count": 14,
   "id": "04749044",
   "metadata": {},
   "outputs": [
    {
     "name": "stdout",
     "output_type": "stream",
     "text": [
      "String : Fushiguro Megumi\n",
      "Fushiguro Megumi has 8 consonents\n"
     ]
    }
   ],
   "source": [
    "s=input(\"String : \")\n",
    "c=0\n",
    "for i in s:\n",
    "    if (i.isalpha() and (i not in \"AEIOUaeiou\")):\n",
    "        c+=1\n",
    "print(s,\"has\",c,'consonents')"
   ]
  },
  {
   "cell_type": "markdown",
   "id": "e262e7d5",
   "metadata": {},
   "source": [
    "#### 7. Remove all whitespaces from a string."
   ]
  },
  {
   "cell_type": "code",
   "execution_count": 15,
   "id": "7c1eb14a",
   "metadata": {},
   "outputs": [
    {
     "name": "stdout",
     "output_type": "stream",
     "text": [
      "String : Hello there! How are you today?\n",
      "Modiied String : Hellothere!Howareyoutoday?\n"
     ]
    }
   ],
   "source": [
    "s=input(\"String : \")\n",
    "s1=''\n",
    "for i in s:\n",
    "    if(i!=' '):\n",
    "        s1+=i\n",
    "print(\"Modiied String :\",s1)"
   ]
  },
  {
   "cell_type": "markdown",
   "id": "9d4a835b",
   "metadata": {},
   "source": [
    "#### 8. Find the length of a string without using the len() function."
   ]
  },
  {
   "cell_type": "code",
   "execution_count": 9,
   "id": "1bec72ba",
   "metadata": {},
   "outputs": [
    {
     "name": "stdout",
     "output_type": "stream",
     "text": [
      "String : dattebayo\n",
      "Length of the string : 9\n"
     ]
    }
   ],
   "source": [
    "s=input(\"String : \")\n",
    "c=0\n",
    "for i in s:\n",
    "    c+=1\n",
    "print(\"Length of the string :\",c)"
   ]
  },
  {
   "cell_type": "markdown",
   "id": "11ef1eda",
   "metadata": {},
   "source": [
    "#### 9. Check if a string contains a specific word."
   ]
  },
  {
   "cell_type": "code",
   "execution_count": 11,
   "id": "198fc735",
   "metadata": {},
   "outputs": [
    {
     "name": "stdout",
     "output_type": "stream",
     "text": [
      "Enter a string : my name is gojo\n",
      "Enter the word to be found : gojo\n",
      "Word is present in the string\n"
     ]
    }
   ],
   "source": [
    "s=input(\"Enter a string : \")\n",
    "s1=input(\"Enter the word to be found : \")\n",
    "if(s.find(s1)==-1):\n",
    "    print(\"Word not found\")\n",
    "else:\n",
    "    print(\"Word is present in the string\")"
   ]
  },
  {
   "cell_type": "markdown",
   "id": "348367a3",
   "metadata": {},
   "source": [
    "#### 10. Replace a word in a string with another word."
   ]
  },
  {
   "cell_type": "code",
   "execution_count": 12,
   "id": "1183cef0",
   "metadata": {},
   "outputs": [
    {
     "name": "stdout",
     "output_type": "stream",
     "text": [
      "Enter a string : Hello Oli\n",
      "Enter the word to be replaced : Oli\n",
      "Enter the word to replace with : Das\n",
      "Modified String : Hello Das\n"
     ]
    }
   ],
   "source": [
    "s=input(\"Enter a string : \")\n",
    "s1=input(\"Enter the word to be replaced : \")\n",
    "s2=input(\"Enter the word to replace with : \")\n",
    "print(\"Modified String :\",s.replace(s1,s2))"
   ]
  },
  {
   "cell_type": "markdown",
   "id": "25e76708",
   "metadata": {},
   "source": [
    "#### 11. Count the occurrences of a word in a string."
   ]
  },
  {
   "cell_type": "code",
   "execution_count": 16,
   "id": "e7001ced",
   "metadata": {},
   "outputs": [
    {
     "name": "stdout",
     "output_type": "stream",
     "text": [
      "String : Hi there, I am Oli. I live in Bangalore.\n",
      "Word : I\n",
      "I is repeated 2 times\n"
     ]
    }
   ],
   "source": [
    "s=input(\"String : \")\n",
    "w=input(\"Word : \")\n",
    "print(w, \"is repeated\", s.count(w), \"times\")"
   ]
  },
  {
   "cell_type": "markdown",
   "id": "4a3dacfc",
   "metadata": {},
   "source": [
    "#### 12. Find the first occurrence of a word in a string."
   ]
  },
  {
   "cell_type": "code",
   "execution_count": 18,
   "id": "0660d4a2",
   "metadata": {},
   "outputs": [
    {
     "name": "stdout",
     "output_type": "stream",
     "text": [
      "String : Uchiha Itachi, Uchiha Shishui, Uchiha Obito, Uchiha Madara, Uchiwa Sasooke\n",
      "Word : Uchiwa\n",
      "First occurence of Uchiwa = 60 position\n"
     ]
    }
   ],
   "source": [
    "s=input(\"String : \")\n",
    "w=input(\"Word : \")\n",
    "print(\"First occurence of\", w, \"=\", s.index(w), \"position\")"
   ]
  },
  {
   "cell_type": "markdown",
   "id": "2a8e3811",
   "metadata": {},
   "source": [
    "#### 13. Find the last occurrence of a word in a string."
   ]
  },
  {
   "cell_type": "code",
   "execution_count": 19,
   "id": "3a96f975",
   "metadata": {},
   "outputs": [
    {
     "name": "stdout",
     "output_type": "stream",
     "text": [
      "string : Uchiha Itachi, Uchiha Shishui, Uchiha Obito, Uchiha Madara, Uchiwa Sasooke\n",
      "Word : Uchiha\n",
      "Last occurence of Uchiha = 45 position\n"
     ]
    }
   ],
   "source": [
    "s=input(\"string : \")\n",
    "w=input(\"Word : \")\n",
    "print(\"Last occurence of\", w, \"=\", s.rindex(w), \"position\")"
   ]
  },
  {
   "cell_type": "markdown",
   "id": "d691f4c5",
   "metadata": {},
   "source": [
    "#### 14. Split a string into a list of words."
   ]
  },
  {
   "cell_type": "code",
   "execution_count": 20,
   "id": "d47a6dfe",
   "metadata": {},
   "outputs": [
    {
     "name": "stdout",
     "output_type": "stream",
     "text": [
      "ghost of the uchiha\n",
      "['ghost', 'of', 'the', 'uchiha']\n"
     ]
    }
   ],
   "source": [
    "s=input()\n",
    "l=s.split()\n",
    "print(l)"
   ]
  },
  {
   "cell_type": "markdown",
   "id": "a9164164",
   "metadata": {},
   "source": [
    "#### 15. Join a list of words into a string."
   ]
  },
  {
   "cell_type": "code",
   "execution_count": 21,
   "id": "3382213c",
   "metadata": {},
   "outputs": [
    {
     "name": "stdout",
     "output_type": "stream",
     "text": [
      "List of words : ['ghost', 'of', 'the', 'uchiha']\n",
      "String : ghostoftheuchiha\n"
     ]
    }
   ],
   "source": [
    "print(\"List of words :\", l)\n",
    "s=''\n",
    "print(\"String :\",s.join(l))"
   ]
  },
  {
   "cell_type": "markdown",
   "id": "cc1a0631",
   "metadata": {},
   "source": [
    "#### 16. Convert a string where words are separated by spaces to one where words are separated by underscores."
   ]
  },
  {
   "cell_type": "code",
   "execution_count": 22,
   "id": "16d10226",
   "metadata": {},
   "outputs": [
    {
     "name": "stdout",
     "output_type": "stream",
     "text": [
      "String : I want to eat your pancreas.\n",
      "modified string : I_want_to_eat_your_pancreas.\n"
     ]
    }
   ],
   "source": [
    "s=input(\"String : \")\n",
    "print(\"modified string :\",s.replace(' ','_'))"
   ]
  },
  {
   "cell_type": "markdown",
   "id": "827e1b2d",
   "metadata": {},
   "source": [
    "#### 17. Check if a string starts with a specific word or phrase."
   ]
  },
  {
   "cell_type": "code",
   "execution_count": 23,
   "id": "18846ff1",
   "metadata": {},
   "outputs": [
    {
     "name": "stdout",
     "output_type": "stream",
     "text": [
      "String : Elegance and Efficiency\n",
      "Word/Phrase : Elegance\n",
      "The string starts with the given word/phrase.\n"
     ]
    }
   ],
   "source": [
    "s=input(\"String : \")\n",
    "w=input(\"Word/Phrase : \")\n",
    "if(s.startswith(w)):\n",
    "    print(\"The string starts with the given word/phrase.\")\n",
    "else:\n",
    "    print(\"The string doesn't start with the given word/phrase.\")"
   ]
  },
  {
   "cell_type": "markdown",
   "id": "daeb04d0",
   "metadata": {},
   "source": [
    "#### 18. Check if a string ends with a specific word or phrase."
   ]
  },
  {
   "cell_type": "code",
   "execution_count": 24,
   "id": "9aea2d9d",
   "metadata": {},
   "outputs": [
    {
     "name": "stdout",
     "output_type": "stream",
     "text": [
      "String : Elegance and Efficiency\n",
      "Word/Phrase : and Efficiency\n",
      "The string ends with the given word/phrase.\n"
     ]
    }
   ],
   "source": [
    "s=input(\"String : \")\n",
    "w=input(\"Word/Phrase : \")\n",
    "if(s.endswith(w)):\n",
    "    print(\"The string ends with the given word/phrase.\")\n",
    "else:\n",
    "    print(\"The string doesn't end with the given word/phrase.\")"
   ]
  },
  {
   "cell_type": "markdown",
   "id": "a4ddbcca",
   "metadata": {},
   "source": [
    "#### 19. Convert a string to title case (e.g., \"hello world\" to \"Hello World\")."
   ]
  },
  {
   "cell_type": "code",
   "execution_count": 25,
   "id": "61b67be5",
   "metadata": {},
   "outputs": [
    {
     "name": "stdout",
     "output_type": "stream",
     "text": [
      "String : Seven wonders of the world.\n",
      "The string as a title : Seven Wonders Of The World.\n"
     ]
    }
   ],
   "source": [
    "s=input(\"String : \")\n",
    "print(\"The string as a title :\", s.title())"
   ]
  },
  {
   "cell_type": "markdown",
   "id": "53ad24f5",
   "metadata": {},
   "source": [
    "#### 20. Find the longest word in a string."
   ]
  },
  {
   "cell_type": "code",
   "execution_count": 26,
   "id": "0746b5c6",
   "metadata": {},
   "outputs": [
    {
     "name": "stdout",
     "output_type": "stream",
     "text": [
      "String : India has the largest population\n",
      "Longest word in the string : population\n"
     ]
    }
   ],
   "source": [
    "s=input(\"String : \")\n",
    "l=0\n",
    "w=''\n",
    "for i in s.split():\n",
    "    if(len(i)>l):\n",
    "        l=len(i)\n",
    "        w=i\n",
    "print(\"Longest word in the string :\",w)"
   ]
  },
  {
   "cell_type": "markdown",
   "id": "de00449b",
   "metadata": {},
   "source": [
    "#### 21. Find the shortest word in a string."
   ]
  },
  {
   "cell_type": "code",
   "execution_count": 2,
   "id": "0ba1f1f0",
   "metadata": {},
   "outputs": [
    {
     "name": "stdout",
     "output_type": "stream",
     "text": [
      "India has the largest population\n",
      "Shortest word in the string : has\n"
     ]
    }
   ],
   "source": [
    "s=input()\n",
    "w=''\n",
    "l=len(s)\n",
    "for i in s.split():\n",
    "    if(len(i)<l):\n",
    "        l=len(i)\n",
    "        w=i\n",
    "print(\"Shortest word in the string :\",w)"
   ]
  },
  {
   "cell_type": "markdown",
   "id": "e677070a",
   "metadata": {},
   "source": [
    "#### 22. Reverse the order of words in a string."
   ]
  },
  {
   "cell_type": "code",
   "execution_count": 8,
   "id": "2d9a5a38",
   "metadata": {},
   "outputs": [
    {
     "name": "stdout",
     "output_type": "stream",
     "text": [
      "String : It's raining cats and dog\n",
      "dog and cats raining It's "
     ]
    }
   ],
   "source": [
    "s=input(\"String : \")\n",
    "l=s.split()\n",
    "print()\n",
    "for i in range(len(l)-1,-1,-1):\n",
    "    print(l[i],end=' ')"
   ]
  },
  {
   "cell_type": "markdown",
   "id": "f26ffb72",
   "metadata": {},
   "source": [
    "#### 23. Check if a string is alphanumeric."
   ]
  },
  {
   "cell_type": "code",
   "execution_count": 11,
   "id": "42adf205",
   "metadata": {},
   "outputs": [
    {
     "name": "stdout",
     "output_type": "stream",
     "text": [
      "Sigma*99\n",
      "String isn't alphanumeric\n"
     ]
    }
   ],
   "source": [
    "s=input()\n",
    "if(s.isalnum()):\n",
    "    print(\"String is alphanumeric\")\n",
    "else:\n",
    "    print(\"String isn't alphanumeric\")"
   ]
  },
  {
   "cell_type": "markdown",
   "id": "efe7ca61",
   "metadata": {},
   "source": [
    "#### 24. Extract all digits from a string."
   ]
  },
  {
   "cell_type": "code",
   "execution_count": 29,
   "id": "7fcae26d",
   "metadata": {},
   "outputs": [
    {
     "name": "stdout",
     "output_type": "stream",
     "text": [
      "gFF65ghjhgj68DFLKJ76FGV\n",
      "Digits in the string : ['6', '5', '6', '8', '7', '6']\n"
     ]
    }
   ],
   "source": [
    "s=input()\n",
    "l=[]\n",
    "for i in s:\n",
    "    if i.isnumeric():\n",
    "        l.append(i)\n",
    "print(\"Digits in the string :\", l)"
   ]
  },
  {
   "cell_type": "markdown",
   "id": "8fc2f4af",
   "metadata": {},
   "source": [
    "#### 25. Extract all alphabets from a string."
   ]
  },
  {
   "cell_type": "code",
   "execution_count": 30,
   "id": "cedd6689",
   "metadata": {},
   "outputs": [
    {
     "name": "stdout",
     "output_type": "stream",
     "text": [
      "gFF65ghjhgj68DFLKJ76FGV\n",
      "Alphabets in the string : gFFghjhgjDFLKJFGV\n"
     ]
    }
   ],
   "source": [
    "s=input()\n",
    "s1=''\n",
    "for i in s:\n",
    "    if (i.isalpha()):\n",
    "        s1+=i\n",
    "print(\"Alphabets in the string :\",s1)"
   ]
  },
  {
   "cell_type": "markdown",
   "id": "b24702b3",
   "metadata": {},
   "source": [
    "#### 26. Count the number of uppercase letters in a string."
   ]
  },
  {
   "cell_type": "code",
   "execution_count": 27,
   "id": "44485215",
   "metadata": {},
   "outputs": [
    {
     "name": "stdout",
     "output_type": "stream",
     "text": [
      "gFF65ghjhgj68DFLKJ76FGV\n",
      "Number of uppercase letters in the string : 10\n"
     ]
    }
   ],
   "source": [
    "s=input()\n",
    "c=0\n",
    "for i in s:\n",
    "    if (i.isupper()):\n",
    "        c+=1\n",
    "print(\"Number of uppercase letters in the string :\",c)"
   ]
  },
  {
   "cell_type": "markdown",
   "id": "a9344c9c",
   "metadata": {},
   "source": [
    "#### 27. Count the number of lowercase letters in a string."
   ]
  },
  {
   "cell_type": "code",
   "execution_count": 28,
   "id": "203e3b74",
   "metadata": {},
   "outputs": [
    {
     "name": "stdout",
     "output_type": "stream",
     "text": [
      "gFF65ghjhgj68DFLKJ76FGV\n",
      "Number of lowercase letters in the string : 7\n"
     ]
    }
   ],
   "source": [
    "s=input()\n",
    "c=0\n",
    "for i in s:\n",
    "    if (i.islower()):\n",
    "        c+=1\n",
    "print(\"Number of lowercase letters in the string :\",c)"
   ]
  },
  {
   "cell_type": "markdown",
   "id": "31500e81",
   "metadata": {},
   "source": [
    "#### 28. Swap the case of each character in a string."
   ]
  },
  {
   "cell_type": "code",
   "execution_count": 132,
   "id": "f40833ec",
   "metadata": {},
   "outputs": [
    {
     "name": "stdout",
     "output_type": "stream",
     "text": [
      "HATAKE75668kakashi\n",
      "hatake75668KAKASHI\n"
     ]
    }
   ],
   "source": [
    "s=input()\n",
    "print(s.swapcase())"
   ]
  },
  {
   "cell_type": "markdown",
   "id": "9a6a76ef",
   "metadata": {},
   "source": [
    "#### 29. Remove a specific word from a string."
   ]
  },
  {
   "cell_type": "code",
   "execution_count": 33,
   "id": "b46c0026",
   "metadata": {},
   "outputs": [
    {
     "name": "stdout",
     "output_type": "stream",
     "text": [
      "String : We ain't here to hurt nobody.\n",
      "Word to be removed : here\n",
      "Modified String : We ain't to hurt nobody. "
     ]
    }
   ],
   "source": [
    "s=input(\"String : \")\n",
    "w=input(\"Word to be removed : \")\n",
    "print(\"Modified String :\", end=' ')\n",
    "for i in s.split():\n",
    "    if(i==w):\n",
    "        continue\n",
    "    else:\n",
    "        print(i,end=' ')"
   ]
  },
  {
   "cell_type": "markdown",
   "id": "9e271e8f",
   "metadata": {},
   "source": [
    "#### 30. Check if a string is a valid email address."
   ]
  },
  {
   "cell_type": "code",
   "execution_count": 44,
   "id": "b7a46128",
   "metadata": {},
   "outputs": [
    {
     "name": "stdout",
     "output_type": "stream",
     "text": [
      "Email : o.@gmailcom\n",
      "Not a valid email address\n"
     ]
    }
   ],
   "source": [
    "s=input(\"Email : \")\n",
    "if(s.find('@')):\n",
    "    if(s.rindex('.')>s.find('@')):\n",
    "        print(\"Valid email address\")\n",
    "    else:\n",
    "        print(\"Not a valid email address\")\n",
    "else:\n",
    "    print(\"Not a valid email address\")"
   ]
  },
  {
   "cell_type": "markdown",
   "id": "2b282926",
   "metadata": {},
   "source": [
    "#### 31. Extract the username from an email address string."
   ]
  },
  {
   "cell_type": "code",
   "execution_count": 49,
   "id": "5ebac94d",
   "metadata": {},
   "outputs": [
    {
     "name": "stdout",
     "output_type": "stream",
     "text": [
      "email ID : oli@gmail.com\n",
      "Username : oli\n"
     ]
    }
   ],
   "source": [
    "s=input(\"email ID : \")\n",
    "print(\"Username :\",s.split('@')[0])"
   ]
  },
  {
   "cell_type": "markdown",
   "id": "0b737a4c",
   "metadata": {},
   "source": [
    "#### 32. Extract the domain name from an email address string."
   ]
  },
  {
   "cell_type": "code",
   "execution_count": 50,
   "id": "41dbe68c",
   "metadata": {},
   "outputs": [
    {
     "name": "stdout",
     "output_type": "stream",
     "text": [
      "email ID : oli@gmail.com\n",
      "Domain Name : gmail.com\n"
     ]
    }
   ],
   "source": [
    "s=input(\"email ID : \")\n",
    "print(\"Domain Name :\",s.split('@')[1])"
   ]
  },
  {
   "cell_type": "markdown",
   "id": "97a890a7",
   "metadata": {},
   "source": [
    "#### 33. Replace multiple spaces in a string with a single space."
   ]
  },
  {
   "cell_type": "code",
   "execution_count": 57,
   "id": "bcee2e58",
   "metadata": {},
   "outputs": [
    {
     "name": "stdout",
     "output_type": "stream",
     "text": [
      "String : Twinkle,   Twinkle  Little Star .\n",
      "After removing extra spaces : Twinkle, Twinkle Little Star . \n"
     ]
    }
   ],
   "source": [
    "s=input(\"String : \")\n",
    "l=s.split(' ')\n",
    "s1=''\n",
    "for i in l:\n",
    "    if(i!=''):\n",
    "        s1+=i\n",
    "        s1+=' '\n",
    "print(\"After removing extra spaces :\", s1)"
   ]
  },
  {
   "cell_type": "markdown",
   "id": "6cb9ac9b",
   "metadata": {},
   "source": [
    "#### 34. Check if a string is a valid URL."
   ]
  },
  {
   "cell_type": "code",
   "execution_count": 112,
   "id": "e3f4bdec",
   "metadata": {},
   "outputs": [
    {
     "name": "stdout",
     "output_type": "stream",
     "text": [
      "URL : http://www.example.com\n",
      "Valid\n"
     ]
    }
   ],
   "source": [
    "s=input(\"URL : \")    #http://www.example.com\n",
    "if(s.find(\"://\")>0):\n",
    "    protocol = s.split(\"://\")[0]\n",
    "    if(protocol in (['https','http','ftp'])):\n",
    "        domain = s.split(\"://\")[1]\n",
    "        l=domain.split('.')\n",
    "        if(len(l)==3 and l[0]=='www' and l[2]=='com'):\n",
    "            print(\"Valid\")\n",
    "        else:\n",
    "            print(\"Invalid URL : Incorrect Domain\")\n",
    "    else:\n",
    "        print(\"Invalid URL : Incorrect Protocol\")\n",
    "else:\n",
    "    print(\"Invalid : Protocol not present\")"
   ]
  },
  {
   "cell_type": "markdown",
   "id": "f6ea6aad",
   "metadata": {},
   "source": [
    "#### 35. Extract the protocol (http or https) from a URL string."
   ]
  },
  {
   "cell_type": "code",
   "execution_count": 113,
   "id": "b60a8f09",
   "metadata": {},
   "outputs": [
    {
     "name": "stdout",
     "output_type": "stream",
     "text": [
      "URL : http://www.hubbabubba.com\n",
      "Protocol : http\n"
     ]
    }
   ],
   "source": [
    "u=input(\"URL : \")\n",
    "print(\"Protocol :\", u.split(\"://\")[0])"
   ]
  },
  {
   "cell_type": "markdown",
   "id": "f29d76f4",
   "metadata": {},
   "source": [
    "#### 36. Find the frequency of each character in a string."
   ]
  },
  {
   "cell_type": "code",
   "execution_count": 125,
   "id": "7c306df9",
   "metadata": {},
   "outputs": [
    {
     "name": "stdout",
     "output_type": "stream",
     "text": [
      "String : Would you like some coffee?\n",
      "Frequency of each character : \n",
      "('W', 1)\n",
      "('o', 4)\n",
      "('u', 2)\n",
      "('l', 2)\n",
      "('d', 1)\n",
      "(' ', 4)\n",
      "('y', 1)\n",
      "('i', 1)\n",
      "('k', 1)\n",
      "('e', 4)\n",
      "('s', 1)\n",
      "('m', 1)\n",
      "('c', 1)\n",
      "('f', 2)\n",
      "('?', 1)\n"
     ]
    }
   ],
   "source": [
    "s=input(\"String : \")\n",
    "c=0\n",
    "d={}\n",
    "for i in s:\n",
    "    c=s.count(i)\n",
    "    d[i]=c\n",
    "print(\"Frequency of each character : \")\n",
    "for i in d.items():\n",
    "    print(i)"
   ]
  },
  {
   "cell_type": "markdown",
   "id": "60d79946",
   "metadata": {},
   "source": [
    "#### 37. Remove all punctuation from a string."
   ]
  },
  {
   "cell_type": "code",
   "execution_count": 127,
   "id": "cb14292e",
   "metadata": {},
   "outputs": [
    {
     "name": "stdout",
     "output_type": "stream",
     "text": [
      "String : Hello!! I'm \"Naruto\". What's your name?\n",
      "String without any punctuations : Hello Im Naruto Whats your name\n"
     ]
    }
   ],
   "source": [
    "s=input(\"String : \")\n",
    "punctuations = ['.','?','\"',\"'\",',','-','–','—','!',':',';','(',')','[',']','...','/']\n",
    "s1=''\n",
    "for i in s:\n",
    "    if(i not in punctuations):\n",
    "        s1+=i\n",
    "print(\"String without any punctuations :\", s1)"
   ]
  },
  {
   "cell_type": "markdown",
   "id": "629ff0c4",
   "metadata": {},
   "source": [
    "#### 38. Check if a string contains only digits."
   ]
  },
  {
   "cell_type": "code",
   "execution_count": 135,
   "id": "da9344cf",
   "metadata": {},
   "outputs": [
    {
     "name": "stdout",
     "output_type": "stream",
     "text": [
      "String : 3idiots\n",
      "String doesn't contain only digits\n"
     ]
    }
   ],
   "source": [
    "s=input(\"String : \")\n",
    "if(s.isnumeric()):\n",
    "    print(\"String contains only digits\")\n",
    "else:\n",
    "    print(\"String doesn't contain only digits\")"
   ]
  },
  {
   "cell_type": "markdown",
   "id": "8254c19f",
   "metadata": {},
   "source": [
    "#### 39. Check if a string contains only alphabets."
   ]
  },
  {
   "cell_type": "code",
   "execution_count": 139,
   "id": "ab7ef5ab",
   "metadata": {},
   "outputs": [
    {
     "name": "stdout",
     "output_type": "stream",
     "text": [
      "String : 3idiots\n",
      "String doesn't contain only alphabets\n"
     ]
    }
   ],
   "source": [
    "s=input(\"String : \")\n",
    "if(s.isalpha()):\n",
    "    print(\"String contains only alphabets\")\n",
    "else:\n",
    "    print(\"String doesn't contain only alphabets\")"
   ]
  },
  {
   "cell_type": "markdown",
   "id": "5d77afcd",
   "metadata": {},
   "source": [
    "#### 40. Convert a string to a list of characters."
   ]
  },
  {
   "cell_type": "code",
   "execution_count": 142,
   "id": "d7f1564e",
   "metadata": {},
   "outputs": [
    {
     "name": "stdout",
     "output_type": "stream",
     "text": [
      "String : 5 nights at Freddy's\n",
      "List of characters : ['5', ' ', 'n', 'i', 'g', 'h', 't', 's', ' ', 'a', 't', ' ', 'F', 'r', 'e', 'd', 'd', 'y', \"'\", 's']\n"
     ]
    }
   ],
   "source": [
    "s=input(\"String : \")\n",
    "print('List of characters :',list(s))"
   ]
  },
  {
   "cell_type": "markdown",
   "id": "cb9fac50",
   "metadata": {},
   "source": [
    "#### 41. Check if two strings are anagrams."
   ]
  },
  {
   "cell_type": "code",
   "execution_count": 148,
   "id": "cd8a6656",
   "metadata": {},
   "outputs": [
    {
     "name": "stdout",
     "output_type": "stream",
     "text": [
      "String 1 : Male\n",
      "String 2 : Lame\n",
      "The strings are anagrams\n"
     ]
    }
   ],
   "source": [
    "s1=input(\"String 1 : \")\n",
    "s2=input(\"String 2 : \")\n",
    "if(sorted(s1.lower())==sorted(s2.lower())):\n",
    "    print(\"The strings are anagrams\")\n",
    "else:\n",
    "    print(\"The strings aren't anagrams\")"
   ]
  },
  {
   "cell_type": "markdown",
   "id": "cd361953",
   "metadata": {},
   "source": [
    "#### 42. Encode a string using a Caesar cipher."
   ]
  },
  {
   "cell_type": "code",
   "execution_count": 53,
   "id": "6f184be3",
   "metadata": {},
   "outputs": [
    {
     "name": "stdout",
     "output_type": "stream",
     "text": [
      "String : Wingardium Leviosa\n",
      "Enter shift : 4\n",
      "Encoded String : Amrkevhmyq Pizmswe\n"
     ]
    }
   ],
   "source": [
    "s=input(\"String : \")\n",
    "shift=int(input(\"Enter shift : \"))\n",
    "s1=''\n",
    "for i in s:\n",
    "    asc=ord(i)\n",
    "    if(i.isalpha() and i.isupper()):\n",
    "        s1+= chr((asc+shift-65)%26+65)\n",
    "    elif(i.isalpha() and i.islower()):\n",
    "        s1+= chr((asc+shift-97)%26+97)\n",
    "    else:\n",
    "        s1+=i\n",
    "print(\"Encoded String :\",s1)"
   ]
  },
  {
   "cell_type": "markdown",
   "id": "2a8930e6",
   "metadata": {},
   "source": [
    "#### 43. Decode a Caesar cipher encoded string."
   ]
  },
  {
   "cell_type": "code",
   "execution_count": 54,
   "id": "cd23e5b6",
   "metadata": {},
   "outputs": [
    {
     "name": "stdout",
     "output_type": "stream",
     "text": [
      "String : Amrkevhmyq Pizmswe\n",
      "Enter shift : 4\n",
      "Encoded String : Wingardium Leviosa\n"
     ]
    }
   ],
   "source": [
    "s=input(\"String : \")\n",
    "shift=int(input(\"Enter shift : \"))\n",
    "s1=''\n",
    "for i in s:\n",
    "    asc=ord(i)\n",
    "    if(i.isalpha() and i.isupper()):\n",
    "        s1+= chr((asc+26-shift-65)%26+65)\n",
    "    elif(i.isalpha() and i.islower()):\n",
    "        s1+= chr((asc+26-shift-97)%26+97)\n",
    "    else:\n",
    "        s1+=i\n",
    "print(\"Encoded String :\",s1)"
   ]
  },
  {
   "cell_type": "markdown",
   "id": "1fcd68d9",
   "metadata": {},
   "source": [
    "#### 44. Find the most frequent word in a string."
   ]
  },
  {
   "cell_type": "code",
   "execution_count": 5,
   "id": "cba90591",
   "metadata": {},
   "outputs": [
    {
     "name": "stdout",
     "output_type": "stream",
     "text": [
      "String : twinkle twinkle little star\n",
      "Most frequent word : twinkle\n"
     ]
    }
   ],
   "source": [
    "s=input(\"String : \")\n",
    "l=s.split()\n",
    "d={}\n",
    "for i in l:\n",
    "    d[i]=l.count(i)\n",
    "print(\"Most frequent word :\",sorted(d)[::-1][0])"
   ]
  },
  {
   "cell_type": "markdown",
   "id": "7b7b6b04",
   "metadata": {},
   "source": [
    "#### 45. Find all unique words in a string."
   ]
  },
  {
   "cell_type": "code",
   "execution_count": 10,
   "id": "c950db42",
   "metadata": {},
   "outputs": [
    {
     "name": "stdout",
     "output_type": "stream",
     "text": [
      "String : baa baa black sheep, have you any wool? yes sir yes sir three bags full.\n",
      "Unique words : ['sheep,', 'yes', 'any', 'bags', 'three', 'black', 'wool?', 'full.', 'you', 'baa', 'have', 'sir']\n"
     ]
    }
   ],
   "source": [
    "s=input(\"String : \")\n",
    "unq=set(s.split())\n",
    "print(\"Unique words :\",list(unq))"
   ]
  },
  {
   "cell_type": "markdown",
   "id": "2f0ac600",
   "metadata": {},
   "source": [
    "#### 46. Count the number of syllables in a string."
   ]
  },
  {
   "cell_type": "code",
   "execution_count": 22,
   "id": "b2e5656f",
   "metadata": {},
   "outputs": [
    {
     "name": "stdout",
     "output_type": "stream",
     "text": [
      "String : Hey there\n",
      "Syllables in the string :- \n",
      "Hey = 2\n",
      "there = 2\n"
     ]
    }
   ],
   "source": [
    "s=input(\"String : \")\n",
    "l=s.split()\n",
    "c=0\n",
    "print(\"Syllables in the string :- \")\n",
    "for i in l:\n",
    "    c=0\n",
    "    for j in i.upper():\n",
    "        if(j in \"AEIOUY\"):\n",
    "            c+=1\n",
    "    print(i,'=',c)"
   ]
  },
  {
   "cell_type": "markdown",
   "id": "38a8cd08",
   "metadata": {},
   "source": [
    "#### 47. Check if a string contains any special characters."
   ]
  },
  {
   "cell_type": "code",
   "execution_count": 25,
   "id": "369ab8ba",
   "metadata": {},
   "outputs": [
    {
     "name": "stdout",
     "output_type": "stream",
     "text": [
      "String : Attack on Titans\n",
      "The string has special characters\n"
     ]
    }
   ],
   "source": [
    "s=input(\"String : \")\n",
    "if(s.isalnum()):\n",
    "    print(\"The string has no special characters\")\n",
    "else:\n",
    "    print(\"The string has special characters\")"
   ]
  },
  {
   "cell_type": "markdown",
   "id": "5a8feb5c",
   "metadata": {},
   "source": [
    "#### 48. Remove the nth word from a string."
   ]
  },
  {
   "cell_type": "code",
   "execution_count": 31,
   "id": "30279bf1",
   "metadata": {},
   "outputs": [
    {
     "name": "stdout",
     "output_type": "stream",
     "text": [
      "String : Remove the nth word from a string\n",
      "Position to remove word from : 2\n",
      "Modified String : Remove the  word from a string\n"
     ]
    }
   ],
   "source": [
    "s=input(\"String : \")\n",
    "pos = int(input(\"Position to remove word from : \"))\n",
    "word=s.split()[pos]\n",
    "print(\"Modified String :\",s.replace(word,\"\"))"
   ]
  },
  {
   "cell_type": "markdown",
   "id": "b9f66843",
   "metadata": {},
   "source": [
    "#### 49. Insert a word at the nth position in a string."
   ]
  },
  {
   "cell_type": "code",
   "execution_count": 38,
   "id": "cc873960",
   "metadata": {},
   "outputs": [
    {
     "name": "stdout",
     "output_type": "stream",
     "text": [
      "String : Would you some tea?\n",
      "Enter the word to be inserted : like\n",
      "Enter the position : 2\n",
      "Modified string : Would you like some tea?\n"
     ]
    }
   ],
   "source": [
    "s=input(\"String : \")\n",
    "word=input(\"Enter the word to be inserted : \")\n",
    "pos=int(input(\"Enter the position : \"))          #assuming index starting from 0\n",
    "l=s.split()\n",
    "l.insert(pos,word)\n",
    "s1=\" \"\n",
    "print(\"Modified string :\",s1.join(l))"
   ]
  },
  {
   "cell_type": "markdown",
   "id": "d7931f3c",
   "metadata": {},
   "source": [
    "#### 50. Convert a CSV string to a list of lists."
   ]
  },
  {
   "cell_type": "code",
   "execution_count": 44,
   "id": "325d2870",
   "metadata": {},
   "outputs": [
    {
     "name": "stdout",
     "output_type": "stream",
     "text": [
      "Enter a CSV string : this, is a, comma, separated value, string.\n"
     ]
    },
    {
     "data": {
      "text/plain": [
       "[['this'], ['is a'], ['comma'], ['separated value'], ['string.']]"
      ]
     },
     "execution_count": 44,
     "metadata": {},
     "output_type": "execute_result"
    }
   ],
   "source": [
    "s=input(\"Enter a CSV string : \")\n",
    "l=s.split(', ')\n",
    "l1=[]\n",
    "for i in l:\n",
    "    l1.append([i])\n",
    "print()"
   ]
  },
  {
   "cell_type": "markdown",
   "id": "74e6aff7",
   "metadata": {},
   "source": [
    "## List Based Practice Problem"
   ]
  },
  {
   "cell_type": "markdown",
   "id": "ff9f5f3c",
   "metadata": {},
   "source": [
    "#### 1. Create a list with integers from 1 to 10."
   ]
  },
  {
   "cell_type": "code",
   "execution_count": 47,
   "id": "be5ab1ac",
   "metadata": {},
   "outputs": [
    {
     "name": "stdout",
     "output_type": "stream",
     "text": [
      "List with integers from 1 to 10 :\n",
      "[1, 2, 3, 4, 5, 6, 7, 8, 9, 10]\n"
     ]
    }
   ],
   "source": [
    "l=[]\n",
    "print(\"List with integers from 1 to 10 :\")\n",
    "for i in range(1,11):\n",
    "    l.append(i)\n",
    "print(l)"
   ]
  },
  {
   "cell_type": "markdown",
   "id": "7f72bc57",
   "metadata": {},
   "source": [
    "#### 2. Find the length of a list without using the len() function."
   ]
  },
  {
   "cell_type": "code",
   "execution_count": 51,
   "id": "0a73aa51",
   "metadata": {},
   "outputs": [
    {
     "name": "stdout",
     "output_type": "stream",
     "text": [
      "List : [5, 'a', True, 3.14]\n",
      "Length of the list = 4\n"
     ]
    }
   ],
   "source": [
    "l=[5,'a',True,3.14]\n",
    "print(\"List :\",l)\n",
    "c=0\n",
    "for i in l:\n",
    "    c+=1\n",
    "print(\"Length of the list =\",c)"
   ]
  },
  {
   "cell_type": "markdown",
   "id": "84808bb1",
   "metadata": {},
   "source": [
    "#### 3. Append an element to the end of a list."
   ]
  },
  {
   "cell_type": "code",
   "execution_count": 54,
   "id": "0a4b1d15",
   "metadata": {},
   "outputs": [
    {
     "name": "stdout",
     "output_type": "stream",
     "text": [
      "List : [5, 'a', True, 3.14]\n",
      "Element to be appended : b\n",
      "Modified List : [5, 'a', True, 3.14, 'b']\n"
     ]
    }
   ],
   "source": [
    "l=[5,'a',True,3.14]\n",
    "print(\"List :\",l)\n",
    "x=input(\"Element to be appended : \")\n",
    "l.append(x)\n",
    "print(\"Modified List :\",l)"
   ]
  },
  {
   "cell_type": "markdown",
   "id": "a624197b",
   "metadata": {},
   "source": [
    "#### 4. Insert an element at a specific index in a list."
   ]
  },
  {
   "cell_type": "code",
   "execution_count": 55,
   "id": "7e0f0b78",
   "metadata": {},
   "outputs": [
    {
     "name": "stdout",
     "output_type": "stream",
     "text": [
      "List : [5, 'a', True, 3.14]\n",
      "Element to be inserted : b\n",
      "Position : 2\n",
      "Modified List : [5, 'a', 'b', True, 3.14]\n"
     ]
    }
   ],
   "source": [
    "l=[5,'a',True,3.14]\n",
    "print(\"List :\",l)\n",
    "ele=input(\"Element to be inserted : \")\n",
    "pos=int(input(\"Position : \"))\n",
    "l.insert(pos,ele)\n",
    "print(\"Modified List :\",l)"
   ]
  },
  {
   "cell_type": "markdown",
   "id": "9bb4ce84",
   "metadata": {},
   "source": [
    "#### 5. Remove an element from a list by its value."
   ]
  },
  {
   "cell_type": "code",
   "execution_count": 59,
   "id": "06e3e73d",
   "metadata": {},
   "outputs": [
    {
     "name": "stdout",
     "output_type": "stream",
     "text": [
      "List : [5, 'a', True, 3.14]\n",
      "Element to be removed : a\n",
      "Modified list : [5, True, 3.14]\n"
     ]
    }
   ],
   "source": [
    "l=[5,'a',True,3.14]\n",
    "print(\"List :\",l)\n",
    "ele=input(\"Element to be removed : \")\n",
    "l.remove(ele)\n",
    "print(\"Modified list :\",l)"
   ]
  },
  {
   "cell_type": "markdown",
   "id": "13cc000e",
   "metadata": {},
   "source": [
    "#### 6. Remove an element from a list by its index."
   ]
  },
  {
   "cell_type": "code",
   "execution_count": 60,
   "id": "7679f0f9",
   "metadata": {},
   "outputs": [
    {
     "name": "stdout",
     "output_type": "stream",
     "text": [
      "List : [5, 'a', True, 3.14]\n",
      "Position to remove element from : 1\n",
      "Modified list : [5, True, 3.14]\n"
     ]
    }
   ],
   "source": [
    "l=[5,'a',True,3.14]\n",
    "print(\"List :\",l)\n",
    "pos=int(input(\"Position to remove element from : \"))\n",
    "l.remove(l[pos])\n",
    "print(\"Modified list :\",l)"
   ]
  },
  {
   "cell_type": "markdown",
   "id": "f0c135a3",
   "metadata": {},
   "source": [
    "#### 7. Check if an element exists in a list."
   ]
  },
  {
   "cell_type": "code",
   "execution_count": 69,
   "id": "a3efdd4a",
   "metadata": {},
   "outputs": [
    {
     "name": "stdout",
     "output_type": "stream",
     "text": [
      "List : [5, 'a', True, 3.14]\n",
      "Element to be found : b\n",
      "Element doesn't exist in list\n"
     ]
    }
   ],
   "source": [
    "l=[5,'a',True,3.14]\n",
    "print(\"List :\",l)\n",
    "e=input(\"Element to be found : \")\n",
    "if e in l:\n",
    "    print(\"Element exists in list\")\n",
    "else:\n",
    "    print(\"Element doesn't exist in list\")"
   ]
  },
  {
   "cell_type": "markdown",
   "id": "26653318",
   "metadata": {},
   "source": [
    "#### 8. Find the index of the first occurrence of an element in a list."
   ]
  },
  {
   "cell_type": "code",
   "execution_count": 72,
   "id": "8055fc7e",
   "metadata": {},
   "outputs": [
    {
     "name": "stdout",
     "output_type": "stream",
     "text": [
      "List : [4, 8, 2, 4, 8, 2, 0, 1, 5, 7, 5]\n",
      "Element : 5\n",
      "First index of 5 = 8\n"
     ]
    }
   ],
   "source": [
    "l=[4,8,2,4,8,2,0,1,5,7,5]\n",
    "print(\"List :\",l)\n",
    "e=int(input((\"Element : \")))\n",
    "print(\"First index of\",e,\"=\",l.index(e))"
   ]
  },
  {
   "cell_type": "markdown",
   "id": "a966cf67",
   "metadata": {},
   "source": [
    "#### 9. Count the occurrences of an element in a list."
   ]
  },
  {
   "cell_type": "code",
   "execution_count": 73,
   "id": "d6ebc2b9",
   "metadata": {},
   "outputs": [
    {
     "name": "stdout",
     "output_type": "stream",
     "text": [
      "List : [4, 8, 2, 4, 8, 2, 0, 1, 5, 7, 5]\n",
      "Element : 5\n",
      "Occurrences of 5 = 2\n"
     ]
    }
   ],
   "source": [
    "l=[4,8,2,4,8,2,0,1,5,7,5]\n",
    "print(\"List :\",l)\n",
    "e=int(input((\"Element : \")))\n",
    "print(\"Occurrences of\",e,\"=\",l.count(e))"
   ]
  },
  {
   "cell_type": "markdown",
   "id": "41d2d8a3",
   "metadata": {},
   "source": [
    "#### 10. Reverse the order of elements in a list."
   ]
  },
  {
   "cell_type": "code",
   "execution_count": 74,
   "id": "074a722c",
   "metadata": {},
   "outputs": [
    {
     "name": "stdout",
     "output_type": "stream",
     "text": [
      "List : [4, 8, 2, 4, 8, 2, 0, 1, 5, 7, 5]\n",
      "Reversed list : [5, 7, 5, 1, 0, 2, 8, 4, 2, 8, 4]\n"
     ]
    }
   ],
   "source": [
    "l=[4,8,2,4,8,2,0,1,5,7,5]\n",
    "print(\"List :\",l)\n",
    "print(\"Reversed list :\",l[::-1])"
   ]
  },
  {
   "cell_type": "markdown",
   "id": "94961c87",
   "metadata": {},
   "source": [
    "#### 11. Sort a list in ascending order."
   ]
  },
  {
   "cell_type": "code",
   "execution_count": 81,
   "id": "878f646d",
   "metadata": {},
   "outputs": [
    {
     "name": "stdout",
     "output_type": "stream",
     "text": [
      "List : [4, 8, 2, 4, 8, 2, 0, 1, 5, 7, 5]\n",
      "Sorted List (ascending) : [0, 1, 2, 2, 4, 4, 5, 5, 7, 8, 8]\n"
     ]
    }
   ],
   "source": [
    "l=[4,8,2,4,8,2,0,1,5,7,5]\n",
    "print(\"List :\",l)\n",
    "l.sort()\n",
    "print(\"Sorted List (ascending) :\",l)"
   ]
  },
  {
   "cell_type": "markdown",
   "id": "0690c6ea",
   "metadata": {},
   "source": [
    "#### 12. Sort a list in descending order."
   ]
  },
  {
   "cell_type": "code",
   "execution_count": 82,
   "id": "6c45c92b",
   "metadata": {},
   "outputs": [
    {
     "name": "stdout",
     "output_type": "stream",
     "text": [
      "List : [4, 8, 2, 4, 8, 2, 0, 1, 5, 7, 5]\n",
      "Sorted List (descending) : [8, 8, 7, 5, 5, 4, 4, 2, 2, 1, 0]\n"
     ]
    }
   ],
   "source": [
    "l=[4,8,2,4,8,2,0,1,5,7,5]\n",
    "print(\"List :\",l)\n",
    "l.sort(reverse=True)\n",
    "print(\"Sorted List (descending) :\",l)"
   ]
  },
  {
   "cell_type": "markdown",
   "id": "9b5891ef",
   "metadata": {},
   "source": [
    "#### 13. Create a list of even numbers from 1 to 20."
   ]
  },
  {
   "cell_type": "code",
   "execution_count": 84,
   "id": "fcc36bd0",
   "metadata": {},
   "outputs": [
    {
     "name": "stdout",
     "output_type": "stream",
     "text": [
      "List : [2, 4, 6, 8, 10, 12, 14, 16, 18, 20]\n"
     ]
    }
   ],
   "source": [
    "l=[]\n",
    "for i in range(2,21,2):\n",
    "    l.append(i)\n",
    "print(\"List :\",l)"
   ]
  },
  {
   "cell_type": "markdown",
   "id": "c1343c32",
   "metadata": {},
   "source": [
    "#### 14. Create a list of odd numbers from 1 to 20."
   ]
  },
  {
   "cell_type": "code",
   "execution_count": 85,
   "id": "b7abdbe2",
   "metadata": {},
   "outputs": [
    {
     "name": "stdout",
     "output_type": "stream",
     "text": [
      "List : [1, 3, 5, 7, 9, 11, 13, 15, 17, 19]\n"
     ]
    }
   ],
   "source": [
    "l=[]\n",
    "for i in range(1,21,2):\n",
    "    l.append(i)\n",
    "print(\"List :\",l)"
   ]
  },
  {
   "cell_type": "markdown",
   "id": "46f7d385",
   "metadata": {},
   "source": [
    "#### 15. Find the sum of all elements in a list."
   ]
  },
  {
   "cell_type": "code",
   "execution_count": 86,
   "id": "eb6a08e4",
   "metadata": {},
   "outputs": [
    {
     "name": "stdout",
     "output_type": "stream",
     "text": [
      "List : [4, 8, 2, 4, 8, 2, 0, 1, 5, 7, 5]\n",
      "Sum of elements in the list : 46\n"
     ]
    }
   ],
   "source": [
    "l=[4,8,2,4,8,2,0,1,5,7,5]\n",
    "print(\"List :\",l)\n",
    "s=0\n",
    "for i in l:\n",
    "    s+=i\n",
    "print(\"Sum of elements in the list :\",s)"
   ]
  },
  {
   "cell_type": "markdown",
   "id": "fc151315",
   "metadata": {},
   "source": [
    "#### 16. Find the maximum value in a list."
   ]
  },
  {
   "cell_type": "code",
   "execution_count": 88,
   "id": "c27848f7",
   "metadata": {},
   "outputs": [
    {
     "name": "stdout",
     "output_type": "stream",
     "text": [
      "List : [4, 8, 2, 4, 8, 2, 0, 1, 5, 7, 5]\n",
      "Maximum value in the list = 8\n"
     ]
    }
   ],
   "source": [
    "l=[4,8,2,4,8,2,0,1,5,7,5]\n",
    "print(\"List :\",l)\n",
    "print(\"Maximum value in the list =\",max(l))"
   ]
  },
  {
   "cell_type": "markdown",
   "id": "81039c12",
   "metadata": {},
   "source": [
    "#### 17. Find the minimum value in a list."
   ]
  },
  {
   "cell_type": "code",
   "execution_count": 89,
   "id": "b1b4805b",
   "metadata": {},
   "outputs": [
    {
     "name": "stdout",
     "output_type": "stream",
     "text": [
      "List : [4, 8, 2, 4, 8, 2, 0, 1, 5, 7, 5]\n",
      "Maximum value in the list = 0\n"
     ]
    }
   ],
   "source": [
    "l=[4,8,2,4,8,2,0,1,5,7,5]\n",
    "print(\"List :\",l)\n",
    "print(\"Maximum value in the list =\",min(l))"
   ]
  },
  {
   "cell_type": "markdown",
   "id": "897edd53",
   "metadata": {},
   "source": [
    "#### 18. Create a list of squares of numbers from 1 to 10."
   ]
  },
  {
   "cell_type": "code",
   "execution_count": 92,
   "id": "6274983c",
   "metadata": {},
   "outputs": [
    {
     "name": "stdout",
     "output_type": "stream",
     "text": [
      "List : [1, 4, 9, 16, 25, 36, 49, 64, 81, 100]\n"
     ]
    }
   ],
   "source": [
    "l=[]\n",
    "for i in range(1,11):\n",
    "    l.append(i**2)\n",
    "print(\"List :\",l)"
   ]
  },
  {
   "cell_type": "markdown",
   "id": "01728ca0",
   "metadata": {},
   "source": [
    "#### 19. Create a list of random numbers."
   ]
  },
  {
   "cell_type": "code",
   "execution_count": 97,
   "id": "f2a194c0",
   "metadata": {},
   "outputs": [
    {
     "name": "stdout",
     "output_type": "stream",
     "text": [
      "Enter no. of elements for the list : 15\n",
      "List of random numbers : [92, 96, 5, 64, 100, 22, 51, 62, 0, 62, 17, 52, 96, 79, 96]\n"
     ]
    }
   ],
   "source": [
    "import random\n",
    "l=[]\n",
    "n=int(input(\"Enter no. of elements for the list : \"))\n",
    "for i in range(n):\n",
    "    l.append(random.randint(0,100))\n",
    "print(\"List of random numbers :\",l)"
   ]
  },
  {
   "cell_type": "markdown",
   "id": "ffef384a",
   "metadata": {},
   "source": [
    "#### 20. Remove duplicates from a list."
   ]
  },
  {
   "cell_type": "code",
   "execution_count": 98,
   "id": "ed0d3db7",
   "metadata": {},
   "outputs": [
    {
     "name": "stdout",
     "output_type": "stream",
     "text": [
      "List : [4, 8, 2, 4, 8, 2, 0, 1, 5, 7, 5]\n",
      "List without duplicate elements : [0, 1, 2, 4, 5, 7, 8]\n"
     ]
    }
   ],
   "source": [
    "l=[4,8,2,4,8,2,0,1,5,7,5]\n",
    "print(\"List :\",l)\n",
    "s=set(l)\n",
    "print(\"List without duplicate elements :\",list(s))"
   ]
  },
  {
   "cell_type": "markdown",
   "id": "8d7179a3",
   "metadata": {},
   "source": [
    "#### 21. Find the common elements between two lists."
   ]
  },
  {
   "cell_type": "code",
   "execution_count": 108,
   "id": "f2e3ac45",
   "metadata": {},
   "outputs": [
    {
     "name": "stdout",
     "output_type": "stream",
     "text": [
      "List 1 : [4, 8, 2, 4, 8, 2, 0, 1, 5, 7, 5]\n",
      "List 2 : [7, 2, 3, 0, 9, 3, 6, 5, 8, 7, 6]\n",
      "Common elements btwn two list : {0, 2, 5, 7, 8}\n"
     ]
    }
   ],
   "source": [
    "l1=[4,8,2,4,8,2,0,1,5,7,5]\n",
    "print(\"List 1 :\",l1)\n",
    "l2=[7,2,3,0,9,3,6,5,8,7,6]\n",
    "print(\"List 2 :\",l2)\n",
    "l3=[]\n",
    "for i in l1:\n",
    "     if i in l2:\n",
    "            l3.append(i)\n",
    "print(\"Common elements btwn two list :\",set(l3))"
   ]
  },
  {
   "cell_type": "markdown",
   "id": "8c50b514",
   "metadata": {},
   "source": [
    "#### 22. Find the difference between two lists."
   ]
  },
  {
   "cell_type": "code",
   "execution_count": 110,
   "id": "970d33f1",
   "metadata": {},
   "outputs": [
    {
     "name": "stdout",
     "output_type": "stream",
     "text": [
      "List 1 : [4, 8, 2, 4, 8, 2, 0, 1, 5, 7, 5]\n",
      "List 2 : [7, 2, 3, 0, 9, 3, 6, 5, 8, 7, 6]\n",
      "Difference between 2 lists : {0, 1, 2, 4, 5, 7, 8}\n"
     ]
    }
   ],
   "source": [
    "l1=[4,8,2,4,8,2,0,1,5,7,5]\n",
    "print(\"List 1 :\",l1)\n",
    "l2=[7,2,3,0,9,3,6,5,8,7,6]\n",
    "print(\"List 2 :\",l2)\n",
    "for i in l1:\n",
    "    if i not in l2:\n",
    "        l3.append(i)\n",
    "print(\"Difference between 2 lists :\",set(l3))"
   ]
  },
  {
   "cell_type": "markdown",
   "id": "5a2039ea",
   "metadata": {},
   "source": [
    "#### 23. Merge two lists."
   ]
  },
  {
   "cell_type": "code",
   "execution_count": 112,
   "id": "03096807",
   "metadata": {},
   "outputs": [
    {
     "name": "stdout",
     "output_type": "stream",
     "text": [
      "List 1 : [4, 8, 2, 4, 8, 2, 0, 1, 5, 7, 5]\n",
      "List 2 : [7, 2, 3, 0, 9, 3, 6, 5, 8, 7, 6]\n",
      "Merged list : [4, 8, 2, 4, 8, 2, 0, 1, 5, 7, 5, 7, 2, 3, 0, 9, 3, 6, 5, 8, 7, 6]\n"
     ]
    }
   ],
   "source": [
    "l1=[4,8,2,4,8,2,0,1,5,7,5]\n",
    "print(\"List 1 :\",l1)\n",
    "l2=[7,2,3,0,9,3,6,5,8,7,6]\n",
    "print(\"List 2 :\",l2)\n",
    "l3=l1+l2\n",
    "print(\"Merged list :\",l3)"
   ]
  },
  {
   "cell_type": "markdown",
   "id": "05883888",
   "metadata": {},
   "source": [
    "#### 24. Multiply all elements in a list by 2."
   ]
  },
  {
   "cell_type": "code",
   "execution_count": 113,
   "id": "a6c5d1ba",
   "metadata": {},
   "outputs": [
    {
     "name": "stdout",
     "output_type": "stream",
     "text": [
      "Modified list : [6, 8, 16, 14, 18, 12]\n"
     ]
    }
   ],
   "source": [
    "l=[3,4,8,7,9,6]\n",
    "for i in range(len(l)):\n",
    "    l[i]=l[i]*2\n",
    "print(\"Modified list :\",l)\n",
    "    "
   ]
  },
  {
   "cell_type": "markdown",
   "id": "e433fd89",
   "metadata": {},
   "source": [
    "#### 25. Filter out all even numbers from a list."
   ]
  },
  {
   "cell_type": "code",
   "execution_count": 116,
   "id": "69b3b4fc",
   "metadata": {},
   "outputs": [
    {
     "name": "stdout",
     "output_type": "stream",
     "text": [
      "Even numbers in the list :\n",
      "4\n",
      "8\n",
      "6\n"
     ]
    }
   ],
   "source": [
    "l=[3,4,8,7,9,6]\n",
    "print(\"Even numbers in the list :\")\n",
    "for i in l:\n",
    "    if(i%2==0):\n",
    "        print(i)"
   ]
  },
  {
   "cell_type": "markdown",
   "id": "affc2811",
   "metadata": {},
   "source": [
    "#### 26. Convert a list of strings to a list of integers."
   ]
  },
  {
   "cell_type": "code",
   "execution_count": 118,
   "id": "0a486d8c",
   "metadata": {},
   "outputs": [
    {
     "name": "stdout",
     "output_type": "stream",
     "text": [
      "List of strings : ['2', '8', '5', '1', '9', '4']\n",
      "List of integers : [2, 8, 5, 1, 9, 4]\n"
     ]
    }
   ],
   "source": [
    "l=['2','8','5','1','9','4']\n",
    "print(\"List of strings :\",l)\n",
    "for i in range(len(l)):\n",
    "    l[i]=int(l[i])\n",
    "print(\"List of integers :\",l)"
   ]
  },
  {
   "cell_type": "markdown",
   "id": "15882ab4",
   "metadata": {},
   "source": [
    "#### 27. Convert a list of integers to a list of strings."
   ]
  },
  {
   "cell_type": "code",
   "execution_count": 121,
   "id": "360925a6",
   "metadata": {},
   "outputs": [
    {
     "name": "stdout",
     "output_type": "stream",
     "text": [
      "List of integers : [2, 8, 5, 1, 9, 4]\n",
      "List of strings : ['2', '8', '5', '1', '9', '4']\n"
     ]
    }
   ],
   "source": [
    "l=[2, 8, 5, 1, 9, 4]\n",
    "print(\"List of integers :\",l)\n",
    "for i in range(len(l)):\n",
    "    l[i]=str(l[i])\n",
    "print(\"List of strings :\",l)"
   ]
  },
  {
   "cell_type": "markdown",
   "id": "a941c6af",
   "metadata": {},
   "source": [
    "#### 28. Flatten a nested list."
   ]
  },
  {
   "cell_type": "code",
   "execution_count": 126,
   "id": "70911362",
   "metadata": {},
   "outputs": [
    {
     "name": "stdout",
     "output_type": "stream",
     "text": [
      "Flattened List : [1, 3, 5, 2, 4, 6, 7, 9, 11, 8, 10, 12]\n"
     ]
    }
   ],
   "source": [
    "l=[1,3,5,[2,4,6],7,9,11,[8,10,12]]\n",
    "l1=[]\n",
    "for i in l:\n",
    "    if(type(i))==list:\n",
    "        for j in i:\n",
    "            l1.append(j)\n",
    "    else:\n",
    "        l1.append(i)\n",
    "print(\"Flattened List :\",l1)"
   ]
  },
  {
   "cell_type": "markdown",
   "id": "7a410742",
   "metadata": {},
   "source": [
    "#### 29. Create a list of the first 10 Fibonacci numbers."
   ]
  },
  {
   "cell_type": "code",
   "execution_count": 134,
   "id": "b6962c58",
   "metadata": {},
   "outputs": [
    {
     "name": "stdout",
     "output_type": "stream",
     "text": [
      "First 10 fibonacci numbers : [0, 1, 1, 2, 3, 5, 8, 13, 21, 34]\n"
     ]
    }
   ],
   "source": [
    "l=[0,1]\n",
    "i=2\n",
    "x=1\n",
    "x1=0\n",
    "s=x+x1\n",
    "while(i<10):\n",
    "    l.append(s)\n",
    "    x1=x\n",
    "    x=s\n",
    "    i+=1\n",
    "    s=x+x1\n",
    "print(\"First 10 fibonacci numbers :\",l)"
   ]
  },
  {
   "cell_type": "markdown",
   "id": "eccebec4",
   "metadata": {},
   "source": [
    "#### 30. Check if a list is sorted."
   ]
  },
  {
   "cell_type": "code",
   "execution_count": 147,
   "id": "3c4ae695",
   "metadata": {},
   "outputs": [
    {
     "name": "stdout",
     "output_type": "stream",
     "text": [
      "List isn't sorted\n"
     ]
    }
   ],
   "source": [
    "l=[1, 3, 5, 2, 4, 6, 7, 9, 11, 8, 10, 12]\n",
    "if(l==sorted(l)):\n",
    "    print(\"List is sorted\")\n",
    "else:\n",
    "    print(\"List isn't sorted\")"
   ]
  },
  {
   "cell_type": "markdown",
   "id": "0aebf365",
   "metadata": {},
   "source": [
    "#### 31. Rotate a list to the left by n positions."
   ]
  },
  {
   "cell_type": "code",
   "execution_count": 177,
   "id": "7ec7f0c5",
   "metadata": {},
   "outputs": [
    {
     "name": "stdout",
     "output_type": "stream",
     "text": [
      "[1, 3, 5, 2, 4, 6, 7, 9, 11, 8, 10, 12]\n",
      "No. of positions to be left shifted by : 4\n",
      "Modified List : [4, 6, 7, 9, 11, 8, 10, 12, 1, 3, 5, 2]\n"
     ]
    }
   ],
   "source": [
    "l=[1, 3, 5, 2, 4, 6, 7, 9, 11, 8, 10, 12]\n",
    "print(l)\n",
    "n=int(input(\"No. of positions to be left shifted by : \"))\n",
    "l1=l[n:]+l[:n]\n",
    "print(\"Modified List :\",l1)"
   ]
  },
  {
   "cell_type": "markdown",
   "id": "022fadb1",
   "metadata": {},
   "source": [
    "#### 32. Rotate a list to the right by n positions."
   ]
  },
  {
   "cell_type": "code",
   "execution_count": 187,
   "id": "5a3a5e81",
   "metadata": {},
   "outputs": [
    {
     "name": "stdout",
     "output_type": "stream",
     "text": [
      "[1, 3, 5, 2, 4, 6, 7, 9, 11, 8, 10, 12]\n",
      "No. of positions to be right shifted by : 4\n",
      "Modified List : [11, 8, 10, 12, 1, 3, 5, 2, 4, 6, 7, 9]\n"
     ]
    }
   ],
   "source": [
    "l=[1, 3, 5, 2, 4, 6, 7, 9, 11, 8, 10, 12]\n",
    "print(l)\n",
    "n=int(input(\"No. of positions to be right shifted by : \"))\n",
    "l1=l[len(l)-n:]+l[:len(l)-n]\n",
    "print(\"Modified List :\",l1)"
   ]
  },
  {
   "cell_type": "markdown",
   "id": "e33b934b",
   "metadata": {},
   "source": [
    "#### 33. Create a list of prime numbers up to 50."
   ]
  },
  {
   "cell_type": "code",
   "execution_count": 242,
   "id": "aea035c3",
   "metadata": {},
   "outputs": [
    {
     "name": "stdout",
     "output_type": "stream",
     "text": [
      "List of prime numbers upto 50 =  [1, 2, 3, 5, 7, 11, 13, 17, 19, 23, 29, 31, 37, 41, 43, 47]\n"
     ]
    }
   ],
   "source": [
    "l=[1,2]\n",
    "c=0\n",
    "for i in range(3,51):\n",
    "    for j in range(2,51):\n",
    "        if(i%j==0):\n",
    "            c+=1\n",
    "    if(c==1):\n",
    "        l.append(i)\n",
    "    c=0\n",
    "print(\"List of prime numbers upto 50 = \",l)"
   ]
  },
  {
   "cell_type": "markdown",
   "id": "0f332f04",
   "metadata": {},
   "source": [
    "#### 34. Split a list into chunks of size n."
   ]
  },
  {
   "cell_type": "code",
   "execution_count": 252,
   "id": "7df43595",
   "metadata": {},
   "outputs": [
    {
     "name": "stdout",
     "output_type": "stream",
     "text": [
      "List : [1, 3, 5, 2, 4, 6, 7, 9, 11, 8, 10, 12]\n",
      "Size of list partitions : 4\n",
      "Splitted List :\n",
      "[1, 3, 5, 2]\n",
      "[4, 6, 7, 9]\n",
      "[11, 8, 10, 12]\n"
     ]
    }
   ],
   "source": [
    "l=[1, 3, 5, 2, 4, 6, 7, 9, 11, 8, 10, 12]\n",
    "print(\"List :\",l)\n",
    "n=int(input(\"Size of list partitions : \"))\n",
    "length=len(l)\n",
    "x=n\n",
    "m=0\n",
    "print(\"Splitted List :\")\n",
    "for i in range((len(l)//n)):\n",
    "    print(l[m:x])\n",
    "    m+=n\n",
    "    x+=n"
   ]
  },
  {
   "cell_type": "markdown",
   "id": "fd243de4",
   "metadata": {},
   "source": [
    "#### 35. Find the second largest number in a list."
   ]
  },
  {
   "cell_type": "code",
   "execution_count": 258,
   "id": "c3e8f25c",
   "metadata": {},
   "outputs": [
    {
     "name": "stdout",
     "output_type": "stream",
     "text": [
      "List : [1, 3, 5, 2, 4, 6, 7, 9, 11, 8, 10, 12]\n",
      "Second largest number : 11\n"
     ]
    }
   ],
   "source": [
    "l=[1, 3, 5, 2, 4, 6, 7, 9, 11, 8, 10, 12]\n",
    "print(\"List :\",l)\n",
    "print(\"Second largest number :\",sorted(l)[::-1][1])"
   ]
  },
  {
   "cell_type": "markdown",
   "id": "3a1a6441",
   "metadata": {},
   "source": [
    "#### 36. Replace every element in a list with its square."
   ]
  },
  {
   "cell_type": "code",
   "execution_count": 260,
   "id": "d437d8d0",
   "metadata": {},
   "outputs": [
    {
     "name": "stdout",
     "output_type": "stream",
     "text": [
      "List : [1, 3, 5, 2, 4, 6, 7, 9, 11, 8, 10, 12]\n",
      "Modified list : [1, 9, 25, 4, 16, 36, 49, 81, 121, 64, 100, 144]\n"
     ]
    }
   ],
   "source": [
    "l=[1, 3, 5, 2, 4, 6, 7, 9, 11, 8, 10, 12]\n",
    "print(\"List :\",l)\n",
    "for i in range(len(l)):\n",
    "    l[i]=l[i]**2\n",
    "print(\"Modified list :\",l)"
   ]
  },
  {
   "cell_type": "markdown",
   "id": "90d34360",
   "metadata": {},
   "source": [
    "#### 37. Convert a list to a dictionary where list elements become keys and their indices become values."
   ]
  },
  {
   "cell_type": "code",
   "execution_count": 261,
   "id": "48e1d33c",
   "metadata": {},
   "outputs": [
    {
     "name": "stdout",
     "output_type": "stream",
     "text": [
      "List : [1, 3, 5, 2, 4, 6, 7, 9, 11, 8, 10, 12]\n",
      "Dictionary : {1: 0, 3: 1, 5: 2, 2: 3, 4: 4, 6: 5, 7: 6, 9: 7, 11: 8, 8: 9, 10: 10, 12: 11}\n"
     ]
    }
   ],
   "source": [
    "l=[1, 3, 5, 2, 4, 6, 7, 9, 11, 8, 10, 12]\n",
    "print(\"List :\",l)\n",
    "d={}\n",
    "for i in range(len(l)):\n",
    "    d[l[i]]=i\n",
    "print(\"Dictionary :\",d)"
   ]
  },
  {
   "cell_type": "markdown",
   "id": "f0ff9b76",
   "metadata": {},
   "source": [
    "#### 38. Shuffle the elements of a list randomly."
   ]
  },
  {
   "cell_type": "code",
   "execution_count": 263,
   "id": "dabd2033",
   "metadata": {},
   "outputs": [
    {
     "name": "stdout",
     "output_type": "stream",
     "text": [
      "List : [1, 3, 5, 2, 4, 6, 7, 9, 11, 8, 10, 12]\n",
      "Shuffled list : [6, 10, 1, 7, 5, 8, 4, 11, 9, 2, 3, 12]\n"
     ]
    }
   ],
   "source": [
    "import random\n",
    "l=[1, 3, 5, 2, 4, 6, 7, 9, 11, 8, 10, 12]\n",
    "print(\"List :\",l)\n",
    "random.shuffle(l)\n",
    "print(\"Shuffled list :\",l)"
   ]
  },
  {
   "cell_type": "markdown",
   "id": "7d095053",
   "metadata": {},
   "source": [
    "#### 39. Create a list of the first 10 factorial numbers."
   ]
  },
  {
   "cell_type": "code",
   "execution_count": 266,
   "id": "689ae671",
   "metadata": {},
   "outputs": [
    {
     "name": "stdout",
     "output_type": "stream",
     "text": [
      "List of factorial of first 10 numbers : [1, 1, 2, 6, 24, 120, 720, 5040, 40320, 362880, 3628800]\n"
     ]
    }
   ],
   "source": [
    "l=[]\n",
    "for i in range(11):\n",
    "    f=1\n",
    "    while(i>=1):\n",
    "        f=f*i\n",
    "        i-=1\n",
    "    l.append(f)\n",
    "print(\"List of factorial of first 10 numbers :\",l)"
   ]
  },
  {
   "cell_type": "markdown",
   "id": "a0b57b93",
   "metadata": {},
   "source": [
    "#### 40. Check if two lists have at least one element in common."
   ]
  },
  {
   "cell_type": "code",
   "execution_count": 271,
   "id": "577ac431",
   "metadata": {},
   "outputs": [
    {
     "name": "stdout",
     "output_type": "stream",
     "text": [
      "List 1 : [4, 8, 2, 0, 1, 7, 5]\n",
      "List 2 : [7, 2, 3, 0, 9, 6, 5, 8, 6]\n",
      "The lists have at least one element in common.\n"
     ]
    }
   ],
   "source": [
    "l1=[4,8,2,0,1,7,5]\n",
    "print(\"List 1 :\",l1)\n",
    "l2=[7,2,3,0,9,6,5,8,6]\n",
    "print(\"List 2 :\",l2)\n",
    "for i in l1:\n",
    "    if i in l2:\n",
    "        print(\"The lists have at least one element in common.\")\n",
    "        break"
   ]
  },
  {
   "cell_type": "markdown",
   "id": "84b31b17",
   "metadata": {},
   "source": [
    "#### 41. Remove all elements from a list."
   ]
  },
  {
   "cell_type": "code",
   "execution_count": 273,
   "id": "5eae010e",
   "metadata": {},
   "outputs": [
    {
     "name": "stdout",
     "output_type": "stream",
     "text": [
      "List : [1, 3, 5, 2, 4, 6, 7, 9, 11, 8, 10, 12]\n",
      "List : []\n"
     ]
    }
   ],
   "source": [
    "l=[1, 3, 5, 2, 4, 6, 7, 9, 11, 8, 10, 12]\n",
    "print(\"List :\",l)\n",
    "l.clear()\n",
    "print(\"List :\",l)"
   ]
  },
  {
   "cell_type": "markdown",
   "id": "32a3b59e",
   "metadata": {},
   "source": [
    "#### 42. Replace negative numbers in a list with 0."
   ]
  },
  {
   "cell_type": "code",
   "execution_count": 275,
   "id": "96045ca7",
   "metadata": {},
   "outputs": [
    {
     "name": "stdout",
     "output_type": "stream",
     "text": [
      "List : [1, 3, -5, 2, 4, -6, -7, 9, 11, 8, 10, -12]\n",
      "Modified List : [1, 3, 0, 2, 4, 0, 0, 9, 11, 8, 10, 0]\n"
     ]
    }
   ],
   "source": [
    "l=[1, 3, -5, 2, 4, -6, -7, 9, 11, 8, 10, -12]\n",
    "print(\"List :\",l)\n",
    "for i in range(len(l)):\n",
    "    if(l[i]<0):\n",
    "        l[i]=0\n",
    "print(\"Modified List :\",l)        "
   ]
  },
  {
   "cell_type": "markdown",
   "id": "ad5c8b22",
   "metadata": {},
   "source": [
    "#### 43. Convert a string into a list of words."
   ]
  },
  {
   "cell_type": "code",
   "execution_count": 276,
   "id": "35be80bf",
   "metadata": {},
   "outputs": [
    {
     "name": "stdout",
     "output_type": "stream",
     "text": [
      "String : Attack on Titans\n",
      "List of words : ['Attack', 'on', 'Titans']\n"
     ]
    }
   ],
   "source": [
    "s=\"Attack on Titans\"\n",
    "print(\"String :\",s)\n",
    "l=s.split()\n",
    "print(\"List of words :\",l)"
   ]
  },
  {
   "cell_type": "markdown",
   "id": "08e31495",
   "metadata": {},
   "source": [
    "#### 44. Convert a list of words into a string."
   ]
  },
  {
   "cell_type": "code",
   "execution_count": 281,
   "id": "85b3d74b",
   "metadata": {},
   "outputs": [
    {
     "name": "stdout",
     "output_type": "stream",
     "text": [
      "List of words : ['Attack', 'on', 'Titans']\n",
      "String : Attack on Titans\n"
     ]
    }
   ],
   "source": [
    "l=['Attack', 'on', 'Titans']\n",
    "print(\"List of words :\",l)\n",
    "s=' '\n",
    "s=s.join(l)\n",
    "print(\"String :\",s)"
   ]
  },
  {
   "cell_type": "markdown",
   "id": "364f2f4d",
   "metadata": {},
   "source": [
    "#### 45. Create a list of the first n powers of 2."
   ]
  },
  {
   "cell_type": "code",
   "execution_count": 285,
   "id": "17847459",
   "metadata": {},
   "outputs": [
    {
     "name": "stdout",
     "output_type": "stream",
     "text": [
      "Enter the value of n : 10\n",
      "List of first n powers of 2 : [2, 4, 8, 16, 32, 64, 128, 256, 512, 1024]\n"
     ]
    }
   ],
   "source": [
    "l=[]\n",
    "n=int(input(\"Enter the value of n : \"))\n",
    "for i in range(1,n+1):\n",
    "    l.append(2**i)\n",
    "print(\"List of first n powers of 2 :\",l)"
   ]
  },
  {
   "cell_type": "markdown",
   "id": "4e8311a1",
   "metadata": {},
   "source": [
    "#### 46. Find the longest string in a list of strings."
   ]
  },
  {
   "cell_type": "code",
   "execution_count": 294,
   "id": "27905165",
   "metadata": {},
   "outputs": [
    {
     "name": "stdout",
     "output_type": "stream",
     "text": [
      "List of strings : ['seven', 'wonders', 'of', 'the', 'world']\n",
      "Longest string in the list of strings : wonders\n"
     ]
    }
   ],
   "source": [
    "l=['seven','wonders','of','the','world']\n",
    "print(\"List of strings :\",l)\n",
    "l.sort(key=len,reverse=True)\n",
    "print(\"Longest string in the list of strings :\",l[0])"
   ]
  },
  {
   "cell_type": "markdown",
   "id": "2fae5186",
   "metadata": {},
   "source": [
    "#### 47. Find the shortest string in a list of strings."
   ]
  },
  {
   "cell_type": "code",
   "execution_count": 295,
   "id": "542c4fb5",
   "metadata": {},
   "outputs": [
    {
     "name": "stdout",
     "output_type": "stream",
     "text": [
      "List of strings : ['seven', 'wonders', 'of', 'the', 'world']\n",
      "Shortest string in the list of strings : of\n"
     ]
    }
   ],
   "source": [
    "l=['seven','wonders','of','the','world']\n",
    "print(\"List of strings :\",l)\n",
    "l.sort(key=len)\n",
    "print(\"Shortest string in the list of strings :\",l[0])"
   ]
  },
  {
   "cell_type": "markdown",
   "id": "25133e57",
   "metadata": {},
   "source": [
    "#### 48. Create a list of the first n triangular numbers."
   ]
  },
  {
   "cell_type": "code",
   "execution_count": 299,
   "id": "147dd95c",
   "metadata": {},
   "outputs": [
    {
     "name": "stdout",
     "output_type": "stream",
     "text": [
      "Enter the value of n : 7\n",
      "list of the first n triangular numbers : [1, 3, 6, 10, 15, 21, 28]\n"
     ]
    }
   ],
   "source": [
    "l=[]\n",
    "n=int(input(\"Enter the value of n : \"))\n",
    "for i in range(1,n+1):\n",
    "    l.append((i*(i+1))//2)\n",
    "print(\"list of the first n triangular numbers :\",l)"
   ]
  },
  {
   "cell_type": "markdown",
   "id": "d1020e32",
   "metadata": {},
   "source": [
    "#### 49. Check if a list contains another list as a subsequence."
   ]
  },
  {
   "cell_type": "code",
   "execution_count": 308,
   "id": "9f62bc43",
   "metadata": {},
   "outputs": [
    {
     "name": "stdout",
     "output_type": "stream",
     "text": [
      "List : [3, 7, 6, 0, 9, 8, 1]\n",
      "Subsequence : [6, 1, 4]\n",
      "List doesn't contain the subsequence\n"
     ]
    }
   ],
   "source": [
    "l=[3,7,6,0,9,8,1]\n",
    "print(\"List :\",l)\n",
    "l1=[6,1,4]\n",
    "print(\"Subsequence :\",l1)\n",
    "c=0\n",
    "for i in l1:\n",
    "    if(i in l):\n",
    "        c+=1\n",
    "if(c==len(l1)):\n",
    "    print(\"List contains the subsequence\")\n",
    "else:\n",
    "    print(\"List doesn't contain the subsequence\")"
   ]
  },
  {
   "cell_type": "markdown",
   "id": "5ee70fcd",
   "metadata": {},
   "source": [
    "#### 50. Swap two elements in a list by their indices."
   ]
  },
  {
   "cell_type": "code",
   "execution_count": 310,
   "id": "bdb393a3",
   "metadata": {},
   "outputs": [
    {
     "name": "stdout",
     "output_type": "stream",
     "text": [
      "List : [3, 7, 6, 0, 9, 8, 1]\n",
      "Enter the indices of the elements to be swapped : \n",
      "5\n",
      "2\n",
      "Modified list [3, 7, 8, 0, 9, 6, 1]\n"
     ]
    }
   ],
   "source": [
    "l=[3,7,6,0,9,8,1]\n",
    "print(\"List :\",l)\n",
    "print(\"Enter the indices of the elements to be swapped : \")\n",
    "x=int(input())\n",
    "y=int(input())\n",
    "l[x],l[y]=l[y],l[x]\n",
    "print(\"Modified list\",l)"
   ]
  },
  {
   "cell_type": "markdown",
   "id": "7aaf148c",
   "metadata": {},
   "source": [
    "## Tuple Based Practice Problem :"
   ]
  },
  {
   "cell_type": "markdown",
   "id": "638650c3",
   "metadata": {},
   "source": [
    "#### 1. Create a tuple with integers from 1 to 5."
   ]
  },
  {
   "cell_type": "code",
   "execution_count": 1,
   "id": "93d2a2df",
   "metadata": {},
   "outputs": [
    {
     "name": "stdout",
     "output_type": "stream",
     "text": [
      "<class 'tuple'> (1, 2, 3, 4, 5)\n"
     ]
    }
   ],
   "source": [
    "t=(1,2,3,4,5)\n",
    "print(type(t),t)"
   ]
  },
  {
   "cell_type": "markdown",
   "id": "049a063d",
   "metadata": {},
   "source": [
    "#### 2. Access the third element of a tuple."
   ]
  },
  {
   "cell_type": "code",
   "execution_count": 3,
   "id": "4b81b21d",
   "metadata": {},
   "outputs": [
    {
     "name": "stdout",
     "output_type": "stream",
     "text": [
      "Tuple : (1, 2, 3, 4, 5)\n",
      "3rd element = 4\n"
     ]
    }
   ],
   "source": [
    "t=(1,2,3,4,5)\n",
    "print(\"Tuple :\",t)\n",
    "print(\"3rd element =\",t[3])"
   ]
  },
  {
   "cell_type": "markdown",
   "id": "100b0e5c",
   "metadata": {},
   "source": [
    "#### 3. Find the length of a tuple without using the len() function."
   ]
  },
  {
   "cell_type": "code",
   "execution_count": 4,
   "id": "ba39dad5",
   "metadata": {},
   "outputs": [
    {
     "name": "stdout",
     "output_type": "stream",
     "text": [
      "Tuple : (1, 2, 3, 4, 5)\n",
      "Length of the tuple = 5\n"
     ]
    }
   ],
   "source": [
    "t=(1,2,3,4,5)\n",
    "print(\"Tuple :\",t)\n",
    "c=0\n",
    "for i in t:\n",
    "    c+=1\n",
    "print(\"Length of the tuple =\",c)"
   ]
  },
  {
   "cell_type": "markdown",
   "id": "f193749a",
   "metadata": {},
   "source": [
    "#### 4. Count the occurrences of an element in a tuple."
   ]
  },
  {
   "cell_type": "code",
   "execution_count": 7,
   "id": "3cb95d6d",
   "metadata": {},
   "outputs": [
    {
     "name": "stdout",
     "output_type": "stream",
     "text": [
      "Tuple : (8, 9, 1, 2, 4, 5, 6, 3, 2, 5)\n",
      "Enter the element : 5\n",
      "5 has 2 occurences in the tuple\n"
     ]
    }
   ],
   "source": [
    "t=(8,9,1,2,4,5,6,3,2,5)\n",
    "print(\"Tuple :\",t)\n",
    "x=int(input(\"Enter the element : \"))\n",
    "print(x,\"has\",t.count(x),\"occurences in the tuple\")"
   ]
  },
  {
   "cell_type": "markdown",
   "id": "5aae2c0c",
   "metadata": {},
   "source": [
    "#### 5. Find the index of the first occurrence of an element in a tuple."
   ]
  },
  {
   "cell_type": "code",
   "execution_count": 8,
   "id": "6c5ca0a8",
   "metadata": {},
   "outputs": [
    {
     "name": "stdout",
     "output_type": "stream",
     "text": [
      "Tuple : (8, 9, 1, 2, 4, 5, 6, 3, 2, 5)\n",
      "Enter the element : 2\n",
      "Index of first occurence of 2 in the tuple = 3\n"
     ]
    }
   ],
   "source": [
    "t=(8,9,1,2,4,5,6,3,2,5)\n",
    "print(\"Tuple :\",t)\n",
    "x=int(input(\"Enter the element : \"))\n",
    "print(\"Index of first occurence of\",x,\"in the tuple =\",t.index(x))"
   ]
  },
  {
   "cell_type": "markdown",
   "id": "0eeff806",
   "metadata": {},
   "source": [
    "#### 6. Check if an element exists in a tuple."
   ]
  },
  {
   "cell_type": "code",
   "execution_count": 12,
   "id": "68e72ed2",
   "metadata": {},
   "outputs": [
    {
     "name": "stdout",
     "output_type": "stream",
     "text": [
      "Enter element to find : 7\n",
      "The element isn't present in the tuple (8, 9, 1, 2, 4, 5, 6, 3, 2, 5)\n"
     ]
    }
   ],
   "source": [
    "t=(8,9,1,2,4,5,6,3,2,5)\n",
    "x=int(input(\"Enter element to find : \"))\n",
    "if(x in t):\n",
    "    print(\"The element is present in the tuple\",t)\n",
    "else:\n",
    "    print(\"The element isn't present in the tuple\",t)"
   ]
  },
  {
   "cell_type": "markdown",
   "id": "8a661e24",
   "metadata": {},
   "source": [
    "#### 7. Convert a tuple to a list."
   ]
  },
  {
   "cell_type": "code",
   "execution_count": 13,
   "id": "8b69894a",
   "metadata": {},
   "outputs": [
    {
     "name": "stdout",
     "output_type": "stream",
     "text": [
      "<class 'tuple'> (8, 9, 1, 2, 4, 5, 6, 3, 2, 5)\n",
      "<class 'list'> [8, 9, 1, 2, 4, 5, 6, 3, 2, 5]\n"
     ]
    }
   ],
   "source": [
    "t=(8,9,1,2,4,5,6,3,2,5)\n",
    "print(type(t),t)\n",
    "l=list(t)\n",
    "print(type(l),l)"
   ]
  },
  {
   "cell_type": "markdown",
   "id": "6c78e549",
   "metadata": {},
   "source": [
    "#### 8. Convert a list to a tuple."
   ]
  },
  {
   "cell_type": "code",
   "execution_count": 14,
   "id": "d5234919",
   "metadata": {},
   "outputs": [
    {
     "name": "stdout",
     "output_type": "stream",
     "text": [
      "<class 'list'> [8, 9, 1, 2, 4, 5, 6, 3, 2, 5]\n",
      "<class 'tuple'> (8, 9, 1, 2, 4, 5, 6, 3, 2, 5)\n"
     ]
    }
   ],
   "source": [
    "l=[8, 9, 1, 2, 4, 5, 6, 3, 2, 5]\n",
    "print(type(l),l)\n",
    "t=tuple(l)\n",
    "print(type(t),t)"
   ]
  },
  {
   "cell_type": "markdown",
   "id": "d8e64956",
   "metadata": {},
   "source": [
    "#### 9. Unpack the elements of a tuple into variables."
   ]
  },
  {
   "cell_type": "code",
   "execution_count": 15,
   "id": "d18023e8",
   "metadata": {},
   "outputs": [
    {
     "name": "stdout",
     "output_type": "stream",
     "text": [
      "91 89 90\n"
     ]
    }
   ],
   "source": [
    "t=(91,89,90)\n",
    "english,maths,science=t\n",
    "print(english,maths,science)"
   ]
  },
  {
   "cell_type": "markdown",
   "id": "249b7566",
   "metadata": {},
   "source": [
    "#### 10. Create a tuple of even numbers from 1 to 10."
   ]
  },
  {
   "cell_type": "code",
   "execution_count": 17,
   "id": "49920d41",
   "metadata": {},
   "outputs": [
    {
     "name": "stdout",
     "output_type": "stream",
     "text": [
      "Even numbers from 1 to 10 : (2, 4, 6, 8, 10)\n"
     ]
    }
   ],
   "source": [
    "l=[i for i in range(1,11) if(i%2==0)]\n",
    "t=tuple(l)\n",
    "print(\"Even numbers from 1 to 10 :\",t)"
   ]
  },
  {
   "cell_type": "markdown",
   "id": "44257992",
   "metadata": {},
   "source": [
    "#### 11. Create a tuple of odd numbers from 1 to 10."
   ]
  },
  {
   "cell_type": "code",
   "execution_count": 18,
   "id": "04117dd9",
   "metadata": {},
   "outputs": [
    {
     "name": "stdout",
     "output_type": "stream",
     "text": [
      "Odd numbers from 1 to 10 : (1, 3, 5, 7, 9)\n"
     ]
    }
   ],
   "source": [
    "l=[i for i in range(1,11) if(i%2!=0)]\n",
    "t=tuple(l)\n",
    "print(\"Odd numbers from 1 to 10 :\",t)"
   ]
  },
  {
   "cell_type": "markdown",
   "id": "e48b38b5",
   "metadata": {},
   "source": [
    "#### 12. Concatenate two tuples."
   ]
  },
  {
   "cell_type": "code",
   "execution_count": 28,
   "id": "0ad10ffb",
   "metadata": {},
   "outputs": [
    {
     "name": "stdout",
     "output_type": "stream",
     "text": [
      "Tuple 1 : (1, 2, 3)\n",
      "Tuple 2 : (4, 5, 6)\n",
      "Concatenated tuple : (1, 2, 3, 4, 5, 6)\n"
     ]
    }
   ],
   "source": [
    "t1=(1,2,3)\n",
    "print(\"Tuple 1 :\",t1)\n",
    "t2=(4,5,6)\n",
    "print(\"Tuple 2 :\",t2)\n",
    "t3=t1+t2\n",
    "print(\"Concatenated tuple :\",t3)"
   ]
  },
  {
   "cell_type": "markdown",
   "id": "564f92e4",
   "metadata": {},
   "source": [
    "#### 13. Repeat a tuple three times."
   ]
  },
  {
   "cell_type": "code",
   "execution_count": 29,
   "id": "2d54ff93",
   "metadata": {},
   "outputs": [
    {
     "name": "stdout",
     "output_type": "stream",
     "text": [
      "(3, 7, 5, 8, 9, 3, 7, 5, 8, 9, 3, 7, 5, 8, 9)\n"
     ]
    }
   ],
   "source": [
    "t=(3,7,5,8,9)\n",
    "print(t*3)"
   ]
  },
  {
   "cell_type": "markdown",
   "id": "c74f5c00",
   "metadata": {},
   "source": [
    "#### 14. Check if a tuple is empty."
   ]
  },
  {
   "cell_type": "code",
   "execution_count": 32,
   "id": "f6259d60",
   "metadata": {},
   "outputs": [
    {
     "name": "stdout",
     "output_type": "stream",
     "text": [
      "Tuple () is empty\n"
     ]
    }
   ],
   "source": [
    "t=()\n",
    "if t:\n",
    "    print(\"Tuple\",t,\"is not empty\")\n",
    "else:\n",
    "    print(\"Tuple\",t,\"is empty\")"
   ]
  },
  {
   "cell_type": "markdown",
   "id": "e6d1ae1a",
   "metadata": {},
   "source": [
    "#### 15. Create a nested tuple."
   ]
  },
  {
   "cell_type": "code",
   "execution_count": 35,
   "id": "f20e79b6",
   "metadata": {},
   "outputs": [
    {
     "name": "stdout",
     "output_type": "stream",
     "text": [
      "Nested tuple : (7, 1, 0, (6, 9, 7), 4)\n"
     ]
    }
   ],
   "source": [
    "t=(7,1,0,(6,9,7),4)\n",
    "print(\"Nested tuple :\",t)"
   ]
  },
  {
   "cell_type": "markdown",
   "id": "c2b9df3e",
   "metadata": {},
   "source": [
    "#### 16. Access the first element of a nested tuple."
   ]
  },
  {
   "cell_type": "code",
   "execution_count": 36,
   "id": "cb863e99",
   "metadata": {},
   "outputs": [
    {
     "name": "stdout",
     "output_type": "stream",
     "text": [
      "Nested tuple : (7, 1, 0, (6, 9, 7), 4)\n",
      "1st element of the nested tuple : 9\n"
     ]
    }
   ],
   "source": [
    "t=(7,1,0,(6,9,7),4)\n",
    "print(\"Nested tuple :\",t)\n",
    "print(\"1st element of the nested tuple :\",t[3][1])"
   ]
  },
  {
   "cell_type": "markdown",
   "id": "24b1b0fa",
   "metadata": {},
   "source": [
    "#### 17. Create a tuple with a single element."
   ]
  },
  {
   "cell_type": "code",
   "execution_count": 39,
   "id": "b66c17f4",
   "metadata": {},
   "outputs": [
    {
     "name": "stdout",
     "output_type": "stream",
     "text": [
      "<class 'tuple'> (1,)\n"
     ]
    }
   ],
   "source": [
    "t=(1,)\n",
    "print(type(t),t)"
   ]
  },
  {
   "cell_type": "markdown",
   "id": "679029ee",
   "metadata": {},
   "source": [
    "#### 18. Compare two tuples."
   ]
  },
  {
   "cell_type": "code",
   "execution_count": 41,
   "id": "6da3f68d",
   "metadata": {},
   "outputs": [
    {
     "name": "stdout",
     "output_type": "stream",
     "text": [
      "(1, 2, 3) and (1, 2, 4) aren't equal\n"
     ]
    }
   ],
   "source": [
    "t1=(1,2,3)\n",
    "t2=(1,2,4)\n",
    "if(t1==t2):\n",
    "    print(t1,\"and\",t2,\"are equal\")\n",
    "else:\n",
    "    print(t1,\"and\",t2,\"aren't equal\")"
   ]
  },
  {
   "cell_type": "markdown",
   "id": "c785cf74",
   "metadata": {},
   "source": [
    "#### 19. Delete a tuple."
   ]
  },
  {
   "cell_type": "code",
   "execution_count": 42,
   "id": "5a934c1e",
   "metadata": {},
   "outputs": [
    {
     "name": "stdout",
     "output_type": "stream",
     "text": [
      "(1, 2, 3)\n"
     ]
    },
    {
     "ename": "NameError",
     "evalue": "name 't' is not defined",
     "output_type": "error",
     "traceback": [
      "\u001b[1;31m---------------------------------------------------------------------------\u001b[0m",
      "\u001b[1;31mNameError\u001b[0m                                 Traceback (most recent call last)",
      "\u001b[1;32m<ipython-input-42-4a041a2571f2>\u001b[0m in \u001b[0;36m<module>\u001b[1;34m\u001b[0m\n\u001b[0;32m      2\u001b[0m \u001b[0mprint\u001b[0m\u001b[1;33m(\u001b[0m\u001b[0mt\u001b[0m\u001b[1;33m)\u001b[0m\u001b[1;33m\u001b[0m\u001b[1;33m\u001b[0m\u001b[0m\n\u001b[0;32m      3\u001b[0m \u001b[1;32mdel\u001b[0m\u001b[1;33m(\u001b[0m\u001b[0mt\u001b[0m\u001b[1;33m)\u001b[0m\u001b[1;33m\u001b[0m\u001b[1;33m\u001b[0m\u001b[0m\n\u001b[1;32m----> 4\u001b[1;33m \u001b[0mprint\u001b[0m\u001b[1;33m(\u001b[0m\u001b[0mt\u001b[0m\u001b[1;33m)\u001b[0m\u001b[1;33m\u001b[0m\u001b[1;33m\u001b[0m\u001b[0m\n\u001b[0m",
      "\u001b[1;31mNameError\u001b[0m: name 't' is not defined"
     ]
    }
   ],
   "source": [
    "t=(1,2,3)\n",
    "print(t)\n",
    "del(t)\n",
    "print(t)"
   ]
  },
  {
   "cell_type": "markdown",
   "id": "5bc9709f",
   "metadata": {},
   "source": [
    "#### 20. Slice a tuple."
   ]
  },
  {
   "cell_type": "code",
   "execution_count": 44,
   "id": "6c6f1c04",
   "metadata": {},
   "outputs": [
    {
     "name": "stdout",
     "output_type": "stream",
     "text": [
      "Tuple : (4, 2, 8, 7, 5)\n",
      "(2, 8, 7)\n"
     ]
    }
   ],
   "source": [
    "t=(4,2,8,7,5)\n",
    "print(\"Tuple :\",t)\n",
    "print(t[1:4])"
   ]
  },
  {
   "cell_type": "markdown",
   "id": "7c9acd1a",
   "metadata": {},
   "source": [
    "#### 21. Find the maximum value in a tuple."
   ]
  },
  {
   "cell_type": "code",
   "execution_count": 45,
   "id": "28197d75",
   "metadata": {},
   "outputs": [
    {
     "name": "stdout",
     "output_type": "stream",
     "text": [
      "Tuple : (4, 2, 8, 7, 5)\n",
      "Max element = 8\n"
     ]
    }
   ],
   "source": [
    "t=(4,2,8,7,5)\n",
    "print(\"Tuple :\",t)\n",
    "print(\"Max element =\",max(t))"
   ]
  },
  {
   "cell_type": "markdown",
   "id": "8a6297b4",
   "metadata": {},
   "source": [
    "#### 22. Find the minimum value in a tuple."
   ]
  },
  {
   "cell_type": "code",
   "execution_count": 46,
   "id": "a59be228",
   "metadata": {},
   "outputs": [
    {
     "name": "stdout",
     "output_type": "stream",
     "text": [
      "Tuple : (4, 2, 8, 7, 5)\n",
      "Min element = 2\n"
     ]
    }
   ],
   "source": [
    "t=(4,2,8,7,5)\n",
    "print(\"Tuple :\",t)\n",
    "print(\"Min element =\",min(t))"
   ]
  },
  {
   "cell_type": "markdown",
   "id": "907ae0e6",
   "metadata": {},
   "source": [
    "#### 23. Convert a string to a tuple of characters."
   ]
  },
  {
   "cell_type": "code",
   "execution_count": 47,
   "id": "48d25ac7",
   "metadata": {},
   "outputs": [
    {
     "name": "stdout",
     "output_type": "stream",
     "text": [
      "<class 'str'> Chamber Of Secrets\n",
      "<class 'tuple'> ('C', 'h', 'a', 'm', 'b', 'e', 'r', ' ', 'O', 'f', ' ', 'S', 'e', 'c', 'r', 'e', 't', 's')\n"
     ]
    }
   ],
   "source": [
    "s=\"Chamber Of Secrets\"\n",
    "print(type(s),s)\n",
    "t=tuple(list(s))\n",
    "print(type(t),t)"
   ]
  },
  {
   "cell_type": "markdown",
   "id": "a9572b51",
   "metadata": {},
   "source": [
    "#### 24. Convert a tuple of characters to a string."
   ]
  },
  {
   "cell_type": "code",
   "execution_count": 49,
   "id": "99910446",
   "metadata": {},
   "outputs": [
    {
     "name": "stdout",
     "output_type": "stream",
     "text": [
      "<class 'tuple'> ('C', 'h', 'a', 'm', 'b', 'e', 'r', ' ', 'O', 'f', ' ', 'S', 'e', 'c', 'r', 'e', 't', 's')\n",
      "<class 'str'> Chamber Of Secrets\n"
     ]
    }
   ],
   "source": [
    "t=('C', 'h', 'a', 'm', 'b', 'e', 'r', ' ', 'O', 'f', ' ', 'S', 'e', 'c', 'r', 'e', 't', 's')\n",
    "print(type(t),t)\n",
    "s=''\n",
    "for i in t:\n",
    "    s+=i\n",
    "print(type(s),s)"
   ]
  },
  {
   "cell_type": "markdown",
   "id": "6d604c1a",
   "metadata": {},
   "source": [
    "#### 25. Create a tuple from multiple data types."
   ]
  },
  {
   "cell_type": "code",
   "execution_count": 72,
   "id": "1768a9b9",
   "metadata": {},
   "outputs": [
    {
     "name": "stdout",
     "output_type": "stream",
     "text": [
      "<class 'tuple'> (1, 5.6, 'a', (2+3j), [4, 5], (6, 7), {8: 9})\n"
     ]
    }
   ],
   "source": [
    "t=(1,5.6,'a',2+3j,[4,5],(6,7),{8:9})\n",
    "print(type(t),t)"
   ]
  },
  {
   "cell_type": "markdown",
   "id": "4faca188",
   "metadata": {},
   "source": [
    "#### 26. Check if two tuples are identical."
   ]
  },
  {
   "cell_type": "code",
   "execution_count": 52,
   "id": "3b229484",
   "metadata": {},
   "outputs": [
    {
     "name": "stdout",
     "output_type": "stream",
     "text": [
      "The tupples (4, 5, 6) (4, 'five', 6) aren't identical\n"
     ]
    }
   ],
   "source": [
    "t1=(4,5,6)\n",
    "t2=(4,'five',6)\n",
    "if(t1==t2):\n",
    "    print(\"The tupples\",t1,t2,\"are identical\")\n",
    "else:\n",
    "    print(\"The tupples\",t1,t2,\"aren't identical\")"
   ]
  },
  {
   "cell_type": "markdown",
   "id": "952a6c7c",
   "metadata": {},
   "source": [
    "#### 27. Sort the elements of a tuple."
   ]
  },
  {
   "cell_type": "code",
   "execution_count": 61,
   "id": "eebf4cf9",
   "metadata": {},
   "outputs": [
    {
     "name": "stdout",
     "output_type": "stream",
     "text": [
      "Tuple : (8, 7, 6, 0, 9, 1, 3)\n",
      "Sorted tuple : (0, 1, 3, 6, 7, 8, 9)\n"
     ]
    }
   ],
   "source": [
    "t=(8,7,6,0,9,1,3)\n",
    "print(\"Tuple :\",t)\n",
    "t=tuple(sorted(t))\n",
    "print(\"Sorted tuple :\",t)"
   ]
  },
  {
   "cell_type": "markdown",
   "id": "db51f53b",
   "metadata": {},
   "source": [
    "#### 28. Convert a tuple of integers to a tuple of strings."
   ]
  },
  {
   "cell_type": "code",
   "execution_count": 1,
   "id": "27eb2be1",
   "metadata": {},
   "outputs": [
    {
     "name": "stdout",
     "output_type": "stream",
     "text": [
      "Tuple of integers : (8, 7, 6, 0, 9, 1, 3)\n",
      "Tuple of strings : ('8', '7', '6', '0', '9', '1', '3')\n"
     ]
    }
   ],
   "source": [
    "t=(8,7,6,0,9,1,3)\n",
    "print(\"Tuple of integers :\",t)\n",
    "l=[str(i) for i in t]\n",
    "t1=tuple(l)\n",
    "print(\"Tuple of strings :\",t1)"
   ]
  },
  {
   "cell_type": "markdown",
   "id": "db82d0ea",
   "metadata": {},
   "source": [
    "#### 29. Convert a tuple of strings to a tuple of integers."
   ]
  },
  {
   "cell_type": "code",
   "execution_count": 4,
   "id": "9662ed1e",
   "metadata": {},
   "outputs": [
    {
     "name": "stdout",
     "output_type": "stream",
     "text": [
      "Tuple of strings : ('8', '7', '6', '0', '9', '1', '3')\n",
      "Tuple of integers : (8, 7, 6, 0, 9, 1, 3)\n"
     ]
    }
   ],
   "source": [
    "t=('8', '7', '6', '0', '9', '1', '3')\n",
    "print(\"Tuple of strings :\",t)\n",
    "l=[int(i) for i in t]\n",
    "t1=tuple(l)\n",
    "print(\"Tuple of integers :\",t1)"
   ]
  },
  {
   "cell_type": "markdown",
   "id": "28911547",
   "metadata": {},
   "source": [
    "#### 30. Merge two tuples."
   ]
  },
  {
   "cell_type": "code",
   "execution_count": 6,
   "id": "37fc7f94",
   "metadata": {},
   "outputs": [
    {
     "name": "stdout",
     "output_type": "stream",
     "text": [
      "Tuple1 : (1, 2, 3)\n",
      "Tuple2 : (4, 5, 6)\n",
      "Merged tuple : (1, 2, 3, 4, 5, 6)\n"
     ]
    }
   ],
   "source": [
    "t1 = (1,2,3)\n",
    "print(\"Tuple1 :\",t1)\n",
    "t2 = (4,5,6)\n",
    "print(\"Tuple2 :\",t2)\n",
    "print(\"Merged tuple :\",t1+t2)"
   ]
  },
  {
   "cell_type": "markdown",
   "id": "6aa3ff34",
   "metadata": {},
   "source": [
    "#### 31. Flatten a nested tuple."
   ]
  },
  {
   "cell_type": "code",
   "execution_count": 12,
   "id": "98aacce7",
   "metadata": {},
   "outputs": [
    {
     "name": "stdout",
     "output_type": "stream",
     "text": [
      "Nested tuple : (8, 6, (9, 0), 5, 1)\n",
      "Flattened tuple : (8, 6, 9, 0, 5, 1)\n"
     ]
    }
   ],
   "source": [
    "t=(8,6,(9,0),5,1)\n",
    "print(\"Nested tuple :\",t)\n",
    "t1=()\n",
    "for i in t:\n",
    "    if(type(i)==tuple):\n",
    "        for j in i:\n",
    "            t1+=(j,)\n",
    "    else:\n",
    "        t1+=(i,)\n",
    "print(\"Flattened tuple :\",t1)"
   ]
  },
  {
   "cell_type": "markdown",
   "id": "8ff907f1",
   "metadata": {},
   "source": [
    "#### 32. Create a tuple of the first 5 prime numbers."
   ]
  },
  {
   "cell_type": "code",
   "execution_count": 19,
   "id": "2a0d0081",
   "metadata": {},
   "outputs": [
    {
     "name": "stdout",
     "output_type": "stream",
     "text": [
      "First 5 prime numbers : (1, 2, 3, 5, 7)\n"
     ]
    }
   ],
   "source": [
    "t=()\n",
    "n=0\n",
    "for i in range(1,20):\n",
    "    if(n>=5):\n",
    "        break\n",
    "    c=0\n",
    "    for j in range(1,i+1):\n",
    "        if(i%j==0):\n",
    "            c+=1\n",
    "    if(c<=2):\n",
    "        t+=(i,)\n",
    "        n+=1\n",
    "print(\"First 5 prime numbers :\",t)"
   ]
  },
  {
   "cell_type": "markdown",
   "id": "1ed79d31",
   "metadata": {},
   "source": [
    "#### 33. Check if a tuple is a palindrome."
   ]
  },
  {
   "cell_type": "code",
   "execution_count": 21,
   "id": "3edade8b",
   "metadata": {},
   "outputs": [
    {
     "name": "stdout",
     "output_type": "stream",
     "text": [
      "Tuple : (7, 8, 4, 1, 3, 6)\n",
      "Tuple isn't palindrome\n"
     ]
    }
   ],
   "source": [
    "t=(7,8,4,1,3,6)\n",
    "print(\"Tuple :\",t)\n",
    "if(t==t[::-1]):\n",
    "    print(\"Tuple is palindrome\")\n",
    "else:\n",
    "    print(\"Tuple isn't palindrome\")"
   ]
  },
  {
   "cell_type": "markdown",
   "id": "618ea733",
   "metadata": {},
   "source": [
    "#### 34. Create a tuple of squares of numbers from 1 to 5."
   ]
  },
  {
   "cell_type": "code",
   "execution_count": 22,
   "id": "84f15fc1",
   "metadata": {},
   "outputs": [
    {
     "name": "stdout",
     "output_type": "stream",
     "text": [
      "Squares (1-5) : (1, 4, 9, 16, 25)\n"
     ]
    }
   ],
   "source": [
    "t=()\n",
    "for i in range(1,6):\n",
    "    t+=(i**2,)\n",
    "print(\"Squares (1-5) :\",t)"
   ]
  },
  {
   "cell_type": "markdown",
   "id": "6498d263",
   "metadata": {},
   "source": [
    "#### 35. Filter out all even numbers from a tuple."
   ]
  },
  {
   "cell_type": "code",
   "execution_count": 25,
   "id": "1c9843dd",
   "metadata": {},
   "outputs": [
    {
     "name": "stdout",
     "output_type": "stream",
     "text": [
      "Tuple : (7, 8, 4, 1, 3, 6)\n",
      "Even numbers : 8 4 6 "
     ]
    }
   ],
   "source": [
    "t=(7,8,4,1,3,6)\n",
    "print(\"Tuple :\",t)\n",
    "print(\"Even numbers :\",end=' ')\n",
    "for i in t:\n",
    "    if(i%2==0):\n",
    "        print(i,end=' ')"
   ]
  },
  {
   "cell_type": "markdown",
   "id": "8cb2713f",
   "metadata": {},
   "source": [
    "#### 36. Multiply all elements in a tuple by 2."
   ]
  },
  {
   "cell_type": "code",
   "execution_count": 26,
   "id": "6caefa1a",
   "metadata": {},
   "outputs": [
    {
     "name": "stdout",
     "output_type": "stream",
     "text": [
      "Tuple : (7, 8, 4, 1, 3, 6)\n",
      "Multiplied by 2: (14, 16, 8, 2, 6, 12)\n"
     ]
    }
   ],
   "source": [
    "t=(7,8,4,1,3,6)\n",
    "print(\"Tuple :\",t)\n",
    "t1=()\n",
    "for i in t:\n",
    "    t1+=(i*2,)\n",
    "print(\"Multiplied by 2:\",t1) "
   ]
  },
  {
   "cell_type": "markdown",
   "id": "f2a7ad3d",
   "metadata": {},
   "source": [
    "#### 37. Create a tuple of random numbers."
   ]
  },
  {
   "cell_type": "code",
   "execution_count": 31,
   "id": "e5ae389e",
   "metadata": {},
   "outputs": [
    {
     "name": "stdout",
     "output_type": "stream",
     "text": [
      "Tuple of random numbers : (23, 26, 21, 72, 10, 62, 83, 51, 77, 66)\n"
     ]
    }
   ],
   "source": [
    "import random\n",
    "t=()\n",
    "for i in range(10):\n",
    "    t+=(random.randint(1,100),)\n",
    "print(\"Tuple of random numbers :\",t)"
   ]
  },
  {
   "cell_type": "markdown",
   "id": "8f4c3618",
   "metadata": {},
   "source": [
    "#### 38. Check if a tuple is sorted."
   ]
  },
  {
   "cell_type": "code",
   "execution_count": 32,
   "id": "85caa620",
   "metadata": {},
   "outputs": [
    {
     "name": "stdout",
     "output_type": "stream",
     "text": [
      "Tuple : (7, 8, 4, 1, 3, 6)\n",
      "tuple isn't sorted\n"
     ]
    }
   ],
   "source": [
    "t=(7,8,4,1,3,6)\n",
    "print(\"Tuple :\",t)\n",
    "if(t==sorted(t)):\n",
    "    print(\"tuple is sorted\")\n",
    "else:\n",
    "    print(\"tuple isn't sorted\")"
   ]
  },
  {
   "cell_type": "markdown",
   "id": "c26f323d",
   "metadata": {},
   "source": [
    "#### 39. Rotate a tuple to the left by n positions."
   ]
  },
  {
   "cell_type": "code",
   "execution_count": 47,
   "id": "e45e0f52",
   "metadata": {},
   "outputs": [
    {
     "name": "stdout",
     "output_type": "stream",
     "text": [
      "Tuple : (7, 8, 4, 1, 3, 6)\n",
      "positions to be rotated left by : 5\n",
      "Tuple rotated left by n pos. : (6, 7, 8, 4, 1, 3)\n"
     ]
    }
   ],
   "source": [
    "t=(7,8,4,1,3,6)\n",
    "print(\"Tuple :\",t)\n",
    "n=int(input(\"positions to be rotated left by : \"))\n",
    "l=list(t)\n",
    "t=tuple(l[n:]+l[:n])\n",
    "print(\"Tuple rotated left by n pos. :\",t)"
   ]
  },
  {
   "cell_type": "markdown",
   "id": "627552f4",
   "metadata": {},
   "source": [
    "#### 40. Rotate a tuple to the right by n positions."
   ]
  },
  {
   "cell_type": "code",
   "execution_count": 53,
   "id": "be9e07df",
   "metadata": {},
   "outputs": [
    {
     "name": "stdout",
     "output_type": "stream",
     "text": [
      "Tuple : (7, 8, 4, 1, 3, 6)\n",
      "positions to be rotated right by : 2\n",
      "Tuple rotated right by n pos. : (3, 6, 7, 8, 4, 1)\n"
     ]
    }
   ],
   "source": [
    "t=(7,8,4,1,3,6)\n",
    "print(\"Tuple :\",t)\n",
    "n=int(input(\"positions to be rotated right by : \"))\n",
    "l=list(t)\n",
    "t=tuple(l[-2:]+l[:-2])\n",
    "print(\"Tuple rotated right by n pos. :\",t)"
   ]
  },
  {
   "cell_type": "markdown",
   "id": "7fe30d19",
   "metadata": {},
   "source": [
    "#### 41. Create a tuple of the first 5 Fibonacci numbers."
   ]
  },
  {
   "cell_type": "code",
   "execution_count": 58,
   "id": "f1991b56",
   "metadata": {},
   "outputs": [
    {
     "name": "stdout",
     "output_type": "stream",
     "text": [
      "First 5 fibonacci numbers : (0, 1, 1, 2, 3)\n"
     ]
    }
   ],
   "source": [
    "t=(0,1)\n",
    "a=0\n",
    "b=1\n",
    "for i in range(3):\n",
    "    s=a+b\n",
    "    t+=(s,)\n",
    "    a=b\n",
    "    b=s\n",
    "print(\"First 5 fibonacci numbers :\",t)"
   ]
  },
  {
   "cell_type": "markdown",
   "id": "6199b544",
   "metadata": {},
   "source": [
    "#### 42. Create a tuple from user input."
   ]
  },
  {
   "cell_type": "code",
   "execution_count": 60,
   "id": "35c405a8",
   "metadata": {},
   "outputs": [
    {
     "name": "stdout",
     "output_type": "stream",
     "text": [
      "Enter no. of elements : 6\n",
      "Enter the elements : \n",
      "o\n",
      "l\n",
      "i\n",
      "0\n",
      "0\n",
      "8\n",
      "Tuple : ('o', 'l', 'i', '0', '0', '8')\n"
     ]
    }
   ],
   "source": [
    "n=int(input(\"Enter no. of elements : \"))\n",
    "t=()\n",
    "print(\"Enter the elements : \")\n",
    "for i in range(n):\n",
    "    x=input()\n",
    "    t+=(x,)\n",
    "print(\"Tuple :\",t)"
   ]
  },
  {
   "cell_type": "markdown",
   "id": "9124dc4d",
   "metadata": {},
   "source": [
    "#### 43. Swap two elements in a tuple."
   ]
  },
  {
   "cell_type": "code",
   "execution_count": 62,
   "id": "6a4dcc27",
   "metadata": {},
   "outputs": [
    {
     "name": "stdout",
     "output_type": "stream",
     "text": [
      "Tuple : (7, 8, 4, 1, 3, 6)\n",
      "Enter the elements to be swapped : \n",
      "3\n",
      "4\n",
      "Tuple with swapped values : (7, 8, 3, 1, 4, 6)\n"
     ]
    }
   ],
   "source": [
    "t=(7,8,4,1,3,6)\n",
    "print(\"Tuple :\",t)\n",
    "print(\"Enter the elements to be swapped : \")\n",
    "x=int(input())\n",
    "y=int(input())\n",
    "l=list(t)\n",
    "xp,yp = l.index(x),l.index(y)\n",
    "l[xp],l[yp]=y,x\n",
    "print(\"Tuple with swapped values :\",tuple(l))"
   ]
  },
  {
   "cell_type": "markdown",
   "id": "da69164c",
   "metadata": {},
   "source": [
    "#### 44. Reverse the elements of a tuple."
   ]
  },
  {
   "cell_type": "code",
   "execution_count": 63,
   "id": "ccd079e2",
   "metadata": {},
   "outputs": [
    {
     "name": "stdout",
     "output_type": "stream",
     "text": [
      "Tuple : (7, 8, 4, 1, 3, 6)\n",
      "Reversed tuple : (6, 3, 1, 4, 8, 7)\n"
     ]
    }
   ],
   "source": [
    "t=(7,8,4,1,3,6)\n",
    "print(\"Tuple :\",t)\n",
    "print(\"Reversed tuple :\",t[::-1])"
   ]
  },
  {
   "cell_type": "markdown",
   "id": "d0ad2bf3",
   "metadata": {},
   "source": [
    "#### 45. Create a tuple of the first n powers of 2."
   ]
  },
  {
   "cell_type": "code",
   "execution_count": 65,
   "id": "6cf8506b",
   "metadata": {},
   "outputs": [
    {
     "name": "stdout",
     "output_type": "stream",
     "text": [
      "Enter the value of n : 7\n",
      "First n powers of 2 : (2, 4, 8, 16, 32, 64, 128)\n"
     ]
    }
   ],
   "source": [
    "t=()\n",
    "n=int(input(\"Enter the value of n : \"))\n",
    "for i in range(1,n+1):\n",
    "    t+=(2**i,)\n",
    "print(\"First n powers of 2 :\",t)"
   ]
  },
  {
   "cell_type": "markdown",
   "id": "bad62d5b",
   "metadata": {},
   "source": [
    "#### 46. Find the longest string in a tuple of strings."
   ]
  },
  {
   "cell_type": "code",
   "execution_count": 74,
   "id": "c0ffec64",
   "metadata": {},
   "outputs": [
    {
     "name": "stdout",
     "output_type": "stream",
     "text": [
      "Tuple : ('I', 'want', 'to', 'eat', 'your', 'pancreas')\n",
      "Longest string in the tuple = pancreas\n"
     ]
    }
   ],
   "source": [
    "t=(\"I\",\"want\",\"to\",\"eat\",\"your\",\"pancreas\")\n",
    "print(\"Tuple :\",t)\n",
    "x=max(t,key=len)\n",
    "print(\"Longest string in the tuple =\",x)"
   ]
  },
  {
   "cell_type": "markdown",
   "id": "69d3e26d",
   "metadata": {},
   "source": [
    "#### 47. Find the shortest string in a tuple of strings."
   ]
  },
  {
   "cell_type": "code",
   "execution_count": 75,
   "id": "bf7f4cdf",
   "metadata": {},
   "outputs": [
    {
     "name": "stdout",
     "output_type": "stream",
     "text": [
      "Tuple : ('I', 'want', 'to', 'eat', 'your', 'pancreas')\n",
      "Shortest string in the tuple = I\n"
     ]
    }
   ],
   "source": [
    "t=(\"I\",\"want\",\"to\",\"eat\",\"your\",\"pancreas\")\n",
    "print(\"Tuple :\",t)\n",
    "x=min(t,key=len)\n",
    "print(\"Shortest string in the tuple =\",x)"
   ]
  },
  {
   "cell_type": "markdown",
   "id": "7c1f7b7e",
   "metadata": {},
   "source": [
    "#### 48. Create a tuple of the first n triangular numbers."
   ]
  },
  {
   "cell_type": "code",
   "execution_count": 78,
   "id": "e44c54a7",
   "metadata": {},
   "outputs": [
    {
     "name": "stdout",
     "output_type": "stream",
     "text": [
      "Enter the value of n : 10\n"
     ]
    },
    {
     "data": {
      "text/plain": [
       "(0, 1, 3, 6, 10, 15, 21, 28, 36, 45, 55)"
      ]
     },
     "execution_count": 78,
     "metadata": {},
     "output_type": "execute_result"
    }
   ],
   "source": [
    "t=()\n",
    "n=int(input(\"Enter the value of n : \"))\n",
    "for i in range(n+1):\n",
    "    t+=((i*(i+1))//2,)\n",
    "t"
   ]
  },
  {
   "cell_type": "markdown",
   "id": "10227ca5",
   "metadata": {},
   "source": [
    "#### 49. Check if a tuple contains another tuple as a subsequence."
   ]
  },
  {
   "cell_type": "code",
   "execution_count": 81,
   "id": "02ec0c1e",
   "metadata": {},
   "outputs": [
    {
     "name": "stdout",
     "output_type": "stream",
     "text": [
      "Tuple : (7, 8, 4, 1, 3, 6)\n",
      "Subsequence : (3, 4, 8, 9)\n",
      "Tuple doesn't have the subsequence\n"
     ]
    }
   ],
   "source": [
    "t=(7,8,4,1,3,6)\n",
    "print(\"Tuple :\",t)\n",
    "s=(3,4,8,9)\n",
    "print(\"Subsequence :\",s)\n",
    "c=0\n",
    "for i in t:\n",
    "    if(i in s):\n",
    "        c+=1\n",
    "if(len(s)==c):\n",
    "    print(\"Tuple has the subsequence\")\n",
    "else:\n",
    "    print(\"Tuple doesn't have the subsequence\")"
   ]
  },
  {
   "cell_type": "markdown",
   "id": "d0d2e371",
   "metadata": {},
   "source": [
    "#### 50. Create a tuple of alternating 1s and 0s of length n."
   ]
  },
  {
   "cell_type": "code",
   "execution_count": 84,
   "id": "a56ed8c0",
   "metadata": {},
   "outputs": [
    {
     "name": "stdout",
     "output_type": "stream",
     "text": [
      "Enter the value of n : 7\n",
      "Tuple : (1, 0, 1, 0, 1, 0, 1)\n"
     ]
    }
   ],
   "source": [
    "n=int(input(\"Enter the value of n : \"))\n",
    "t=()\n",
    "for i in range(1,n+1):\n",
    "    t+=(i%2,)\n",
    "print(\"Tuple :\",t)"
   ]
  },
  {
   "cell_type": "markdown",
   "id": "5535a176",
   "metadata": {},
   "source": [
    "## Set Based Practice Problem :"
   ]
  },
  {
   "cell_type": "markdown",
   "id": "d9089cb8",
   "metadata": {},
   "source": [
    "#### 1. Create a set with integers from 1 to 5."
   ]
  },
  {
   "cell_type": "code",
   "execution_count": 87,
   "id": "c965b971",
   "metadata": {},
   "outputs": [
    {
     "name": "stdout",
     "output_type": "stream",
     "text": [
      "<class 'set'> {1, 2, 3, 4, 5}\n"
     ]
    }
   ],
   "source": [
    "s={1,2,3,4,5}\n",
    "print(type(s),s)"
   ]
  },
  {
   "cell_type": "markdown",
   "id": "9588a946",
   "metadata": {},
   "source": [
    "#### 2. Add an element to a set."
   ]
  },
  {
   "cell_type": "code",
   "execution_count": 88,
   "id": "f032bbb6",
   "metadata": {},
   "outputs": [
    {
     "name": "stdout",
     "output_type": "stream",
     "text": [
      "Set : {1, 2, 3, 4, 5}\n",
      "Enter element to be added : 6\n",
      "New set : {1, 2, 3, 4, 5, 6}\n"
     ]
    }
   ],
   "source": [
    "s={1,2,3,4,5}\n",
    "print(\"Set :\",s)\n",
    "n=int(input(\"Enter element to be added : \"))\n",
    "s.add(n)\n",
    "print(\"New set :\",s)"
   ]
  },
  {
   "cell_type": "markdown",
   "id": "dc636f32",
   "metadata": {},
   "source": [
    "#### 3. Remove an element from a set."
   ]
  },
  {
   "cell_type": "code",
   "execution_count": 89,
   "id": "31724734",
   "metadata": {},
   "outputs": [
    {
     "name": "stdout",
     "output_type": "stream",
     "text": [
      "Set : {1, 2, 3, 4, 5}\n",
      "Enter the element to be removed : 4\n",
      "New set : {1, 2, 3, 5}\n"
     ]
    }
   ],
   "source": [
    "s={1,2,3,4,5}\n",
    "print(\"Set :\",s)\n",
    "n=int(input(\"Enter the element to be removed : \"))\n",
    "s.remove(n)\n",
    "print(\"New set :\",s)"
   ]
  },
  {
   "cell_type": "markdown",
   "id": "b426c372",
   "metadata": {},
   "source": [
    "#### 4. Check if an element exists in a set."
   ]
  },
  {
   "cell_type": "code",
   "execution_count": 91,
   "id": "d070e220",
   "metadata": {},
   "outputs": [
    {
     "name": "stdout",
     "output_type": "stream",
     "text": [
      "Element to find : 6\n",
      "6 doesn't exist in the set {1, 2, 3, 4, 5}\n"
     ]
    }
   ],
   "source": [
    "n=int(input(\"Element to find : \"))\n",
    "s={1,2,3,4,5}\n",
    "if(n in s):\n",
    "    print(n,\"exists in the set\",s)\n",
    "else:\n",
    "    print(n,\"doesn't exist in the set\",s)"
   ]
  },
  {
   "cell_type": "markdown",
   "id": "633488f8",
   "metadata": {},
   "source": [
    "#### 5. Find the length of a set without using the len() function."
   ]
  },
  {
   "cell_type": "code",
   "execution_count": 95,
   "id": "8ce85d0f",
   "metadata": {},
   "outputs": [
    {
     "name": "stdout",
     "output_type": "stream",
     "text": [
      "Set : {1, 2, 3, 4, 5}\n",
      "Length of set = 5\n"
     ]
    }
   ],
   "source": [
    "s={1,2,3,4,5}\n",
    "print(\"Set :\",s)\n",
    "c=0\n",
    "[c:=c+1 for i in s]\n",
    "print(\"Length of set =\",c)"
   ]
  },
  {
   "cell_type": "markdown",
   "id": "1dedd9ef",
   "metadata": {},
   "source": [
    "#### 6. Clear all elements from a set."
   ]
  },
  {
   "cell_type": "code",
   "execution_count": 96,
   "id": "420eb6ef",
   "metadata": {},
   "outputs": [
    {
     "name": "stdout",
     "output_type": "stream",
     "text": [
      "Set : {1, 2, 3, 4, 5}\n",
      "Set : set()\n"
     ]
    }
   ],
   "source": [
    "s={1,2,3,4,5}\n",
    "print(\"Set :\",s)\n",
    "s.clear()\n",
    "print(\"Set :\",s)"
   ]
  },
  {
   "cell_type": "markdown",
   "id": "a1348fd4",
   "metadata": {},
   "source": [
    "#### 7. Create a set of even numbers from 1 to 10."
   ]
  },
  {
   "cell_type": "code",
   "execution_count": 100,
   "id": "1b3a32d1",
   "metadata": {},
   "outputs": [
    {
     "name": "stdout",
     "output_type": "stream",
     "text": [
      "Set of even numbers from 1 to 10 : {2, 4, 6, 8, 10}\n"
     ]
    }
   ],
   "source": [
    "s={i for i in range(1,11) if i%2==0}\n",
    "print(\"Set of even numbers from 1 to 10 :\",s)"
   ]
  },
  {
   "cell_type": "markdown",
   "id": "62430e9d",
   "metadata": {},
   "source": [
    "#### 8. Create a set of odd numbers from 1 to 10."
   ]
  },
  {
   "cell_type": "code",
   "execution_count": 101,
   "id": "d740285b",
   "metadata": {},
   "outputs": [
    {
     "name": "stdout",
     "output_type": "stream",
     "text": [
      "Set of odd numbers from 1 to 10 : {1, 3, 5, 7, 9}\n"
     ]
    }
   ],
   "source": [
    "s={i for i in range(1,11) if i%2!=0}\n",
    "print(\"Set of odd numbers from 1 to 10 :\",s)"
   ]
  },
  {
   "cell_type": "markdown",
   "id": "1a936e68",
   "metadata": {},
   "source": [
    "#### 9. Find the union of two sets."
   ]
  },
  {
   "cell_type": "code",
   "execution_count": 106,
   "id": "997ff35d",
   "metadata": {},
   "outputs": [
    {
     "name": "stdout",
     "output_type": "stream",
     "text": [
      "Set1 : {1, 2, 3}\n",
      "Set2 : {3, 4, 5}\n",
      "Union of both the sets : {1, 2, 3, 4, 5}\n"
     ]
    }
   ],
   "source": [
    "s1={1,2,3}\n",
    "print(\"Set1 :\",s1)\n",
    "s2={3,4,5}\n",
    "print(\"Set2 :\",s2)\n",
    "print(\"Union of both the sets :\",s1.union(s2))"
   ]
  },
  {
   "cell_type": "markdown",
   "id": "4b774392",
   "metadata": {},
   "source": [
    "#### 10. Find the intersection of two sets."
   ]
  },
  {
   "cell_type": "code",
   "execution_count": 107,
   "id": "dc9f575a",
   "metadata": {},
   "outputs": [
    {
     "name": "stdout",
     "output_type": "stream",
     "text": [
      "Set1 : {1, 2, 3}\n",
      "Set2 : {3, 4, 5}\n",
      "Intersection of both the sets : {3}\n"
     ]
    }
   ],
   "source": [
    "s1={1,2,3}\n",
    "print(\"Set1 :\",s1)\n",
    "s2={3,4,5}\n",
    "print(\"Set2 :\",s2)\n",
    "print(\"Intersection of both the sets :\",s1.intersection(s2))"
   ]
  },
  {
   "cell_type": "markdown",
   "id": "5ba93115",
   "metadata": {},
   "source": [
    "#### 11. Find the difference between two sets."
   ]
  },
  {
   "cell_type": "code",
   "execution_count": 110,
   "id": "2675205a",
   "metadata": {},
   "outputs": [
    {
     "name": "stdout",
     "output_type": "stream",
     "text": [
      "Set1 : {1, 2, 3}\n",
      "Set2 : {3, 4, 5}\n",
      "Difference btwn both the sets : {1, 2}\n"
     ]
    }
   ],
   "source": [
    "s1={1,2,3}\n",
    "print(\"Set1 :\",s1)\n",
    "s2={3,4,5}\n",
    "print(\"Set2 :\",s2)\n",
    "print(\"Difference btwn both the sets :\",s1.difference(s2))"
   ]
  },
  {
   "cell_type": "markdown",
   "id": "5ae424d0",
   "metadata": {},
   "source": [
    "#### 12. Check if a set is a subset of another set."
   ]
  },
  {
   "cell_type": "code",
   "execution_count": 120,
   "id": "a8d6fd3b",
   "metadata": {},
   "outputs": [
    {
     "name": "stdout",
     "output_type": "stream",
     "text": [
      "{8, 2, 4, 6} isn't a subset of {1, 2, 3, 4, 5, 6}\n"
     ]
    }
   ],
   "source": [
    "s={1,2,3,4,5,6}\n",
    "ss={2,6,4,8}\n",
    "if(ss.issubset(s)):\n",
    "    print(ss,\"is a subset of\",s)\n",
    "else:\n",
    "    print(ss,\"isn't a subset of\",s)"
   ]
  },
  {
   "cell_type": "markdown",
   "id": "b9383986",
   "metadata": {},
   "source": [
    "#### 13. Check if a set is a superset of another set."
   ]
  },
  {
   "cell_type": "code",
   "execution_count": 122,
   "id": "82e018ea",
   "metadata": {},
   "outputs": [
    {
     "name": "stdout",
     "output_type": "stream",
     "text": [
      "{1, 2, 3, 4, 5, 6} isn't a superset of {8, 2, 4, 6}\n"
     ]
    }
   ],
   "source": [
    "s={1,2,3,4,5,6}\n",
    "ss={2,6,4,8}\n",
    "if(s.issuperset(ss)):\n",
    "    print(s,\"is a superset of\",ss)\n",
    "else:\n",
    "    print(s,\"isn't a superset of\",ss)"
   ]
  },
  {
   "cell_type": "markdown",
   "id": "0a81026e",
   "metadata": {},
   "source": [
    "#### 14. Create a set from a list."
   ]
  },
  {
   "cell_type": "code",
   "execution_count": 123,
   "id": "f9dbda04",
   "metadata": {},
   "outputs": [
    {
     "name": "stdout",
     "output_type": "stream",
     "text": [
      "List : [1, 6, 2, 7, 3, 5, 8, 3, 6]\n",
      "Set : {1, 2, 3, 5, 6, 7, 8}\n"
     ]
    }
   ],
   "source": [
    "l=[1,6,2,7,3,5,8,3,6]\n",
    "print(\"List :\",l)\n",
    "s=set(l)\n",
    "print(\"Set :\",s)"
   ]
  },
  {
   "cell_type": "markdown",
   "id": "d10e512d",
   "metadata": {},
   "source": [
    "#### 15. Convert a set to a list."
   ]
  },
  {
   "cell_type": "code",
   "execution_count": 124,
   "id": "3a152033",
   "metadata": {},
   "outputs": [
    {
     "name": "stdout",
     "output_type": "stream",
     "text": [
      "Set : {1, 2, 3, 5, 6, 7, 8}\n",
      "List : [1, 2, 3, 5, 6, 7, 8]\n"
     ]
    }
   ],
   "source": [
    "s={1,2,3,5,6,7,8}\n",
    "print(\"Set :\",s)\n",
    "l=list(s)\n",
    "print(\"List :\",l)"
   ]
  },
  {
   "cell_type": "markdown",
   "id": "f7dfb558",
   "metadata": {},
   "source": [
    "#### 16. Remove a random element from a set."
   ]
  },
  {
   "cell_type": "code",
   "execution_count": 128,
   "id": "bcb2bdbf",
   "metadata": {},
   "outputs": [
    {
     "name": "stdout",
     "output_type": "stream",
     "text": [
      "Set : {2, 3, 4, 5, 7, 9}\n",
      "New set : {2, 3, 5, 7, 9}\n"
     ]
    }
   ],
   "source": [
    "s={2,7,2,4,9,3,5}\n",
    "print(\"Set :\",s)\n",
    "s.remove(4)\n",
    "print(\"New set :\",s)"
   ]
  },
  {
   "cell_type": "markdown",
   "id": "2ceb5fe9",
   "metadata": {},
   "source": [
    "#### 17. Pop an element from a set."
   ]
  },
  {
   "cell_type": "code",
   "execution_count": 133,
   "id": "b2b3dccc",
   "metadata": {},
   "outputs": [
    {
     "name": "stdout",
     "output_type": "stream",
     "text": [
      "Set : {2, 3, 4, 5, 7, 9}\n",
      "New set : {3, 4, 5, 7, 9}\n"
     ]
    }
   ],
   "source": [
    "s={2,7,2,4,9,3,5}\n",
    "print(\"Set :\",s)\n",
    "s.pop()\n",
    "print(\"New set :\",s)"
   ]
  },
  {
   "cell_type": "markdown",
   "id": "aec00e1e",
   "metadata": {},
   "source": [
    "#### 18. Check if two sets have no elements in common."
   ]
  },
  {
   "cell_type": "code",
   "execution_count": 141,
   "id": "2a02ca42",
   "metadata": {},
   "outputs": [
    {
     "name": "stdout",
     "output_type": "stream",
     "text": [
      "Set1 : {1, 2, 3, 4}\n",
      "Set2 : {8, 5, 6, 7}\n",
      "The sets don't have any elements in common\n"
     ]
    }
   ],
   "source": [
    "s1={1,2,3,4}\n",
    "print(\"Set1 :\",s1)\n",
    "s2={5,6,7,8}\n",
    "print(\"Set2 :\",s2)\n",
    "if(len(s1.intersection(s2))):\n",
    "    print(\"The sets have one/many elements in common\")\n",
    "else:\n",
    "    print(\"The sets don't have any elements in common\")\n"
   ]
  },
  {
   "cell_type": "markdown",
   "id": "62be4fe3",
   "metadata": {},
   "source": [
    "#### 19. Find the symmetric difference between two sets."
   ]
  },
  {
   "cell_type": "code",
   "execution_count": 144,
   "id": "cd6a8d20",
   "metadata": {},
   "outputs": [
    {
     "name": "stdout",
     "output_type": "stream",
     "text": [
      "Set1 : {1, 2, 3, 4, 5}\n",
      "Set2 : {4, 5, 6, 7, 8}\n",
      "Symmetric difference btwn the two sets = {1, 2, 3, 6, 7, 8}\n"
     ]
    }
   ],
   "source": [
    "s1={1,2,3,4,5}\n",
    "print(\"Set1 :\",s1)\n",
    "s2={4,5,6,7,8}\n",
    "print(\"Set2 :\",s2)\n",
    "print(\"Symmetric difference btwn the two sets =\",s1.symmetric_difference(s2))"
   ]
  },
  {
   "cell_type": "markdown",
   "id": "6064324f",
   "metadata": {},
   "source": [
    "#### 20. Update a set with elements from another set."
   ]
  },
  {
   "cell_type": "code",
   "execution_count": 145,
   "id": "ea4b5eca",
   "metadata": {},
   "outputs": [
    {
     "name": "stdout",
     "output_type": "stream",
     "text": [
      "Set1 : {1, 2, 3, 4, 5}\n",
      "Set2 : {4, 5, 6, 7, 8}\n",
      "Updated Set2 from Set1 : {1, 2, 3, 4, 5, 6, 7, 8}\n"
     ]
    }
   ],
   "source": [
    "s1={1,2,3,4,5}\n",
    "print(\"Set1 :\",s1)\n",
    "s2={4,5,6,7,8}\n",
    "print(\"Set2 :\",s2)\n",
    "s2.update(s1)\n",
    "print(\"Updated Set2 from Set1 :\",s2)"
   ]
  },
  {
   "cell_type": "markdown",
   "id": "a1f8449b",
   "metadata": {},
   "source": [
    "#### 21. Create a set of the first 5 prime numbers."
   ]
  },
  {
   "cell_type": "code",
   "execution_count": 161,
   "id": "2e0c2ad1",
   "metadata": {},
   "outputs": [
    {
     "name": "stdout",
     "output_type": "stream",
     "text": [
      "Set of first 5 prime numbers : {1, 2, 3, 5, 7}\n"
     ]
    }
   ],
   "source": [
    "s=set()\n",
    "i,n=1,0\n",
    "while(n<5):\n",
    "    c=0\n",
    "    for j in range(1,j+1):\n",
    "        if(i%j==0):\n",
    "            c+=1\n",
    "    if(c<=2):\n",
    "        s.add(i)\n",
    "        n+=1\n",
    "    i+=1\n",
    "print(\"Set of first 5 prime numbers :\",s)"
   ]
  },
  {
   "cell_type": "markdown",
   "id": "48ece748",
   "metadata": {},
   "source": [
    "#### 22. Check if two sets are identical."
   ]
  },
  {
   "cell_type": "code",
   "execution_count": 163,
   "id": "4a948460",
   "metadata": {},
   "outputs": [
    {
     "name": "stdout",
     "output_type": "stream",
     "text": [
      "The sets {1, 2, 3, 4, 5} and {1, 2, 3, 4, 5} are identical\n"
     ]
    }
   ],
   "source": [
    "s1={1,2,3,4,5}\n",
    "s2={4,5,1,2,3}\n",
    "if(s1==s2):\n",
    "    print(\"The sets\",s1,\"and\",s2,\"are identical\")\n",
    "else:\n",
    "    print(\"The sets\",s1,\"and\",s2,\"aren't identical\")"
   ]
  },
  {
   "cell_type": "markdown",
   "id": "e4d4cd47",
   "metadata": {},
   "source": [
    "#### 23. Create a frozen set."
   ]
  },
  {
   "cell_type": "code",
   "execution_count": 165,
   "id": "3027919b",
   "metadata": {},
   "outputs": [
    {
     "name": "stdout",
     "output_type": "stream",
     "text": [
      "frozenset({1, 2, 3, 4, 5})\n"
     ]
    }
   ],
   "source": [
    "s=frozenset({1,2,3,4,5})\n",
    "print(s)"
   ]
  },
  {
   "cell_type": "markdown",
   "id": "38090de7",
   "metadata": {},
   "source": [
    "#### 24. Check if a set is disjoint with another set."
   ]
  },
  {
   "cell_type": "code",
   "execution_count": 170,
   "id": "74509e25",
   "metadata": {},
   "outputs": [
    {
     "name": "stdout",
     "output_type": "stream",
     "text": [
      "{1, 2, 3, 4} and {8, 5, 6, 7} are disjoint sets\n"
     ]
    }
   ],
   "source": [
    "s1={1,2,3,4}\n",
    "s2={5,6,7,8}\n",
    "if(len(s1.intersection(s2))==0):\n",
    "    print(s1,'and',s2,'are disjoint sets')\n",
    "else:\n",
    "    print(s1,'and',s2,'aren\\'t disjoint sets')"
   ]
  },
  {
   "cell_type": "markdown",
   "id": "8bd0b46f",
   "metadata": {},
   "source": [
    "#### 25. Create a set of squares of numbers from 1 to 5."
   ]
  },
  {
   "cell_type": "code",
   "execution_count": 172,
   "id": "c2451ba8",
   "metadata": {},
   "outputs": [
    {
     "name": "stdout",
     "output_type": "stream",
     "text": [
      "set of squares of numbers from 1 to 5 = {1, 4, 9, 16, 25}\n"
     ]
    }
   ],
   "source": [
    "s=set()\n",
    "for i in range(1,6):\n",
    "    s.add(i**2)\n",
    "print(\"set of squares of numbers from 1 to 5 =\",s)"
   ]
  },
  {
   "cell_type": "markdown",
   "id": "821bc405",
   "metadata": {},
   "source": [
    "#### 26. Filter out all even numbers from a set."
   ]
  },
  {
   "cell_type": "code",
   "execution_count": 174,
   "id": "4d3841f5",
   "metadata": {},
   "outputs": [
    {
     "name": "stdout",
     "output_type": "stream",
     "text": [
      "Set : {2, 3, 5, 6, 7, 8, 9}\n",
      "Even numbers from the set : {8, 2, 6}\n"
     ]
    }
   ],
   "source": [
    "s={8,2,5,9,6,3,7}\n",
    "print(\"Set :\",s)\n",
    "s1={i for i in s if(i%2==0)}\n",
    "print(\"Even numbers from the set :\",s1)"
   ]
  },
  {
   "cell_type": "markdown",
   "id": "5f2abd22",
   "metadata": {},
   "source": [
    "#### 27. Multiply all elements in a set by 2."
   ]
  },
  {
   "cell_type": "code",
   "execution_count": 175,
   "id": "0fa4a570",
   "metadata": {},
   "outputs": [
    {
     "name": "stdout",
     "output_type": "stream",
     "text": [
      "Set : {2, 3, 5, 6, 7, 8, 9}\n",
      "New set : {4, 6, 10, 12, 14, 16, 18}\n"
     ]
    }
   ],
   "source": [
    "s={8,2,5,9,6,3,7}\n",
    "print(\"Set :\",s)\n",
    "s1={i*2 for i in s}\n",
    "print(\"New set :\",s1)"
   ]
  },
  {
   "cell_type": "markdown",
   "id": "09a5fbb6",
   "metadata": {},
   "source": [
    "#### 28. Create a set of random numbers."
   ]
  },
  {
   "cell_type": "code",
   "execution_count": 181,
   "id": "407a3fde",
   "metadata": {},
   "outputs": [
    {
     "name": "stdout",
     "output_type": "stream",
     "text": [
      "Set of random numbers : {37, 38, 9, 45, 15, 48, 55, 88, 89, 91}\n"
     ]
    }
   ],
   "source": [
    "import random\n",
    "s=set()\n",
    "for i in range(10):\n",
    "    s.add(random.randint(1,100))\n",
    "print(\"Set of random numbers :\",s)"
   ]
  },
  {
   "cell_type": "markdown",
   "id": "06bf8f2f",
   "metadata": {},
   "source": [
    "#### 29. Check if a set is empty."
   ]
  },
  {
   "cell_type": "code",
   "execution_count": 191,
   "id": "1498ac5b",
   "metadata": {},
   "outputs": [
    {
     "name": "stdout",
     "output_type": "stream",
     "text": [
      "set()\n",
      "The set is empty\n"
     ]
    }
   ],
   "source": [
    "s=set()\n",
    "print(s)\n",
    "if(len(s)==0):\n",
    "    print(\"The set is empty\")\n",
    "else:\n",
    "    print(\"The set isn't empty\")"
   ]
  },
  {
   "cell_type": "markdown",
   "id": "ce2b78e9",
   "metadata": {},
   "source": [
    "#### 30. Create a nested set (hint: use frozenset)."
   ]
  },
  {
   "cell_type": "code",
   "execution_count": 199,
   "id": "8d596c30",
   "metadata": {},
   "outputs": [
    {
     "data": {
      "text/plain": [
       "{1, 2, 5, 6, frozenset({3, 4})}"
      ]
     },
     "execution_count": 199,
     "metadata": {},
     "output_type": "execute_result"
    }
   ],
   "source": [
    "s={1,2,frozenset({3,4}),5,6}\n",
    "s"
   ]
  },
  {
   "cell_type": "markdown",
   "id": "e0c5fc61",
   "metadata": {},
   "source": [
    "#### 31. Remove an element from a set using the discard method."
   ]
  },
  {
   "cell_type": "code",
   "execution_count": 202,
   "id": "80e3a7db",
   "metadata": {},
   "outputs": [
    {
     "name": "stdout",
     "output_type": "stream",
     "text": [
      "Set : {1, 2, 3, 4, 5, 6}\n",
      "Element to be discarded = 4\n",
      "New set : {1, 2, 3, 5, 6}\n"
     ]
    }
   ],
   "source": [
    "s={1,2,3,4,5,6}\n",
    "print(\"Set :\",s)\n",
    "x=int(input(\"Element to be discarded = \"))\n",
    "s.discard(x)\n",
    "print(\"New set :\",s)"
   ]
  },
  {
   "cell_type": "markdown",
   "id": "6c2d7346",
   "metadata": {},
   "source": [
    "#### 32. Compare two sets."
   ]
  },
  {
   "cell_type": "code",
   "execution_count": 206,
   "id": "0a7b01b1",
   "metadata": {},
   "outputs": [
    {
     "name": "stdout",
     "output_type": "stream",
     "text": [
      "{1, 2, 3} and {3, 4, 5} aren't equal\n"
     ]
    }
   ],
   "source": [
    "s1={1,2,3}\n",
    "s2={3,4,5}\n",
    "if(s1==s2):\n",
    "    print(s1,\"and\",s2,\"are equal\")\n",
    "else:\n",
    "    print(s1,\"and\",s2,\"aren't equal\")\n",
    "    "
   ]
  },
  {
   "cell_type": "markdown",
   "id": "a486ee7f",
   "metadata": {},
   "source": [
    "#### 33. Create a set from a string."
   ]
  },
  {
   "cell_type": "code",
   "execution_count": 208,
   "id": "addff971",
   "metadata": {},
   "outputs": [
    {
     "name": "stdout",
     "output_type": "stream",
     "text": [
      "String : Ichiraku\n",
      "Set : {'a', 'i', 'k', 'c', 'I', 'u', 'h', 'r'}\n"
     ]
    }
   ],
   "source": [
    "string = \"Ichiraku\"\n",
    "print(\"String :\",string)\n",
    "s=set(string)\n",
    "print(\"Set :\",s)"
   ]
  },
  {
   "cell_type": "markdown",
   "id": "2b33f7d4",
   "metadata": {},
   "source": [
    "#### 34. Convert a set of strings to a set of integers."
   ]
  },
  {
   "cell_type": "code",
   "execution_count": 210,
   "id": "6faf08ad",
   "metadata": {},
   "outputs": [
    {
     "name": "stdout",
     "output_type": "stream",
     "text": [
      "Set of strings : {'3', '1', '2', '4'}\n",
      "Set of integers : {1, 2, 3, 4}\n"
     ]
    }
   ],
   "source": [
    "sstr={'1','2','3','4'}\n",
    "print(\"Set of strings :\",sstr)\n",
    "sint = {int(i) for i in sstr}\n",
    "print(\"Set of integers :\",sint)"
   ]
  },
  {
   "cell_type": "markdown",
   "id": "ac0318d0",
   "metadata": {},
   "source": [
    "#### 35. Convert a set of integers to a set of strings."
   ]
  },
  {
   "cell_type": "code",
   "execution_count": 212,
   "id": "9c71b778",
   "metadata": {},
   "outputs": [
    {
     "name": "stdout",
     "output_type": "stream",
     "text": [
      "Set of integers : {1, 2, 3, 4}\n",
      "Set of strings : {'3', '1', '2', '4'}\n"
     ]
    }
   ],
   "source": [
    "sint={1,2,3,4}\n",
    "print(\"Set of integers :\",sint)\n",
    "sstr = {str(i) for i in sint}\n",
    "print(\"Set of strings :\",sstr)"
   ]
  },
  {
   "cell_type": "markdown",
   "id": "53b14fe0",
   "metadata": {},
   "source": [
    "#### 36. Create a set from a tuple."
   ]
  },
  {
   "cell_type": "code",
   "execution_count": 214,
   "id": "26968b1c",
   "metadata": {},
   "outputs": [
    {
     "name": "stdout",
     "output_type": "stream",
     "text": [
      "<class 'tuple'> (1, 2, 3, 4, 4)\n",
      "<class 'set'> {1, 2, 3, 4}\n"
     ]
    }
   ],
   "source": [
    "t=(1,2,3,4,4)\n",
    "print(type(t),t)\n",
    "s=set(t)\n",
    "print(type(s),s)"
   ]
  },
  {
   "cell_type": "markdown",
   "id": "d396ccff",
   "metadata": {},
   "source": [
    "#### 37. Convert a set to a tuple."
   ]
  },
  {
   "cell_type": "code",
   "execution_count": 215,
   "id": "8aabf863",
   "metadata": {},
   "outputs": [
    {
     "name": "stdout",
     "output_type": "stream",
     "text": [
      "<class 'set'> {1, 2, 3, 4, 5}\n",
      "<class 'tuple'> (1, 2, 3, 4, 5)\n"
     ]
    }
   ],
   "source": [
    "s={1,2,3,4,5}\n",
    "print(type(s),s)\n",
    "t=tuple(s)\n",
    "print(type(t),t)"
   ]
  },
  {
   "cell_type": "markdown",
   "id": "10577162",
   "metadata": {},
   "source": [
    "#### 38. Find the maximum value in a set."
   ]
  },
  {
   "cell_type": "code",
   "execution_count": 216,
   "id": "e068a7a6",
   "metadata": {},
   "outputs": [
    {
     "name": "stdout",
     "output_type": "stream",
     "text": [
      "Set : {2, 3, 4, 5, 6, 8, 9}\n",
      "Maximum value = 9\n"
     ]
    }
   ],
   "source": [
    "s={6,2,4,8,9,3,5}\n",
    "print(\"Set :\",s)\n",
    "print(\"Maximum value =\",max(s))"
   ]
  },
  {
   "cell_type": "markdown",
   "id": "27dd7175",
   "metadata": {},
   "source": [
    "#### 39. Find the minimum value in a set."
   ]
  },
  {
   "cell_type": "code",
   "execution_count": 217,
   "id": "fc43666b",
   "metadata": {},
   "outputs": [
    {
     "name": "stdout",
     "output_type": "stream",
     "text": [
      "Set : {2, 3, 4, 5, 6, 8, 9}\n",
      "Minimum value = 2\n"
     ]
    }
   ],
   "source": [
    "s={6,2,4,8,9,3,5}\n",
    "print(\"Set :\",s)\n",
    "print(\"Minimum value =\",min(s))"
   ]
  },
  {
   "cell_type": "markdown",
   "id": "64efc7ee",
   "metadata": {},
   "source": [
    "#### 40. Create a set from user input."
   ]
  },
  {
   "cell_type": "code",
   "execution_count": 220,
   "id": "6171c5c4",
   "metadata": {},
   "outputs": [
    {
     "name": "stdout",
     "output_type": "stream",
     "text": [
      "Enter the no. of elements for the set :5\n",
      "Enter the elements :\n",
      "7\n",
      "6\n",
      "1\n",
      "9\n",
      "3\n",
      "Set : {1, 3, 6, 7, 9}\n"
     ]
    }
   ],
   "source": [
    "n=int(input(\"Enter the no. of elements for the set :\"))\n",
    "print(\"Enter the elements :\")\n",
    "s=set()\n",
    "for i in range(n):\n",
    "    s.add(int(input()))\n",
    "print(\"Set :\",s)"
   ]
  },
  {
   "cell_type": "markdown",
   "id": "3d804afb",
   "metadata": {},
   "source": [
    "#### 41. Check if the intersection of two sets is empty."
   ]
  },
  {
   "cell_type": "code",
   "execution_count": 223,
   "id": "915105ff",
   "metadata": {},
   "outputs": [
    {
     "name": "stdout",
     "output_type": "stream",
     "text": [
      "Set1 : {1, 2, 3}\n",
      "Set2 : {4, 5, 6}\n",
      "Intersection is empty\n"
     ]
    }
   ],
   "source": [
    "s1={1,2,3}\n",
    "print(\"Set1 :\",s1)\n",
    "s2={4,5,6}\n",
    "print(\"Set2 :\",s2)\n",
    "if(len(s1.intersection(s2))):\n",
    "    print(\"Intersection isn't empty\")\n",
    "else:\n",
    "    print(\"Intersection is empty\")"
   ]
  },
  {
   "cell_type": "markdown",
   "id": "dd2a595a",
   "metadata": {},
   "source": [
    "#### 42. Create a set of the first 5 Fibonacci numbers."
   ]
  },
  {
   "cell_type": "code",
   "execution_count": 227,
   "id": "7ba6a213",
   "metadata": {},
   "outputs": [
    {
     "name": "stdout",
     "output_type": "stream",
     "text": [
      "Set of fibonacci numbers : {0, 1, 2, 3}\n"
     ]
    }
   ],
   "source": [
    "s={0,1}\n",
    "a=0\n",
    "b=1\n",
    "n=3\n",
    "for i in range(3):\n",
    "    ss=a+b\n",
    "    s.add(ss)\n",
    "    a=b\n",
    "    b=ss\n",
    "print(\"Set of fibonacci numbers :\",s) #discards one number as the values are stored in a set which doesn't allow repetitions"
   ]
  },
  {
   "cell_type": "markdown",
   "id": "fa60ce84",
   "metadata": {},
   "source": [
    "#### 43. Remove duplicates from a list using sets."
   ]
  },
  {
   "cell_type": "code",
   "execution_count": 228,
   "id": "287b1df8",
   "metadata": {},
   "outputs": [
    {
     "name": "stdout",
     "output_type": "stream",
     "text": [
      "List : [2, 5, 8, 4, 6, 9, 7, 2, 6, 8]\n",
      "Set : {2, 4, 5, 6, 7, 8, 9}\n"
     ]
    }
   ],
   "source": [
    "l=[2,5,8,4,6,9,7,2,6,8]\n",
    "print(\"List :\",l)\n",
    "s=set(l)\n",
    "print(\"Set :\",s)"
   ]
  },
  {
   "cell_type": "markdown",
   "id": "70865f54",
   "metadata": {},
   "source": [
    "#### 44. Check if two sets have the same elements, regardless of their count."
   ]
  },
  {
   "cell_type": "code",
   "execution_count": 229,
   "id": "678f532f",
   "metadata": {},
   "outputs": [
    {
     "name": "stdout",
     "output_type": "stream",
     "text": [
      "Set1 : {8, 2, 4, 6}\n",
      "Set2 : {8, 2, 4, 6}\n",
      "The sets have same elements\n"
     ]
    }
   ],
   "source": [
    "s1={4,8,6,2}\n",
    "print(\"Set1 :\",s1)\n",
    "s2={2,4,6,8}\n",
    "print(\"Set2 :\",s2)\n",
    "if(s1==s2):\n",
    "    print(\"The sets have same elements\")\n",
    "else:\n",
    "    print(\"The sets don't have same elements\")"
   ]
  },
  {
   "cell_type": "markdown",
   "id": "e342ff4c",
   "metadata": {},
   "source": [
    "#### 45. Create a set of the first n powers of 2."
   ]
  },
  {
   "cell_type": "code",
   "execution_count": 235,
   "id": "7cb2b202",
   "metadata": {},
   "outputs": [
    {
     "name": "stdout",
     "output_type": "stream",
     "text": [
      "Enter the value of n : 5\n",
      "first n powers of 2 : {1, 2, 4, 8, 16}\n"
     ]
    }
   ],
   "source": [
    "n=int(input(\"Enter the value of n : \"))\n",
    "s=set()\n",
    "for i in range(n):\n",
    "    s.add(2**i)\n",
    "print(\"first n powers of 2 :\",s)"
   ]
  },
  {
   "cell_type": "markdown",
   "id": "823a9fac",
   "metadata": {},
   "source": [
    "#### 46. Find the common elements between a set and a list."
   ]
  },
  {
   "cell_type": "code",
   "execution_count": 238,
   "id": "c652fb4b",
   "metadata": {},
   "outputs": [
    {
     "name": "stdout",
     "output_type": "stream",
     "text": [
      "Set : {0, 1, 3, 5, 7, 9}\n",
      "List : [1, 8, 0, 4, 6, 1, 8, 9]\n",
      "Common elements between them : {0, 1, 9}\n"
     ]
    }
   ],
   "source": [
    "s={5,9,7,1,0,3}\n",
    "print(\"Set :\",s)\n",
    "l=[1,8,0,4,6,1,8,9]\n",
    "print(\"List :\",l)\n",
    "print(\"Common elements between them :\",s.intersection(l))"
   ]
  },
  {
   "cell_type": "markdown",
   "id": "b182cb15",
   "metadata": {},
   "source": [
    "#### 47. Create a set of the first n triangular numbers."
   ]
  },
  {
   "cell_type": "code",
   "execution_count": 243,
   "id": "f8131286",
   "metadata": {},
   "outputs": [
    {
     "name": "stdout",
     "output_type": "stream",
     "text": [
      "Enter the value of n : 6\n",
      "First n triangular numbers : {1, 3, 6, 10, 15, 21}\n"
     ]
    }
   ],
   "source": [
    "n=int(input(\"Enter the value of n : \"))\n",
    "s=set()\n",
    "for i in range(1,n+1):\n",
    "    s.add((i*(i+1))//2)\n",
    "print(\"First n triangular numbers :\",s)"
   ]
  },
  {
   "cell_type": "markdown",
   "id": "75b93885",
   "metadata": {},
   "source": [
    "#### 48. Check if a set contains another set as a subset."
   ]
  },
  {
   "cell_type": "code",
   "execution_count": 2,
   "id": "6001c587",
   "metadata": {},
   "outputs": [
    {
     "name": "stdout",
     "output_type": "stream",
     "text": [
      "{1, 2, 3, 4, 5, 6} contains {2, 4, 6} as a subset\n"
     ]
    }
   ],
   "source": [
    "s={1,2,3,4,5,6}\n",
    "ss={2,6,4}\n",
    "if(ss.issubset(s)):\n",
    "    print(s,\"contains\",ss,\"as a subset\")\n",
    "else:\n",
    "    print(s,\"doesn't contain\",ss,\"as a subset\")"
   ]
  },
  {
   "cell_type": "markdown",
   "id": "3be126b2",
   "metadata": {},
   "source": [
    "#### 49. Create a set of alternating 1s and 0s of length n."
   ]
  },
  {
   "cell_type": "code",
   "execution_count": 9,
   "id": "012f7fff",
   "metadata": {},
   "outputs": [
    {
     "name": "stdout",
     "output_type": "stream",
     "text": [
      "Enter the value of n : 5\n",
      "Set : {0, 1}\n"
     ]
    }
   ],
   "source": [
    "n=int(input(\"Enter the value of n : \"))\n",
    "s={i%2 for i in range(1,n+1)}\n",
    "print(\"Set :\",s)                        #set, thus no repetition will be present"
   ]
  },
  {
   "cell_type": "markdown",
   "id": "581cebc2",
   "metadata": {},
   "source": [
    "#### 50. Merge multiple sets into one."
   ]
  },
  {
   "cell_type": "code",
   "execution_count": 13,
   "id": "8f904d01",
   "metadata": {},
   "outputs": [
    {
     "name": "stdout",
     "output_type": "stream",
     "text": [
      "The sets : {1, 2, 3} {4, 5, 6} {8, 9, 7} {10, 11, 12}\n",
      "Merged set : {1, 2, 3, 4, 5, 6, 7, 8, 9, 10, 11, 12}\n"
     ]
    }
   ],
   "source": [
    "s1={1,2,3}\n",
    "s2={4,5,6}\n",
    "s3={7,8,9}\n",
    "s4={10,11,12}\n",
    "print(\"The sets :\",s1,s2,s3,s4)\n",
    "s=((s1.union(s2)).union(s3)).union(s4)\n",
    "print(\"Merged set :\",s)"
   ]
  },
  {
   "cell_type": "code",
   "execution_count": null,
   "id": "320c2a74",
   "metadata": {},
   "outputs": [],
   "source": []
  }
 ],
 "metadata": {
  "kernelspec": {
   "display_name": "Python 3",
   "language": "python",
   "name": "python3"
  },
  "language_info": {
   "codemirror_mode": {
    "name": "ipython",
    "version": 3
   },
   "file_extension": ".py",
   "mimetype": "text/x-python",
   "name": "python",
   "nbconvert_exporter": "python",
   "pygments_lexer": "ipython3",
   "version": "3.8.8"
  }
 },
 "nbformat": 4,
 "nbformat_minor": 5
}
