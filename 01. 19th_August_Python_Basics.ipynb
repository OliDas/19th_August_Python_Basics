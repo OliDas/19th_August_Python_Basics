{
 "cells": [
  {
   "cell_type": "markdown",
   "id": "bcda84c5",
   "metadata": {},
   "source": [
    "### Python Basics Variable"
   ]
  },
  {
   "cell_type": "markdown",
   "id": "481c0ee9",
   "metadata": {},
   "source": [
    "#### 1. Declare two variables, 'x' and 'y', and assign them integer values. Swap the values of these variables without using any temporary variable."
   ]
  },
  {
   "cell_type": "code",
   "execution_count": 1,
   "id": "810d49ab",
   "metadata": {},
   "outputs": [
    {
     "name": "stdout",
     "output_type": "stream",
     "text": [
      "Initial Values :  x =  10 y =  20\n",
      "Swapped Values :  x =  20 y =  10\n"
     ]
    }
   ],
   "source": [
    "x = 10 \n",
    "y = 20\n",
    "print (\"Initial Values : \", \"x = \", x, \"y = \", y)\n",
    "x, y = y, x\n",
    "print (\"Swapped Values : \", \"x = \", x, \"y = \", y)"
   ]
  },
  {
   "cell_type": "markdown",
   "id": "a5a94d51",
   "metadata": {},
   "source": [
    "#### 2. Create a program that calculates the area of a rectangle. Take the length and width as inputs from the user and store them in variables. Calculate and display the area."
   ]
  },
  {
   "cell_type": "code",
   "execution_count": 2,
   "id": "e927238a",
   "metadata": {},
   "outputs": [
    {
     "name": "stdout",
     "output_type": "stream",
     "text": [
      "Enter length : 10\n",
      "Enter width : 20\n",
      "Area =  200\n"
     ]
    }
   ],
   "source": [
    "l = int(input(\"Enter length : \"))\n",
    "w = int(input(\"Enter width : \"))\n",
    "a = l*w\n",
    "print(\"Area = \",a)"
   ]
  },
  {
   "cell_type": "markdown",
   "id": "560ba479",
   "metadata": {},
   "source": [
    "#### 3. Write a Python program that converts temperatures from Celsius to Fahrenheit. Take the temperature in Celsius as input, store it in a variable, convert it to Fahrenheit, and display the result. "
   ]
  },
  {
   "cell_type": "code",
   "execution_count": 3,
   "id": "88616f5c",
   "metadata": {},
   "outputs": [
    {
     "name": "stdout",
     "output_type": "stream",
     "text": [
      "Enter temp. in Celcius : 67.4\n",
      "Temp. in Fahrenheit =  153.32\n"
     ]
    }
   ],
   "source": [
    "c = float(input(\"Enter temp. in Celcius : \"))\n",
    "f = (c * (9/5))+32\n",
    "print(\"Temp. in Fahrenheit = \",f)"
   ]
  },
  {
   "cell_type": "markdown",
   "id": "fc44f25f",
   "metadata": {},
   "source": [
    "### String Based Questions "
   ]
  },
  {
   "cell_type": "markdown",
   "id": "13c9545d",
   "metadata": {},
   "source": [
    "#### 1. Write a Python program that takes a string as input and prints the length of the string."
   ]
  },
  {
   "cell_type": "code",
   "execution_count": 4,
   "id": "32b83641",
   "metadata": {},
   "outputs": [
    {
     "name": "stdout",
     "output_type": "stream",
     "text": [
      "Enter a string : My name is Kakashi\n",
      "Length of the string = 18\n"
     ]
    }
   ],
   "source": [
    "s = input(\"Enter a string : \")\n",
    "print(\"Length of the string =\", len(s))"
   ]
  },
  {
   "cell_type": "markdown",
   "id": "2284a1a8",
   "metadata": {},
   "source": [
    "#### 2. Create a program that takes a sentence from the user and counts the number of vowels (a, e, i, o, u) in the string."
   ]
  },
  {
   "cell_type": "code",
   "execution_count": 5,
   "id": "657f064d",
   "metadata": {},
   "outputs": [
    {
     "name": "stdout",
     "output_type": "stream",
     "text": [
      "Enter a string : Itachi Uchiha\n",
      "No. of vowels in the string = 6\n"
     ]
    }
   ],
   "source": [
    "s = input(\"Enter a string : \")\n",
    "c=0\n",
    "for i in s:\n",
    "    if(i in \"AEIOUaeiou\") :\n",
    "        c+=1\n",
    "print(\"No. of vowels in the string =\",c)"
   ]
  },
  {
   "cell_type": "markdown",
   "id": "e61c531a",
   "metadata": {},
   "source": [
    "#### 3. Given a string, reverse the order of characters using string slicing and print the reversed string. "
   ]
  },
  {
   "cell_type": "code",
   "execution_count": 6,
   "id": "0cf1e625",
   "metadata": {},
   "outputs": [
    {
     "name": "stdout",
     "output_type": "stream",
     "text": [
      "Enter a string : Mangekyou Sharingan\n",
      "Reversed String : nagnirahS uoykegnaM\n"
     ]
    }
   ],
   "source": [
    "s = input(\"Enter a string : \")\n",
    "print(\"Reversed String :\", s[ : :-1])"
   ]
  },
  {
   "cell_type": "markdown",
   "id": "35eaa4e9",
   "metadata": {},
   "source": [
    "#### 4. Write a program that takes a string as input and checks if it is a palindrome (reads the same forwards and backwards)."
   ]
  },
  {
   "cell_type": "code",
   "execution_count": 7,
   "id": "1f55eeda",
   "metadata": {},
   "outputs": [
    {
     "name": "stdout",
     "output_type": "stream",
     "text": [
      "Enter a string : madam\n",
      "The string is Palindrome\n"
     ]
    }
   ],
   "source": [
    "s = input(\"Enter a string : \")\n",
    "rev = s[::-1]\n",
    "if (s==rev):\n",
    "    print(\"The string is Palindrome\")\n",
    "else:\n",
    "    print(\"The string isn't Palindrome\")"
   ]
  },
  {
   "cell_type": "markdown",
   "id": "23c59b8e",
   "metadata": {},
   "source": [
    "#### 5. Create a program that takes a string as input and removes all the spaces from it. Print the modified string without spaces."
   ]
  },
  {
   "cell_type": "code",
   "execution_count": 8,
   "id": "e0f21e21",
   "metadata": {},
   "outputs": [
    {
     "name": "stdout",
     "output_type": "stream",
     "text": [
      "Enter a string : The Ghost of the Uchiha\n",
      "Modified String : TheGhostoftheUchiha\n"
     ]
    }
   ],
   "source": [
    "s = input(\"Enter a string : \")\n",
    "s1=''\n",
    "for i in s:\n",
    "    if(i != ' '):\n",
    "        s1=s1+i\n",
    "print(\"Modified String :\",s1)"
   ]
  },
  {
   "cell_type": "code",
   "execution_count": null,
   "id": "37c64fe9",
   "metadata": {},
   "outputs": [],
   "source": []
  }
 ],
 "metadata": {
  "kernelspec": {
   "display_name": "Python 3",
   "language": "python",
   "name": "python3"
  },
  "language_info": {
   "codemirror_mode": {
    "name": "ipython",
    "version": 3
   },
   "file_extension": ".py",
   "mimetype": "text/x-python",
   "name": "python",
   "nbconvert_exporter": "python",
   "pygments_lexer": "ipython3",
   "version": "3.8.8"
  }
 },
 "nbformat": 4,
 "nbformat_minor": 5
}
