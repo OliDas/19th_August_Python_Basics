{
 "cells": [
  {
   "cell_type": "markdown",
   "id": "ef656efb",
   "metadata": {},
   "source": [
    "## For Loop :-"
   ]
  },
  {
   "cell_type": "markdown",
   "id": "b7d60ee9",
   "metadata": {},
   "source": [
    "#### 1. Write a Python program to print numbers from 1 to 10 using a for loop."
   ]
  },
  {
   "cell_type": "code",
   "execution_count": 1,
   "id": "6fcc493a",
   "metadata": {},
   "outputs": [
    {
     "name": "stdout",
     "output_type": "stream",
     "text": [
      "1 2 3 4 5 6 7 8 9 10 "
     ]
    }
   ],
   "source": [
    "for i in range(1,11):\n",
    "    print(i,end=' ')"
   ]
  },
  {
   "cell_type": "markdown",
   "id": "6fc1609f",
   "metadata": {},
   "source": [
    "#### 2. Explain the difference between a for loop and a while loop in Python."
   ]
  },
  {
   "cell_type": "code",
   "execution_count": null,
   "id": "a141dbcf",
   "metadata": {},
   "outputs": [],
   "source": [
    "'''\n",
    "FOR LOOP\n",
    "--------\n",
    "\n",
    "For loops are used when the no. of iterations needed are known.\n",
    "They are usually used to loop through any iterable object (list, string etc.)\n",
    "\n",
    "WHILE LOOP\n",
    "----------\n",
    "\n",
    "While loops are used when the number of iterations are unknown.\n",
    "They are used to execute a block of code multiple times until and unless the specified condition goes false\n",
    "\n",
    "'''"
   ]
  },
  {
   "cell_type": "markdown",
   "id": "afb7cda4",
   "metadata": {},
   "source": [
    "#### 3. Write a Python program to calculate the sum of all numbers from 1 to 100 using a for loop."
   ]
  },
  {
   "cell_type": "code",
   "execution_count": 3,
   "id": "c2b6a740",
   "metadata": {},
   "outputs": [
    {
     "name": "stdout",
     "output_type": "stream",
     "text": [
      "Sum of all numbers from 1 to 100 : 5050\n"
     ]
    }
   ],
   "source": [
    "s=0\n",
    "for i in range(1,101):\n",
    "    s+=i\n",
    "print(\"Sum of all numbers from 1 to 100 :\",s)"
   ]
  },
  {
   "cell_type": "markdown",
   "id": "46868b8b",
   "metadata": {},
   "source": [
    "#### 4. How do you iterate through a list using a for loop in Python?"
   ]
  },
  {
   "cell_type": "code",
   "execution_count": 6,
   "id": "fea3e648",
   "metadata": {},
   "outputs": [
    {
     "name": "stdout",
     "output_type": "stream",
     "text": [
      "List :\n",
      "1 2 3 4 5 "
     ]
    }
   ],
   "source": [
    "l=[1,2,3,4,5]\n",
    "print(\"List :\")\n",
    "for i in l:\n",
    "    print(i,end=' ')"
   ]
  },
  {
   "cell_type": "markdown",
   "id": "05a56e7f",
   "metadata": {},
   "source": [
    "#### 5. Write a Python program to find the product of all elements in a list using a for loop."
   ]
  },
  {
   "cell_type": "code",
   "execution_count": 7,
   "id": "374671dc",
   "metadata": {},
   "outputs": [
    {
     "name": "stdout",
     "output_type": "stream",
     "text": [
      "List : [1, 2, 3, 4, 5]\n",
      "Product of all elements in the list = 120\n"
     ]
    }
   ],
   "source": [
    "l=[1,2,3,4,5]\n",
    "print(\"List :\",l)\n",
    "p=1\n",
    "for i in l:\n",
    "    p*=i\n",
    "print(\"Product of all elements in the list =\",p)"
   ]
  },
  {
   "cell_type": "markdown",
   "id": "cba17bee",
   "metadata": {},
   "source": [
    "#### 6. Create a Python program that prints all even numbers from 1 to 20 using a for loop."
   ]
  },
  {
   "cell_type": "code",
   "execution_count": 10,
   "id": "c13bfe03",
   "metadata": {},
   "outputs": [
    {
     "name": "stdout",
     "output_type": "stream",
     "text": [
      "All even numbers from 1 to 20 : \n",
      "2 4 6 8 10 12 14 16 18 20 "
     ]
    }
   ],
   "source": [
    "print(\"All even numbers from 1 to 20 : \")\n",
    "for i in range(2,21,2):\n",
    "    print(i,end=' ')"
   ]
  },
  {
   "cell_type": "markdown",
   "id": "d70c0180",
   "metadata": {},
   "source": [
    "#### 7. Write a Python program that calculates the factorial of a number using a for loop."
   ]
  },
  {
   "cell_type": "code",
   "execution_count": 12,
   "id": "191947b4",
   "metadata": {},
   "outputs": [
    {
     "name": "stdout",
     "output_type": "stream",
     "text": [
      "Enter a number : 6\n",
      "Factorial = 720\n"
     ]
    }
   ],
   "source": [
    "n=int(input(\"Enter a number : \"))\n",
    "f=1\n",
    "for i in range(1,n+1):\n",
    "    f*=i\n",
    "print(\"Factorial =\",f)"
   ]
  },
  {
   "cell_type": "markdown",
   "id": "4dc3a83f",
   "metadata": {},
   "source": [
    "#### 8. How can you iterate through the characters of a string using a for loop in Python?"
   ]
  },
  {
   "cell_type": "code",
   "execution_count": 13,
   "id": "5e1239f7",
   "metadata": {},
   "outputs": [
    {
     "name": "stdout",
     "output_type": "stream",
     "text": [
      "Kakashi"
     ]
    }
   ],
   "source": [
    "s = \"Kakashi\"\n",
    "for i in s:\n",
    "    print(i,end='')"
   ]
  },
  {
   "cell_type": "markdown",
   "id": "c443edfb",
   "metadata": {},
   "source": [
    "#### 9. Write a Python program to find the largest number in a list using a for loop.\n"
   ]
  },
  {
   "cell_type": "code",
   "execution_count": 14,
   "id": "c453236a",
   "metadata": {},
   "outputs": [
    {
     "name": "stdout",
     "output_type": "stream",
     "text": [
      "List : [5, 7, 9, 2, 6, 1, 4, 3]\n",
      "Largest number = 9\n"
     ]
    }
   ],
   "source": [
    "l=[5,7,9,2,6,1,4,3]\n",
    "print(\"List :\",l)\n",
    "largest=l[0]\n",
    "for i in l:\n",
    "    if(i>largest):\n",
    "        largest=i\n",
    "print(\"Largest number =\",largest)"
   ]
  },
  {
   "cell_type": "markdown",
   "id": "e845d8d7",
   "metadata": {},
   "source": [
    "#### 10. Create a Python program that prints the Fibonacci sequence up to a specified limit using a for loop."
   ]
  },
  {
   "cell_type": "code",
   "execution_count": 23,
   "id": "3599a0ad",
   "metadata": {},
   "outputs": [
    {
     "name": "stdout",
     "output_type": "stream",
     "text": [
      "Enter the limit : 50\n",
      "Fibonacci series : 0 1 1 2 3 5 8 13 21 34 "
     ]
    }
   ],
   "source": [
    "n=int(input(\"Enter the limit : \"))\n",
    "a=0\n",
    "b=1\n",
    "s=0\n",
    "print(\"Fibonacci series :\",a,b,end=' ')\n",
    "while(True):\n",
    "    s=a+b\n",
    "    if(s>n):\n",
    "        break\n",
    "    print(s,end=' ')\n",
    "    a=b\n",
    "    b=s"
   ]
  },
  {
   "cell_type": "markdown",
   "id": "fc591221",
   "metadata": {},
   "source": [
    "#### 11. Write a Python program to count the number of vowels in a given string using a for loop."
   ]
  },
  {
   "cell_type": "code",
   "execution_count": 26,
   "id": "1ac175e5",
   "metadata": {},
   "outputs": [
    {
     "name": "stdout",
     "output_type": "stream",
     "text": [
      "String : Artificial Intelligence\n",
      "No. of vowels = 10\n"
     ]
    }
   ],
   "source": [
    "s='Artificial Intelligence'\n",
    "print(\"String :\",s)\n",
    "c=0\n",
    "for i in s.lower():\n",
    "    if(i in 'aeiou'):\n",
    "        c+=1\n",
    "print(\"No. of vowels =\",c)"
   ]
  },
  {
   "cell_type": "markdown",
   "id": "bcc78162",
   "metadata": {},
   "source": [
    "#### 12. Create a Python program that generates a multiplication table for a given number using a for loop."
   ]
  },
  {
   "cell_type": "code",
   "execution_count": 30,
   "id": "a369de57",
   "metadata": {},
   "outputs": [
    {
     "name": "stdout",
     "output_type": "stream",
     "text": [
      "Enter a number for it's multiplication table : 37\n",
      "\n",
      "Multiplication table of 37 :\n",
      "37 x 1 = 37\n",
      "37 x 2 = 74\n",
      "37 x 3 = 111\n",
      "37 x 4 = 148\n",
      "37 x 5 = 185\n",
      "37 x 6 = 222\n",
      "37 x 7 = 259\n",
      "37 x 8 = 296\n",
      "37 x 9 = 333\n",
      "37 x 10 = 370\n"
     ]
    }
   ],
   "source": [
    "n=int(input(\"Enter a number for it's multiplication table : \"))\n",
    "print(\"\\nMultiplication table of\",n,':')\n",
    "for i in range(1,11):\n",
    "    print(n,'x',i,'=',n*i)"
   ]
  },
  {
   "cell_type": "markdown",
   "id": "53503fbe",
   "metadata": {},
   "source": [
    "#### 13. Write a Python program to reverse a list using a for loop.\n"
   ]
  },
  {
   "cell_type": "code",
   "execution_count": 41,
   "id": "0ce1d6de",
   "metadata": {},
   "outputs": [
    {
     "name": "stdout",
     "output_type": "stream",
     "text": [
      "List : [5, 7, 9, 2, 6, 1, 4, 3, 8]\n",
      "Reversed list : [8, 3, 4, 1, 6, 2, 9, 7, 5]\n"
     ]
    }
   ],
   "source": [
    "l=[5,7,9,2,6,1,4,3,8]\n",
    "print(\"List :\",l)\n",
    "llen=len(l)\n",
    "for i in range(int((llen-1)/2)+1):\n",
    "    l[i],l[llen-1-i]=l[llen-1-i],l[i]\n",
    "print(\"Reversed list :\",l)"
   ]
  },
  {
   "cell_type": "markdown",
   "id": "310b7687",
   "metadata": {},
   "source": [
    "#### 14. Write a Python program to find the common elements between two lists using a for loop.\n"
   ]
  },
  {
   "cell_type": "code",
   "execution_count": 45,
   "id": "7becb626",
   "metadata": {},
   "outputs": [
    {
     "name": "stdout",
     "output_type": "stream",
     "text": [
      "List1 : [3, 2, 9, 6, 4, 7]\n",
      "List2 : [4, 9, 7, 1, 5, 8]\n",
      "\n",
      "Common elements : 9 4 7 "
     ]
    }
   ],
   "source": [
    "l1=[3,2,9,6,4,7]\n",
    "print(\"List1 :\",l1)\n",
    "l2=[4,9,7,1,5,8]\n",
    "print(\"List2 :\",l2)\n",
    "print(\"\\nCommon elements : \",end='')\n",
    "for i in l1:\n",
    "    if(i in l2):\n",
    "        print(i,end=' ')"
   ]
  },
  {
   "cell_type": "markdown",
   "id": "8b1d959e",
   "metadata": {},
   "source": [
    "#### 15. Explain how to use a for loop to iterate through the keys and values of a dictionary in Python."
   ]
  },
  {
   "cell_type": "code",
   "execution_count": 63,
   "id": "e138832f",
   "metadata": {},
   "outputs": [
    {
     "name": "stdout",
     "output_type": "stream",
     "text": [
      "dictionary - {1: 'a', 2: 'b', 3: 'c', 4: 'd'}\n",
      "\n",
      "keys\n",
      "1 2 3 4 \n",
      "\n",
      "values\n",
      "a b c d \n",
      "\n",
      "keys and values\n",
      "1 : a\n",
      "2 : b\n",
      "3 : c\n",
      "4 : d\n"
     ]
    }
   ],
   "source": [
    "d={1:'a', 2:'b', 3:'c', 4:'d'}\n",
    "print(\"dictionary -\",d)\n",
    "\n",
    "#just keys\n",
    "print(\"\\nkeys\")\n",
    "for i in d.keys():\n",
    "    print(i,end=' ')\n",
    "    \n",
    "#just values\n",
    "print(\"\\n\\nvalues\")\n",
    "for i in d.values():\n",
    "    print(i,end=' ')\n",
    "    \n",
    "#for both, keys and values \n",
    "print(\"\\n\\nkeys and values\")\n",
    "for key,val in d.items():\n",
    "    print(key,':',val)"
   ]
  },
  {
   "cell_type": "markdown",
   "id": "d181d8fd",
   "metadata": {},
   "source": [
    "#### 16. Write a Python program to find the GCD (Greatest Common Divisor) of two numbers using a for loop.\n"
   ]
  },
  {
   "cell_type": "code",
   "execution_count": 86,
   "id": "36c6db47",
   "metadata": {},
   "outputs": [
    {
     "name": "stdout",
     "output_type": "stream",
     "text": [
      "Enter 1st number : 32\n",
      "Enter 2nd number : 92\n",
      "GCD = 4\n"
     ]
    }
   ],
   "source": [
    "a=int(input(\"Enter 1st number : \"))\n",
    "b=int(input(\"Enter 2nd number : \"))\n",
    "a,b = max(a,b),min(a,b)\n",
    "for i in range(b,0,-1):\n",
    "    if(a%i == 0 and b%i == 0):\n",
    "        print(\"GCD =\",i)\n",
    "        break"
   ]
  },
  {
   "cell_type": "markdown",
   "id": "39330d96",
   "metadata": {},
   "source": [
    "#### 17. Create a Python program that checks if a string is a palindrome using a for loop.\n"
   ]
  },
  {
   "cell_type": "code",
   "execution_count": 98,
   "id": "7b1f5d22",
   "metadata": {},
   "outputs": [
    {
     "name": "stdout",
     "output_type": "stream",
     "text": [
      "Not palindrome\n"
     ]
    }
   ],
   "source": [
    "s=\"madaam\"\n",
    "l=len(s)\n",
    "f=1\n",
    "for i in range(int(l/2)+1):\n",
    "    if(s[i]!=s[l-1-i]):\n",
    "        f=0\n",
    "        print(\"Not palindrome\")\n",
    "        break\n",
    "if(f==1):\n",
    "    print(\"Palindrome\")"
   ]
  },
  {
   "cell_type": "markdown",
   "id": "974f5215",
   "metadata": {},
   "source": [
    "#### 18. Write a Python program to remove duplicates from a list using a for loop."
   ]
  },
  {
   "cell_type": "code",
   "execution_count": 103,
   "id": "469aec66",
   "metadata": {},
   "outputs": [
    {
     "name": "stdout",
     "output_type": "stream",
     "text": [
      "List : [3, 6, 1, 3, 8, 9, 5, 2, 1, 7, 9]\n",
      "List with no duplicates : [3, 6, 1, 8, 9, 5, 2, 7]\n"
     ]
    }
   ],
   "source": [
    "l=[3,6,1,3,8,9,5,2,1,7,9]\n",
    "print(\"List :\",l)\n",
    "l1=[]\n",
    "for i in l:\n",
    "    if(i not in l1):\n",
    "        l1.append(i)\n",
    "    \n",
    "l=l1\n",
    "print(\"List with no duplicates :\",l)"
   ]
  },
  {
   "cell_type": "markdown",
   "id": "34eddd41",
   "metadata": {},
   "source": [
    "#### 19. Create a Python program that counts the number of words in a sentence using a for loop.\n"
   ]
  },
  {
   "cell_type": "code",
   "execution_count": 110,
   "id": "97a5aa9c",
   "metadata": {},
   "outputs": [
    {
     "name": "stdout",
     "output_type": "stream",
     "text": [
      "Sentence : Have you watched 'I want to eat your pancreas'?\n",
      "No. of words = 9\n"
     ]
    }
   ],
   "source": [
    "s=\"Have you watched 'I want to eat your pancreas'?\"\n",
    "print(\"Sentence :\",s)\n",
    "if(s[len(s)-1]!=' '):\n",
    "    s+=' '\n",
    "w=0\n",
    "for i in s:\n",
    "    if(i==' '):\n",
    "        w+=1\n",
    "print(\"No. of words =\",w)"
   ]
  },
  {
   "cell_type": "markdown",
   "id": "dc297066",
   "metadata": {},
   "source": [
    "#### 20. Write a Python program to find the sum of all odd numbers from 1 to 50 using a for loop.\n"
   ]
  },
  {
   "cell_type": "code",
   "execution_count": 114,
   "id": "c7957446",
   "metadata": {},
   "outputs": [
    {
     "name": "stdout",
     "output_type": "stream",
     "text": [
      "Sum of all odd numbers from 1 to 50 = 625\n"
     ]
    }
   ],
   "source": [
    "s=0\n",
    "for i in range(1,51,2):\n",
    "    s+=i\n",
    "print(\"Sum of all odd numbers from 1 to 50 =\",s)"
   ]
  },
  {
   "cell_type": "markdown",
   "id": "c25c9cea",
   "metadata": {},
   "source": [
    "#### 21. Write a Python program that checks if a given year is a leap year using a for loop.\n"
   ]
  },
  {
   "cell_type": "code",
   "execution_count": 115,
   "id": "c6d7a66b",
   "metadata": {},
   "outputs": [
    {
     "name": "stdout",
     "output_type": "stream",
     "text": [
      "Enter a year : 4318\n",
      "Not leap year\n"
     ]
    }
   ],
   "source": [
    "y=int(input(\"Enter a year : \"))\n",
    "if (y%4==0 and y%100!=0) or (y%400==0):\n",
    "    print(\"Leap year\")\n",
    "else:\n",
    "    print(\"Not leap year\")"
   ]
  },
  {
   "cell_type": "markdown",
   "id": "e22492eb",
   "metadata": {},
   "source": [
    "#### 22. Create a Python program that calculates the square root of a number using a for loop.\n"
   ]
  },
  {
   "cell_type": "code",
   "execution_count": 121,
   "id": "86835971",
   "metadata": {},
   "outputs": [
    {
     "name": "stdout",
     "output_type": "stream",
     "text": [
      "Enter a numnber : 8100\n",
      "Square root of 8100 = 90\n"
     ]
    }
   ],
   "source": [
    "    \n",
    "n = int(input(\"Enter a numnber : \"))\n",
    "\n",
    "for i in range(1,n):\n",
    "    if(i*i==n):\n",
    "        break\n",
    "        \n",
    "print(\"Square root of\",n,'=',i)"
   ]
  },
  {
   "cell_type": "markdown",
   "id": "9784ceac",
   "metadata": {},
   "source": [
    "#### 23. Write a Python program to find the LCM (Least Common Multiple) of two numbers using a for loop."
   ]
  },
  {
   "cell_type": "code",
   "execution_count": 158,
   "id": "213e032e",
   "metadata": {},
   "outputs": [
    {
     "name": "stdout",
     "output_type": "stream",
     "text": [
      "Enter 1st number : 32\n",
      "Enter 2nd number : 68\n",
      "LCM = 544\n"
     ]
    }
   ],
   "source": [
    "a=int(input(\"Enter 1st number : \"))\n",
    "b=int(input(\"Enter 2nd number : \"))\n",
    "\n",
    "a,b = min(a,b), max(a,b)\n",
    "for i in range(a,(a*b)+1):\n",
    "    if(i%a==0 and i%b==0):\n",
    "        print(\"LCM =\",i)\n",
    "        break"
   ]
  },
  {
   "cell_type": "markdown",
   "id": "ae1c3657",
   "metadata": {},
   "source": [
    "## If else :\n"
   ]
  },
  {
   "cell_type": "markdown",
   "id": "e9284bad",
   "metadata": {},
   "source": [
    "#### 1. Write a Python program to check if a number is positive, negative, or zero using an if-else statement."
   ]
  },
  {
   "cell_type": "code",
   "execution_count": 159,
   "id": "83c8f224",
   "metadata": {},
   "outputs": [
    {
     "name": "stdout",
     "output_type": "stream",
     "text": [
      "Enter a number : -69\n",
      "negative number\n"
     ]
    }
   ],
   "source": [
    "n=int(input(\"Enter a number : \"))\n",
    "if(n>0):\n",
    "    print(\"positive number\")\n",
    "elif(n==0):\n",
    "    print(\"number is zero\")\n",
    "else:\n",
    "    print(\"negative number\")"
   ]
  },
  {
   "cell_type": "markdown",
   "id": "9c8197d4",
   "metadata": {},
   "source": [
    "#### 2. Create a Python program that checks if a given number is even or odd using an if-else statement."
   ]
  },
  {
   "cell_type": "code",
   "execution_count": 160,
   "id": "da4e09e6",
   "metadata": {},
   "outputs": [
    {
     "name": "stdout",
     "output_type": "stream",
     "text": [
      "Enter a number : 8791\n",
      "Odd\n"
     ]
    }
   ],
   "source": [
    "n=int(input(\"Enter a number : \"))\n",
    "if(n%2==0):\n",
    "    print(\"Even\")\n",
    "else:\n",
    "    print(\"Odd\")"
   ]
  },
  {
   "cell_type": "markdown",
   "id": "ba78a334",
   "metadata": {},
   "source": [
    "#### 3. How can you use nested if-else statements in Python, and provide an example?"
   ]
  },
  {
   "cell_type": "code",
   "execution_count": 165,
   "id": "00c3c95f",
   "metadata": {},
   "outputs": [
    {
     "name": "stdout",
     "output_type": "stream",
     "text": [
      "Do you watch anime? (y/n) : y\n",
      "Nice.. Have you watched Naruto yet? (y/n) : n\n",
      "You should definitely give it a try.\n"
     ]
    }
   ],
   "source": [
    "'''\n",
    "nested if-else can be used when we want to check a second condition further after a certain condition is already true\n",
    "'''\n",
    "\n",
    "c = input(\"Do you watch anime? (y/n) : \").lower()\n",
    "if(c=='y'):\n",
    "    c1 = input(\"Nice.. Have you watched Naruto yet? (y/n) : \").lower()\n",
    "    if(c1=='y'):\n",
    "        print(\"Amazing !!!\")\n",
    "    else:\n",
    "        print(\"You should definitely give it a try.\")\n",
    "else:\n",
    "    print(\"Okay. Bye.\")"
   ]
  },
  {
   "cell_type": "markdown",
   "id": "a70063c0",
   "metadata": {},
   "source": [
    "#### 4. Write a Python program to determine the largest of three numbers using if-else.\n"
   ]
  },
  {
   "cell_type": "code",
   "execution_count": 166,
   "id": "8de7f29d",
   "metadata": {},
   "outputs": [
    {
     "name": "stdout",
     "output_type": "stream",
     "text": [
      "Enter 3 numbers : \n",
      "78\n",
      "92\n",
      "35\n",
      "Largest = 92\n"
     ]
    }
   ],
   "source": [
    "print(\"Enter 3 numbers : \")\n",
    "l = [int(input()) for i in range(3)]\n",
    "if(l[2]<l[0]>l[1]):\n",
    "    print(\"Largest =\",l[0])\n",
    "elif(l[0]<l[1]>l[2]):\n",
    "    print(\"Largest =\",l[1])\n",
    "else:\n",
    "    print(\"Largest =\",l[2])"
   ]
  },
  {
   "cell_type": "markdown",
   "id": "be229313",
   "metadata": {},
   "source": [
    "#### 5. Write a Python program that calculates the absolute value of a number using if-else.\n"
   ]
  },
  {
   "cell_type": "code",
   "execution_count": 167,
   "id": "d08ce51d",
   "metadata": {},
   "outputs": [
    {
     "name": "stdout",
     "output_type": "stream",
     "text": [
      "Enter a number : -7\n",
      "Absolute value = 7\n"
     ]
    }
   ],
   "source": [
    "n=int(input(\"Enter a number : \"))\n",
    "if(n>=0):\n",
    "    print(\"Absolute value =\",n)\n",
    "else:\n",
    "    print(\"Absolute value =\",n*-1)"
   ]
  },
  {
   "cell_type": "markdown",
   "id": "2f538b09",
   "metadata": {},
   "source": [
    "#### 6. Create a Python program that checks if a given character is a vowel or consonant using if-else.\n"
   ]
  },
  {
   "cell_type": "code",
   "execution_count": 168,
   "id": "16bb1059",
   "metadata": {},
   "outputs": [
    {
     "name": "stdout",
     "output_type": "stream",
     "text": [
      "Enter an alphabet : D\n",
      "Consonent\n"
     ]
    }
   ],
   "source": [
    "c=input(\"Enter an alphabet : \")\n",
    "if(c.lower() in \"aeiou\"):\n",
    "    print(\"Vowel\")\n",
    "else:\n",
    "    print(\"Consonent\")"
   ]
  },
  {
   "cell_type": "markdown",
   "id": "1565b2b7",
   "metadata": {},
   "source": [
    "#### 7. Write a Python program to determine if a user is eligible to vote based on their age using if-else.\n"
   ]
  },
  {
   "cell_type": "code",
   "execution_count": 169,
   "id": "436e00c9",
   "metadata": {},
   "outputs": [
    {
     "name": "stdout",
     "output_type": "stream",
     "text": [
      "Enter your age : 34\n",
      "You're eligible to vote.\n"
     ]
    }
   ],
   "source": [
    "age=int(input(\"Enter your age : \"))\n",
    "if(age>=18):\n",
    "    print(\"You're eligible to vote.\")\n",
    "else:\n",
    "    print(\"You aren't eligible to vote.\")"
   ]
  },
  {
   "cell_type": "markdown",
   "id": "d78c8d67",
   "metadata": {},
   "source": [
    "#### 8. Create a Python program that calculates the discount amount based on the purchase amount using if-else.\n"
   ]
  },
  {
   "cell_type": "code",
   "execution_count": 173,
   "id": "4a3556a2",
   "metadata": {},
   "outputs": [
    {
     "name": "stdout",
     "output_type": "stream",
     "text": [
      "Enter the purchase amount : 3560\n",
      "Discounted amount = 2848.0\n"
     ]
    }
   ],
   "source": [
    "price = int(input(\"Enter the purchase amount : \"))\n",
    "\n",
    "rate=0\n",
    "if(price>=2500):\n",
    "    rate=0.20\n",
    "elif(price>=1500):\n",
    "    rate=0.15\n",
    "elif(price>=500):\n",
    "    rate=0.10\n",
    "    \n",
    "print(\"Discounted amount =\",price - (price*rate))"
   ]
  },
  {
   "cell_type": "markdown",
   "id": "fcd94fc1",
   "metadata": {},
   "source": [
    "#### 9. Write a Python program to check if a number is within a specified range using if-else.\n"
   ]
  },
  {
   "cell_type": "code",
   "execution_count": 176,
   "id": "25e297f2",
   "metadata": {},
   "outputs": [
    {
     "name": "stdout",
     "output_type": "stream",
     "text": [
      "Starting of range : 30\n",
      "Ending of range : 70\n",
      "Number = 100\n",
      "The number isn't in range\n"
     ]
    }
   ],
   "source": [
    "a=int(input(\"Starting of range : \"))\n",
    "b=int(input(\"Ending of range : \"))\n",
    "n=int(input(\"Number = \"))\n",
    "\n",
    "if(n in range(a,b+1)):\n",
    "    print(\"The number is in range\")\n",
    "else:\n",
    "    print(\"The number isn't in range\")"
   ]
  },
  {
   "cell_type": "markdown",
   "id": "b6f8f570",
   "metadata": {},
   "source": [
    "#### 10. Create a Python program that determines the grade of a student based on their score using if-else."
   ]
  },
  {
   "cell_type": "code",
   "execution_count": 178,
   "id": "da6a9992",
   "metadata": {},
   "outputs": [
    {
     "name": "stdout",
     "output_type": "stream",
     "text": [
      "Enter marks (out of 100) : 12\n",
      "FAILED\n"
     ]
    }
   ],
   "source": [
    "score = int(input(\"Enter marks (out of 100) : \"))\n",
    "if(score>=85):\n",
    "    print(\"Grade = A\")\n",
    "elif(score>=75):\n",
    "    print(\"Grade = B\")\n",
    "elif(score>=65):\n",
    "    print(\"Grade = C\")\n",
    "elif(score>=55):\n",
    "    print(\"Grade = D\")\n",
    "elif(score>=45):\n",
    "    print(\"Grade = E\")\n",
    "else:\n",
    "    print(\"FAILED\")"
   ]
  },
  {
   "cell_type": "markdown",
   "id": "59053c33",
   "metadata": {},
   "source": [
    "#### 11. Write a Python program to check if a string is empty or not using if-else."
   ]
  },
  {
   "cell_type": "code",
   "execution_count": 179,
   "id": "a63aa796",
   "metadata": {},
   "outputs": [
    {
     "name": "stdout",
     "output_type": "stream",
     "text": [
      "String : \n",
      "Why did u give me an empty string :( ?\n"
     ]
    }
   ],
   "source": [
    "s=input(\"String : \")\n",
    "if(len(s)==0):\n",
    "    print(\"Why did u give me an empty string :( ?\")\n",
    "else:\n",
    "    print(\"Thank you\")"
   ]
  },
  {
   "cell_type": "markdown",
   "id": "c2759e53",
   "metadata": {},
   "source": [
    "#### 12. Create a Python program that identifies the type of a triangle (e.g., equilateral, isosceles, or scalene) based on input values using if-else.\n"
   ]
  },
  {
   "cell_type": "code",
   "execution_count": 181,
   "id": "d48f4c5a",
   "metadata": {},
   "outputs": [
    {
     "name": "stdout",
     "output_type": "stream",
     "text": [
      "Enter sides of a triangle : \n",
      "12\n",
      "13\n",
      "12\n",
      "Isosceles Triangle\n"
     ]
    }
   ],
   "source": [
    "print(\"Enter sides of a triangle : \")\n",
    "a=int(input())\n",
    "b=int(input())\n",
    "c=int(input())\n",
    "\n",
    "if(a==b==c):\n",
    "    print(\"Equilateral Triangle\")\n",
    "elif(a==b or b==c or c==a):\n",
    "    print(\"Isosceles Triangle\")\n",
    "else:\n",
    "    print(\"Scalene Triangle\")"
   ]
  },
  {
   "cell_type": "markdown",
   "id": "6d0f7c50",
   "metadata": {},
   "source": [
    "#### 13. Write a Python program to determine the day of the week based on a user-provided number using if-else."
   ]
  },
  {
   "cell_type": "code",
   "execution_count": 184,
   "id": "fb278123",
   "metadata": {},
   "outputs": [
    {
     "name": "stdout",
     "output_type": "stream",
     "text": [
      "Enter the day number (1-7) : 3\n",
      "Wednesday\n"
     ]
    }
   ],
   "source": [
    "d=int(input(\"Enter the day number (1-7) : \"))\n",
    "day=['Monday','Tuesday','Wednesday','Thursday','Friday','Saturday','Sunday']\n",
    "print(day[d-1])"
   ]
  },
  {
   "cell_type": "markdown",
   "id": "54dc7a67",
   "metadata": {},
   "source": [
    "#### 14. Create a Python program that checks if a given year is a leap year using both if-else and a function.\n"
   ]
  },
  {
   "cell_type": "code",
   "execution_count": 186,
   "id": "aeddfdee",
   "metadata": {},
   "outputs": [
    {
     "name": "stdout",
     "output_type": "stream",
     "text": [
      "Enter the year : 2014\n",
      "Not a leap year\n"
     ]
    }
   ],
   "source": [
    "def leap(y):\n",
    "    if(y%4 == 0 and y%100 != 0) or (y%400 == 0):\n",
    "        return(\"Leap year\")\n",
    "    else:\n",
    "        return(\"Not a leap year\")\n",
    "    \n",
    "    \n",
    "y=int(input(\"Enter the year : \"))\n",
    "print(leap(y))"
   ]
  },
  {
   "cell_type": "markdown",
   "id": "3d317346",
   "metadata": {},
   "source": [
    "#### 15. How do you use the \"assert\" statement in Python to add debugging checks within if-else blocks?"
   ]
  },
  {
   "cell_type": "code",
   "execution_count": 192,
   "id": "6cbeb814",
   "metadata": {},
   "outputs": [
    {
     "name": "stdout",
     "output_type": "stream",
     "text": [
      "No. of kids : 0\n",
      "No. of chocolates : 20\n"
     ]
    },
    {
     "ename": "AssertionError",
     "evalue": "",
     "output_type": "error",
     "traceback": [
      "\u001b[1;31m---------------------------------------------------------------------------\u001b[0m",
      "\u001b[1;31mAssertionError\u001b[0m                            Traceback (most recent call last)",
      "\u001b[1;32m<ipython-input-192-75becf7000ac>\u001b[0m in \u001b[0;36m<module>\u001b[1;34m\u001b[0m\n\u001b[0;32m      4\u001b[0m     \u001b[0mprint\u001b[0m\u001b[1;33m(\u001b[0m\u001b[1;34m\"We need minumum\"\u001b[0m\u001b[1;33m,\u001b[0m\u001b[0mk\u001b[0m\u001b[1;33m-\u001b[0m\u001b[0mc\u001b[0m\u001b[1;33m,\u001b[0m\u001b[1;34m\"more chocolates\"\u001b[0m\u001b[1;33m)\u001b[0m\u001b[1;33m\u001b[0m\u001b[1;33m\u001b[0m\u001b[0m\n\u001b[0;32m      5\u001b[0m \u001b[1;32melse\u001b[0m\u001b[1;33m:\u001b[0m\u001b[1;33m\u001b[0m\u001b[1;33m\u001b[0m\u001b[0m\n\u001b[1;32m----> 6\u001b[1;33m     \u001b[1;32massert\u001b[0m\u001b[1;33m(\u001b[0m\u001b[0mk\u001b[0m\u001b[1;33m>\u001b[0m\u001b[1;36m0\u001b[0m\u001b[1;33m)\u001b[0m\u001b[1;33m\u001b[0m\u001b[1;33m\u001b[0m\u001b[0m\n\u001b[0m\u001b[0;32m      7\u001b[0m     \u001b[0mprint\u001b[0m\u001b[1;33m(\u001b[0m\u001b[1;34m\"Each kid will get\"\u001b[0m\u001b[1;33m,\u001b[0m\u001b[0mc\u001b[0m\u001b[1;33m//\u001b[0m\u001b[0mk\u001b[0m\u001b[1;33m,\u001b[0m\u001b[1;34m\"chocolates\"\u001b[0m\u001b[1;33m)\u001b[0m\u001b[1;33m\u001b[0m\u001b[1;33m\u001b[0m\u001b[0m\n",
      "\u001b[1;31mAssertionError\u001b[0m: "
     ]
    }
   ],
   "source": [
    "k=int(input(\"No. of kids : \"))\n",
    "c=int(input(\"No. of chocolates : \"))\n",
    "if(c<k):\n",
    "    print(\"We need minumum\",k-c,\"more chocolates\")\n",
    "else:\n",
    "    assert(k>0)\n",
    "    print(\"Each kid will get\",c//k,\"chocolates\")"
   ]
  },
  {
   "cell_type": "markdown",
   "id": "a41b8246",
   "metadata": {},
   "source": [
    "#### 16. Create a Python program that determines the eligibility of a person for a senior citizen discount based on age using if-else."
   ]
  },
  {
   "cell_type": "code",
   "execution_count": 194,
   "id": "31e50c10",
   "metadata": {},
   "outputs": [
    {
     "name": "stdout",
     "output_type": "stream",
     "text": [
      "Enter your age : 66\n",
      "Congrats, you get a 25% discount.\n"
     ]
    }
   ],
   "source": [
    "a=int(input(\"Enter your age : \"))\n",
    "if(a>=60):\n",
    "    print(\"Congrats, you get a 25% discount.\")\n",
    "else:\n",
    "    print(\"Thanks for shopping with us.\")"
   ]
  },
  {
   "cell_type": "markdown",
   "id": "54a8cd4a",
   "metadata": {},
   "source": [
    "#### 17. Write a Python program to categorize a given character as uppercase, lowercase, or neither using if-else."
   ]
  },
  {
   "cell_type": "code",
   "execution_count": 196,
   "id": "32600b67",
   "metadata": {},
   "outputs": [
    {
     "name": "stdout",
     "output_type": "stream",
     "text": [
      "Enter a character : ,\n",
      "neither uppercase nor lowercase\n"
     ]
    }
   ],
   "source": [
    "c=input(\"Enter a character : \")\n",
    "if(c.isalpha() and c.lower()):\n",
    "    print(\"Lowercase\")\n",
    "elif(c.isalpha() and c.upper()):\n",
    "    print(\"Uppercase\")\n",
    "else:\n",
    "    print(\"neither uppercase nor lowercase\")"
   ]
  },
  {
   "cell_type": "markdown",
   "id": "3ea83d67",
   "metadata": {},
   "source": [
    "#### 18. Write a Python program to determine the roots of a quadratic equation using if-else.\n"
   ]
  },
  {
   "cell_type": "code",
   "execution_count": 202,
   "id": "3183aeb7",
   "metadata": {},
   "outputs": [
    {
     "name": "stdout",
     "output_type": "stream",
     "text": [
      "Enter the coefficients(a,b,c) of the quadratic equation : \n",
      "2\n",
      "3\n",
      "4\n",
      "Imaginary roots are = (-0.7499999999999999+1.1989578808281798j) (-0.7500000000000001-1.1989578808281798j)\n"
     ]
    }
   ],
   "source": [
    "print(\"Enter the coefficients(a,b,c) of the quadratic equation : \")\n",
    "a=int(input())\n",
    "b=int(input())\n",
    "c=int(input())\n",
    "\n",
    "d = (b**2 - (4*a*c))\n",
    "\n",
    "if(d>0):\n",
    "    r1 = (-b + d**0.5)/(2*a)\n",
    "    r2 = (-b - d**0.5)/(2*a)\n",
    "    print(\"Real roots =\",r1,r2)\n",
    "elif(d==0):\n",
    "    r = -b/(2*a)\n",
    "    print(\"One root =\",r)\n",
    "else:\n",
    "    r1 = (-b + d**0.5) / (2*a)\n",
    "    r2 = (-b - d**0.5) / (2*a)\n",
    "    print(\"Imaginary roots are =\",r1,r2)"
   ]
  },
  {
   "cell_type": "markdown",
   "id": "c2ee9a17",
   "metadata": {},
   "source": [
    "#### 19. Create a Python program that checks if a given year is a century year or not using if-else.\n"
   ]
  },
  {
   "cell_type": "code",
   "execution_count": 3,
   "id": "701c2d0f",
   "metadata": {},
   "outputs": [
    {
     "name": "stdout",
     "output_type": "stream",
     "text": [
      "Enter a year : 2000\n",
      "Century year\n"
     ]
    }
   ],
   "source": [
    "y=int(input(\"Enter a year : \"))\n",
    "if(y%100==0):\n",
    "    print(\"Century year\")\n",
    "else:\n",
    "    print(\"Non-century year\")"
   ]
  },
  {
   "cell_type": "markdown",
   "id": "cd2f0ac4",
   "metadata": {},
   "source": [
    "#### 20. Write a Python program to determine if a given number is a perfect square using if-else.\n"
   ]
  },
  {
   "cell_type": "code",
   "execution_count": 7,
   "id": "aaa430e3",
   "metadata": {},
   "outputs": [
    {
     "name": "stdout",
     "output_type": "stream",
     "text": [
      "Enter a number : 10000\n",
      "It's a perfect square of 100\n"
     ]
    }
   ],
   "source": [
    "n = int(input(\"Enter a number : \"))\n",
    "f=0\n",
    "for i in range(n//2):\n",
    "    if(i*i==n):\n",
    "        print(\"It's a perfect square of\",i)\n",
    "        f=1\n",
    "        break\n",
    "if(f==0):\n",
    "    print(\"Not a perfect square\")"
   ]
  },
  {
   "cell_type": "markdown",
   "id": "b02400b3",
   "metadata": {},
   "source": [
    "#### 21. Explain the purpose of the \"continue\" and \"break\" statements within if-else loops.\n"
   ]
  },
  {
   "cell_type": "code",
   "execution_count": 9,
   "id": "60e2c52c",
   "metadata": {},
   "outputs": [
    {
     "name": "stdout",
     "output_type": "stream",
     "text": [
      "0\n",
      "1\n",
      "2\n",
      "3\n",
      "5\n",
      "6\n",
      "7\n"
     ]
    }
   ],
   "source": [
    "'''\n",
    "CONTINUE\n",
    "-----------\n",
    "it is used in a loop when a certain if condition is true and that iteration needs to be bypassed.\n",
    "\n",
    "BREAK\n",
    "-----------\n",
    "it is used in a loop when a certain if condition is true and at that iteration it needs to exit from the loop\n",
    "\n",
    "'''\n",
    "\n",
    "for i in range(10):\n",
    "    if(i==4):\n",
    "        continue    # 2 won't be printed\n",
    "    if(i==8):\n",
    "        break       # will move out of the loop\n",
    "    print(i)"
   ]
  },
  {
   "cell_type": "markdown",
   "id": "cce251d5",
   "metadata": {},
   "source": [
    "#### 22. Create a Python program that calculates the BMI (Body Mass Index) of a person based on their weight and height using if-else."
   ]
  },
  {
   "cell_type": "code",
   "execution_count": 16,
   "id": "33c21df6",
   "metadata": {},
   "outputs": [
    {
     "name": "stdout",
     "output_type": "stream",
     "text": [
      "Enter weight : 80\n",
      "Enter height : 2\n",
      "BMI = 20.0 : Normal Weight\n"
     ]
    }
   ],
   "source": [
    "w = float(input(\"Enter weight : \"))\n",
    "h = float(input(\"Enter height : \"))\n",
    "bmi = w/(h*h)\n",
    "if bmi < 18.5:\n",
    "    print (\"BMI =\",bmi,\": Underweight\")\n",
    "elif 18.5 <= bmi < 24.9:\n",
    "    print (\"BMI =\",bmi,\": Normal Weight\")\n",
    "elif 25 <= bmi < 29.9:\n",
    "    print (\"BMI =\",bmi,\": Overweight\")\n",
    "else:\n",
    "    print (\"BMI =\",bmi,\": Obese\")"
   ]
  },
  {
   "cell_type": "markdown",
   "id": "1de04bd6",
   "metadata": {},
   "source": [
    "#### 23. How can you use the \"filter()\" function with if-else statements to filter elements from a list?\n"
   ]
  },
  {
   "cell_type": "code",
   "execution_count": 35,
   "id": "241591c9",
   "metadata": {},
   "outputs": [
    {
     "name": "stdout",
     "output_type": "stream",
     "text": [
      "List : [1, 2, 3, 4, 5, 6, 7, 8, 9, 10]\n",
      "Even numbers : [2, 4, 6, 8, 10]\n"
     ]
    }
   ],
   "source": [
    "l=[1,2,3,4,5,6,7,8,9,10]\n",
    "print(\"List :\",l)\n",
    "e = list(filter(lambda i : True if i%2==0 else False, l))\n",
    "print(\"Even numbers :\",e)"
   ]
  },
  {
   "cell_type": "markdown",
   "id": "cc844bdc",
   "metadata": {},
   "source": [
    "#### 24. Write a Python program to determine if a given number is prime or not using if-else."
   ]
  },
  {
   "cell_type": "code",
   "execution_count": 37,
   "id": "6af94a76",
   "metadata": {},
   "outputs": [
    {
     "name": "stdout",
     "output_type": "stream",
     "text": [
      "Enter a number : 7\n",
      "Prime number\n"
     ]
    }
   ],
   "source": [
    "def prime(n):\n",
    "    for i in range(2,n):\n",
    "        if(n%i==0):\n",
    "            return 0\n",
    "    return 1\n",
    "\n",
    "n=int(input(\"Enter a number : \"))\n",
    "if(prime(n)):\n",
    "    print(\"Prime number\")\n",
    "else:\n",
    "    print(\"Non-prime number\")"
   ]
  },
  {
   "cell_type": "markdown",
   "id": "8ae5da38",
   "metadata": {},
   "source": [
    "## Map :-\n"
   ]
  },
  {
   "cell_type": "markdown",
   "id": "6e5caae6",
   "metadata": {},
   "source": [
    "#### 1. Explain the purpose of the map() function in Python and provide an example of how it can be used to apply a function to each element of an iterable.\n"
   ]
  },
  {
   "cell_type": "code",
   "execution_count": 40,
   "id": "01bbfa6d",
   "metadata": {},
   "outputs": [
    {
     "name": "stdout",
     "output_type": "stream",
     "text": [
      "List : ['gojo', 'kakashi']\n",
      "Lengths : [4, 7]\n"
     ]
    }
   ],
   "source": [
    "'''\n",
    "Map function, as it's name suggests is used to map/apply a particular function to each and every element of any iterable\n",
    "syntax : map(function,iterable)\n",
    "'''\n",
    "\n",
    "l=['gojo','kakashi']\n",
    "print(\"List :\",l)\n",
    "lengths = list(map(len,l))\n",
    "print(\"Lengths :\",lengths)"
   ]
  },
  {
   "cell_type": "markdown",
   "id": "27bf78a3",
   "metadata": {},
   "source": [
    "#### 2. Write a Python program that uses the map() function to square each element of a list of numbers.\n"
   ]
  },
  {
   "cell_type": "code",
   "execution_count": 43,
   "id": "bd6af340",
   "metadata": {},
   "outputs": [
    {
     "name": "stdout",
     "output_type": "stream",
     "text": [
      "List : [1, 2, 3, 4, 5, 6, 7, 8, 9, 10]\n",
      "Modified list : [1, 4, 9, 16, 25, 36, 49, 64, 81, 100]\n"
     ]
    }
   ],
   "source": [
    "l=[1,2,3,4,5,6,7,8,9,10]\n",
    "print(\"List :\",l)\n",
    "new = list(map((lambda i : i**2),l))\n",
    "print(\"Modified list :\",new)"
   ]
  },
  {
   "cell_type": "markdown",
   "id": "2b4501c6",
   "metadata": {},
   "source": [
    "#### 3. How does the map() function differ from a list comprehension in Python, and when would you choose one over the other?\n"
   ]
  },
  {
   "cell_type": "code",
   "execution_count": null,
   "id": "43cb1598",
   "metadata": {},
   "outputs": [],
   "source": [
    "'''\n",
    "MAP()\n",
    "-------\n",
    "Used to map any function to all the elements of an iterable and returns a iterator\n",
    "\n",
    "LIST COMPREHENSION\n",
    "---------------------\n",
    "Used to perform modifications on a existing list to create a new list\n",
    "\n",
    "\n",
    "We can choose map when we have an existing function that we want to implement on an iterable.\n",
    "We can choose list comprehension when we want result as a list\n",
    "'''"
   ]
  },
  {
   "cell_type": "markdown",
   "id": "101511fb",
   "metadata": {},
   "source": [
    "#### 4. Create a Python program that uses the map() function to convert a list of names to uppercase.\n"
   ]
  },
  {
   "cell_type": "code",
   "execution_count": 47,
   "id": "aaf003b2",
   "metadata": {},
   "outputs": [
    {
     "name": "stdout",
     "output_type": "stream",
     "text": [
      "List : ['Gojo', 'Kakashi', 'Tengen']\n",
      "New list : ['GOJO', 'KAKASHI', 'TENGEN']\n"
     ]
    }
   ],
   "source": [
    "l=['Gojo', 'Kakashi', 'Tengen']\n",
    "print(\"List :\",l)\n",
    "new=list(map((lambda i : i.upper()),l))\n",
    "print(\"New list :\",new)"
   ]
  },
  {
   "cell_type": "markdown",
   "id": "4e586a2e",
   "metadata": {},
   "source": [
    "#### 5. Write a Python program that uses the map() function to calculate the length of each word in a list of strings."
   ]
  },
  {
   "cell_type": "code",
   "execution_count": 51,
   "id": "622d34ac",
   "metadata": {},
   "outputs": [
    {
     "name": "stdout",
     "output_type": "stream",
     "text": [
      "String : You are weak\n",
      "Lengths of the words : [3, 3, 4]\n"
     ]
    }
   ],
   "source": [
    "s=\"You are weak\"\n",
    "print(\"String :\",s)\n",
    "word_len = list(map(len,s.split()))\n",
    "print(\"Lengths of the words :\",word_len)"
   ]
  },
  {
   "cell_type": "markdown",
   "id": "05dff49d",
   "metadata": {},
   "source": [
    "#### 6. How can you use the map() function to apply a custom function to elements of multiple lists simultaneously in Python?\n"
   ]
  },
  {
   "cell_type": "code",
   "execution_count": 59,
   "id": "d9f96f4b",
   "metadata": {},
   "outputs": [
    {
     "name": "stdout",
     "output_type": "stream",
     "text": [
      "Lists : \n",
      "[1, 2, 3]\n",
      "[2, 3, 4]\n",
      "[3, 4, 5]\n",
      "\n",
      "Modified Lists : \n",
      "[2, 4, 6]\n",
      "[4, 6, 8]\n",
      "[6, 8, 10]\n"
     ]
    }
   ],
   "source": [
    "l1=[1,2,3]\n",
    "l2=[2,3,4]\n",
    "l3=[3,4,5]\n",
    "print(\"Lists : \")\n",
    "print(l1)\n",
    "print(l2)\n",
    "print(l3)\n",
    "\n",
    "print(\"\\nModified Lists : \")\n",
    "for l in (l1,l2,l3):\n",
    "    x=list(map((lambda i : i*2),l))\n",
    "    print(x)"
   ]
  },
  {
   "cell_type": "markdown",
   "id": "707e29c6",
   "metadata": {},
   "source": [
    "#### 7. Create a Python program that uses map() to convert a list of temperatures from Celsius to Fahrenheit."
   ]
  },
  {
   "cell_type": "code",
   "execution_count": 3,
   "id": "ea447a9b",
   "metadata": {},
   "outputs": [
    {
     "name": "stdout",
     "output_type": "stream",
     "text": [
      "Temp in Celcius : [10, 30.5, 74, 85.8]\n",
      "Temp in Fahrenheit : [50.0, 86.9, 165.20000000000002, 186.44]\n"
     ]
    }
   ],
   "source": [
    "def c2f(c) :\n",
    "    f=c*(9/5)+32\n",
    "    return f\n",
    "\n",
    "celcius = [10, 30.5, 74, 85.8]\n",
    "print(\"Temp in Celcius :\",celcius)\n",
    "fahrenheit = list(map(c2f,celcius))\n",
    "print(\"Temp in Fahrenheit :\",fahrenheit)"
   ]
  },
  {
   "cell_type": "markdown",
   "id": "525d4355",
   "metadata": {},
   "source": [
    "#### 8. Write a Python program that uses the map() function to round each element of a list of floating-point numbers to the nearest integer."
   ]
  },
  {
   "cell_type": "code",
   "execution_count": 8,
   "id": "d89888ce",
   "metadata": {},
   "outputs": [
    {
     "name": "stdout",
     "output_type": "stream",
     "text": [
      "Numbers : [5.78, 99.4, 689.13, 76.59]\n",
      "Rounded off numbers : [6, 99, 689, 77]\n"
     ]
    }
   ],
   "source": [
    "def roundOff(n):\n",
    "    return(round(n))\n",
    "\n",
    "l=[5.78, 99.4, 689.13, 76.59]\n",
    "print(\"Numbers :\",l)\n",
    "l1=list(map(roundOff,l))\n",
    "print(\"Rounded off numbers :\",l1)"
   ]
  },
  {
   "cell_type": "markdown",
   "id": "3b4046c3",
   "metadata": {},
   "source": [
    "## Reduce :-"
   ]
  },
  {
   "cell_type": "markdown",
   "id": "042b27a7",
   "metadata": {},
   "source": [
    "#### 1. What is the reduce() function in Python, and what module should you import to use it? Provide an example of its basic usage.\n"
   ]
  },
  {
   "cell_type": "code",
   "execution_count": 17,
   "id": "b3746b5b",
   "metadata": {},
   "outputs": [
    {
     "name": "stdout",
     "output_type": "stream",
     "text": [
      "List : [4, 8, 2, 7, 4, 1]\n",
      "Sum = 26\n"
     ]
    }
   ],
   "source": [
    "'''\n",
    "REDUCE function is used to get a single value calculated out of any iterable.\n",
    "\n",
    "We need to use the functool module to use reduce().\n",
    "\n",
    "'''\n",
    "\n",
    "from functools import reduce\n",
    "l=[4,8,2,7,4,1]\n",
    "print(\"List :\",l)\n",
    "s=reduce(lambda a,b : a+b,l)\n",
    "print(\"Sum =\",s)"
   ]
  },
  {
   "cell_type": "markdown",
   "id": "f533bb8f",
   "metadata": {},
   "source": [
    "#### 2. Write a Python program that uses the reduce() function to find the product of all elements in a list."
   ]
  },
  {
   "cell_type": "code",
   "execution_count": 18,
   "id": "a9679caf",
   "metadata": {},
   "outputs": [
    {
     "name": "stdout",
     "output_type": "stream",
     "text": [
      "List : [5, 2, 7, 1, 9, 3]\n",
      "product = 1890\n"
     ]
    }
   ],
   "source": [
    "l=[5,2,7,1,9,3]\n",
    "print(\"List :\",l)\n",
    "p=reduce(lambda a,b : a*b,l)\n",
    "print(\"product =\",p)"
   ]
  },
  {
   "cell_type": "markdown",
   "id": "30c8f7fb",
   "metadata": {},
   "source": [
    "#### 3. Create a Python program that uses reduce() to find the maximum element in a list of numbers."
   ]
  },
  {
   "cell_type": "code",
   "execution_count": 22,
   "id": "3efd5459",
   "metadata": {},
   "outputs": [
    {
     "name": "stdout",
     "output_type": "stream",
     "text": [
      "List : [5, 2, 7, 1, 9, 3]\n",
      "Max element = 9\n"
     ]
    }
   ],
   "source": [
    "l=[5,2,7,1,9,3]\n",
    "print(\"List :\",l)\n",
    "m=reduce(lambda a,b : a if a>b else b,l)\n",
    "print(\"Max element =\",m)"
   ]
  },
  {
   "cell_type": "markdown",
   "id": "ed6d3cd1",
   "metadata": {},
   "source": [
    "#### 4. How can you use the reduce() function to concatenate a list of strings into a single string?"
   ]
  },
  {
   "cell_type": "code",
   "execution_count": 4,
   "id": "189bec84",
   "metadata": {},
   "outputs": [
    {
     "name": "stdout",
     "output_type": "stream",
     "text": [
      "List of strings : ['ab', 'ra', 'ca', 'dab', 'ra']\n",
      "Concatenated string : abracadabra\n"
     ]
    }
   ],
   "source": [
    "from functools import reduce\n",
    "\n",
    "def strconcat(list_of_strings):\n",
    "    return(reduce(lambda s1,s2 : s1+s2,list_of_strings))\n",
    "    \n",
    "l=['ab','ra','ca','dab','ra']\n",
    "print(\"List of strings :\",l)\n",
    "new=strconcat(l)\n",
    "print(\"Concatenated string :\",new)"
   ]
  },
  {
   "cell_type": "markdown",
   "id": "4b8a2ebc",
   "metadata": {},
   "source": [
    "#### 5. Write a Python program that calculates the factorial of a number using the reduce() function."
   ]
  },
  {
   "cell_type": "code",
   "execution_count": 10,
   "id": "68096680",
   "metadata": {},
   "outputs": [
    {
     "name": "stdout",
     "output_type": "stream",
     "text": [
      "Enter a number : 6\n",
      "Factorial of 6 = 720\n"
     ]
    }
   ],
   "source": [
    "def fact(n):\n",
    "    return(reduce(lambda a,b : a*b,[i for i in range(1,n+1)]))\n",
    "\n",
    "n=int(input(\"Enter a number : \"))\n",
    "f=fact(n)\n",
    "print(\"Factorial of\",n,\"=\",f)"
   ]
  },
  {
   "cell_type": "markdown",
   "id": "3a35b4df",
   "metadata": {},
   "source": [
    "#### 6. Create a Python program that uses reduce() to find the GCD (Greatest Common Divisor) of a list of numbers."
   ]
  },
  {
   "cell_type": "code",
   "execution_count": 14,
   "id": "bd93a649",
   "metadata": {},
   "outputs": [
    {
     "name": "stdout",
     "output_type": "stream",
     "text": [
      "List of numbers : [45, 35, 10, 70]\n",
      "GCD = 5\n"
     ]
    }
   ],
   "source": [
    "from math import gcd\n",
    "l=[45,35,10,70]\n",
    "print(\"List of numbers :\",l)\n",
    "g = reduce(gcd,l)\n",
    "print(\"GCD =\",g)"
   ]
  },
  {
   "cell_type": "markdown",
   "id": "8cffc37f",
   "metadata": {},
   "source": [
    "#### 7. Write a Python program that uses the reduce() function to find the sum of the digits of a given number."
   ]
  },
  {
   "cell_type": "code",
   "execution_count": 19,
   "id": "02725d1b",
   "metadata": {},
   "outputs": [
    {
     "name": "stdout",
     "output_type": "stream",
     "text": [
      "Enter a number : 3569\n",
      "Sum of the digits of 3569 = 23\n"
     ]
    }
   ],
   "source": [
    "n=(input(\"Enter a number : \"))\n",
    "d=[int(i) for i in n]\n",
    "s=reduce(lambda a,b : a+b,d)\n",
    "print(\"Sum of the digits of\",n,'=',s)"
   ]
  },
  {
   "cell_type": "markdown",
   "id": "b0ecc7e2",
   "metadata": {},
   "source": [
    "## Filter :-"
   ]
  },
  {
   "cell_type": "markdown",
   "id": "7878b422",
   "metadata": {},
   "source": [
    "#### 1. Explain the purpose of the filter() function in Python and provide an example of how it can be used to filter elements from an iterable."
   ]
  },
  {
   "cell_type": "code",
   "execution_count": 24,
   "id": "884964c5",
   "metadata": {},
   "outputs": [
    {
     "name": "stdout",
     "output_type": "stream",
     "text": [
      "List : [1, 2, 3, 4, 5]\n",
      "Even elements : [2, 4]\n"
     ]
    }
   ],
   "source": [
    "'''\n",
    "FILTER() function is used to filter out values from any iterable with the help of certain conditions.\n",
    "'''\n",
    "\n",
    "l=[1,2,3,4,5]\n",
    "print(\"List :\",l)\n",
    "even = list(filter(lambda a : a if a%2==0 else None,l))\n",
    "print(\"Even elements :\",even)"
   ]
  },
  {
   "cell_type": "markdown",
   "id": "d604ca82",
   "metadata": {},
   "source": [
    "#### 2. Write a Python program that uses the filter() function to select even numbers from a list of integers."
   ]
  },
  {
   "cell_type": "code",
   "execution_count": 25,
   "id": "5731438b",
   "metadata": {},
   "outputs": [
    {
     "name": "stdout",
     "output_type": "stream",
     "text": [
      "List : [1, 2, 3, 4, 5]\n",
      "Even elements : [2, 4]\n"
     ]
    }
   ],
   "source": [
    "l=[1,2,3,4,5]\n",
    "print(\"List :\",l)\n",
    "even = list(filter(lambda a : a if a%2==0 else None,l))\n",
    "print(\"Even elements :\",even)"
   ]
  },
  {
   "cell_type": "markdown",
   "id": "a3075361",
   "metadata": {},
   "source": [
    "#### 3. Create a Python program that uses the filter() function to select names that start with a specific letter from a list of strings.\n"
   ]
  },
  {
   "cell_type": "code",
   "execution_count": 3,
   "id": "47b47063",
   "metadata": {},
   "outputs": [
    {
     "name": "stdout",
     "output_type": "stream",
     "text": [
      "Enter the starting letter : k\n",
      "Names starting with K = ['Kakashi', 'Killua']\n"
     ]
    }
   ],
   "source": [
    "ls = ['Gojo', 'Kakashi', 'Tengen', 'Killua']\n",
    "letter = input(\"Enter the starting letter : \").upper()\n",
    "names=list(filter(lambda a : a if a[0]==letter else None,ls))\n",
    "print(\"Names starting with\",letter,'=',names)"
   ]
  },
  {
   "cell_type": "markdown",
   "id": "b57fda83",
   "metadata": {},
   "source": [
    "#### 4. Write a Python program that uses the filter() function to select prime numbers from a list of integers."
   ]
  },
  {
   "cell_type": "code",
   "execution_count": 2,
   "id": "6c207b2e",
   "metadata": {},
   "outputs": [
    {
     "name": "stdout",
     "output_type": "stream",
     "text": [
      "List : [1, 2, 3, 4, 5, 6, 7, 8, 9, 10]\n",
      "Prime numbers : [1, 2, 3, 5, 7]\n"
     ]
    }
   ],
   "source": [
    "def prime(n):\n",
    "    c=0\n",
    "    for i in range(2,n):\n",
    "        if(n%i==0):\n",
    "            c=1\n",
    "            return 0\n",
    "    if(c==0):\n",
    "        return 1\n",
    "    \n",
    "l=[1,2,3,4,5,6,7,8,9,10]\n",
    "print(\"List :\",l)\n",
    "p = list(filter(prime,l))\n",
    "print(\"Prime numbers :\",p)"
   ]
  },
  {
   "cell_type": "markdown",
   "id": "aa019b35",
   "metadata": {},
   "source": [
    "#### 5. How can you use the filter() function to remove None values from a list in Python?"
   ]
  },
  {
   "cell_type": "code",
   "execution_count": 5,
   "id": "b3857979",
   "metadata": {},
   "outputs": [
    {
     "name": "stdout",
     "output_type": "stream",
     "text": [
      "List : [9, 6, None, 8, None, 1, 2]\n",
      "After removing None values : [9, 6, 8, 1, 2]\n"
     ]
    }
   ],
   "source": [
    "l=[9,6,None,8,None,1,2]\n",
    "print(\"List :\",l)\n",
    "noNone = list(filter(lambda a : a if a!= None else None,l))\n",
    "print(\"After removing None values :\",noNone)"
   ]
  },
  {
   "cell_type": "markdown",
   "id": "c94da539",
   "metadata": {},
   "source": [
    "#### 6. Create a Python program that uses filter() to select words longer than a certain length from a list of strings."
   ]
  },
  {
   "cell_type": "code",
   "execution_count": 14,
   "id": "c1d057fb",
   "metadata": {},
   "outputs": [
    {
     "name": "stdout",
     "output_type": "stream",
     "text": [
      "Enter the min. word length : 5\n",
      "Words longer than 5 letters : ['Kakashi', 'Tengen', 'Killua']\n"
     ]
    }
   ],
   "source": [
    "ls = ['Gojo', 'Kakashi', 'Tengen', 'Killua']\n",
    "n=int(input(\"Enter the min. word length : \"))\n",
    "l=list(filter(lambda a : a if len(a)>n else 0,ls))\n",
    "print(\"Words longer than 5 letters :\",l)"
   ]
  },
  {
   "cell_type": "markdown",
   "id": "bae8d828",
   "metadata": {},
   "source": [
    "#### 7. Write a Python program that uses the filter() function to select elements greater than a specified threshold from a list of values."
   ]
  },
  {
   "cell_type": "code",
   "execution_count": 18,
   "id": "5385994d",
   "metadata": {},
   "outputs": [
    {
     "name": "stdout",
     "output_type": "stream",
     "text": [
      "List : [59, 82, 77, 10, 83, 27, 46]\n",
      "Threshold = 50\n",
      "Values above threshold : [59, 82, 77, 83]\n"
     ]
    }
   ],
   "source": [
    "l=[59,82,77,10,83,27,46]\n",
    "print(\"List :\",l)\n",
    "t=int(input(\"Threshold = \"))\n",
    "l1=list(filter(lambda a : a if a>t else 0,l))\n",
    "print(\"Values above threshold :\",l1)"
   ]
  },
  {
   "cell_type": "markdown",
   "id": "e71a7a38",
   "metadata": {},
   "source": [
    "## Recursion:-"
   ]
  },
  {
   "cell_type": "markdown",
   "id": "750418f5",
   "metadata": {},
   "source": [
    "#### 1. Explain the concept of recursion in Python. How does it differ from iteration?"
   ]
  },
  {
   "cell_type": "code",
   "execution_count": null,
   "id": "18786132",
   "metadata": {},
   "outputs": [],
   "source": [
    "'''\n",
    "RECURSION is when a function calls itself multiple times and exits when a specific condition is satisfied.\n",
    "\n",
    "ITERATION is when a loop keeps going on until and unless a specific condition is met.\n",
    "'''"
   ]
  },
  {
   "cell_type": "markdown",
   "id": "3a8cebaf",
   "metadata": {},
   "source": [
    "#### 2. Write a Python program to calculate the factorial of a number using recursion.\n"
   ]
  },
  {
   "cell_type": "code",
   "execution_count": 24,
   "id": "5de05fc2",
   "metadata": {},
   "outputs": [
    {
     "name": "stdout",
     "output_type": "stream",
     "text": [
      "Enter a no. : 5\n",
      "Factorial =  120\n"
     ]
    }
   ],
   "source": [
    "def factorial(n):\n",
    "    if(n==1):\n",
    "        return 1\n",
    "    else:\n",
    "        return (n * factorial(n-1))\n",
    "    \n",
    "n=int(input(\"Enter a no. : \"))\n",
    "print(\"Factorial = \",factorial(n))"
   ]
  },
  {
   "cell_type": "markdown",
   "id": "917c50ff",
   "metadata": {},
   "source": [
    "#### 3. Create a recursive Python function to find the nth Fibonacci number.\n"
   ]
  },
  {
   "cell_type": "code",
   "execution_count": 35,
   "id": "78fd2ca8",
   "metadata": {},
   "outputs": [
    {
     "name": "stdout",
     "output_type": "stream",
     "text": [
      "Value of n : 9\n",
      "9th Fibonacci number= 34\n"
     ]
    }
   ],
   "source": [
    "def fib(n):\n",
    "    if(n==1 or n==0):\n",
    "        return n\n",
    "    else:\n",
    "        return(fib(n-1) + fib(n-2))\n",
    "    \n",
    "n=int(input(\"Value of n : \"))\n",
    "print(f\"{n}th Fibonacci number=\",fib(n))"
   ]
  },
  {
   "cell_type": "markdown",
   "id": "6e55ecab",
   "metadata": {},
   "source": [
    "#### 4. Write a recursive Python function to calculate the sum of all elements in a list."
   ]
  },
  {
   "cell_type": "code",
   "execution_count": 38,
   "id": "f1976d15",
   "metadata": {},
   "outputs": [
    {
     "name": "stdout",
     "output_type": "stream",
     "text": [
      "List :\n",
      "Sum of all the elements of the list = 55\n"
     ]
    }
   ],
   "source": [
    "def lSum(l):\n",
    "    if(len(l)==1):\n",
    "        return(l[0])\n",
    "    else:\n",
    "        return(l[0] + lSum(l[1:]))\n",
    "    \n",
    "l=[1,2,3,4,5,6,7,8,9,10]\n",
    "print(\"List :\")\n",
    "print(\"Sum of all the elements of the list =\",lSum(l))"
   ]
  },
  {
   "cell_type": "markdown",
   "id": "a4afb97a",
   "metadata": {},
   "source": [
    "#### 5. How can you prevent a recursive function from running indefinitely, causing a stack overflow error?"
   ]
  },
  {
   "cell_type": "code",
   "execution_count": null,
   "id": "f8ec2d64",
   "metadata": {},
   "outputs": [],
   "source": [
    "'''\n",
    "To prevent a recursive function from running indefinitely, we'll need to have a base case so that it returns back to \n",
    "the function call point.\n",
    "'''"
   ]
  },
  {
   "cell_type": "markdown",
   "id": "e7143c79",
   "metadata": {},
   "source": [
    "#### 6. Create a recursive Python function to find the greatest common divisor (GCD) of two numbers using the Euclidean algorithm."
   ]
  },
  {
   "cell_type": "code",
   "execution_count": 41,
   "id": "eb791a75",
   "metadata": {},
   "outputs": [
    {
     "name": "stdout",
     "output_type": "stream",
     "text": [
      "Enter the two numbers : \n",
      "18\n",
      "48\n",
      "GCD of the numbers = 6\n"
     ]
    }
   ],
   "source": [
    "def GCD(a,b):\n",
    "    if(a%b==0):\n",
    "        return b\n",
    "    else:\n",
    "        return(GCD(b,a%b))\n",
    "    \n",
    "print(\"Enter the two numbers : \")\n",
    "a=int(input())\n",
    "b=int(input())\n",
    "if(b>a):\n",
    "    a,b=b,a\n",
    "print(\"GCD of the numbers =\",GCD(a,b))"
   ]
  },
  {
   "cell_type": "markdown",
   "id": "2b33fa1e",
   "metadata": {},
   "source": [
    "#### 7. Write a recursive Python function to reverse a string."
   ]
  },
  {
   "cell_type": "code",
   "execution_count": 47,
   "id": "0c727c89",
   "metadata": {},
   "outputs": [
    {
     "name": "stdout",
     "output_type": "stream",
     "text": [
      "Enter a string : Roronoa Zoro\n",
      "Reversed String = oroZ aonoroR\n"
     ]
    }
   ],
   "source": [
    "def rev(s):\n",
    "    if(len(s)==1):\n",
    "        return(s)\n",
    "    else:\n",
    "        return(s[-1:]+rev(s[:-1]))\n",
    "    \n",
    "s=input(\"Enter a string : \")\n",
    "print(\"Reversed String =\",rev(s))"
   ]
  },
  {
   "cell_type": "markdown",
   "id": "06d55193",
   "metadata": {},
   "source": [
    "#### 8. Create a recursive Python function to calculate the power of a number (x^n)."
   ]
  },
  {
   "cell_type": "code",
   "execution_count": 53,
   "id": "5eea53ad",
   "metadata": {},
   "outputs": [
    {
     "name": "stdout",
     "output_type": "stream",
     "text": [
      "Enter a number : 2\n",
      "Enter the power : 5\n",
      "2 to the power of 5 = 32\n"
     ]
    }
   ],
   "source": [
    "def power(x,n):\n",
    "    if(n==0):\n",
    "        return 1\n",
    "    elif(n==1):\n",
    "        return x\n",
    "    else:\n",
    "        return(x * power(x,n-1))\n",
    "\n",
    "x=int(input(\"Enter a number : \"))\n",
    "n=int(input(\"Enter the power : \"))\n",
    "print(f\"{x} to the power of {n} = {power(x,n)}\")"
   ]
  },
  {
   "cell_type": "markdown",
   "id": "7fa38fa2",
   "metadata": {},
   "source": [
    "#### 9. Write a recursive Python function to find all permutations of a given string."
   ]
  },
  {
   "cell_type": "code",
   "execution_count": 10,
   "id": "5d38e001",
   "metadata": {},
   "outputs": [
    {
     "name": "stdout",
     "output_type": "stream",
     "text": [
      "Enter a string : OliD\n",
      "Permutations : \n",
      "['OliD', 'OlDi', 'OilD', 'OiDl', 'ODli', 'ODil', 'lOiD', 'lODi', 'liOD', 'liDO', 'lDOi', 'lDiO', 'iOlD', 'iODl', 'ilOD', 'ilDO', 'iDOl', 'iDlO', 'DOli', 'DOil', 'DlOi', 'DliO', 'DiOl', 'DilO']\n"
     ]
    }
   ],
   "source": [
    "def str_permutation(s):\n",
    "    if(len(s)==1):\n",
    "        return(s)\n",
    "    else:\n",
    "        permuted = []\n",
    "        for i in range(len(s)):\n",
    "            p = s[i]\n",
    "            r = s[:i]+s[i+1:]\n",
    "            for x in str_permutation(r):\n",
    "                permuted.append(p+x)\n",
    "        return permuted\n",
    "    \n",
    "s=input(\"Enter a string : \")\n",
    "print(\"Permutations : \")\n",
    "print(str_permutation(s))"
   ]
  },
  {
   "cell_type": "markdown",
   "id": "8e62018b",
   "metadata": {},
   "source": [
    "#### 10. Write a recursive Python function to check if a string is a palindrome.\n"
   ]
  },
  {
   "cell_type": "code",
   "execution_count": 15,
   "id": "6c0a8b50",
   "metadata": {},
   "outputs": [
    {
     "name": "stdout",
     "output_type": "stream",
     "text": [
      "Enter a string : pokop\n",
      "It's palindrome\n"
     ]
    }
   ],
   "source": [
    "def palindrome(s):\n",
    "    if(len(s)==1):\n",
    "        return 1\n",
    "    elif(s[0]==s[-1]):\n",
    "        return (palindrome(s[1:-1]))\n",
    "    else:\n",
    "        return 0\n",
    "    \n",
    "s=input(\"Enter a string : \")\n",
    "if(palindrome(s)):\n",
    "    print(\"It's palindrome\")\n",
    "else:\n",
    "    print(\"It's not palindrome\")"
   ]
  },
  {
   "cell_type": "markdown",
   "id": "b960eb91",
   "metadata": {},
   "source": [
    "#### 11. Create a recursive Python function to generate all possible combinations of a list of elements."
   ]
  },
  {
   "cell_type": "code",
   "execution_count": 31,
   "id": "76cf15a5",
   "metadata": {},
   "outputs": [
    {
     "name": "stdout",
     "output_type": "stream",
     "text": [
      "List : [1, 2, 3]\n",
      "Combinations :\n",
      "[[1, 2, 3], [1, 2], [1, 3], [1], [2, 3], [2], [3], []]\n"
     ]
    }
   ],
   "source": [
    "def combinations(l,combo=[],i=0,result=[]):\n",
    "    if i == len(l):\n",
    "        result.append(combo.copy())\n",
    "        return\n",
    "    combo.append(l[i])\n",
    "    combinations(l, combo, i + 1, result)\n",
    "    combo.pop()\n",
    "    combinations(l, combo, i + 1, result)\n",
    "    return result\n",
    "\n",
    "l = [1,2,3]\n",
    "print(\"List :\",l)\n",
    "print(\"Combinations :\")\n",
    "print(combinations(l))"
   ]
  },
  {
   "cell_type": "markdown",
   "id": "0db2d54e",
   "metadata": {},
   "source": [
    "## Basics of Functions:\n"
   ]
  },
  {
   "cell_type": "markdown",
   "id": "fae790a4",
   "metadata": {},
   "source": [
    "#### 1. What is a function in Python, and why is it used?\n"
   ]
  },
  {
   "cell_type": "code",
   "execution_count": null,
   "id": "c7633b88",
   "metadata": {},
   "outputs": [],
   "source": [
    "'''\n",
    "Function is a set or block of codes that can be re-used multiple times as per requirement.\n",
    "\n",
    "It is used when re-usability of code is required, it also provides modularity and code organization.\n",
    "'''"
   ]
  },
  {
   "cell_type": "markdown",
   "id": "8bf4eb7c",
   "metadata": {},
   "source": [
    "#### 2. How do you define a function in Python? Provide an example.\n"
   ]
  },
  {
   "cell_type": "code",
   "execution_count": 32,
   "id": "a79c1d2f",
   "metadata": {},
   "outputs": [
    {
     "data": {
      "text/plain": [
       "17"
      ]
     },
     "execution_count": 32,
     "metadata": {},
     "output_type": "execute_result"
    }
   ],
   "source": [
    "'''\n",
    "We define a function inpython using the 'def' keyword.\n",
    "'''\n",
    "\n",
    "def add(a,b):\n",
    "    return(a+b)\n",
    "\n",
    "add(12,5)"
   ]
  },
  {
   "cell_type": "markdown",
   "id": "c13a71ee",
   "metadata": {},
   "source": [
    "#### 3. Explain the difference between a function definition and a function call."
   ]
  },
  {
   "cell_type": "code",
   "execution_count": 33,
   "id": "05ef859c",
   "metadata": {},
   "outputs": [
    {
     "data": {
      "text/plain": [
       "5"
      ]
     },
     "execution_count": 33,
     "metadata": {},
     "output_type": "execute_result"
    }
   ],
   "source": [
    "'''\n",
    "Function DEFINITION is basically where the main body of the function is ie. the block where the function is actually \n",
    "defined and the code logic is written. 'def' keyword is used here\n",
    "\n",
    "Function CALL is using the function name to execute the function.\n",
    "'''\n",
    "\n",
    "def add(a,b):        #Function Definition\n",
    "    return (a+b)\n",
    "\n",
    "add(5,0)             #Function Call"
   ]
  },
  {
   "cell_type": "markdown",
   "id": "b3de8751",
   "metadata": {},
   "source": [
    "#### 4. Write a Python program that defines a function to calculate the sum of two numbers and then calls the function.\n"
   ]
  },
  {
   "cell_type": "code",
   "execution_count": 35,
   "id": "588dfe4d",
   "metadata": {},
   "outputs": [
    {
     "name": "stdout",
     "output_type": "stream",
     "text": [
      "a = 3\n",
      "b = 100\n",
      "Sum = 103\n"
     ]
    }
   ],
   "source": [
    "def calc_sum(a,b):\n",
    "    return(a+b)\n",
    "\n",
    "a=int(input(\"a = \"))\n",
    "b=int(input(\"b = \"))\n",
    "print(\"Sum =\",calc_sum(a,b))"
   ]
  },
  {
   "cell_type": "markdown",
   "id": "5580f41c",
   "metadata": {},
   "source": [
    "#### 5. What is a function signature, and what information does it typically include?\n"
   ]
  },
  {
   "cell_type": "code",
   "execution_count": null,
   "id": "3556b2d5",
   "metadata": {},
   "outputs": [],
   "source": [
    "'''\n",
    "Function Signature is part of the function that includes the function name, it's parameters and the return type.\n",
    "'''"
   ]
  },
  {
   "cell_type": "markdown",
   "id": "5a4b8884",
   "metadata": {},
   "source": [
    "#### 6. Create a Python function that takes two arguments and returns their product.\n"
   ]
  },
  {
   "cell_type": "code",
   "execution_count": 36,
   "id": "8f24c669",
   "metadata": {},
   "outputs": [
    {
     "name": "stdout",
     "output_type": "stream",
     "text": [
      "a = 4\n",
      "b = 5\n",
      "Product = 20\n"
     ]
    }
   ],
   "source": [
    "def product(a,b):\n",
    "    return a*b\n",
    "\n",
    "a=int(input(\"a = \"))\n",
    "b=int(input(\"b = \"))\n",
    "print(\"Product =\",product(a,b))"
   ]
  },
  {
   "cell_type": "markdown",
   "id": "564a4f31",
   "metadata": {},
   "source": [
    "## Function Parameters and Arguments:\n"
   ]
  },
  {
   "cell_type": "markdown",
   "id": "e4b6ccd5",
   "metadata": {},
   "source": [
    "#### 1. Explain the concepts of formal parameters and actual arguments in Python functions.\n"
   ]
  },
  {
   "cell_type": "code",
   "execution_count": 37,
   "id": "b2e2a23f",
   "metadata": {},
   "outputs": [
    {
     "data": {
      "text/plain": [
       "30"
      ]
     },
     "execution_count": 37,
     "metadata": {},
     "output_type": "execute_result"
    }
   ],
   "source": [
    "'''\n",
    "FORMAL parameters are the parameters of a function that take values from the function call.\n",
    "ACTUAL parameters are the values passed to the function parameters during function call.\n",
    "\n",
    "'''\n",
    "\n",
    "def add(a,b):      # a and b are the FORMAL parameters\n",
    "    return a+b\n",
    "\n",
    "add(10,20)         # 10 and 20 are the ACTUAL parameters "
   ]
  },
  {
   "cell_type": "markdown",
   "id": "6d12977a",
   "metadata": {},
   "source": [
    "#### 2. Write a Python program that defines a function with default argument values."
   ]
  },
  {
   "cell_type": "code",
   "execution_count": 39,
   "id": "1d0a1b22",
   "metadata": {},
   "outputs": [
    {
     "data": {
      "text/plain": [
       "20"
      ]
     },
     "execution_count": 39,
     "metadata": {},
     "output_type": "execute_result"
    }
   ],
   "source": [
    "def add(a=0, b=0):\n",
    "    return a+b\n",
    "\n",
    "add(20)"
   ]
  },
  {
   "cell_type": "markdown",
   "id": "9aee7b96",
   "metadata": {},
   "source": [
    "#### 3. How do you use keyword arguments in Python function calls? Provide an example.\n"
   ]
  },
  {
   "cell_type": "code",
   "execution_count": 46,
   "id": "70b1a80e",
   "metadata": {},
   "outputs": [
    {
     "data": {
      "text/plain": [
       "50"
      ]
     },
     "execution_count": 46,
     "metadata": {},
     "output_type": "execute_result"
    }
   ],
   "source": [
    "def func(a,b,operator):\n",
    "    if(operator=='+'):\n",
    "        return(a+b)\n",
    "    elif(operator=='-'):\n",
    "        return(a-b)\n",
    "    \n",
    "func(operator='-',a=20,b=-30)   # using keywords to pass values to arguments during function call, position doesn't matter"
   ]
  },
  {
   "cell_type": "markdown",
   "id": "77430fe1",
   "metadata": {},
   "source": [
    "#### 4. Create a Python function that accepts a variable number of arguments and calculates their sum.\n"
   ]
  },
  {
   "cell_type": "code",
   "execution_count": 55,
   "id": "c951a469",
   "metadata": {},
   "outputs": [
    {
     "name": "stdout",
     "output_type": "stream",
     "text": [
      "List = [1, 2, 3, 4]\n",
      "Sum = 10\n"
     ]
    }
   ],
   "source": [
    "def add(*args):\n",
    "    s=0\n",
    "    for i in args[0]:\n",
    "        s+=i\n",
    "    return s\n",
    "\n",
    "l=[1,2,3,4]\n",
    "print(\"List =\",l)\n",
    "print(\"Sum =\",add(l))"
   ]
  },
  {
   "cell_type": "markdown",
   "id": "08d59637",
   "metadata": {},
   "source": [
    "#### 5. What is the purpose of the args and kwargs syntax in function parameter lists?"
   ]
  },
  {
   "cell_type": "code",
   "execution_count": null,
   "id": "db2fab1e",
   "metadata": {},
   "outputs": [],
   "source": [
    "'''\n",
    "*args is used to pass multiple elements as a tuple parameter during a function call\n",
    "\n",
    "**kwargs is used to send key value pairs as parameter during a function call\n",
    "'''"
   ]
  },
  {
   "cell_type": "markdown",
   "id": "99df3e58",
   "metadata": {},
   "source": [
    "## Return Values and Scoping:\n"
   ]
  },
  {
   "cell_type": "markdown",
   "id": "fe885c13",
   "metadata": {},
   "source": [
    "#### 1. Describe the role of the return statement in Python functions and provide examples.\n"
   ]
  },
  {
   "cell_type": "code",
   "execution_count": 1,
   "id": "4205f16b",
   "metadata": {},
   "outputs": [
    {
     "data": {
      "text/plain": [
       "15"
      ]
     },
     "execution_count": 1,
     "metadata": {},
     "output_type": "execute_result"
    }
   ],
   "source": [
    "'''\n",
    "Return statement is used to return a specific value to the function call statement before exiting from the function. \n",
    "If return is not specified the function returns None value.\n",
    "'''\n",
    "\n",
    "def add(a,b):\n",
    "    return(a+b)   #returns int type value\n",
    "\n",
    "add(10,5)"
   ]
  },
  {
   "cell_type": "markdown",
   "id": "17a2fc0b",
   "metadata": {},
   "source": [
    "#### 2. Explain the concept of variable scope in Python, including local and global variables.\n"
   ]
  },
  {
   "cell_type": "code",
   "execution_count": 5,
   "id": "bc9d98dc",
   "metadata": {},
   "outputs": [
    {
     "name": "stdout",
     "output_type": "stream",
     "text": [
      "global variable a 20\n",
      "local variable a 10\n"
     ]
    }
   ],
   "source": [
    "'''\n",
    "SCOPE of a variable covers the portion of the code where the variable can be accessed.\n",
    "\n",
    "LOCAL variables are declared inside a function, and can only be used inside the function. Thus the scope of a local variable\n",
    "is just inside the function where it is created.\n",
    "\n",
    "GLOBAL variables are declared outside the functions in the main body of the code and it's scope is the entire program, i.e.\n",
    "it can be accessed from anywhere within the code.\n",
    "\n",
    "'''\n",
    "\n",
    "def scope():\n",
    "    a=10                         #local\n",
    "    print(\"local variable a\",a)\n",
    "    \n",
    "a=20                             #global\n",
    "print(\"global variable a\",a)\n",
    "scope()"
   ]
  },
  {
   "cell_type": "markdown",
   "id": "abfd243f",
   "metadata": {},
   "source": [
    "#### 3. Write a Python program that demonstrates the use of global variables within functions."
   ]
  },
  {
   "cell_type": "code",
   "execution_count": 8,
   "id": "675a5585",
   "metadata": {},
   "outputs": [
    {
     "name": "stdout",
     "output_type": "stream",
     "text": [
      "20 local\n",
      "30 local\n",
      "11 global\n"
     ]
    },
    {
     "ename": "NameError",
     "evalue": "name 'b' is not defined",
     "output_type": "error",
     "traceback": [
      "\u001b[1;31m---------------------------------------------------------------------------\u001b[0m",
      "\u001b[1;31mNameError\u001b[0m                                 Traceback (most recent call last)",
      "\u001b[1;32m<ipython-input-8-ae1b837b74ed>\u001b[0m in \u001b[0;36m<module>\u001b[1;34m\u001b[0m\n\u001b[0;32m      9\u001b[0m \u001b[0ma\u001b[0m\u001b[1;33m+=\u001b[0m\u001b[1;36m1\u001b[0m\u001b[1;33m\u001b[0m\u001b[1;33m\u001b[0m\u001b[0m\n\u001b[0;32m     10\u001b[0m \u001b[0mprint\u001b[0m\u001b[1;33m(\u001b[0m\u001b[0ma\u001b[0m\u001b[1;33m,\u001b[0m\u001b[1;34m'global'\u001b[0m\u001b[1;33m)\u001b[0m\u001b[1;33m\u001b[0m\u001b[1;33m\u001b[0m\u001b[0m\n\u001b[1;32m---> 11\u001b[1;33m \u001b[0mprint\u001b[0m\u001b[1;33m(\u001b[0m\u001b[0mb\u001b[0m\u001b[1;33m,\u001b[0m\u001b[1;34m'local'\u001b[0m\u001b[1;33m)\u001b[0m\u001b[1;33m\u001b[0m\u001b[1;33m\u001b[0m\u001b[0m\n\u001b[0m",
      "\u001b[1;31mNameError\u001b[0m: name 'b' is not defined"
     ]
    }
   ],
   "source": [
    "def func():\n",
    "    a=20\n",
    "    b=30\n",
    "    print(a,'local')\n",
    "    print(b,'local')\n",
    "\n",
    "a=10 \n",
    "func()\n",
    "a+=1\n",
    "print(a,'global')\n",
    "print(b,'local')    #can't be accessed outside the function"
   ]
  },
  {
   "cell_type": "markdown",
   "id": "fb7256ac",
   "metadata": {},
   "source": [
    "#### 4. Create a Python function that calculates the factorial of a number and returns it.\n"
   ]
  },
  {
   "cell_type": "code",
   "execution_count": 10,
   "id": "cd46ed90",
   "metadata": {},
   "outputs": [
    {
     "name": "stdout",
     "output_type": "stream",
     "text": [
      "Enter a number : 5\n",
      "Factorial = 120\n"
     ]
    }
   ],
   "source": [
    "def fact(n):\n",
    "    f=1\n",
    "    for i in range(1,n+1):\n",
    "        f*=i\n",
    "    return f\n",
    "\n",
    "n=int(input(\"Enter a number : \"))\n",
    "print(\"Factorial =\",fact(n))"
   ]
  },
  {
   "cell_type": "markdown",
   "id": "d4c40c07",
   "metadata": {},
   "source": [
    "#### 5. How can you access variables defined outside a function from within the function?\n"
   ]
  },
  {
   "cell_type": "code",
   "execution_count": 20,
   "id": "c1ef3f89",
   "metadata": {},
   "outputs": [
    {
     "name": "stdout",
     "output_type": "stream",
     "text": [
      "15 inside function\n",
      "10 outside function\n"
     ]
    }
   ],
   "source": [
    "def func(a):\n",
    "    a+=5\n",
    "    print(a,'inside function')\n",
    "    \n",
    "a=10\n",
    "func(a)\n",
    "print(a,'outside function')"
   ]
  },
  {
   "cell_type": "markdown",
   "id": "a9421224",
   "metadata": {},
   "source": [
    "## Lambda Functions and Higher-Order Functions:\n"
   ]
  },
  {
   "cell_type": "markdown",
   "id": "5bf01294",
   "metadata": {},
   "source": [
    "#### 1. What are lambda functions in Python, and when are they typically used?\n"
   ]
  },
  {
   "cell_type": "code",
   "execution_count": null,
   "id": "1d766957",
   "metadata": {},
   "outputs": [],
   "source": [
    "'''\n",
    "LAMBDA functions are short inline functions and are used when a small, short-lived function is needed for a short period\n",
    "'''"
   ]
  },
  {
   "cell_type": "markdown",
   "id": "530eb321",
   "metadata": {},
   "source": [
    "#### 2. Write a Python program that uses lambda functions to sort a list of tuples based on the second element."
   ]
  },
  {
   "cell_type": "code",
   "execution_count": 24,
   "id": "ce0486e5",
   "metadata": {},
   "outputs": [
    {
     "name": "stdout",
     "output_type": "stream",
     "text": [
      "List of tuples : [(1, 4, 3), (6, 7, 9), (8, 1, 3), (5, 2, 8)]\n",
      "Sorted based on second element : [(8, 1, 3), (5, 2, 8), (1, 4, 3), (6, 7, 9)]\n"
     ]
    }
   ],
   "source": [
    "lot = [(1,4,3),(6,7,9),(8,1,3),(5,2,8)]\n",
    "print(\"List of tuples :\",lot)\n",
    "nlot = sorted(lot, key=lambda a : a[1])\n",
    "print(\"Sorted based on second element :\",nlot)"
   ]
  },
  {
   "cell_type": "markdown",
   "id": "6f219e2b",
   "metadata": {},
   "source": [
    "#### 3. Explain the concept of higher-order functions in Python, and provide an example."
   ]
  },
  {
   "cell_type": "code",
   "execution_count": 26,
   "id": "14b87674",
   "metadata": {},
   "outputs": [
    {
     "name": "stdout",
     "output_type": "stream",
     "text": [
      "Number = 10\n",
      "incremented to 11\n",
      "decremented to 9\n"
     ]
    }
   ],
   "source": [
    "'''\n",
    "HIGHER-ORDER functions are those functions that can use other functions as arguments or can give function as return value.\n",
    "'''\n",
    "\n",
    "def increment(x):\n",
    "    return x+1\n",
    "\n",
    "def decrement(x):\n",
    "    return x-1\n",
    "\n",
    "def implement(number,operation):\n",
    "    return operation(number)\n",
    "\n",
    "n=10\n",
    "print(\"Number =\",10)\n",
    "print('incremented to',implement(n,increment))\n",
    "print('decremented to',implement(n,decrement))"
   ]
  },
  {
   "cell_type": "markdown",
   "id": "f85118b2",
   "metadata": {},
   "source": [
    "#### 4. Create a Python function that takes a list of numbers and a function as arguments, applying the function to each element in the list."
   ]
  },
  {
   "cell_type": "code",
   "execution_count": 2,
   "id": "f15982ce",
   "metadata": {},
   "outputs": [
    {
     "name": "stdout",
     "output_type": "stream",
     "text": [
      "List : [1, 3, 5, 2, 4, 6]\n",
      "Modified List : [10, 30, 50, 20, 40, 60]\n"
     ]
    }
   ],
   "source": [
    "def tenMultiply(n):\n",
    "    return n*10\n",
    "    \n",
    "def implement(listOfNumbers,function):\n",
    "    return ([function(x) for x in listOfNumbers])\n",
    "\n",
    "l=[1,3,5,2,4,6]\n",
    "print(\"List :\",l)\n",
    "print(\"Modified List :\",implement(l,tenMultiply))\n",
    "    "
   ]
  },
  {
   "cell_type": "markdown",
   "id": "1784f166",
   "metadata": {},
   "source": [
    "## Built-in Functions:"
   ]
  },
  {
   "cell_type": "markdown",
   "id": "8cbd4abb",
   "metadata": {},
   "source": [
    "#### 1. Describe the role of built-in functions like len(), max(), and min() in Python."
   ]
  },
  {
   "cell_type": "code",
   "execution_count": null,
   "id": "36a0d0f2",
   "metadata": {},
   "outputs": [],
   "source": [
    "'''\n",
    "LEN() is used to find the length of any iterables.\n",
    "MAX() is used to find the maximum element from any iterable.\n",
    "MIN() is used to find the minimum element from any iterable.\n",
    "'''"
   ]
  },
  {
   "cell_type": "markdown",
   "id": "ea566235",
   "metadata": {},
   "source": [
    "#### 2. Write a Python program that uses the map() function to apply a function to each element of a list.\n"
   ]
  },
  {
   "cell_type": "code",
   "execution_count": 3,
   "id": "fc226461",
   "metadata": {},
   "outputs": [
    {
     "name": "stdout",
     "output_type": "stream",
     "text": [
      "List : ['Data', 'Science']\n",
      "Length of the elements : [4, 7]\n"
     ]
    }
   ],
   "source": [
    "l=['Data','Science']\n",
    "print(\"List :\",l)\n",
    "lengths = list(map(len,l))\n",
    "print(\"Length of the elements :\",lengths)"
   ]
  },
  {
   "cell_type": "markdown",
   "id": "4a732a44",
   "metadata": {},
   "source": [
    "#### 3. How does the filter() function work in Python, and when would you use it?\n"
   ]
  },
  {
   "cell_type": "code",
   "execution_count": null,
   "id": "15c3cbfc",
   "metadata": {},
   "outputs": [],
   "source": [
    "'''\n",
    "FILTER() function is used to filter out values from any iterable with the help of certain conditions.\n",
    "'''"
   ]
  },
  {
   "cell_type": "markdown",
   "id": "3ef5835f",
   "metadata": {},
   "source": [
    "#### 4. Create a Python program that uses the reduce() function to find the product of all elements in a list."
   ]
  },
  {
   "cell_type": "code",
   "execution_count": 6,
   "id": "ad3b29d3",
   "metadata": {},
   "outputs": [
    {
     "name": "stdout",
     "output_type": "stream",
     "text": [
      "List : [1, 3, 5, 2, 4, 6]\n",
      "Product = 720\n"
     ]
    }
   ],
   "source": [
    "from functools import reduce\n",
    "\n",
    "l=[1,3,5,2,4,6]\n",
    "print(\"List :\",l)\n",
    "prod = reduce(lambda a,b : a*b, l)\n",
    "print(\"Product =\",prod)"
   ]
  },
  {
   "cell_type": "markdown",
   "id": "933dcc5d",
   "metadata": {},
   "source": [
    "## Function Documentation and Best Practices:"
   ]
  },
  {
   "cell_type": "markdown",
   "id": "1b8907e4",
   "metadata": {},
   "source": [
    "#### 1. Explain the purpose of docstrings in Python functions and how to write them.\n"
   ]
  },
  {
   "cell_type": "code",
   "execution_count": null,
   "id": "c56c9715",
   "metadata": {},
   "outputs": [],
   "source": [
    "'''\n",
    "Docstrings in Python serve as documentation strings, providing a way to document functions, classes, and modules. They are \n",
    "used to describe the purpose, usage, and other relevant information about the code. Docstrings are especially useful for \n",
    "making the code more understandable and for generating documentation using tools like Sphinx.\n",
    "\n",
    "A docstring is a string literal that occurs as the first statement in a module, function, class, or method definition. \n",
    "It is enclosed in triple-quotes (''' / \"\"\") like this text itself. There are two main types of docstrings: \n",
    "one-line docstrings and multi-line docstrings.\n",
    "\n",
    "To access the docstring of a function, we can use the help() function or access the __doc__ attribute of the function \n",
    "object.\n",
    "\n",
    "'''"
   ]
  },
  {
   "cell_type": "markdown",
   "id": "d82254aa",
   "metadata": {},
   "source": [
    "#### 2. Describe some best practices for naming functions and variables in Python, including naming conventions and guidelines.\n"
   ]
  },
  {
   "cell_type": "markdown",
   "id": "8de8126e",
   "metadata": {},
   "source": [
    "\n",
    "\n",
    "##### Variable and Function Names:\n",
    "Use lowercase letters with words separated by underscores (snake_case).\n",
    "Example: total_count, calculate_area, user_name.\n",
    "\n",
    "##### Class Names:\n",
    "Use CamelCase (each word capitalized without spaces).\n",
    "Example: Person, RectangleShape, DatabaseConnector.\n",
    "\n",
    "##### Constants:\n",
    "Use uppercase letters with underscores for constant values.\n",
    "Example: MAX_SIZE, PI, DEFAULT_TIMEOUT.\n",
    "\n",
    "##### Module Names:\n",
    "Use lowercase letters with underscores (snake_case).\n",
    "Example: my_module.py, utils.py.\n",
    "\n",
    "##### Packages:\n",
    "Short, lowercase names are preferred.\n",
    "Avoid using underscores in package names.\n",
    "Example: my_package, not my_package_utils.\n",
    "\n",
    "##### Function and Method Parameters:\n",
    "Follow the same conventions as variables (snake_case).\n",
    "Example: def calculate_area(length, width):.\n",
    "\n",
    "##### Avoid Single Character Names (except for iterators):\n",
    "Use descriptive names that convey the purpose.\n",
    "Exception: Single-character variable names like i for loop counters are acceptable.\n",
    "\n",
    "##### Avoid Leading Underscores for Regular Names:\n",
    "Names without a leading underscore have the public API guarantee.\n",
    "Leading underscores are used for indicating a weak \"internal use\" variable or method.\n",
    "\n",
    "##### Use Descriptive and Meaningful Names:\n",
    "Choose names that clearly convey the purpose or intent of the variable or function.\n",
    "Avoid ambiguous or cryptic abbreviations.\n",
    "\n",
    "##### Be Consistent:\n",
    "Stick to a consistent naming style throughout your codebase.\n",
    "If you're working on an existing project, follow the established conventions.\n",
    "\n"
   ]
  },
  {
   "cell_type": "code",
   "execution_count": null,
   "id": "317dad3f",
   "metadata": {},
   "outputs": [],
   "source": []
  },
  {
   "cell_type": "code",
   "execution_count": null,
   "id": "6ca1b69b",
   "metadata": {},
   "outputs": [],
   "source": []
  }
 ],
 "metadata": {
  "kernelspec": {
   "display_name": "Python 3",
   "language": "python",
   "name": "python3"
  },
  "language_info": {
   "codemirror_mode": {
    "name": "ipython",
    "version": 3
   },
   "file_extension": ".py",
   "mimetype": "text/x-python",
   "name": "python",
   "nbconvert_exporter": "python",
   "pygments_lexer": "ipython3",
   "version": "3.8.8"
  }
 },
 "nbformat": 4,
 "nbformat_minor": 5
}
