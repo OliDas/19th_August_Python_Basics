{
 "cells": [
  {
   "cell_type": "markdown",
   "id": "04805ef3",
   "metadata": {},
   "source": [
    "## Basic If-Else Statements:"
   ]
  },
  {
   "cell_type": "markdown",
   "id": "45f2491d",
   "metadata": {},
   "source": [
    "#### 1. Write a Python program to check if a given number is positive or negative."
   ]
  },
  {
   "cell_type": "code",
   "execution_count": 2,
   "id": "f26047a5",
   "metadata": {},
   "outputs": [
    {
     "name": "stdout",
     "output_type": "stream",
     "text": [
      "Enter a number : -89\n",
      "negative number\n"
     ]
    }
   ],
   "source": [
    "n=int(input(\"Enter a number : \"))\n",
    "if(n>0):\n",
    "    print(\"positive number\")\n",
    "elif(n==0):\n",
    "    print(\"number is zero\")\n",
    "else:\n",
    "    print(\"negative number\")"
   ]
  },
  {
   "cell_type": "markdown",
   "id": "935da12a",
   "metadata": {},
   "source": [
    "#### 2. Create a program that determines if a person is eligible to vote based on their age."
   ]
  },
  {
   "cell_type": "code",
   "execution_count": 3,
   "id": "9b3fde33",
   "metadata": {},
   "outputs": [
    {
     "name": "stdout",
     "output_type": "stream",
     "text": [
      "Enter your age : 15\n",
      "You aren't eligible to vote.\n"
     ]
    }
   ],
   "source": [
    "age=int(input(\"Enter your age : \"))\n",
    "if(age>=18):\n",
    "    print(\"You're eligible to vote.\")\n",
    "else:\n",
    "    print(\"You aren't eligible to vote.\")"
   ]
  },
  {
   "cell_type": "markdown",
   "id": "0ac2d2c3",
   "metadata": {},
   "source": [
    "#### 3. Develop a program to find the maximum of two numbers using if-else statements."
   ]
  },
  {
   "cell_type": "code",
   "execution_count": 4,
   "id": "01293334",
   "metadata": {},
   "outputs": [
    {
     "name": "stdout",
     "output_type": "stream",
     "text": [
      "First number : 10\n",
      "Second number : 5\n",
      "Max = 10\n"
     ]
    }
   ],
   "source": [
    "a=int(input(\"First number : \"))\n",
    "b=int(input(\"Second number : \"))\n",
    "if(a>b):\n",
    "    print(\"Max =\",a)\n",
    "else:\n",
    "    print(\"Max =\",b)"
   ]
  },
  {
   "cell_type": "markdown",
   "id": "d6a6d153",
   "metadata": {},
   "source": [
    "#### 4. Write a Python script to classify a given year as a leap year or not."
   ]
  },
  {
   "cell_type": "code",
   "execution_count": 9,
   "id": "2a4143f4",
   "metadata": {},
   "outputs": [
    {
     "name": "stdout",
     "output_type": "stream",
     "text": [
      "Enter the year : 2024\n",
      "Leap year\n"
     ]
    }
   ],
   "source": [
    "y=int(input(\"Enter the year : \"))\n",
    "if(y%4 == 0 and y%100 != 0) or (y%400 == 0):\n",
    "    print(\"Leap year\")\n",
    "else:\n",
    "    print(\"Not a leap year\")"
   ]
  },
  {
   "cell_type": "markdown",
   "id": "27a8c674",
   "metadata": {},
   "source": [
    "#### 5. Create a program that checks whether a character is a vowel or a consonant."
   ]
  },
  {
   "cell_type": "code",
   "execution_count": 14,
   "id": "2608d086",
   "metadata": {},
   "outputs": [
    {
     "name": "stdout",
     "output_type": "stream",
     "text": [
      "Enter an alphabet : B\n",
      "Consonent\n"
     ]
    }
   ],
   "source": [
    "c=input(\"Enter an alphabet : \")\n",
    "if(c.lower() in \"aeiou\"):\n",
    "    print(\"Vowel\")\n",
    "else:\n",
    "    print(\"Consonent\")"
   ]
  },
  {
   "cell_type": "markdown",
   "id": "96d083d1",
   "metadata": {},
   "source": [
    "#### 6. Implement a program to determine whether a given number is even or odd."
   ]
  },
  {
   "cell_type": "code",
   "execution_count": 18,
   "id": "67e60607",
   "metadata": {},
   "outputs": [
    {
     "name": "stdout",
     "output_type": "stream",
     "text": [
      "Enter a number : 25\n",
      "Odd\n"
     ]
    }
   ],
   "source": [
    "n=int(input(\"Enter a number : \"))\n",
    "if(n%2==0):\n",
    "    print(\"Even\")\n",
    "else:\n",
    "    print(\"Odd\")"
   ]
  },
  {
   "cell_type": "markdown",
   "id": "a68c1396",
   "metadata": {},
   "source": [
    "#### 7. Write a Python function to calculate the absolute value of a number without using the abs() function."
   ]
  },
  {
   "cell_type": "code",
   "execution_count": 20,
   "id": "59770a13",
   "metadata": {},
   "outputs": [
    {
     "name": "stdout",
     "output_type": "stream",
     "text": [
      "Enter a number : -689\n",
      "Absolute value = 689\n"
     ]
    }
   ],
   "source": [
    "n=int(input(\"Enter a number : \"))\n",
    "if(n>=0):\n",
    "    print(\"Absolute value =\",n)\n",
    "else:\n",
    "    print(\"Absolute value =\",n*-1)"
   ]
  },
  {
   "cell_type": "markdown",
   "id": "60db88eb",
   "metadata": {},
   "source": [
    "#### 8. Develop a program that determines the largest of three given numbers using if-else statements."
   ]
  },
  {
   "cell_type": "code",
   "execution_count": 26,
   "id": "7d7c769a",
   "metadata": {},
   "outputs": [
    {
     "name": "stdout",
     "output_type": "stream",
     "text": [
      "Enter 3 numbers : \n",
      "6\n",
      "9\n",
      "3\n",
      "Largest = 9\n"
     ]
    }
   ],
   "source": [
    "print(\"Enter 3 numbers : \")\n",
    "l = [int(input()) for i in range(3)]\n",
    "if(l[2]<l[0]>l[1]):\n",
    "    print(\"Largest =\",l[0])\n",
    "elif(l[0]<l[1]>l[2]):\n",
    "    print(\"Largest =\",l[1])\n",
    "else:\n",
    "    print(\"Largest =\",l[2])"
   ]
  },
  {
   "cell_type": "markdown",
   "id": "630bd282",
   "metadata": {},
   "source": [
    "#### 9. Create a program that checks if a given string is a palindrome."
   ]
  },
  {
   "cell_type": "code",
   "execution_count": 28,
   "id": "549b5851",
   "metadata": {},
   "outputs": [
    {
     "name": "stdout",
     "output_type": "stream",
     "text": [
      "Enter a string : madam\n",
      "Palindrome\n"
     ]
    }
   ],
   "source": [
    "s=input(\"Enter a string : \")\n",
    "if(s[::-1]==s):\n",
    "    print(\"Palindrome\")\n",
    "else:\n",
    "    print(\"Not Palindrome\")"
   ]
  },
  {
   "cell_type": "markdown",
   "id": "7535c51b",
   "metadata": {},
   "source": [
    "#### 10. Write a Python program to calculate the grade based on a student's score."
   ]
  },
  {
   "cell_type": "code",
   "execution_count": 35,
   "id": "2b0c99b5",
   "metadata": {},
   "outputs": [
    {
     "name": "stdout",
     "output_type": "stream",
     "text": [
      "Enter marks (out of 100) : 40\n",
      "YOU FAILED !!!!!!!\n"
     ]
    }
   ],
   "source": [
    "score = int(input(\"Enter marks (out of 100) : \"))\n",
    "if(score>=85):\n",
    "    print(\"Grade = A, EXCELLENT\")\n",
    "elif(score>=75):\n",
    "    print(\"Grade = B, GOOD JOB\")\n",
    "elif(score>=65):\n",
    "    print(\"Grade = C, CAN DO BETTER\")\n",
    "elif(score>=55):\n",
    "    print(\"Grade = D, NEED TO STUDY HARDER\")\n",
    "elif(score>=45):\n",
    "    print(\"Grade = E, POOR\")\n",
    "else:\n",
    "    print(\"YOU FAILED !!!!!!!\")"
   ]
  },
  {
   "cell_type": "markdown",
   "id": "cad6f48a",
   "metadata": {},
   "source": [
    "## Nested If-Else Statements:"
   ]
  },
  {
   "cell_type": "markdown",
   "id": "7136c4b4",
   "metadata": {},
   "source": [
    "#### 11. Write a program to find the largest among three numbers using nested if-else statements."
   ]
  },
  {
   "cell_type": "code",
   "execution_count": 40,
   "id": "2caaa24e",
   "metadata": {},
   "outputs": [
    {
     "name": "stdout",
     "output_type": "stream",
     "text": [
      "Enter 3 numbers : \n",
      "3\n",
      "2\n",
      "1\n",
      "Largest = 3\n"
     ]
    }
   ],
   "source": [
    "print(\"Enter 3 numbers : \")\n",
    "l = [int(input()) for i in range(3)]\n",
    "if(l[0]>l[1]):\n",
    "    if(l[0]>l[2]):\n",
    "        print(\"Largest =\",l[0])\n",
    "    else:\n",
    "        print(\"Largest =\",l[2])\n",
    "elif(l[1]>l[2]):\n",
    "    if(l[1]>l[0]):\n",
    "        print(\"Largest =\",l[1])\n",
    "    else:\n",
    "        print(\"Largest =\",l[0])\n",
    "else:\n",
    "    print(\"Largest =\",l[2])"
   ]
  },
  {
   "cell_type": "markdown",
   "id": "f329dbe9",
   "metadata": {},
   "source": [
    "#### 12. Implement a program to determine if a triangle is equilateral, isosceles, or scalene."
   ]
  },
  {
   "cell_type": "code",
   "execution_count": 44,
   "id": "e82d8b7a",
   "metadata": {},
   "outputs": [
    {
     "name": "stdout",
     "output_type": "stream",
     "text": [
      "Enter sides of a triangle : \n",
      "2\n",
      "3\n",
      "4\n",
      "Scalene Triangle\n"
     ]
    }
   ],
   "source": [
    "print(\"Enter sides of a triangle : \")\n",
    "a=int(input())\n",
    "b=int(input())\n",
    "c=int(input())\n",
    "\n",
    "if(a==b==c):\n",
    "    print(\"Equilateral Triangle\")\n",
    "elif(a==b or b==c or c==a):\n",
    "    print(\"Isosceles Triangle\")\n",
    "else:\n",
    "    print(\"Scalene Triangle\")"
   ]
  },
  {
   "cell_type": "markdown",
   "id": "3e8dff2e",
   "metadata": {},
   "source": [
    "#### 13. Develop a program that checks if a year is a leap year and also if it is a century year."
   ]
  },
  {
   "cell_type": "code",
   "execution_count": 49,
   "id": "f6116687",
   "metadata": {},
   "outputs": [
    {
     "name": "stdout",
     "output_type": "stream",
     "text": [
      "Enter the year : 2024\n",
      "Leap year and non-century year\n"
     ]
    }
   ],
   "source": [
    "y=int(input(\"Enter the year : \"))\n",
    "if(y%4 == 0 and y%100 != 0) or (y%400 == 0):\n",
    "    print(\"Leap year and \",end='')\n",
    "    if(y%100==0):\n",
    "        print(\"century year\")\n",
    "    else:\n",
    "        print(\"non-century year\")\n",
    "else:\n",
    "    print(\"Non-leap year and \",end='')\n",
    "    if(y%100==0):\n",
    "        print(\"century year\")\n",
    "    else:\n",
    "        print(\"non-century year\")"
   ]
  },
  {
   "cell_type": "markdown",
   "id": "83e1a591",
   "metadata": {},
   "source": [
    "#### 14. Write a Python script to determine if a number is positive, negative, or zero."
   ]
  },
  {
   "cell_type": "code",
   "execution_count": 52,
   "id": "a8ae921c",
   "metadata": {},
   "outputs": [
    {
     "name": "stdout",
     "output_type": "stream",
     "text": [
      "Enter a number : 0\n",
      "Number is zero\n"
     ]
    }
   ],
   "source": [
    "n=int(input(\"Enter a number : \"))\n",
    "if(n>=0):\n",
    "    if(n>0):\n",
    "        print(\"Positive number\")\n",
    "    else:\n",
    "        print(\"Number is zero\")\n",
    "else:\n",
    "    print(\"Number is negative\")"
   ]
  },
  {
   "cell_type": "markdown",
   "id": "bc0429bc",
   "metadata": {},
   "source": [
    "#### 15. Create a program to check if a person is a teenager (between 13 and 19 years old)."
   ]
  },
  {
   "cell_type": "code",
   "execution_count": 61,
   "id": "db0806ba",
   "metadata": {},
   "outputs": [
    {
     "name": "stdout",
     "output_type": "stream",
     "text": [
      "Enter your age : 15\n",
      "You're a teenager\n"
     ]
    }
   ],
   "source": [
    "age = int(input(\"Enter your age : \"))\n",
    "if(19>=age>=13):\n",
    "    print(\"You're a teenager\")\n",
    "else:\n",
    "    if(age>19):\n",
    "        print(\"You aren't a teenager anymore\")\n",
    "    else:\n",
    "        print(\"You aren't a teenager yet\")"
   ]
  },
  {
   "cell_type": "markdown",
   "id": "2801d91b",
   "metadata": {},
   "source": [
    "#### 16. Develop a program that determines the type of angle based on its measure (acute, obtuse, or right)."
   ]
  },
  {
   "cell_type": "code",
   "execution_count": 64,
   "id": "14391917",
   "metadata": {},
   "outputs": [
    {
     "name": "stdout",
     "output_type": "stream",
     "text": [
      "Enter the angle : 90\n",
      "Right angled\n"
     ]
    }
   ],
   "source": [
    "angle = int(input(\"Enter the angle : \"))\n",
    "if(angle==90):\n",
    "    print(\"Right angled\")\n",
    "else:\n",
    "    if(angle<90):\n",
    "        print(\"Acute angled\")\n",
    "    else:\n",
    "        print(\"Obtuse angled\")"
   ]
  },
  {
   "cell_type": "markdown",
   "id": "f9a39b4a",
   "metadata": {},
   "source": [
    "#### 17. Write a Python program to calculate the roots of a quadratic equation."
   ]
  },
  {
   "cell_type": "code",
   "execution_count": 65,
   "id": "ecd5120c",
   "metadata": {},
   "outputs": [
    {
     "name": "stdout",
     "output_type": "stream",
     "text": [
      "Enter the coefficients(a,b,c) of the quadratic equation : \n",
      "3\n",
      "8\n",
      "1\n",
      "The roots are = -0.13148290817867028 -2.5351837584879964\n"
     ]
    }
   ],
   "source": [
    "print(\"Enter the coefficients(a,b,c) of the quadratic equation : \")\n",
    "a=int(input())\n",
    "b=int(input())\n",
    "c=int(input())\n",
    "\n",
    "r1 = (-b + (b**2 - (4*a*c))**0.5)/(2*a)\n",
    "r2 = (-b - (b**2 - (4*a*c))**0.5)/(2*a)\n",
    "\n",
    "print(\"The roots are =\",r1,r2)"
   ]
  },
  {
   "cell_type": "markdown",
   "id": "c3f2aeb3",
   "metadata": {},
   "source": [
    "#### 18. Implement a program to determine the day of the week based on a user-provided number (1 for Monday, 2 for Tuesday, etc.)."
   ]
  },
  {
   "cell_type": "code",
   "execution_count": 73,
   "id": "9ba7609b",
   "metadata": {},
   "outputs": [
    {
     "name": "stdout",
     "output_type": "stream",
     "text": [
      "Enter the day number (1-7) : 5\n",
      "It's Friday !!!\n"
     ]
    }
   ],
   "source": [
    "d=int(input(\"Enter the day number (1-7) : \"))\n",
    "days=['Monday','Tuesday','Wednesday','Thursday','Friday','Saturday','Sunday']\n",
    "print(\"It's\",days[d-1],\"!!!\")"
   ]
  },
  {
   "cell_type": "markdown",
   "id": "f0e9a0ca",
   "metadata": {},
   "source": [
    "#### 19. Create a program that determines if a year is a leap year and also if it is evenly divisible by 400."
   ]
  },
  {
   "cell_type": "code",
   "execution_count": 77,
   "id": "00afa6ab",
   "metadata": {},
   "outputs": [
    {
     "name": "stdout",
     "output_type": "stream",
     "text": [
      "Enter the year : 2000\n",
      "Leap year and evenly divided by 400\n"
     ]
    }
   ],
   "source": [
    "y=int(input(\"Enter the year : \"))\n",
    "if(y%4 == 0 and y%100 != 0) or (y%400 == 0):\n",
    "    print(\"Leap year and \",end='')\n",
    "    if(y%400==0):\n",
    "        print(\"evenly divided by 400\")\n",
    "    else:\n",
    "        print(\"not evenly divided by 400\")\n",
    "else:\n",
    "    print(\"Non-leap year and \",end='')\n",
    "    if(y%400==0):\n",
    "        print(\"evenly divided by 400\")\n",
    "    else:\n",
    "        print(\"not evenly divided by 400\")"
   ]
  },
  {
   "cell_type": "markdown",
   "id": "80a389ce",
   "metadata": {},
   "source": [
    "#### 20. Develop a program that checks if a given number is prime or not using nested if-else statements."
   ]
  },
  {
   "cell_type": "code",
   "execution_count": 85,
   "id": "7dbdbc8c",
   "metadata": {},
   "outputs": [
    {
     "name": "stdout",
     "output_type": "stream",
     "text": [
      "Enter a number : 17\n",
      "Prime number\n"
     ]
    }
   ],
   "source": [
    "n = int(input(\"Enter a number : \"))\n",
    "f=0\n",
    "if(n==1 or n==2):\n",
    "    print(\"Prime number\")\n",
    "    f=1\n",
    "else:\n",
    "    for i in range(2,int(n**0.5)+1):\n",
    "        if(n%i==0):\n",
    "            print(\"Not prime\")\n",
    "            f=1\n",
    "            break\n",
    "if(f==0):\n",
    "    print(\"Prime number\")"
   ]
  },
  {
   "cell_type": "markdown",
   "id": "d5237bb2",
   "metadata": {},
   "source": [
    "## Elif Statements:"
   ]
  },
  {
   "cell_type": "markdown",
   "id": "81a5fd0b",
   "metadata": {},
   "source": [
    "#### 21. Write a Python program to assign grades based on different ranges of scores using elif statements."
   ]
  },
  {
   "cell_type": "code",
   "execution_count": 91,
   "id": "8110a3f2",
   "metadata": {},
   "outputs": [
    {
     "name": "stdout",
     "output_type": "stream",
     "text": [
      "Enter marks (out of 100) : 40\n",
      "F for Fail\n"
     ]
    }
   ],
   "source": [
    "score = int(input(\"Enter marks (out of 100) : \"))\n",
    "if(100>=score>=85):\n",
    "    print(\"Grade is A\")\n",
    "elif(85>score>=75):\n",
    "    print(\"Grade is B\")\n",
    "elif(75>score>=65):\n",
    "    print(\"Grade is C\")\n",
    "elif(65>score>=55):\n",
    "    print(\"Grade is D\")\n",
    "elif(score>=45):\n",
    "    print(\"Grade is E\")\n",
    "else:\n",
    "    print(\"F for Fail\")"
   ]
  },
  {
   "cell_type": "markdown",
   "id": "42b0fc9d",
   "metadata": {},
   "source": [
    "#### 22. Implement a program to determine the type of a triangle based on its angles."
   ]
  },
  {
   "cell_type": "code",
   "execution_count": 97,
   "id": "43a1b103",
   "metadata": {},
   "outputs": [
    {
     "name": "stdout",
     "output_type": "stream",
     "text": [
      "Enter the angles of a triangle : \n",
      "100\n",
      "60\n",
      "20\n",
      "Obtuse-angled triangle\n"
     ]
    }
   ],
   "source": [
    "print(\"Enter the angles of a triangle : \")\n",
    "a=int(input())\n",
    "b=int(input())\n",
    "c=int(input())\n",
    "\n",
    "if(a+b+c==180):\n",
    "    if(a==90 or b==90 or c==90):\n",
    "        print(\"Right-angled triangle\")\n",
    "    elif(a<90 and b<90 and c<90):\n",
    "        print(\"Acute-angled triangle\")\n",
    "    elif(a>90 or b>90 or c>90):\n",
    "        print(\"Obtuse-angled triangle\")\n",
    "else:\n",
    "    print(\"Wrong set of angles\")"
   ]
  },
  {
   "cell_type": "markdown",
   "id": "d481902c",
   "metadata": {},
   "source": [
    "#### 23. Develop a program to categorize a given person's BMI into underweight, normal, overweight, or obese using elif statements."
   ]
  },
  {
   "cell_type": "code",
   "execution_count": 99,
   "id": "9daa1e61",
   "metadata": {},
   "outputs": [
    {
     "name": "stdout",
     "output_type": "stream",
     "text": [
      "Enter your BMI : 26\n",
      "Overweight\n"
     ]
    }
   ],
   "source": [
    "BMI = float(input(\"Enter your BMI : \"))\n",
    "\n",
    "if(BMI>=30):\n",
    "    print(\"Obese\")\n",
    "elif(BMI>=25):\n",
    "    print(\"Overweight\")\n",
    "elif(BMI>=18.5):\n",
    "    print(\"Normal weight\")\n",
    "else:\n",
    "    print(\"Underweight\")"
   ]
  },
  {
   "cell_type": "markdown",
   "id": "ff0c30ae",
   "metadata": {},
   "source": [
    "#### 24. Create a program that determines whether a given number is positive, negative, or zero using elif statements."
   ]
  },
  {
   "cell_type": "code",
   "execution_count": 103,
   "id": "e58bc4d2",
   "metadata": {},
   "outputs": [
    {
     "name": "stdout",
     "output_type": "stream",
     "text": [
      "Enter a number : -89\n",
      "Number is negative\n"
     ]
    }
   ],
   "source": [
    "n=int(input(\"Enter a number : \"))\n",
    "if(n==0):\n",
    "    print(\"Number is zero\")\n",
    "elif(n>0):\n",
    "    print(\"Number is positive\")\n",
    "else:\n",
    "    print(\"Number is negative\")"
   ]
  },
  {
   "cell_type": "markdown",
   "id": "9a95e678",
   "metadata": {},
   "source": [
    "#### 25. Write a Python script to determine the type of a character (uppercase, lowercase, or special) using elif statements."
   ]
  },
  {
   "cell_type": "code",
   "execution_count": 110,
   "id": "72afc733",
   "metadata": {},
   "outputs": [
    {
     "name": "stdout",
     "output_type": "stream",
     "text": [
      "Enter a character : .\n",
      "Special character\n"
     ]
    }
   ],
   "source": [
    "c=input(\"Enter a character : \")\n",
    "if(c.isalpha() and c.lower()):\n",
    "    print(\"Lowercase\")\n",
    "elif(c.isalpha() and c.upper()):\n",
    "    print(\"Uppercase\")\n",
    "else:\n",
    "    print(\"Special character\")"
   ]
  },
  {
   "cell_type": "markdown",
   "id": "771405e1",
   "metadata": {},
   "source": [
    "#### 26. Implement a program to calculate the discounted price based on different purchase amounts using elif statements."
   ]
  },
  {
   "cell_type": "code",
   "execution_count": 119,
   "id": "ed4b7169",
   "metadata": {},
   "outputs": [
    {
     "name": "stdout",
     "output_type": "stream",
     "text": [
      "Enter the purchase amount : 2600\n",
      "Discounted price = 2080.0\n"
     ]
    }
   ],
   "source": [
    "price = int(input(\"Enter the purchase amount : \"))\n",
    "\n",
    "rate=0\n",
    "if(price>=2500):\n",
    "    rate=0.20\n",
    "elif(price>=1500):\n",
    "    rate=0.15\n",
    "elif(price>=500):\n",
    "    rate=0.10\n",
    "    \n",
    "print(\"Discounted price =\",price - (price*rate))"
   ]
  },
  {
   "cell_type": "markdown",
   "id": "c2e8aef3",
   "metadata": {},
   "source": [
    "#### 27. Develop a program to calculate the electricity bill based on different consumption slabs using elif statements."
   ]
  },
  {
   "cell_type": "code",
   "execution_count": 124,
   "id": "4b9cb820",
   "metadata": {},
   "outputs": [
    {
     "name": "stdout",
     "output_type": "stream",
     "text": [
      "Enter the amount of units of electricity consumed : 135\n",
      "Electricity bill = Rs. 425\n"
     ]
    }
   ],
   "source": [
    "u = int(input(\"Enter the amount of units of electricity consumed : \"))\n",
    "if u <= 50:\n",
    "    eb=(u*2)\n",
    "elif u <= 100:\n",
    "    eb=(50*2) + (u-50)*3\n",
    "elif u <= 200:\n",
    "    eb=(50*2) + (50*3) + (u-100)*5\n",
    "else:\n",
    "    eb=(50*2) + (50*3) + (100*5) + (u-200)*7\n",
    "print(\"Electricity bill = Rs.\",eb)"
   ]
  },
  {
   "cell_type": "markdown",
   "id": "d7c5e0d4",
   "metadata": {},
   "source": [
    "#### 28. Create a program to determine the type of quadrilateral based on its angles and sides using elif statements."
   ]
  },
  {
   "cell_type": "code",
   "execution_count": 139,
   "id": "509c4fc7",
   "metadata": {},
   "outputs": [
    {
     "name": "stdout",
     "output_type": "stream",
     "text": [
      "Enter the angles of the quadrilateral : \n",
      "60\n",
      "120\n",
      "60\n",
      "120\n",
      "Enter the sides of the quadritareral : \n",
      "30\n",
      "100\n",
      "30\n",
      "100\n",
      "Parallelogram\n"
     ]
    }
   ],
   "source": [
    "print(\"Enter the angles of the quadrilateral : \")\n",
    "a=int(input())\n",
    "b=int(input())\n",
    "c=int(input())\n",
    "d=int(input())\n",
    "\n",
    "if(a+b+c+d==360):\n",
    "    \n",
    "    print(\"Enter the sides of the quadritareral : \")   \n",
    "    p=int(input())\n",
    "    q=int(input())\n",
    "    r=int(input())\n",
    "    s=int(input())\n",
    "    \n",
    "    if(a==b==c==d):\n",
    "        if(p==q==r==s):\n",
    "            print(\"Square\")\n",
    "        elif(p==r and q==s):\n",
    "            print(\"Rectangle\")\n",
    "        else:\n",
    "            print(\"Quadrilateral can't be formed\")\n",
    "    elif(a==c and b==d):\n",
    "        if(p==q==r==s):\n",
    "            print(\"Rhombus\")\n",
    "        elif(p==r and q==s):\n",
    "            print(\"Parallelogram\")\n",
    "        else:\n",
    "            print(\"Quadrilateral can't be formed\")\n",
    "    elif((a!=c and b==d) or (a==c and b!=d)):\n",
    "        if((p==q and r==s) or (q==r) and (s==p)):\n",
    "            print(\"Kite\")\n",
    "        else:\n",
    "            print(\"Quadrilateral can't be formed\")    \n",
    "    elif(a!=b!=c!=d):\n",
    "        print(\"Trapezium\")\n",
    "    else:\n",
    "        print(\"Quadrilateral can't be formed\")\n",
    "\n",
    "else:\n",
    "    print(\"Quadrilateral can't be formed\")\n"
   ]
  },
  {
   "cell_type": "markdown",
   "id": "bceaa93d",
   "metadata": {},
   "source": [
    "#### 29. Write a Python script to determine the season based on a user-provided month using elif statements."
   ]
  },
  {
   "cell_type": "code",
   "execution_count": 147,
   "id": "058006b4",
   "metadata": {},
   "outputs": [
    {
     "name": "stdout",
     "output_type": "stream",
     "text": [
      "Enter the month : August\n",
      "ye Monsoon ki baarish...\n"
     ]
    }
   ],
   "source": [
    "month = input(\"Enter the month : \")\n",
    "\n",
    "if(month in ['December','January','February']):\n",
    "    print(\"Winter has come.\")\n",
    "elif(month in ['March', 'April', 'May']):\n",
    "    print(\"Summertime sadness !!\")\n",
    "elif(month in ['June', 'July', 'August', 'September']):\n",
    "    print(\"ye Monsoon ki baarish...\")\n",
    "else:\n",
    "     print(\"it's Autumn now and Winter is coming.\")"
   ]
  },
  {
   "cell_type": "markdown",
   "id": "abcb6aba",
   "metadata": {},
   "source": [
    "#### 30. Implement a program to determine the type of a year (leap or common) and month (30 or 31 days) using elif statements."
   ]
  },
  {
   "cell_type": "code",
   "execution_count": 150,
   "id": "663493c6",
   "metadata": {},
   "outputs": [
    {
     "name": "stdout",
     "output_type": "stream",
     "text": [
      "Enter month and year : \n",
      "Month = February\n",
      "Year = 2024\n",
      "Leap year and month has 29 days\n"
     ]
    }
   ],
   "source": [
    "def isleap(y):\n",
    "    if(y%4 == 0 and y%100 != 0) or (y%400 == 0):\n",
    "        return 1\n",
    "    else:\n",
    "        return 0\n",
    "\n",
    "print(\"Enter month and year : \")\n",
    "m=input(\"Month = \")\n",
    "y=int(input(\"Year = \"))\n",
    "\n",
    "thirty=[\"September\",\"April\",\"June\",\"November\"]\n",
    "\n",
    "if(m=='February'):\n",
    "    if(isleap(y)):\n",
    "        print(\"Leap year and month has 29 days\")\n",
    "    else:\n",
    "        print(\"Non-Leap year and month has 28 days\")\n",
    "elif(m in thirty):\n",
    "    if(isleap(y)):\n",
    "        print(\"Leap year and month has 30 days\")\n",
    "    else:\n",
    "        print(\"Non-Leap year and month has 30 days\")\n",
    "else:\n",
    "    if(isleap(y)):\n",
    "        print(\"Leap year and month has 31 days\")\n",
    "    else:\n",
    "        print(\"Non-Leap year and month has 31 days\")\n",
    "\n"
   ]
  },
  {
   "cell_type": "markdown",
   "id": "7ef33b53",
   "metadata": {},
   "source": [
    "## Basic Level:"
   ]
  },
  {
   "cell_type": "markdown",
   "id": "8688d8a5",
   "metadata": {},
   "source": [
    "#### 1. Write a Python program that checks if a given number is positive, negative, or zero."
   ]
  },
  {
   "cell_type": "code",
   "execution_count": 151,
   "id": "915ba4e7",
   "metadata": {},
   "outputs": [
    {
     "name": "stdout",
     "output_type": "stream",
     "text": [
      "Enter a number : 70\n",
      "Positive number\n"
     ]
    }
   ],
   "source": [
    "n=int(input(\"Enter a number : \"))\n",
    "if(n>=0):\n",
    "    if(n>0):\n",
    "        print(\"Positive number\")\n",
    "    else:\n",
    "        print(\"Number is zero\")\n",
    "else:\n",
    "    print(\"Number is negative\")"
   ]
  },
  {
   "cell_type": "markdown",
   "id": "9f0db492",
   "metadata": {},
   "source": [
    "#### 2. Create a program to determine if a person is eligible to vote based on their age."
   ]
  },
  {
   "cell_type": "code",
   "execution_count": 152,
   "id": "f1f1a6e9",
   "metadata": {},
   "outputs": [
    {
     "name": "stdout",
     "output_type": "stream",
     "text": [
      "Enter your age : 70\n",
      "You're eligible to vote.\n"
     ]
    }
   ],
   "source": [
    "age=int(input(\"Enter your age : \"))\n",
    "if(age>=18):\n",
    "    print(\"You're eligible to vote.\")\n",
    "else:\n",
    "    print(\"You aren't eligible to vote.\")"
   ]
  },
  {
   "cell_type": "markdown",
   "id": "b088f09f",
   "metadata": {},
   "source": [
    "#### 3. Write a program to find the maximum of two given numbers using conditional statements."
   ]
  },
  {
   "cell_type": "code",
   "execution_count": 153,
   "id": "d985471d",
   "metadata": {},
   "outputs": [
    {
     "name": "stdout",
     "output_type": "stream",
     "text": [
      "First number : 50\n",
      "Second number : 05\n",
      "Max = 50\n"
     ]
    }
   ],
   "source": [
    "a=int(input(\"First number : \"))\n",
    "b=int(input(\"Second number : \"))\n",
    "if(a>b):\n",
    "    print(\"Max =\",a)\n",
    "else:\n",
    "    print(\"Max =\",b)"
   ]
  },
  {
   "cell_type": "markdown",
   "id": "4172372c",
   "metadata": {},
   "source": [
    "#### 4. Develop a program that calculates the grade of a student based on their exam score."
   ]
  },
  {
   "cell_type": "code",
   "execution_count": 154,
   "id": "d4edef6a",
   "metadata": {},
   "outputs": [
    {
     "name": "stdout",
     "output_type": "stream",
     "text": [
      "Enter marks (out of 100) : 99\n",
      "Grade = A, EXCELLENT\n"
     ]
    }
   ],
   "source": [
    "score = int(input(\"Enter marks (out of 100) : \"))\n",
    "if(score>=85):\n",
    "    print(\"Grade = A, EXCELLENT\")\n",
    "elif(score>=75):\n",
    "    print(\"Grade = B, GOOD JOB\")\n",
    "elif(score>=65):\n",
    "    print(\"Grade = C, CAN DO BETTER\")\n",
    "elif(score>=55):\n",
    "    print(\"Grade = D, NEED TO STUDY HARDER\")\n",
    "elif(score>=45):\n",
    "    print(\"Grade = E, POOR\")\n",
    "else:\n",
    "    print(\"YOU FAILED !!!!!!!\")"
   ]
  },
  {
   "cell_type": "markdown",
   "id": "30e44aed",
   "metadata": {},
   "source": [
    "#### 5. Create a program that checks if a year is a leap year or not."
   ]
  },
  {
   "cell_type": "code",
   "execution_count": 155,
   "id": "20f22637",
   "metadata": {},
   "outputs": [
    {
     "name": "stdout",
     "output_type": "stream",
     "text": [
      "Enter the year : 1999\n",
      "Not a leap year\n"
     ]
    }
   ],
   "source": [
    "y=int(input(\"Enter the year : \"))\n",
    "if(y%4 == 0 and y%100 != 0) or (y%400 == 0):\n",
    "    print(\"Leap year\")\n",
    "else:\n",
    "    print(\"Not a leap year\")"
   ]
  },
  {
   "cell_type": "markdown",
   "id": "3ef2fafa",
   "metadata": {},
   "source": [
    "#### 6. Write a program to classify a triangle based on its sides' lengths."
   ]
  },
  {
   "cell_type": "code",
   "execution_count": 160,
   "id": "f315d1c4",
   "metadata": {},
   "outputs": [
    {
     "name": "stdout",
     "output_type": "stream",
     "text": [
      "Enter sides of a triangle : \n",
      "10\n",
      "20\n",
      "10\n",
      "Isosceles Triangle\n"
     ]
    }
   ],
   "source": [
    "print(\"Enter sides of a triangle : \")\n",
    "a=int(input())\n",
    "b=int(input())\n",
    "c=int(input())\n",
    "\n",
    "if(a+b>c or b+c>a or c+a>b):\n",
    "    if(a==b==c):\n",
    "        print(\"Equilateral Triangle\")\n",
    "    elif(a==b or b==c or c==a):\n",
    "        print(\"Isosceles Triangle\")\n",
    "    else:\n",
    "        print(\"Scalene Triangle\")\n",
    "else:\n",
    "    print(\"Triangle not possible\")"
   ]
  },
  {
   "cell_type": "markdown",
   "id": "23848037",
   "metadata": {},
   "source": [
    "#### 7. Build a program that determines the largest of three given numbers."
   ]
  },
  {
   "cell_type": "code",
   "execution_count": 161,
   "id": "4ddea0f8",
   "metadata": {},
   "outputs": [
    {
     "name": "stdout",
     "output_type": "stream",
     "text": [
      "Enter 3 numbers : \n",
      "20\n",
      "33\n",
      "50\n",
      "Largest = 50\n"
     ]
    }
   ],
   "source": [
    "print(\"Enter 3 numbers : \")\n",
    "l = [int(input()) for i in range(3)]\n",
    "if(l[2]<l[0]>l[1]):\n",
    "    print(\"Largest =\",l[0])\n",
    "elif(l[0]<l[1]>l[2]):\n",
    "    print(\"Largest =\",l[1])\n",
    "else:\n",
    "    print(\"Largest =\",l[2])"
   ]
  },
  {
   "cell_type": "markdown",
   "id": "fd04893c",
   "metadata": {},
   "source": [
    "#### 8. Develop a program that checks whether a character is a vowel or a consonant."
   ]
  },
  {
   "cell_type": "code",
   "execution_count": 162,
   "id": "7f6bc66f",
   "metadata": {},
   "outputs": [
    {
     "name": "stdout",
     "output_type": "stream",
     "text": [
      "Enter an alphabet : O\n",
      "Vowel\n"
     ]
    }
   ],
   "source": [
    "c=input(\"Enter an alphabet : \")\n",
    "if(c.lower() in \"aeiou\"):\n",
    "    print(\"Vowel\")\n",
    "else:\n",
    "    print(\"Consonent\")"
   ]
  },
  {
   "cell_type": "markdown",
   "id": "ed27e103",
   "metadata": {},
   "source": [
    "#### 9. Create a program to calculate the total cost of a shopping cart based on discounts."
   ]
  },
  {
   "cell_type": "code",
   "execution_count": 164,
   "id": "310bf7c5",
   "metadata": {},
   "outputs": [
    {
     "name": "stdout",
     "output_type": "stream",
     "text": [
      "Enter no. of items in your cart : 5\n",
      "Enter the prices of the items : \n",
      "300\n",
      "650\n",
      "1900\n",
      "230\n",
      "1070\n",
      "Initial total cost = 4150\n",
      "After discount : 3693.0\n"
     ]
    }
   ],
   "source": [
    "def discounted(price):\n",
    "    rate=0\n",
    "    if(price>=2500):\n",
    "        rate=0.20\n",
    "    elif(price>=1500):\n",
    "        rate=0.15\n",
    "    elif(price>=500):\n",
    "        rate=0.10\n",
    "    return(price - (price*rate))\n",
    "\n",
    "n=int(input(\"Enter no. of items in your cart : \"))\n",
    "print(\"Enter the prices of the items : \")\n",
    "\n",
    "l=[]\n",
    "for i in range(n):\n",
    "    l.append(int(input()))\n",
    "d=[]\n",
    "for i in l:\n",
    "    d.append(discounted(i))\n",
    "\n",
    "print(\"Initial total cost =\",sum(l))\n",
    "print(\"After discount :\",sum(d))"
   ]
  },
  {
   "cell_type": "markdown",
   "id": "2e04bc7e",
   "metadata": {},
   "source": [
    "#### 10. Write a program that checks if a given number is even or odd."
   ]
  },
  {
   "cell_type": "code",
   "execution_count": 165,
   "id": "65fa439e",
   "metadata": {},
   "outputs": [
    {
     "name": "stdout",
     "output_type": "stream",
     "text": [
      "Enter a number : 77\n",
      "Odd\n"
     ]
    }
   ],
   "source": [
    "n=int(input(\"Enter a number : \"))\n",
    "if(n%2==0):\n",
    "    print(\"Even\")\n",
    "else:\n",
    "    print(\"Odd\")"
   ]
  },
  {
   "cell_type": "markdown",
   "id": "e77347c2",
   "metadata": {},
   "source": [
    "## Intermediate Level:"
   ]
  },
  {
   "cell_type": "markdown",
   "id": "6f0ce146",
   "metadata": {},
   "source": [
    "#### 11. Write a program that calculates the roots of a quadratic equation."
   ]
  },
  {
   "cell_type": "code",
   "execution_count": 64,
   "id": "13ccaca1",
   "metadata": {},
   "outputs": [
    {
     "name": "stdout",
     "output_type": "stream",
     "text": [
      "Enter the coefficients(a,b,c) of the quadratic equation : \n",
      "2\n",
      "9\n",
      "3\n",
      "The roots are = -0.36254139118231254 -4.1374586088176875\n"
     ]
    }
   ],
   "source": [
    "print(\"Enter the coefficients(a,b,c) of the quadratic equation : \")\n",
    "a=int(input())\n",
    "b=int(input())\n",
    "c=int(input())\n",
    "\n",
    "r1 = (-b + (b**2 - (4*a*c))**0.5)/(2*a)\n",
    "r2 = (-b - (b**2 - (4*a*c))**0.5)/(2*a)\n",
    "\n",
    "print(\"The roots are =\",r1,r2)"
   ]
  },
  {
   "cell_type": "markdown",
   "id": "73af3d79",
   "metadata": {},
   "source": [
    "#### 12. Create a program that determines the day of the week based on the day number (1-7)."
   ]
  },
  {
   "cell_type": "code",
   "execution_count": 167,
   "id": "de1b98e0",
   "metadata": {},
   "outputs": [
    {
     "name": "stdout",
     "output_type": "stream",
     "text": [
      "Enter the day number (1-7) : 7\n",
      "It's Sunday !!!\n"
     ]
    }
   ],
   "source": [
    "d=int(input(\"Enter the day number (1-7) : \"))\n",
    "days=['Monday','Tuesday','Wednesday','Thursday','Friday','Saturday','Sunday']\n",
    "print(\"It's\",days[d-1],\"!!!\")"
   ]
  },
  {
   "cell_type": "markdown",
   "id": "eba3dee6",
   "metadata": {},
   "source": [
    "#### 13. Develop a program that calculates the factorial of a given number using recursion."
   ]
  },
  {
   "cell_type": "code",
   "execution_count": 169,
   "id": "0e508772",
   "metadata": {},
   "outputs": [
    {
     "name": "stdout",
     "output_type": "stream",
     "text": [
      "Enter a number : 10\n",
      "Factorial = 3628800\n"
     ]
    }
   ],
   "source": [
    "def fact(n):\n",
    "    if(n==1):\n",
    "        return(1)\n",
    "    else:\n",
    "        return(n * fact(n-1))\n",
    "\n",
    "n=int(input(\"Enter a number : \"))\n",
    "print(\"Factorial =\",fact(n))    "
   ]
  },
  {
   "cell_type": "markdown",
   "id": "f3b1ad6c",
   "metadata": {},
   "source": [
    "#### 14. Write a program to find the largest among three numbers without using the max() function."
   ]
  },
  {
   "cell_type": "code",
   "execution_count": 170,
   "id": "e247cdce",
   "metadata": {},
   "outputs": [
    {
     "name": "stdout",
     "output_type": "stream",
     "text": [
      "Enter 3 numbers : \n",
      "60\n",
      "30\n",
      "50\n",
      "Largest = 60\n"
     ]
    }
   ],
   "source": [
    "print(\"Enter 3 numbers : \")\n",
    "a=int(input())\n",
    "b=int(input())\n",
    "c=int(input())\n",
    "if(c<a>b):\n",
    "    print(\"Largest =\",a)\n",
    "elif(a<b>c):\n",
    "    print(\"Largest =\",b)\n",
    "else:\n",
    "    print(\"Largest =\",c)"
   ]
  },
  {
   "cell_type": "markdown",
   "id": "3ceefb51",
   "metadata": {},
   "source": [
    "#### 15. Create a program that simulates a basic ATM transaction menu."
   ]
  },
  {
   "cell_type": "code",
   "execution_count": 186,
   "id": "d849b4f8",
   "metadata": {},
   "outputs": [
    {
     "name": "stdout",
     "output_type": "stream",
     "text": [
      "Select an option :\n",
      "1. Deposit\n",
      "2. Withdraw\n",
      "3. Check Balance\n",
      "\n",
      "Choice : 2\n",
      "\n",
      "WITHDRAW\n",
      "Enter amount to be withdrawn : 3567\n",
      "\n",
      "Amount withdrawn successfully.\n",
      "Your current balance is Rs. 6433\n"
     ]
    }
   ],
   "source": [
    "#assuming current balance is 10000\n",
    "bal=10000\n",
    "\n",
    "print(\"Select an option :\\n1. Deposit\\n2. Withdraw\\n3. Check Balance\\n\")\n",
    "\n",
    "choice = int(input(\"Choice : \"))\n",
    "\n",
    "if(choice==1):\n",
    "    deposit = int(input(\"\\nDEPOSIT\\nEnter amount to be deposited : \"))\n",
    "    bal+=deposit\n",
    "    print(\"\\nAmount deposited successfully.\\nYour current balance is Rs.\",bal)\n",
    "elif(choice==2):\n",
    "    withdraw = int(input(\"\\nWITHDRAW\\nEnter amount to be withdrawn : \"))\n",
    "    if(bal-withdraw<3000):\n",
    "        print(\"Your bank balance = Rs.\",bal,\"\\nMin. bank balance should be Rs. 3000. \\nYou don't have enough balance to withdraw Rs.\",withdraw)\n",
    "    else:\n",
    "        bal-=withdraw\n",
    "        print(\"\\nAmount withdrawn successfully.\\nYour current balance is Rs.\",bal)\n",
    "elif(choice==3):\n",
    "    print(\"\\nYour current balance is Rs.\",bal)\n",
    "else:\n",
    "    print(\"WRONG CHOICE !!!\")"
   ]
  },
  {
   "cell_type": "markdown",
   "id": "58e97701",
   "metadata": {},
   "source": [
    "#### 16. Build a program that checks if a given string is a palindrome or not."
   ]
  },
  {
   "cell_type": "code",
   "execution_count": 187,
   "id": "ad6b9413",
   "metadata": {},
   "outputs": [
    {
     "name": "stdout",
     "output_type": "stream",
     "text": [
      "Enter a string : naman\n",
      "Palindrome\n"
     ]
    }
   ],
   "source": [
    "s=input(\"Enter a string : \")\n",
    "if(s[::-1]==s):\n",
    "    print(\"Palindrome\")\n",
    "else:\n",
    "    print(\"Not Palindrome\")"
   ]
  },
  {
   "cell_type": "markdown",
   "id": "39bbad5c",
   "metadata": {},
   "source": [
    "#### 17. Write a program that calculates the average of a list of numbers, excluding the smallest and largest values."
   ]
  },
  {
   "cell_type": "code",
   "execution_count": 190,
   "id": "3eb1de36",
   "metadata": {},
   "outputs": [
    {
     "name": "stdout",
     "output_type": "stream",
     "text": [
      "List : [1, 2, 3, 4, 5, 6]\n",
      "average of the list excluding the smallest and largest values = 3.5\n"
     ]
    }
   ],
   "source": [
    "l=[1,2,3,4,5,6]\n",
    "print(\"List :\",l)\n",
    "l.remove(min(l))\n",
    "l.remove(max(l))\n",
    "print(\"average of the list excluding the smallest and largest values =\",sum(l)/len(l))"
   ]
  },
  {
   "cell_type": "markdown",
   "id": "b12a48a8",
   "metadata": {},
   "source": [
    "#### 18. Develop a program that converts a given temperature from Celsius to Fahrenheit."
   ]
  },
  {
   "cell_type": "code",
   "execution_count": 192,
   "id": "e8dfcfaa",
   "metadata": {},
   "outputs": [
    {
     "name": "stdout",
     "output_type": "stream",
     "text": [
      "Enter temp. in Celcius : 100\n",
      "Temp. in Fahrenheit =  212.0\n"
     ]
    }
   ],
   "source": [
    "c = float(input(\"Enter temp. in Celcius : \"))\n",
    "f = (c * (9/5))+32\n",
    "print(\"Temp. in Fahrenheit = \",f)"
   ]
  },
  {
   "cell_type": "markdown",
   "id": "de45f4c6",
   "metadata": {},
   "source": [
    "#### 19. Create a program that simulates a basic calculator for addition, subtraction, multiplication, and division."
   ]
  },
  {
   "cell_type": "code",
   "execution_count": 204,
   "id": "e9ec2344",
   "metadata": {},
   "outputs": [
    {
     "name": "stdout",
     "output_type": "stream",
     "text": [
      "Select an option :\n",
      "1. Addition\n",
      "2. Subtraction\n",
      "3. Multiplication\n",
      "4. Division\n",
      "\n",
      "Choice : 3\n",
      "\n",
      "MULTIPLICATION\n",
      "Enter two numbers to perform multiplication :\n",
      "56721\n",
      "972651\n",
      "\n",
      "RESULT :\n",
      "56721 x 972651 = 55169737371\n"
     ]
    }
   ],
   "source": [
    "print(\"Select an option :\\n1. Addition\\n2. Subtraction\\n3. Multiplication\\n4. Division\\n\")\n",
    "choice=int(input(\"Choice : \"))\n",
    "\n",
    "if(choice==1):\n",
    "    print(\"\\nADDITION\")\n",
    "    print(\"Enter two numbers to perform addition :\")\n",
    "    a=int(input())\n",
    "    b=int(input())\n",
    "    print(\"\\nRESULT :\")\n",
    "    print(a,\"+\",b,\"=\",a+b)\n",
    "elif(choice==2):\n",
    "    print(\"\\nSUBTRACTION\")\n",
    "    print(\"Enter two numbers to perform subtraction :\")\n",
    "    a=int(input())\n",
    "    b=int(input())\n",
    "    print(\"\\nRESULT :\")\n",
    "    print(a,\"-\",b,\"=\",a-b)\n",
    "elif(choice==3):\n",
    "    print(\"\\nMULTIPLICATION\")\n",
    "    print(\"Enter two numbers to perform multiplication :\")\n",
    "    a=int(input())\n",
    "    b=int(input())\n",
    "    print(\"\\nRESULT :\")\n",
    "    print(a,\"x\",b,\"=\",a*b)\n",
    "elif(choice==4):\n",
    "    print(\"\\nDIVISION\")\n",
    "    print(\"Enter two numbers to perform division :\")\n",
    "    a=int(input())\n",
    "    b=int(input())\n",
    "    print(\"\\nRESULT :\")\n",
    "    print(a,\"/\",b,\"=\",a/b)"
   ]
  },
  {
   "cell_type": "markdown",
   "id": "c26b3ee9",
   "metadata": {},
   "source": [
    "#### 20. Write a program that determines the roots of a cubic equation using the Cardano formula."
   ]
  },
  {
   "cell_type": "code",
   "execution_count": 4,
   "id": "74feeee9",
   "metadata": {},
   "outputs": [
    {
     "name": "stdout",
     "output_type": "stream",
     "text": [
      "Enter the coefficients of the cubic expression : \n",
      "a = 12\n",
      "b = 98\n",
      "c = 34\n",
      "d = 71\n",
      "Roots :\n",
      " (-2.81107093495348-0.0535955386878989j) (-2.6313827678233612-0.05014747297486575j) (-2.7242129638898254+0.10374301166276464j)\n"
     ]
    }
   ],
   "source": [
    "# ax**3 + bx**2 + cx + d = 0\n",
    "\n",
    "import cmath\n",
    "\n",
    "print(\"Enter the coefficients of the cubic expression : \")\n",
    "a=int(input(\"a = \"))\n",
    "b=int(input(\"b = \"))\n",
    "c=int(input(\"c = \"))\n",
    "d=int(input(\"d = \"))\n",
    "\n",
    "p = ((3*a*c)-(b**2)) / (3*a**2)\n",
    "q = ((2*b**3)-(9*a*b*c) + (27*a**2*d)) / (27*a**3)\n",
    "x = cmath.sqrt(q**2/4 + p**3/27)\n",
    "    \n",
    "if x!= 0:\n",
    "    u=(-1 + x)**(1/3)\n",
    "else:\n",
    "    u=1\n",
    "\n",
    "if x!= 0:\n",
    "    v = (-1 - x)**(1/3)\n",
    "else:\n",
    "    v=1\n",
    "\n",
    "r1 = (-1/(3*a)) * (b+u+v)\n",
    "r2 = (-1/(3*a)) * (b+(u+v) * cmath.exp(2j * cmath.pi / 3))\n",
    "r3 = (-1/(3*a)) * (b+(u+v) * cmath.exp(4j * cmath.pi / 3))\n",
    "\n",
    "print(\"Roots :\\n\",r1, r2, r3)"
   ]
  },
  {
   "cell_type": "markdown",
   "id": "9ce54359",
   "metadata": {},
   "source": [
    "## Advanced Level:"
   ]
  },
  {
   "cell_type": "markdown",
   "id": "bfad3ca1",
   "metadata": {},
   "source": [
    "#### 21. Create a program that calculates the income tax based on the user's income and tax brackets."
   ]
  },
  {
   "cell_type": "code",
   "execution_count": 8,
   "id": "aaaca5cc",
   "metadata": {},
   "outputs": [
    {
     "name": "stdout",
     "output_type": "stream",
     "text": [
      "Enter your gross salary : 1200000\n",
      "Income Tax = 172500.0\n"
     ]
    }
   ],
   "source": [
    "# Gross Salary - Deductions = Taxable Income; \n",
    "# Income Tax = (Taxable Income x Applicable Tax Rate) - Tax Rebate\n",
    "\n",
    "gross_salary = int(input(\"Enter your gross salary : \"))\n",
    "deductions = 50000\n",
    "taxable_income = gross_salary - deductions\n",
    "\n",
    "tax_rate=0\n",
    "\n",
    "if(600000>=taxable_income>300000):\n",
    "    tax_rate=5\n",
    "elif(900000>=taxable_income>600000):\n",
    "    tax_rate=10\n",
    "elif(1200000>=taxable_income>900000):\n",
    "    tax_rate=15\n",
    "elif(1500000>=taxable_income>1200000):\n",
    "    tax_rate=20\n",
    "elif(taxable_income>1500000):\n",
    "    tax_rate=30\n",
    "\n",
    "rebate=0\n",
    "if(taxable_income<50000):\n",
    "    rebate=12500\n",
    "    \n",
    "income_tax = (taxable_income*(tax_rate/100)) - rebate\n",
    "\n",
    "print(\"Income Tax =\",income_tax)"
   ]
  },
  {
   "cell_type": "markdown",
   "id": "e592ba3b",
   "metadata": {},
   "source": [
    "#### 22. Write a program that simulates a rock-paper-scissors game against the computer."
   ]
  },
  {
   "cell_type": "code",
   "execution_count": 22,
   "id": "47780762",
   "metadata": {
    "scrolled": true
   },
   "outputs": [
    {
     "name": "stdout",
     "output_type": "stream",
     "text": [
      "ROCK PAPER SCISSORS\n",
      "\n",
      "player's choice = rock\n",
      "Computer's choice = rock\n",
      "TIE !!!\n",
      "\n",
      "Continue? (y/n) : y\n",
      "\n",
      "player's choice = rock\n",
      "Computer's choice = scissors\n",
      "PLAYER WINS\n",
      "\n",
      "Continue? (y/n) : y\n",
      "\n",
      "player's choice = paper\n",
      "Computer's choice = scissors\n",
      "COMPUTER WINS\n",
      "\n",
      "Continue? (y/n) : y\n",
      "\n",
      "player's choice = scissors\n",
      "Computer's choice = rock\n",
      "COMPUTER WINS\n",
      "\n",
      "Continue? (y/n) : y\n",
      "\n",
      "player's choice = rock\n",
      "Computer's choice = rock\n",
      "TIE !!!\n",
      "\n",
      "Continue? (y/n) : y\n",
      "\n",
      "player's choice = rock\n",
      "Computer's choice = rock\n",
      "TIE !!!\n",
      "\n",
      "Continue? (y/n) : y\n",
      "\n",
      "player's choice = rock\n",
      "Computer's choice = rock\n",
      "TIE !!!\n",
      "\n",
      "Continue? (y/n) : y\n",
      "\n",
      "player's choice = rock\n",
      "Computer's choice = rock\n",
      "TIE !!!\n",
      "\n",
      "Continue? (y/n) : y\n",
      "\n",
      "player's choice = rock\n",
      "Computer's choice = paper\n",
      "COMPUTER WINS\n",
      "\n",
      "Continue? (y/n) : y\n",
      "\n",
      "player's choice = rock\n",
      "Computer's choice = rock\n",
      "TIE !!!\n",
      "\n",
      "Continue? (y/n) : y\n",
      "\n",
      "player's choice = rock\n",
      "Computer's choice = paper\n",
      "COMPUTER WINS\n",
      "\n",
      "Continue? (y/n) : y\n",
      "\n",
      "player's choice = rock\n",
      "Computer's choice = paper\n",
      "COMPUTER WINS\n",
      "\n",
      "Continue? (y/n) : y\n",
      "\n",
      "player's choice = rock\n",
      "Computer's choice = scissors\n",
      "PLAYER WINS\n",
      "\n",
      "Continue? (y/n) : n\n",
      "\n",
      "Thanks for playing\n"
     ]
    }
   ],
   "source": [
    "import random\n",
    "\n",
    "cont='y'\n",
    "\n",
    "print(\"ROCK PAPER SCISSORS\")\n",
    "\n",
    "while(cont!='n'):\n",
    "    p=input(\"\\nplayer's choice = \").lower()\n",
    "    c=random.choice(['rock','paper','scissors'])\n",
    "    print(\"Computer's choice =\",c)\n",
    "    \n",
    "    if(p==c):\n",
    "        print(\"TIE !!!\")\n",
    "    elif(p=='rock'):\n",
    "        if(c=='paper'):\n",
    "            print(\"COMPUTER WINS\")\n",
    "        else:\n",
    "            print(\"PLAYER WINS\")\n",
    "    elif(p=='paper'):\n",
    "        if(c=='scissors'):\n",
    "            print(\"COMPUTER WINS\")\n",
    "        else:\n",
    "            print(\"PLAYER WINS\")\n",
    "    elif(p=='scissors'):\n",
    "        if(c=='rock'):\n",
    "            print(\"COMPUTER WINS\")\n",
    "        else:\n",
    "            print(\"PLAYER WINS\")\n",
    "    \n",
    "    cont=input(\"\\nContinue? (y/n) : \")\n",
    "\n",
    "print(\"\\nThanks for playing\")"
   ]
  },
  {
   "cell_type": "markdown",
   "id": "a35421bf",
   "metadata": {},
   "source": [
    "#### 23. Develop a program that generates a random password based on user preferences (length, complexity)."
   ]
  },
  {
   "cell_type": "code",
   "execution_count": 58,
   "id": "29009126",
   "metadata": {},
   "outputs": [
    {
     "name": "stdout",
     "output_type": "stream",
     "text": [
      "Length of password (8-20) = 15\n",
      "\n",
      "Numbers? (y/n) = y\n",
      "Lowercase characters? (y/n) = y\n",
      "Uppercase characters? (y/n) = y\n",
      "Special characters? (y/n) = y\n",
      "\n",
      "Your password is : '<m[A2ekn]/6#yD\n"
     ]
    }
   ],
   "source": [
    "import random\n",
    "\n",
    "length = int(input(\"Length of password (8-20) = \"))\n",
    "numbers = input(\"\\nNumbers? (y/n) = \").lower()\n",
    "lowercase = input(\"Lowercase characters? (y/n) = \").lower()\n",
    "uppercase = input(\"Uppercase characters? (y/n) = \").lower()\n",
    "specialchar = input(\"Special characters? (y/n) = \").lower()\n",
    "\n",
    "num=''\n",
    "if(numbers=='y'):\n",
    "    [num:=num+str(i) for i in range(10)]\n",
    "\n",
    "lower=''\n",
    "if(lowercase=='y'):\n",
    "    [lower:=lower+chr(i) for i in range(ord('a'),ord('z')+1)]\n",
    "\n",
    "upper=''\n",
    "if(uppercase=='y'):\n",
    "    [upper:=upper+chr(i) for i in range(ord('A'),ord('Z')+1)]\n",
    "    \n",
    "special = ''\n",
    "if(specialchar=='y'):\n",
    "    special = \"!\\\"#$%&'()*+,-./:;<=>?@[\\]^_`{|}~\"\n",
    "\n",
    "options=num+lower+upper+special\n",
    "    \n",
    "password=''\n",
    "[password:=password+random.choice(options) for i in range(length)]\n",
    "\n",
    "print(\"\\nYour password is :\",password)"
   ]
  },
  {
   "cell_type": "markdown",
   "id": "3595be32",
   "metadata": {},
   "source": [
    "#### 24. Create a program that implements a simple text-based adventure game with branching scenarios."
   ]
  },
  {
   "cell_type": "code",
   "execution_count": 16,
   "id": "eef4be16",
   "metadata": {},
   "outputs": [
    {
     "name": "stdout",
     "output_type": "stream",
     "text": [
      "\n",
      "\n",
      "=================== WELCOME TO ADVENTURE WORLD ===================\n",
      "\n",
      "\n",
      "You wake up in a mysterious forest. Choose your path carefully.\n",
      "\n",
      "Options:\n",
      "1. Explore the dark cave\n",
      "2. Follow the winding path\n",
      "3. Climb the ancient tree\n",
      "4. Quit\n",
      "Enter your choice (1/2/3/4): 3\n",
      "\n",
      "You decide to climb the ancient tree.\n",
      "\n",
      "Options:\n",
      "1. Discover a hidden nest with rare eggs\n",
      "2. Spot a distant landmark\n",
      "Enter your choice (1/2): 2\n",
      "From the top of the tree, you spot a distant landmark that could be your next destination.\n",
      "\n",
      "Options:\n",
      "1. Explore the dark cave\n",
      "2. Follow the winding path\n",
      "3. Climb the ancient tree\n",
      "4. Quit\n",
      "Enter your choice (1/2/3/4): 2\n",
      "\n",
      "You follow the winding path.\n",
      "\n",
      "Options:\n",
      "1. Encounter a friendly creature\n",
      "2. Find a magical portal\n",
      "Enter your choice (1/2): 2\n",
      "You step through the magical portal and find yourself in a different realm.\n",
      "\n",
      "Options:\n",
      "1. Explore the dark cave\n",
      "2. Follow the winding path\n",
      "3. Climb the ancient tree\n",
      "4. Quit\n",
      "Enter your choice (1/2/3/4): 1\n",
      "\n",
      "You enter the dark cave.\n",
      "\n",
      "Options:\n",
      "1. Light a torch and go deeper\n",
      "2. Back out of the cave\n",
      "Enter your choice (1/2): 1\n",
      "You light a torch and discover hidden treasures in the depths of the cave.\n",
      "\n",
      "Options:\n",
      "1. Explore the dark cave\n",
      "2. Follow the winding path\n",
      "3. Climb the ancient tree\n",
      "4. Quit\n",
      "Enter your choice (1/2/3/4): 4\n",
      "\n",
      "Thanks for playing! Goodbye.\n"
     ]
    }
   ],
   "source": [
    "import time\n",
    "\n",
    "def adventure():\n",
    "    while True:\n",
    "        print(\"\\nOptions:\")\n",
    "        print(\"1. Explore the dark cave\")\n",
    "        print(\"2. Follow the winding path\")\n",
    "        print(\"3. Climb the ancient tree\")\n",
    "        print(\"4. Quit\")\n",
    "\n",
    "        choice = input(\"Enter your choice (1/2/3/4): \")\n",
    "\n",
    "        if choice == '1':\n",
    "            explore_cave()\n",
    "        elif choice == '2':\n",
    "            follow_path()\n",
    "        elif choice == '3':\n",
    "            climb_tree()\n",
    "        elif choice == '4':\n",
    "            print(\"\\nThanks for playing! Goodbye.\")\n",
    "            break\n",
    "        else:\n",
    "            print(\"Invalid choice. Please enter 1, 2, 3, or 4.\")\n",
    "\n",
    "\n",
    "def explore_cave():\n",
    "    print(\"\\nYou enter the dark cave.\")\n",
    "    print(\"\\nOptions:\")\n",
    "    print(\"1. Light a torch and go deeper\")\n",
    "    print(\"2. Back out of the cave\")\n",
    "\n",
    "    choice = input(\"Enter your choice (1/2): \")\n",
    "\n",
    "    if choice == '1':\n",
    "        print(\"You light a torch and discover hidden treasures in the depths of the cave.\")\n",
    "    elif choice == '2':\n",
    "        print(\"You decide it's too risky and retreat from the cave.\")\n",
    "    else:\n",
    "        print(\"Invalid choice. The darkness in the cave confuses you. Try again.\")\n",
    "\n",
    "\n",
    "def follow_path():\n",
    "    print(\"\\nYou follow the winding path.\")\n",
    "    print(\"\\nOptions:\")\n",
    "    print(\"1. Encounter a friendly creature\")\n",
    "    print(\"2. Find a magical portal\")\n",
    "\n",
    "    choice = input(\"Enter your choice (1/2): \")\n",
    "\n",
    "    if choice == '1':\n",
    "        print(\"The friendly creature guides you through the forest and offers valuable advice.\")\n",
    "    elif choice == '2':\n",
    "        print(\"You step through the magical portal and find yourself in a different realm.\")\n",
    "    else:\n",
    "        print(\"Invalid choice. The path seems to twist and turn unexpectedly. Try again.\")\n",
    "\n",
    "\n",
    "def climb_tree():\n",
    "    print(\"\\nYou decide to climb the ancient tree.\")\n",
    "    print(\"\\nOptions:\")\n",
    "    print(\"1. Discover a hidden nest with rare eggs\")\n",
    "    print(\"2. Spot a distant landmark\")\n",
    "\n",
    "    choice = input(\"Enter your choice (1/2): \")\n",
    "\n",
    "    if choice == '1':\n",
    "        print(\"You discover a hidden nest with rare eggs. Nature's wonders unfold before you.\")\n",
    "    elif choice == '2':\n",
    "        print(\"From the top of the tree, you spot a distant landmark that could be your next destination.\")\n",
    "    else:\n",
    "        print(\"Invalid choice. The height makes you a bit dizzy. Try again.\")\n",
    "\n",
    "\n",
    "print(\"\\n\\n=================== WELCOME TO ADVENTURE WORLD ===================\\n\")\n",
    "time.sleep(1)\n",
    "print(\"\\nYou wake up in a mysterious forest. Choose your path carefully.\")\n",
    "time.sleep(1)\n",
    "adventure()\n"
   ]
  },
  {
   "cell_type": "markdown",
   "id": "21389304",
   "metadata": {},
   "source": [
    "#### 25. Build a program that solves a linear equation for x, considering different cases."
   ]
  },
  {
   "cell_type": "code",
   "execution_count": 3,
   "id": "20acd8b2",
   "metadata": {},
   "outputs": [
    {
     "name": "stdout",
     "output_type": "stream",
     "text": [
      "Enter the coefficients : \n",
      "a = -4\n",
      "b = 9\n",
      "x = 2.25\n"
     ]
    }
   ],
   "source": [
    "# ax + b = 0\n",
    "\n",
    "print(\"Enter the coefficients : \")\n",
    "a=float(input(\"a = \"))\n",
    "b=float(input(\"b = \"))\n",
    "\n",
    "if(a==b==0 or (b==0 and a!=0) ):\n",
    "    print(\"x = infinity\")\n",
    "elif(a==0 and b!=0):\n",
    "    print(\"no value\")\n",
    "else:\n",
    "    print(\"x =\",-b/a)"
   ]
  },
  {
   "cell_type": "markdown",
   "id": "bb9c0f5e",
   "metadata": {},
   "source": [
    "#### 26. Write a program that simulates a basic quiz game with multiple-choice questions and scoring."
   ]
  },
  {
   "cell_type": "code",
   "execution_count": 62,
   "id": "5c704e1b",
   "metadata": {
    "scrolled": false
   },
   "outputs": [
    {
     "name": "stdout",
     "output_type": "stream",
     "text": [
      "QUIZ\n",
      "\n",
      "Q1. What was Light Yagami's other name? \n",
      "1. L \n",
      "2. Kira \n",
      "3. N \n",
      "4. Misa\n",
      "Answer : 2\n",
      "\n",
      "Q2. Who was the 3rd Hokage?\n",
      "1. Kakashi \n",
      "2. Tobirama \n",
      "3. Hiruzen \n",
      "4. Naruto\n",
      "Answer : 3\n",
      "\n",
      "Q3. Who is Megumi's father?\n",
      "1. Gojo \n",
      "2. Sukuna \n",
      "3. Geto \n",
      "4. Toji\n",
      "Answer : 4\n",
      "\n",
      "Q4. Uzui Tengen uses what breathing technique?\n",
      "1. Sound \n",
      "2. Flame \n",
      "3. Water \n",
      "4. Moon\n",
      "Answer : 1\n",
      "\n",
      "Q5. Who is shorter than Levi?\n",
      "1. You \n",
      "2. Me \n",
      "3. No-one \n",
      "4. Everyone\n",
      "Answer : 3\n",
      "\n",
      "Your score is 5 out of 5\n"
     ]
    }
   ],
   "source": [
    "print(\"QUIZ\")\n",
    "\n",
    "score = 0\n",
    "\n",
    "print(\"\\nQ1. What was Light Yagami's other name? \")\n",
    "print(\"1. L \\n2. Kira \\n3. N \\n4. Misa\")\n",
    "if(int(input(\"Answer : \"))==2):\n",
    "    score+=1\n",
    "    \n",
    "print(\"\\nQ2. Who was the 3rd Hokage?\")\n",
    "print(\"1. Kakashi \\n2. Tobirama \\n3. Hiruzen \\n4. Naruto\")\n",
    "if(int(input(\"Answer : \"))==3):\n",
    "    score+=1\n",
    "    \n",
    "print(\"\\nQ3. Who is Megumi's father?\")\n",
    "print(\"1. Gojo \\n2. Sukuna \\n3. Geto \\n4. Toji\")\n",
    "if(int(input(\"Answer : \"))==4):\n",
    "    score+=1\n",
    "    \n",
    "print(\"\\nQ4. Uzui Tengen uses what breathing technique?\")\n",
    "print(\"1. Sound \\n2. Flame \\n3. Water \\n4. Moon\")\n",
    "if(int(input(\"Answer : \"))==1):\n",
    "    score+=1\n",
    "\n",
    "print(\"\\nQ5. Who is shorter than Levi?\")\n",
    "print(\"1. You \\n2. Me \\n3. No-one \\n4. Everyone\")\n",
    "if(int(input(\"Answer : \"))==3):\n",
    "    score+=1\n",
    "    \n",
    "print(\"\\nYour score is\",score,\"out of 5\")"
   ]
  },
  {
   "cell_type": "markdown",
   "id": "c475b280",
   "metadata": {},
   "source": [
    "#### 27. Develop a program that determines whether a given year is a prime number or not."
   ]
  },
  {
   "cell_type": "code",
   "execution_count": 18,
   "id": "187a1273",
   "metadata": {},
   "outputs": [
    {
     "name": "stdout",
     "output_type": "stream",
     "text": [
      "Year : 2017\n",
      "Prime year\n"
     ]
    }
   ],
   "source": [
    "y=int(input(\"Year : \"))\n",
    "\n",
    "if(y==1 or y==2):\n",
    "    print(\"Prime year\")\n",
    "else:\n",
    "    f=0\n",
    "    for i in range(2,int(y**0.5)+1):\n",
    "        if(y%i==0):\n",
    "            f=1\n",
    "            break\n",
    "    if(f==0):\n",
    "        print(\"Prime year\")\n",
    "    else:\n",
    "        print(\"Non-prime year\")"
   ]
  },
  {
   "cell_type": "markdown",
   "id": "d5a59016",
   "metadata": {},
   "source": [
    "#### 28. Create a program that sorts three numbers in ascending order using conditional statements."
   ]
  },
  {
   "cell_type": "code",
   "execution_count": 59,
   "id": "2d7e2179",
   "metadata": {},
   "outputs": [
    {
     "name": "stdout",
     "output_type": "stream",
     "text": [
      "Enter 1st number : 3\n",
      "Enter 2nd number : 2\n",
      "Enter 3rd number : 1\n",
      "Numbers in ascending order : [1, 2, 3]\n"
     ]
    }
   ],
   "source": [
    "l=[]\n",
    "l.append(int(input(\"Enter 1st number : \")))\n",
    "l.append(int(input(\"Enter 2nd number : \")))\n",
    "l.append(int(input(\"Enter 3rd number : \")))\n",
    "\n",
    "if(min(l)==a and c<b):\n",
    "    l[1], l[2] = c, b\n",
    "elif(min(l)==b):\n",
    "    l[0]=b\n",
    "    if(a<c):\n",
    "        l[1],l[2]=a,c\n",
    "    else:\n",
    "        l[1],l[2]=c,a\n",
    "elif(min(a,b,c)==c):\n",
    "    l[0]=c\n",
    "    if(b<a):\n",
    "        l[1],l[2]=b,a\n",
    "    else:\n",
    "        l[1],l[2]=a,b\n",
    "        \n",
    "print(\"Numbers in ascending order :\",l)"
   ]
  },
  {
   "cell_type": "markdown",
   "id": "ef91ad46",
   "metadata": {},
   "source": [
    "#### 29. Build a program that determines the roots of a quartic equation using numerical methods."
   ]
  },
  {
   "cell_type": "code",
   "execution_count": 4,
   "id": "bad0641f",
   "metadata": {},
   "outputs": [
    {
     "name": "stdout",
     "output_type": "stream",
     "text": [
      "Enter the coefficients (a,b,c,d) and constant (e) of the quartic equation : \n",
      "10\n",
      "50\n",
      "20\n",
      "10\n",
      "6\n",
      "root of the quartic equation = -0.516194774932826\n"
     ]
    }
   ],
   "source": [
    "def newton_raphson_quartic(a, b, c, d, e, initial_guess, tolerance=1e-6, max_iterations=100):\n",
    "    x = initial_guess\n",
    "    for _ in range(max_iterations):\n",
    "        f_x = (a * x**4) + (b * x**3) + (c * x**2) + (d * x) + e\n",
    "        f_prime_x = (4 * a * x**3) + (3 * b * x**2) + (2 * c * x) + d\n",
    "        if abs(f_prime_x) < tolerance:\n",
    "            break\n",
    "        x = x - f_x / f_prime_x\n",
    "        if abs(f_x) < tolerance:\n",
    "            return x\n",
    "\n",
    "    return None\n",
    "\n",
    "\n",
    "print(\"Enter the coefficients (a,b,c,d) and constant (e) of the quartic equation : \")\n",
    "a=float(input())\n",
    "b=float(input())\n",
    "c=float(input())\n",
    "d=float(input())\n",
    "e=float(input())\n",
    "\n",
    "initial_guess = 4.0\n",
    "\n",
    "root = newton_raphson_quartic(a, b, c, d, e, initial_guess)\n",
    "if root is not None:\n",
    "    print(\"root of the quartic equation =\",root)\n",
    "else:\n",
    "    print(\"The Newton-Raphson can't be applied\")\n"
   ]
  },
  {
   "cell_type": "markdown",
   "id": "20bd1d13",
   "metadata": {},
   "source": [
    "#### 30. Write a program that calculates the BMI (Body Mass Index) and provides health recommendations based on the user's input."
   ]
  },
  {
   "cell_type": "code",
   "execution_count": 19,
   "id": "0015248d",
   "metadata": {},
   "outputs": [
    {
     "name": "stdout",
     "output_type": "stream",
     "text": [
      "Enter your weight(kg) : 70\n",
      "Enter your height(m) : 1.6\n",
      "You're Overweight. Kindly consider switching to a better diet along with regular exercise.\n"
     ]
    }
   ],
   "source": [
    "def calc_BMI(w,h):\n",
    "    return(w/(h*h))\n",
    "\n",
    "w=float(input(\"Enter your weight(kg) : \"))\n",
    "h=float(input(\"Enter your height(m) : \"))\n",
    "\n",
    "BMI=calc_BMI(w,h)\n",
    "if(BMI>=30):\n",
    "    print(\"You're Obese. Kindly consider losing weight and taking medical guidance to the earliest possible.\")\n",
    "elif(BMI>=25):\n",
    "    print(\"You're Overweight. Kindly consider switching to a better diet along with regular exercise.\")\n",
    "elif(BMI>=18.5):\n",
    "    print(\"You have Normal weight. Maintain your healthy lifestyle.\")\n",
    "else:\n",
    "    print(\"You're Underweight. Kindly consider gaining some weight.\")"
   ]
  },
  {
   "cell_type": "markdown",
   "id": "128635bd",
   "metadata": {},
   "source": [
    "## Challenge Level:"
   ]
  },
  {
   "cell_type": "markdown",
   "id": "7295077d",
   "metadata": {},
   "source": [
    "#### 31. Create a program that validates a password based on complexity rules (length, characters, etc.)."
   ]
  },
  {
   "cell_type": "code",
   "execution_count": 13,
   "id": "7da31085",
   "metadata": {},
   "outputs": [
    {
     "name": "stdout",
     "output_type": "stream",
     "text": [
      "The password should contain :\n",
      "1. Minimum 8 characters\n",
      "2. Maximum 14 characters\n",
      "3. Atleast 1 uppercase\n",
      "4. Atleast 1 lowercase\n",
      "5. Atleast 1 digit\n",
      "6. Atleast 1 special character\n",
      "\n",
      "Enter your password : passWord@89\n",
      "\n",
      "VALID PASSWORD\n"
     ]
    }
   ],
   "source": [
    "def check_len(pwd):\n",
    "    if(14>=len(pwd)>=8):\n",
    "        return 1\n",
    "    else:\n",
    "        return 0\n",
    "    \n",
    "def check_upper(pwd):\n",
    "    upper=list(map(lambda c : True if ord(c) in range(65,91) else False,pwd))\n",
    "    if(any(upper)):\n",
    "        return 1\n",
    "    else:\n",
    "        return 0\n",
    "    \n",
    "def check_lower(pwd):\n",
    "    lower=list(map(lambda c : True if ord(c) in range(97,123) else False,pwd))\n",
    "    if(any(lower)):\n",
    "        return 1\n",
    "    else:\n",
    "        return 0  \n",
    "    \n",
    "def check_digit(pwd):\n",
    "    digit=list(map(lambda c : True if ord(c) in range(48,58) else False,pwd))\n",
    "    if(any(digit)):\n",
    "        return 1\n",
    "    else:\n",
    "        return 0 \n",
    "    \n",
    "def check_special(pwd):\n",
    "    all_special = ['!','@','#','$','%','^','&','*','(',')','-','_','+','=','{','}','[',']','|',';',':',\"'\",'\"','<','>',',','.','/','?','`','~']\n",
    "    special=[1 if (i in all_special) else 0 for i in pwd]\n",
    "    if(any(special)):\n",
    "        return 1\n",
    "    else:\n",
    "        return 0\n",
    "\n",
    "    \n",
    "print(\"The password should contain :\\n1. Minimum 8 characters\\n2. Maximum 14 characters\\n3. Atleast 1 uppercase\\n4. Atleast 1 lowercase\\n5. Atleast 1 digit\\n6. Atleast 1 special character\")\n",
    "pwd = input(\"\\nEnter your password : \")\n",
    "if(check_len(pwd) and  check_upper(pwd) and check_lower(pwd) and check_digit(pwd) and check_special(pwd)):\n",
    "    print(\"\\nVALID PASSWORD\")\n",
    "else:\n",
    "    print(\"\\nINVALID PASSWORD\")"
   ]
  },
  {
   "cell_type": "markdown",
   "id": "689d1864",
   "metadata": {},
   "source": [
    "#### 32. Develop a program that performs matrix addition and subtraction based on user input."
   ]
  },
  {
   "cell_type": "code",
   "execution_count": 22,
   "id": "da927dba",
   "metadata": {},
   "outputs": [
    {
     "name": "stdout",
     "output_type": "stream",
     "text": [
      "Enter no. of rows : 2\n",
      "Enter no. of columns : 3\n",
      "\n",
      "Enter the elements of the 1st matrix row-wise : \n",
      "6\n",
      "1\n",
      "9\n",
      "2\n",
      "8\n",
      "5\n",
      "\n",
      "Enter the elements of the 2nd matrix row-wise : \n",
      "2\n",
      "0\n",
      "1\n",
      "5\n",
      "8\n",
      "3\n",
      "\n",
      "Matrix 1 :\n",
      "[6, 1, 9]\n",
      "[2, 8, 5]\n",
      "\n",
      "Matrix 2 :\n",
      "[2, 0, 1]\n",
      "[5, 8, 3]\n",
      "\n",
      "Addition :\n",
      "[8, 1, 10]\n",
      "[7, 16, 8]\n",
      "\n",
      "Subtraction :\n",
      "[4, 1, 8]\n",
      "[-3, 0, 2]\n"
     ]
    }
   ],
   "source": [
    "def matrix_addition(m1,m2,r,c):\n",
    "    m3=[]\n",
    "    for i in range(r):\n",
    "        l=[]\n",
    "        for j in range(c):\n",
    "            l.append(m1[i][j] + m2[i][j])\n",
    "        m3.append(l)\n",
    "    return m3\n",
    "    \n",
    "def matrix_subtraction(m1,m2,r,c):\n",
    "    m3=[]\n",
    "    for i in range(r):\n",
    "        l=[]\n",
    "        for j in range(c):\n",
    "            l.append(m1[i][j] - m2[i][j])\n",
    "        m3.append(l)\n",
    "    return m3   \n",
    "    \n",
    "def print_matrix(m):\n",
    "    for i in m:\n",
    "        print(i)\n",
    "    \n",
    "r=int(input(\"Enter no. of rows : \"))\n",
    "c=int(input(\"Enter no. of columns : \"))\n",
    "\n",
    "m1 = []\n",
    "print(\"\\nEnter the elements of the 1st matrix row-wise : \")\n",
    "for i in range(r):\n",
    "    l=[]\n",
    "    for j in range(c):\n",
    "        l.append(int(input()))\n",
    "    m1.append(l)\n",
    "\n",
    "m2=[]\n",
    "print(\"\\nEnter the elements of the 2nd matrix row-wise : \")\n",
    "for i in range(r):\n",
    "    l=[]\n",
    "    for j in range(c):\n",
    "        l.append(int(input()))\n",
    "    m2.append(l)\n",
    "    \n",
    "print(\"\\nMatrix 1 :\")\n",
    "print_matrix(m1)\n",
    "    \n",
    "print(\"\\nMatrix 2 :\")\n",
    "print_matrix(m2)\n",
    "    \n",
    "m_add = matrix_addition(m1,m2,r,c)\n",
    "print(\"\\nAddition :\")\n",
    "print_matrix(m_add)\n",
    "\n",
    "m_sub = matrix_subtraction(m1,m2,r,c)\n",
    "print(\"\\nSubtraction :\")\n",
    "print_matrix(m_sub)\n"
   ]
  },
  {
   "cell_type": "markdown",
   "id": "827eddcd",
   "metadata": {},
   "source": [
    "#### 33. Write a program that calculates the greatest common divisor (GCD) of two numbers using the Euclidean algorithm."
   ]
  },
  {
   "cell_type": "code",
   "execution_count": 53,
   "id": "d5acf513",
   "metadata": {},
   "outputs": [
    {
     "name": "stdout",
     "output_type": "stream",
     "text": [
      "Enter the first number : 20\n",
      "Enter the second number : 50\n",
      "GCD = 10\n"
     ]
    }
   ],
   "source": [
    "try:\n",
    "    a = int(input(\"Enter the first number : \"))\n",
    "    b = int(input(\"Enter the second number : \"))\n",
    "    assert(a>0 and b>0)\n",
    "\n",
    "except AssertionError as e:\n",
    "    print(\"Values can't be zero.\")\n",
    "\n",
    "if(b>a):\n",
    "    a,b=b,a\n",
    "    \n",
    "gcd=0\n",
    "while b:\n",
    "    a, b = b, a % b\n",
    "gcd=a\n",
    "\n",
    "print(\"GCD =\",gcd)"
   ]
  },
  {
   "cell_type": "markdown",
   "id": "267314a7",
   "metadata": {},
   "source": [
    "#### 34. Build a program that performs matrix multiplication using nested loops and conditional statements."
   ]
  },
  {
   "cell_type": "code",
   "execution_count": 82,
   "id": "b597b04a",
   "metadata": {
    "scrolled": false
   },
   "outputs": [
    {
     "name": "stdout",
     "output_type": "stream",
     "text": [
      "Matrix 1 :\n",
      "Enter no. of rows : 2\n",
      "Enter no. of columns : 2\n",
      "\n",
      "Enter the elements of the 1st matrix row-wise : \n",
      "1\n",
      "2\n",
      "3\n",
      "4\n",
      "\n",
      "Matrix 2 :\n",
      "Enter no. of rows : 2\n",
      "Enter no. of columns : 3\n",
      "\n",
      "Enter the elements of the 2nd matrix row-wise : \n",
      "0\n",
      "2\n",
      "1\n",
      "1\n",
      "3\n",
      "2\n",
      "\n",
      "Matrix 1 :\n",
      "[1, 2]\n",
      "[3, 4]\n",
      "\n",
      "Matrix 2 :\n",
      "[0, 2, 1]\n",
      "[1, 3, 2]\n",
      "\n",
      "Multiplication :\n",
      "[2, 8, 5]\n",
      "[4, 18, 11]\n"
     ]
    }
   ],
   "source": [
    "import sys\n",
    "\n",
    "def print_matrix(m):\n",
    "    for i in m:\n",
    "        print(i)\n",
    "\n",
    "def matrix_multiplication(m1,m2,r1,c1,r2,c2):\n",
    "    m3=[[0 for j in range(c2)] for i in range(r1)]\n",
    "    for i in range(r1):\n",
    "        for j in range(c2):\n",
    "            for k in range(r2):\n",
    "                m3[i][j] += m1[i][k] * m2[k][j]\n",
    "    return m3\n",
    "        \n",
    "    \n",
    "print(\"Matrix 1 :\")\n",
    "r1=int(input(\"Enter no. of rows : \"))\n",
    "c1=int(input(\"Enter no. of columns : \"))\n",
    "\n",
    "m1 = []\n",
    "print(\"\\nEnter the elements of the 1st matrix row-wise : \")\n",
    "for i in range(r1):\n",
    "    l=[]\n",
    "    for j in range(c1):\n",
    "        l.append(int(input()))\n",
    "    m1.append(l)\n",
    "\n",
    "print(\"\\nMatrix 2 :\")\n",
    "r2=int(input(\"Enter no. of rows : \"))\n",
    "if(c1!=r2):\n",
    "    print(\"No. of rows of 2nd matrix should be equal to number of columns of 1st matrix\")\n",
    "    sys.exit(0)\n",
    "c2=int(input(\"Enter no. of columns : \"))\n",
    "\n",
    "\n",
    "m2=[]\n",
    "print(\"\\nEnter the elements of the 2nd matrix row-wise : \")\n",
    "for i in range(r2):\n",
    "    l=[]\n",
    "    for j in range(c2):\n",
    "        l.append(int(input()))\n",
    "    m2.append(l)\n",
    "    \n",
    "print(\"\\nMatrix 1 :\")\n",
    "print_matrix(m1)\n",
    "    \n",
    "print(\"\\nMatrix 2 :\")\n",
    "print_matrix(m2)\n",
    "\n",
    "print(\"\\nMultiplication :\")\n",
    "m3=matrix_multiplication(m1,m2,r1,c1,r2,c2)\n",
    "print_matrix(m3)"
   ]
  },
  {
   "cell_type": "markdown",
   "id": "cde481d4",
   "metadata": {},
   "source": [
    "#### 35. Create a program that simulates a basic text-based tic-tac-toe game against the computer."
   ]
  },
  {
   "cell_type": "code",
   "execution_count": 34,
   "id": "6369054d",
   "metadata": {},
   "outputs": [
    {
     "name": "stdout",
     "output_type": "stream",
     "text": [
      "\n",
      "\n",
      "=================== WELCOME TO TIC-TAC-TOE ===================\n",
      "\n",
      "[None, None, None]\n",
      "[None, None, None]\n",
      "[None, None, None]\n",
      "\n",
      "Player = 'X'\n",
      "Computer = 'O'\n",
      "\n",
      "Heads or Tails (H/T) ? H\n",
      "Toss result : Tails\n",
      "\n",
      "\n",
      "Computer's Turn : \n",
      "\n",
      "[None, 'O', None]\n",
      "[None, None, None]\n",
      "[None, None, None]\n",
      "\n",
      "\n",
      "Player's Turn : \n",
      "Row number (0-2) = 1\n",
      "Column number (0-2) = 1\n",
      "\n",
      "[None, 'O', None]\n",
      "[None, 'X', None]\n",
      "[None, None, None]\n",
      "\n",
      "\n",
      "Computer's Turn : \n",
      "\n",
      "[None, 'O', None]\n",
      "[None, 'X', 'O']\n",
      "[None, None, None]\n",
      "\n",
      "\n",
      "Player's Turn : \n",
      "Row number (0-2) = 0\n",
      "Column number (0-2) = 1\n",
      "Space is already occupied. Please try again.\n",
      "Row number (0-2) = 0\n",
      "Column number (0-2) = 0\n",
      "\n",
      "['X', 'O', None]\n",
      "[None, 'X', 'O']\n",
      "[None, None, None]\n",
      "\n",
      "\n",
      "Computer's Turn : \n",
      "\n",
      "['X', 'O', None]\n",
      "[None, 'X', 'O']\n",
      "[None, 'O', None]\n",
      "\n",
      "\n",
      "Player's Turn : \n",
      "Row number (0-2) = 2\n",
      "Column number (0-2) = 2\n",
      "\n",
      "['X', 'O', None]\n",
      "[None, 'X', 'O']\n",
      "[None, 'O', 'X']\n",
      "\n",
      "\n",
      "--------------- PLAYER WINS ---------------\n",
      "\n",
      "\n",
      "Thanks for playing.\n"
     ]
    }
   ],
   "source": [
    "#considering 3x3 tic-tac-toe board\n",
    "\n",
    "import random\n",
    "import time\n",
    "\n",
    "def printBoard(board):\n",
    "    print()\n",
    "    for i in board:\n",
    "        print(i)\n",
    "\n",
    "\n",
    "def playerTurn(board,turn):\n",
    "    print(\"\\n\\nPlayer's Turn : \")\n",
    "    while True:        \n",
    "        r=int(input(\"Row number (0-2) = \"))\n",
    "        c=int(input(\"Column number (0-2) = \"))\n",
    "        if(board[r][c]==None):\n",
    "            board[r][c]='X'\n",
    "            printBoard(board)\n",
    "            break\n",
    "        else:\n",
    "            print(\"Space is already occupied. Please try again.\")\n",
    "    return(board)\n",
    "    \n",
    "def computerTurn(board,turn):\n",
    "    print(\"\\n\\nComputer's Turn : \")\n",
    "    time.sleep(2)\n",
    "    while True :\n",
    "        r=random.randint(0,2)\n",
    "        c=random.randint(0,2)\n",
    "        if(board[r][c]==None):\n",
    "            board[r][c]='O'\n",
    "            printBoard(board)\n",
    "            break\n",
    "    return(board)\n",
    "\n",
    "def checkWinner(board,turn):\n",
    "    symbol='X'\n",
    "    if(turn==1):\n",
    "        symbol='O'\n",
    "    anyRow = any([all([board[i][j]==symbol for j in range(3)]) for i in range(3)])\n",
    "    anyCol = any([all([board[i][j]==symbol for i in range(3)]) for j in range(3)])\n",
    "    anyDiag = all([board[i][i]==symbol for i in range(3)]) or all([board[i][3-1-i]==symbol for i in range(3)])\n",
    "    didWin = any([anyRow,anyCol,anyDiag])\n",
    "    if(didWin):      \n",
    "        return 1\n",
    "    else:\n",
    "        return 0\n",
    "    \n",
    "def boardFull(board):\n",
    "    isFull = all([board[i][j]!=None for i in range(3) for j in range(3)])\n",
    "    return isFull\n",
    "\n",
    "\n",
    "\n",
    "\n",
    "\n",
    "print(\"\\n\\n=================== WELCOME TO TIC-TAC-TOE ===================\")\n",
    "time.sleep(1)\n",
    "\n",
    "board = [[None for i in range(3)] for j in range(3)]\n",
    "printBoard(board)\n",
    "\n",
    "print(\"\\nPlayer = 'X'\\nComputer = 'O'\")\n",
    "\n",
    "choice = input(\"\\nHeads or Tails (H/T) ? \").upper()\n",
    "\n",
    "toss = random.choice(['H','T'])\n",
    "print(\"Toss result :\",'Heads' if toss == 'H' else 'Tails')\n",
    "\n",
    "turn = 0\n",
    "if(toss==choice):\n",
    "    board = playerTurn(board,turn)\n",
    "    turn=1\n",
    "else:\n",
    "    turn=1\n",
    "    board = computerTurn(board,turn)\n",
    "    turn=0\n",
    "    \n",
    "while True:\n",
    "    if(turn==0):\n",
    "        board = playerTurn(board,turn)\n",
    "    else:\n",
    "        board = computerTurn(board,turn)\n",
    "    if(checkWinner(board,turn)==1):\n",
    "        if(turn==0):\n",
    "            print(\"\\n\\n--------------- PLAYER WINS ---------------\")\n",
    "            break                                                                      \n",
    "        else:\n",
    "            print(\"\\n\\n--------------- COMPUTER WINS ---------------\")                                                   \n",
    "            break                                               \n",
    "    if(boardFull(board)):\n",
    "        print(\"\\n\\n--------------- It's a TIE ---------------\")\n",
    "        break\n",
    "    turn = abs(turn-1%2)                                                      \n",
    "\n",
    "print(\"\\n\\nThanks for playing.\")"
   ]
  },
  {
   "cell_type": "markdown",
   "id": "4a3c0cca",
   "metadata": {},
   "source": [
    "#### 36. Write a program that generates Fibonacci numbers up to a specified term using iterative methods."
   ]
  },
  {
   "cell_type": "code",
   "execution_count": 11,
   "id": "6b5f4386",
   "metadata": {},
   "outputs": [
    {
     "name": "stdout",
     "output_type": "stream",
     "text": [
      "Enter the limit for fibonacci series : 30\n",
      "Fibonacci Series : [0, 1, 1, 2, 3, 5, 8, 13, 21]\n"
     ]
    }
   ],
   "source": [
    "n=int(input(\"Enter the limit for fibonacci series : \"))\n",
    "l=[0,1]\n",
    "while(True):\n",
    "    x=l[-1]+l[-2]\n",
    "    if(x>n):\n",
    "        break\n",
    "    l.append(x)\n",
    "print(\"Fibonacci Series :\",l)"
   ]
  },
  {
   "cell_type": "markdown",
   "id": "26a2cceb",
   "metadata": {},
   "source": [
    "#### 37. Develop a program that calculates the nth term of the Fibonacci sequence using memoization."
   ]
  },
  {
   "cell_type": "code",
   "execution_count": 8,
   "id": "063a9011",
   "metadata": {},
   "outputs": [
    {
     "name": "stdout",
     "output_type": "stream",
     "text": [
      "Enter the position(0 indexing) : 8\n",
      "The 8th term of the fibonacci series is 21\n"
     ]
    }
   ],
   "source": [
    "def fib(n, f = {}):\n",
    "    if(n<2):\n",
    "        return n\n",
    "    else:\n",
    "        if(n in f):\n",
    "            return f[n]\n",
    "        else:\n",
    "            return (fib(n-1, f) + fib(n-2, f))\n",
    "        \n",
    "        \n",
    "n = int(input(\"Enter the position(0 indexing) : \"))\n",
    "f = fib(n)\n",
    "print(f\"The {n}th term of the fibonacci series is {f}\")"
   ]
  },
  {
   "cell_type": "markdown",
   "id": "48bd2e08",
   "metadata": {},
   "source": [
    "#### 38. Create a program that generates a calendar for a given month and year using conditional statements."
   ]
  },
  {
   "cell_type": "code",
   "execution_count": 26,
   "id": "c933b86c",
   "metadata": {},
   "outputs": [
    {
     "name": "stdout",
     "output_type": "stream",
     "text": [
      "Enter the year = 2024\n",
      "Enter the month number (1-12) = 8\n",
      "\n",
      "AUGUST 2024 :\n",
      "\n",
      "Mon  Tue  Wed  Thu  Fri  Sat  Sun\n",
      "                 1    2    3    4  \n",
      "  5    6    7    8    9   10   11  \n",
      " 12   13   14   15   16   17   18  \n",
      " 19   20   21   22   23   24   25  \n",
      " 26   27   28   29   30   31       \n"
     ]
    }
   ],
   "source": [
    "import calendar\n",
    "\n",
    "def cal(y, m):\n",
    "    cal = calendar.monthcalendar(y, m)\n",
    "    print()\n",
    "    print(calendar.month_name[m].upper(),y,':')\n",
    "    print(\"\\nMon  Tue  Wed  Thu  Fri  Sat  Sun\")\n",
    "    for week in cal:\n",
    "        for day in week:\n",
    "            if day == 0:\n",
    "                print(\"     \", end=\"\")\n",
    "            else:\n",
    "                print(f\"{day:3d}\", end=\"  \")\n",
    "        print()\n",
    "\n",
    "y = int(input(\"Enter the year = \"))\n",
    "m = int(input(\"Enter the month number (1-12) = \"))\n",
    "cal(y, m)\n"
   ]
  },
  {
   "cell_type": "markdown",
   "id": "64970abc",
   "metadata": {},
   "source": [
    "#### 39. Build a program that simulates a basic text-based blackjack game against the computer."
   ]
  },
  {
   "cell_type": "code",
   "execution_count": 30,
   "id": "e44aed95",
   "metadata": {},
   "outputs": [
    {
     "name": "stdout",
     "output_type": "stream",
     "text": [
      "\n",
      "\n",
      "=================== WELCOME TO BLACK-JACK ===================\n",
      "\n",
      "\n",
      "Your cards: [7, 9], current score: 16\n",
      "Computer's first card: 7\n",
      "Type 'y' to get another card, 'n' to pass: y\n",
      "\n",
      "Your cards: [7, 9, 5], current score: 21\n",
      "Computer's first card: 7\n",
      "Type 'y' to get another card, 'n' to pass: n\n",
      "\n",
      "Your final hand: [7, 9, 5], final score: 21\n",
      "Computer's final hand: [7, 11], final score: 18\n",
      "\n",
      "\n",
      "--------------- YOU WIN! ---------------\n",
      "\n",
      "\n",
      "Thanks for playing.\n"
     ]
    }
   ],
   "source": [
    "import random\n",
    "import time\n",
    "\n",
    "def deal_card():\n",
    "    cards = [2, 3, 4, 5, 6, 7, 8, 9, 10, 10, 10, 10, 11]\n",
    "    return random.choice(cards)\n",
    "\n",
    "def calculate_score(cards):\n",
    "    if sum(cards) == 21 and len(cards) == 2:\n",
    "        return 0 \n",
    "\n",
    "    if 11 in cards and sum(cards) > 21:\n",
    "        cards.remove(11)\n",
    "        cards.append(1)\n",
    "\n",
    "    return sum(cards)\n",
    "\n",
    "def compare(user_score, computer_score):\n",
    "    if user_score > 21 and computer_score > 21:\n",
    "        return \"\\n\\n--------------- You went over. YOU LOSE! ---------------\"\n",
    "    if user_score == computer_score:\n",
    "        return \"\\n\\n--------------- It's a DRAW! ---------------\"\n",
    "    elif computer_score == 0:\n",
    "        return \"\\n\\n--------------- Computer has a Blackjack. YOU LOSE! ---------------\"\n",
    "    elif user_score == 0:\n",
    "        return \"\\n\\n--------------- You have a Blackjack. YOU WIN! ---------------\"\n",
    "    elif user_score > 21:\n",
    "        return \"\\n\\n--------------- You went over. YOU LOSE! ---------------\"\n",
    "    elif computer_score > 21:\n",
    "        return \"\\n\\n--------------- Computer went over. YOU WIN! ---------------\"\n",
    "    elif user_score > computer_score:\n",
    "        return \"\\n\\n--------------- YOU WIN! ---------------\"\n",
    "    else:\n",
    "        return \"\\n\\n--------------- YOU LOSE! ---------------\"\n",
    "\n",
    "def black_jack():\n",
    "    user_cards = []\n",
    "    computer_cards = []\n",
    "    game_over = False\n",
    "\n",
    "    for _ in range(2):\n",
    "        user_cards.append(deal_card())\n",
    "        computer_cards.append(deal_card())\n",
    "\n",
    "    while not game_over:\n",
    "        user_score = calculate_score(user_cards)\n",
    "        computer_score = calculate_score(computer_cards)\n",
    "\n",
    "        print(f\"\\nYour cards: {user_cards}, current score: {user_score}\")\n",
    "        print(f\"Computer's first card: {computer_cards[0]}\")\n",
    "\n",
    "        if user_score == 0 or computer_score == 0 or user_score > 21:\n",
    "            game_over = True\n",
    "        else:\n",
    "            should_continue = input(\"Type 'y' to get another card, 'n' to pass: \")\n",
    "            if should_continue == 'y':\n",
    "                user_cards.append(deal_card())\n",
    "            else:\n",
    "                game_over = True\n",
    "\n",
    "    while computer_score != 0 and computer_score < 17:\n",
    "        computer_cards.append(deal_card())\n",
    "        computer_score = calculate_score(computer_cards)\n",
    "\n",
    "    print(f\"\\nYour final hand: {user_cards}, final score: {user_score}\")\n",
    "    print(f\"Computer's final hand: {computer_cards}, final score: {computer_score}\")\n",
    "    print(compare(user_score, computer_score))\n",
    "\n",
    "print(\"\\n\\n=================== WELCOME TO BLACK-JACK ===================\\n\")\n",
    "time.sleep(1)\n",
    "black_jack()\n",
    "print(\"\\n\\nThanks for playing.\")\n"
   ]
  },
  {
   "cell_type": "markdown",
   "id": "ff588ec2",
   "metadata": {},
   "source": [
    "#### 40. Write a program that generates the prime factors of a given number using trial division."
   ]
  },
  {
   "cell_type": "code",
   "execution_count": 11,
   "id": "95f39a2c",
   "metadata": {},
   "outputs": [
    {
     "name": "stdout",
     "output_type": "stream",
     "text": [
      "Enter a number : 84\n",
      "Prime Factors of 84 = [1, 2, 2, 3, 7]\n"
     ]
    }
   ],
   "source": [
    "n = int(input(\"Enter a number : \"))\n",
    "dividend=n\n",
    "divisor = 2\n",
    "factors=[1]\n",
    "\n",
    "while dividend!=1:\n",
    "    while(dividend%divisor==0):\n",
    "        factors.append(divisor)\n",
    "        dividend = dividend//divisor\n",
    "    divisor +=1\n",
    "    \n",
    "print('Prime Factors of', n,'=', factors)\n",
    "        "
   ]
  },
  {
   "cell_type": "code",
   "execution_count": null,
   "id": "e73d975f",
   "metadata": {},
   "outputs": [],
   "source": []
  },
  {
   "cell_type": "code",
   "execution_count": null,
   "id": "54fe35ce",
   "metadata": {},
   "outputs": [],
   "source": []
  }
 ],
 "metadata": {
  "kernelspec": {
   "display_name": "Python 3",
   "language": "python",
   "name": "python3"
  },
  "language_info": {
   "codemirror_mode": {
    "name": "ipython",
    "version": 3
   },
   "file_extension": ".py",
   "mimetype": "text/x-python",
   "name": "python",
   "nbconvert_exporter": "python",
   "pygments_lexer": "ipython3",
   "version": "3.8.8"
  }
 },
 "nbformat": 4,
 "nbformat_minor": 5
}
